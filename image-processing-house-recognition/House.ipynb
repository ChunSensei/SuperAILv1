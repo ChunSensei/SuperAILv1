{
 "cells": [
  {
   "cell_type": "code",
   "execution_count": null,
   "id": "60e4dead",
   "metadata": {},
   "outputs": [],
   "source": [
    "# pip uninstall ultralytics -y\n",
    "# pip cache purge"
   ]
  },
  {
   "cell_type": "code",
   "execution_count": 2,
   "id": "46cf3d8f",
   "metadata": {},
   "outputs": [
    {
     "name": "stdout",
     "output_type": "stream",
     "text": [
      "Ultralytics 8.3.155  Python-3.10.7 torch-2.5.1+cu121 CUDA:0 (NVIDIA GeForce RTX 4060 Laptop GPU, 8188MiB)\n",
      "\u001b[34m\u001b[1mengine\\trainer: \u001b[0magnostic_nms=False, amp=True, augment=False, auto_augment=randaugment, batch=16, bgr=0.0, box=7.5, cache=False, cfg=None, classes=None, close_mosaic=10, cls=0.5, conf=None, copy_paste=0.0, copy_paste_mode=flip, cos_lr=False, cutmix=0.0, data=C:\\Users\\User\\Desktop\\1Year\\Term2\\SuperEngi\\1PrepareFinalTest\\test_Image1\\YoloFormat\\yolo, degrees=0.0, deterministic=True, device=None, dfl=1.5, dnn=False, dropout=0.0, dynamic=False, embed=None, epochs=100, erasing=0.4, exist_ok=False, fliplr=0.5, flipud=0.0, format=torchscript, fraction=1.0, freeze=None, half=False, hsv_h=0.015, hsv_s=0.7, hsv_v=0.4, imgsz=640, int8=False, iou=0.7, keras=False, kobj=1.0, line_width=None, lr0=0.01, lrf=0.01, mask_ratio=4, max_det=300, mixup=0.0, mode=train, model=yolo11n-cls.pt, momentum=0.937, mosaic=1.0, multi_scale=False, name=train5, nbs=64, nms=False, opset=None, optimize=False, optimizer=auto, overlap_mask=True, patience=100, perspective=0.0, plots=True, pose=12.0, pretrained=True, profile=False, project=None, rect=False, resume=False, retina_masks=False, save=True, save_conf=False, save_crop=False, save_dir=runs\\classify\\train5, save_frames=False, save_json=False, save_period=-1, save_txt=False, scale=0.5, seed=0, shear=0.0, show=False, show_boxes=True, show_conf=True, show_labels=True, simplify=True, single_cls=False, source=None, split=val, stream_buffer=False, task=classify, time=None, tracker=botsort.yaml, translate=0.1, val=True, verbose=True, vid_stride=1, visualize=False, warmup_bias_lr=0.1, warmup_epochs=3.0, warmup_momentum=0.8, weight_decay=0.0005, workers=8, workspace=None\n",
      "\u001b[34m\u001b[1mtrain:\u001b[0m C:\\Users\\User\\Desktop\\1Year\\Term2\\SuperEngi\\1PrepareFinalTest\\test_Image1\\YoloFormat\\yolo\\train... found 2432 images in 2 classes  \n",
      "\u001b[34m\u001b[1mval:\u001b[0m None...\n",
      "\u001b[34m\u001b[1mtest:\u001b[0m C:\\Users\\User\\Desktop\\1Year\\Term2\\SuperEngi\\1PrepareFinalTest\\test_Image1\\YoloFormat\\yolo\\test... found 591 images in 2 classes  \n",
      "Overriding model.yaml nc=80 with nc=2\n",
      "\n",
      "                   from  n    params  module                                       arguments                     \n",
      "  0                  -1  1       464  ultralytics.nn.modules.conv.Conv             [3, 16, 3, 2]                 \n",
      "  1                  -1  1      4672  ultralytics.nn.modules.conv.Conv             [16, 32, 3, 2]                \n",
      "  2                  -1  1      6640  ultralytics.nn.modules.block.C3k2            [32, 64, 1, False, 0.25]      \n",
      "  3                  -1  1     36992  ultralytics.nn.modules.conv.Conv             [64, 64, 3, 2]                \n",
      "  4                  -1  1     26080  ultralytics.nn.modules.block.C3k2            [64, 128, 1, False, 0.25]     \n",
      "  5                  -1  1    147712  ultralytics.nn.modules.conv.Conv             [128, 128, 3, 2]              \n",
      "  6                  -1  1     87040  ultralytics.nn.modules.block.C3k2            [128, 128, 1, True]           \n",
      "  7                  -1  1    295424  ultralytics.nn.modules.conv.Conv             [128, 256, 3, 2]              \n",
      "  8                  -1  1    346112  ultralytics.nn.modules.block.C3k2            [256, 256, 1, True]           \n",
      "  9                  -1  1    249728  ultralytics.nn.modules.block.C2PSA           [256, 256, 1]                 \n",
      " 10                  -1  1    332802  ultralytics.nn.modules.head.Classify         [256, 2]                      \n",
      "YOLO11n-cls summary: 86 layers, 1,533,666 parameters, 1,533,666 gradients, 3.3 GFLOPs\n",
      "Transferred 234/236 items from pretrained weights\n",
      "\u001b[34m\u001b[1mAMP: \u001b[0mrunning Automatic Mixed Precision (AMP) checks...\n",
      "\u001b[34m\u001b[1mAMP: \u001b[0mchecks passed \n",
      "\u001b[34m\u001b[1mtrain: \u001b[0mFast image access  (ping: 0.10.0 ms, read: 1013.2269.4 MB/s, size: 86.2 KB)\n"
     ]
    },
    {
     "name": "stderr",
     "output_type": "stream",
     "text": [
      "\u001b[34m\u001b[1mtrain: \u001b[0mScanning C:\\Users\\User\\Desktop\\1Year\\Term2\\SuperEngi\\1PrepareFinalTest\\test_Image1\\YoloFormat\\yolo\\train... 2432 images, 0 corrupt: 100%|██████████| 2432/2432 [00:02<00:00, 1091.37it/s]\n"
     ]
    },
    {
     "name": "stdout",
     "output_type": "stream",
     "text": [
      "\u001b[34m\u001b[1mtrain: \u001b[0mNew cache created: C:\\Users\\User\\Desktop\\1Year\\Term2\\SuperEngi\\1PrepareFinalTest\\test_Image1\\YoloFormat\\yolo\\train.cache\n",
      "\u001b[34m\u001b[1mval: \u001b[0mFast image access  (ping: 0.10.1 ms, read: 623.0190.8 MB/s, size: 74.8 KB)\n"
     ]
    },
    {
     "name": "stderr",
     "output_type": "stream",
     "text": [
      "\u001b[34m\u001b[1mval: \u001b[0mScanning C:\\Users\\User\\Desktop\\1Year\\Term2\\SuperEngi\\1PrepareFinalTest\\test_Image1\\YoloFormat\\yolo\\test... 591 images, 0 corrupt: 100%|██████████| 591/591 [00:01<00:00, 326.03it/s]"
     ]
    },
    {
     "name": "stdout",
     "output_type": "stream",
     "text": [
      "\u001b[34m\u001b[1mval: \u001b[0mNew cache created: C:\\Users\\User\\Desktop\\1Year\\Term2\\SuperEngi\\1PrepareFinalTest\\test_Image1\\YoloFormat\\yolo\\test.cache\n"
     ]
    },
    {
     "name": "stderr",
     "output_type": "stream",
     "text": [
      "\n"
     ]
    },
    {
     "name": "stdout",
     "output_type": "stream",
     "text": [
      "\u001b[34m\u001b[1moptimizer:\u001b[0m 'optimizer=auto' found, ignoring 'lr0=0.01' and 'momentum=0.937' and determining best 'optimizer', 'lr0' and 'momentum' automatically... \n",
      "\u001b[34m\u001b[1moptimizer:\u001b[0m AdamW(lr=0.001667, momentum=0.9) with parameter groups 39 weight(decay=0.0), 40 weight(decay=0.0005), 40 bias(decay=0.0)\n",
      "Image sizes 640 train, 640 val\n",
      "Using 8 dataloader workers\n",
      "Logging results to \u001b[1mruns\\classify\\train5\u001b[0m\n",
      "Starting training for 100 epochs...\n",
      "\n",
      "      Epoch    GPU_mem       loss  Instances       Size\n"
     ]
    },
    {
     "name": "stderr",
     "output_type": "stream",
     "text": [
      "      1/100      1.69G     0.7458         16        640:   0%|          | 0/152 [00:03<?, ?it/s]Exception in thread Thread-31 (plot_images):\n",
      "Traceback (most recent call last):\n",
      "  File \"c:\\Users\\User\\AppData\\Local\\Programs\\Python\\Python310\\lib\\threading.py\", line 1016, in _bootstrap_inner\n",
      "      1/100      1.69G     0.7458         16        640:   1%|          | 1/152 [00:03<09:23,  3.73s/it]    self.run()\n",
      "  File \"C:\\Users\\User\\AppData\\Roaming\\Python\\Python310\\site-packages\\ipykernel\\ipkernel.py\", line 766, in run_closure\n",
      "    _threading_Thread_run(self)\n",
      "  File \"c:\\Users\\User\\AppData\\Local\\Programs\\Python\\Python310\\lib\\threading.py\", line 953, in run\n",
      "    self._target(*self._args, **self._kwargs)\n",
      "TypeError: plot_images() got an unexpected keyword argument 'batch_idx'\n",
      "      1/100       1.7G     0.7682         16        640:   1%|          | 1/152 [00:04<09:23,  3.73s/it]Exception in thread Thread-32 (plot_images):\n",
      "Traceback (most recent call last):\n",
      "  File \"c:\\Users\\User\\AppData\\Local\\Programs\\Python\\Python310\\lib\\threading.py\", line 1016, in _bootstrap_inner\n",
      "      1/100       1.7G     0.7682         16        640:   1%|▏         | 2/152 [00:04<04:26,  1.78s/it]    self.run()\n",
      "  File \"C:\\Users\\User\\AppData\\Roaming\\Python\\Python310\\site-packages\\ipykernel\\ipkernel.py\", line 766, in run_closure\n",
      "    _threading_Thread_run(self)\n",
      "  File \"c:\\Users\\User\\AppData\\Local\\Programs\\Python\\Python310\\lib\\threading.py\", line 953, in run\n",
      "    self._target(*self._args, **self._kwargs)\n",
      "TypeError: plot_images() got an unexpected keyword argument 'batch_idx'\n",
      "      1/100       1.7G      0.777         16        640:   2%|▏         | 3/152 [00:04<02:42,  1.09s/it]Thread-33 (plot_images):\n",
      "Traceback (most recent call last):\n",
      "  File \"c:\\Users\\User\\AppData\\Local\\Programs\\Python\\Python310\\lib\\threading.py\", line 1016, in _bootstrap_inner\n",
      "    self.run()\n",
      "  File \"C:\\Users\\User\\AppData\\Roaming\\Python\\Python310\\site-packages\\ipykernel\\ipkernel.py\", line 766, in run_closure\n",
      "    _threading_Thread_run(self)\n",
      "  File \"c:\\Users\\User\\AppData\\Local\\Programs\\Python\\Python310\\lib\\threading.py\", line 953, in run\n",
      "    self._target(*self._args, **self._kwargs)\n",
      "TypeError: plot_images() got an unexpected keyword argument 'batch_idx'\n",
      "      1/100       1.7G     0.4067         16        640: 100%|██████████| 152/152 [00:28<00:00,  5.27it/s]\n",
      "               classes   top1_acc   top5_acc: 100%|██████████| 19/19 [00:02<00:00,  6.69it/s]"
     ]
    },
    {
     "name": "stdout",
     "output_type": "stream",
     "text": [
      "                   all      0.915          1\n"
     ]
    },
    {
     "name": "stderr",
     "output_type": "stream",
     "text": [
      "\n"
     ]
    },
    {
     "name": "stdout",
     "output_type": "stream",
     "text": [
      "\n",
      "      Epoch    GPU_mem       loss  Instances       Size\n"
     ]
    },
    {
     "name": "stderr",
     "output_type": "stream",
     "text": [
      "      2/100      2.04G     0.3573         16        640: 100%|██████████| 152/152 [00:23<00:00,  6.37it/s]\n",
      "               classes   top1_acc   top5_acc: 100%|██████████| 19/19 [00:03<00:00,  5.60it/s]"
     ]
    },
    {
     "name": "stdout",
     "output_type": "stream",
     "text": [
      "                   all      0.836          1\n"
     ]
    },
    {
     "name": "stderr",
     "output_type": "stream",
     "text": [
      "\n"
     ]
    },
    {
     "name": "stdout",
     "output_type": "stream",
     "text": [
      "\n",
      "      Epoch    GPU_mem       loss  Instances       Size\n"
     ]
    },
    {
     "name": "stderr",
     "output_type": "stream",
     "text": [
      "      3/100      2.04G       0.35         16        640: 100%|██████████| 152/152 [00:18<00:00,  8.06it/s]\n",
      "               classes   top1_acc   top5_acc: 100%|██████████| 19/19 [00:02<00:00,  6.96it/s]"
     ]
    },
    {
     "name": "stdout",
     "output_type": "stream",
     "text": [
      "                   all      0.836          1\n"
     ]
    },
    {
     "name": "stderr",
     "output_type": "stream",
     "text": [
      "\n"
     ]
    },
    {
     "name": "stdout",
     "output_type": "stream",
     "text": [
      "\n",
      "      Epoch    GPU_mem       loss  Instances       Size\n"
     ]
    },
    {
     "name": "stderr",
     "output_type": "stream",
     "text": [
      "      4/100      2.04G     0.3655         16        640: 100%|██████████| 152/152 [00:24<00:00,  6.27it/s]\n",
      "               classes   top1_acc   top5_acc: 100%|██████████| 19/19 [00:03<00:00,  5.29it/s]"
     ]
    },
    {
     "name": "stdout",
     "output_type": "stream",
     "text": [
      "                   all      0.887          1\n"
     ]
    },
    {
     "name": "stderr",
     "output_type": "stream",
     "text": [
      "\n"
     ]
    },
    {
     "name": "stdout",
     "output_type": "stream",
     "text": [
      "\n",
      "      Epoch    GPU_mem       loss  Instances       Size\n"
     ]
    },
    {
     "name": "stderr",
     "output_type": "stream",
     "text": [
      "      5/100      2.04G     0.3208         16        640: 100%|██████████| 152/152 [00:24<00:00,  6.21it/s]\n",
      "               classes   top1_acc   top5_acc: 100%|██████████| 19/19 [00:02<00:00,  6.58it/s]"
     ]
    },
    {
     "name": "stdout",
     "output_type": "stream",
     "text": [
      "                   all      0.898          1\n"
     ]
    },
    {
     "name": "stderr",
     "output_type": "stream",
     "text": [
      "\n"
     ]
    },
    {
     "name": "stdout",
     "output_type": "stream",
     "text": [
      "\n",
      "      Epoch    GPU_mem       loss  Instances       Size\n"
     ]
    },
    {
     "name": "stderr",
     "output_type": "stream",
     "text": [
      "      6/100      2.04G     0.3194         16        640: 100%|██████████| 152/152 [00:24<00:00,  6.19it/s]\n",
      "               classes   top1_acc   top5_acc: 100%|██████████| 19/19 [00:02<00:00,  6.79it/s]"
     ]
    },
    {
     "name": "stdout",
     "output_type": "stream",
     "text": [
      "                   all      0.887          1\n"
     ]
    },
    {
     "name": "stderr",
     "output_type": "stream",
     "text": [
      "\n"
     ]
    },
    {
     "name": "stdout",
     "output_type": "stream",
     "text": [
      "\n",
      "      Epoch    GPU_mem       loss  Instances       Size\n"
     ]
    },
    {
     "name": "stderr",
     "output_type": "stream",
     "text": [
      "      7/100      2.04G     0.2964         16        640: 100%|██████████| 152/152 [00:25<00:00,  6.04it/s]\n",
      "               classes   top1_acc   top5_acc: 100%|██████████| 19/19 [00:02<00:00,  6.94it/s]"
     ]
    },
    {
     "name": "stdout",
     "output_type": "stream",
     "text": [
      "                   all      0.924          1\n"
     ]
    },
    {
     "name": "stderr",
     "output_type": "stream",
     "text": [
      "\n"
     ]
    },
    {
     "name": "stdout",
     "output_type": "stream",
     "text": [
      "\n",
      "      Epoch    GPU_mem       loss  Instances       Size\n"
     ]
    },
    {
     "name": "stderr",
     "output_type": "stream",
     "text": [
      "      8/100      2.04G     0.2718         16        640: 100%|██████████| 152/152 [00:24<00:00,  6.23it/s]\n",
      "               classes   top1_acc   top5_acc: 100%|██████████| 19/19 [00:03<00:00,  6.02it/s]"
     ]
    },
    {
     "name": "stdout",
     "output_type": "stream",
     "text": [
      "                   all      0.917          1\n"
     ]
    },
    {
     "name": "stderr",
     "output_type": "stream",
     "text": [
      "\n"
     ]
    },
    {
     "name": "stdout",
     "output_type": "stream",
     "text": [
      "\n",
      "      Epoch    GPU_mem       loss  Instances       Size\n"
     ]
    },
    {
     "name": "stderr",
     "output_type": "stream",
     "text": [
      "      9/100      2.04G     0.2659         16        640: 100%|██████████| 152/152 [00:24<00:00,  6.25it/s]\n",
      "               classes   top1_acc   top5_acc: 100%|██████████| 19/19 [00:03<00:00,  4.85it/s]"
     ]
    },
    {
     "name": "stdout",
     "output_type": "stream",
     "text": [
      "                   all      0.897          1\n"
     ]
    },
    {
     "name": "stderr",
     "output_type": "stream",
     "text": [
      "\n"
     ]
    },
    {
     "name": "stdout",
     "output_type": "stream",
     "text": [
      "\n",
      "      Epoch    GPU_mem       loss  Instances       Size\n"
     ]
    },
    {
     "name": "stderr",
     "output_type": "stream",
     "text": [
      "     10/100      2.04G     0.2689         16        640: 100%|██████████| 152/152 [00:25<00:00,  6.00it/s]\n",
      "               classes   top1_acc   top5_acc: 100%|██████████| 19/19 [00:02<00:00,  6.41it/s]"
     ]
    },
    {
     "name": "stdout",
     "output_type": "stream",
     "text": [
      "                   all      0.932          1\n"
     ]
    },
    {
     "name": "stderr",
     "output_type": "stream",
     "text": [
      "\n"
     ]
    },
    {
     "name": "stdout",
     "output_type": "stream",
     "text": [
      "\n",
      "      Epoch    GPU_mem       loss  Instances       Size\n"
     ]
    },
    {
     "name": "stderr",
     "output_type": "stream",
     "text": [
      "     11/100      2.04G     0.2613         16        640: 100%|██████████| 152/152 [00:25<00:00,  5.93it/s]\n",
      "               classes   top1_acc   top5_acc: 100%|██████████| 19/19 [00:04<00:00,  4.63it/s]"
     ]
    },
    {
     "name": "stdout",
     "output_type": "stream",
     "text": [
      "                   all      0.915          1\n"
     ]
    },
    {
     "name": "stderr",
     "output_type": "stream",
     "text": [
      "\n"
     ]
    },
    {
     "name": "stdout",
     "output_type": "stream",
     "text": [
      "\n",
      "      Epoch    GPU_mem       loss  Instances       Size\n"
     ]
    },
    {
     "name": "stderr",
     "output_type": "stream",
     "text": [
      "     12/100      2.04G     0.2301         16        640: 100%|██████████| 152/152 [00:23<00:00,  6.42it/s]\n",
      "               classes   top1_acc   top5_acc: 100%|██████████| 19/19 [00:02<00:00,  8.27it/s]"
     ]
    },
    {
     "name": "stdout",
     "output_type": "stream",
     "text": [
      "                   all      0.937          1\n"
     ]
    },
    {
     "name": "stderr",
     "output_type": "stream",
     "text": [
      "\n"
     ]
    },
    {
     "name": "stdout",
     "output_type": "stream",
     "text": [
      "\n",
      "      Epoch    GPU_mem       loss  Instances       Size\n"
     ]
    },
    {
     "name": "stderr",
     "output_type": "stream",
     "text": [
      "     13/100      2.04G      0.251         16        640: 100%|██████████| 152/152 [00:20<00:00,  7.54it/s]\n",
      "               classes   top1_acc   top5_acc: 100%|██████████| 19/19 [00:02<00:00,  7.24it/s]"
     ]
    },
    {
     "name": "stdout",
     "output_type": "stream",
     "text": [
      "                   all      0.929          1\n"
     ]
    },
    {
     "name": "stderr",
     "output_type": "stream",
     "text": [
      "\n"
     ]
    },
    {
     "name": "stdout",
     "output_type": "stream",
     "text": [
      "\n",
      "      Epoch    GPU_mem       loss  Instances       Size\n"
     ]
    },
    {
     "name": "stderr",
     "output_type": "stream",
     "text": [
      "     14/100      2.04G     0.2384         16        640: 100%|██████████| 152/152 [00:23<00:00,  6.41it/s]\n",
      "               classes   top1_acc   top5_acc: 100%|██████████| 19/19 [00:03<00:00,  5.62it/s]"
     ]
    },
    {
     "name": "stdout",
     "output_type": "stream",
     "text": [
      "                   all      0.927          1\n"
     ]
    },
    {
     "name": "stderr",
     "output_type": "stream",
     "text": [
      "\n"
     ]
    },
    {
     "name": "stdout",
     "output_type": "stream",
     "text": [
      "\n",
      "      Epoch    GPU_mem       loss  Instances       Size\n"
     ]
    },
    {
     "name": "stderr",
     "output_type": "stream",
     "text": [
      "     15/100      2.04G     0.2372         16        640: 100%|██████████| 152/152 [00:24<00:00,  6.31it/s]\n",
      "               classes   top1_acc   top5_acc: 100%|██████████| 19/19 [00:02<00:00,  7.88it/s]"
     ]
    },
    {
     "name": "stdout",
     "output_type": "stream",
     "text": [
      "                   all      0.934          1\n"
     ]
    },
    {
     "name": "stderr",
     "output_type": "stream",
     "text": [
      "\n"
     ]
    },
    {
     "name": "stdout",
     "output_type": "stream",
     "text": [
      "\n",
      "      Epoch    GPU_mem       loss  Instances       Size\n"
     ]
    },
    {
     "name": "stderr",
     "output_type": "stream",
     "text": [
      "     16/100      2.04G     0.2382         16        640: 100%|██████████| 152/152 [00:21<00:00,  6.92it/s]\n",
      "               classes   top1_acc   top5_acc: 100%|██████████| 19/19 [00:02<00:00,  6.68it/s]"
     ]
    },
    {
     "name": "stdout",
     "output_type": "stream",
     "text": [
      "                   all       0.92          1\n"
     ]
    },
    {
     "name": "stderr",
     "output_type": "stream",
     "text": [
      "\n"
     ]
    },
    {
     "name": "stdout",
     "output_type": "stream",
     "text": [
      "\n",
      "      Epoch    GPU_mem       loss  Instances       Size\n"
     ]
    },
    {
     "name": "stderr",
     "output_type": "stream",
     "text": [
      "     17/100      2.04G     0.2341         16        640: 100%|██████████| 152/152 [00:25<00:00,  5.92it/s]\n",
      "               classes   top1_acc   top5_acc: 100%|██████████| 19/19 [00:03<00:00,  4.93it/s]"
     ]
    },
    {
     "name": "stdout",
     "output_type": "stream",
     "text": [
      "                   all      0.939          1\n"
     ]
    },
    {
     "name": "stderr",
     "output_type": "stream",
     "text": [
      "\n"
     ]
    },
    {
     "name": "stdout",
     "output_type": "stream",
     "text": [
      "\n",
      "      Epoch    GPU_mem       loss  Instances       Size\n"
     ]
    },
    {
     "name": "stderr",
     "output_type": "stream",
     "text": [
      "     18/100      2.04G     0.1951         16        640: 100%|██████████| 152/152 [00:24<00:00,  6.31it/s]\n",
      "               classes   top1_acc   top5_acc: 100%|██████████| 19/19 [00:03<00:00,  5.80it/s]"
     ]
    },
    {
     "name": "stdout",
     "output_type": "stream",
     "text": [
      "                   all      0.924          1\n"
     ]
    },
    {
     "name": "stderr",
     "output_type": "stream",
     "text": [
      "\n"
     ]
    },
    {
     "name": "stdout",
     "output_type": "stream",
     "text": [
      "\n",
      "      Epoch    GPU_mem       loss  Instances       Size\n"
     ]
    },
    {
     "name": "stderr",
     "output_type": "stream",
     "text": [
      "     19/100      2.04G     0.2067         16        640: 100%|██████████| 152/152 [00:24<00:00,  6.18it/s]\n",
      "               classes   top1_acc   top5_acc: 100%|██████████| 19/19 [00:03<00:00,  6.03it/s]"
     ]
    },
    {
     "name": "stdout",
     "output_type": "stream",
     "text": [
      "                   all      0.939          1\n"
     ]
    },
    {
     "name": "stderr",
     "output_type": "stream",
     "text": [
      "\n"
     ]
    },
    {
     "name": "stdout",
     "output_type": "stream",
     "text": [
      "\n",
      "      Epoch    GPU_mem       loss  Instances       Size\n"
     ]
    },
    {
     "name": "stderr",
     "output_type": "stream",
     "text": [
      "     20/100      2.04G     0.1944         16        640: 100%|██████████| 152/152 [00:28<00:00,  5.35it/s]\n",
      "               classes   top1_acc   top5_acc: 100%|██████████| 19/19 [00:02<00:00,  7.75it/s]"
     ]
    },
    {
     "name": "stdout",
     "output_type": "stream",
     "text": [
      "                   all      0.934          1\n"
     ]
    },
    {
     "name": "stderr",
     "output_type": "stream",
     "text": [
      "\n"
     ]
    },
    {
     "name": "stdout",
     "output_type": "stream",
     "text": [
      "\n",
      "      Epoch    GPU_mem       loss  Instances       Size\n"
     ]
    },
    {
     "name": "stderr",
     "output_type": "stream",
     "text": [
      "     21/100      2.04G     0.2014         16        640: 100%|██████████| 152/152 [00:21<00:00,  7.00it/s]\n",
      "               classes   top1_acc   top5_acc: 100%|██████████| 19/19 [00:02<00:00,  6.73it/s]"
     ]
    },
    {
     "name": "stdout",
     "output_type": "stream",
     "text": [
      "                   all      0.942          1\n"
     ]
    },
    {
     "name": "stderr",
     "output_type": "stream",
     "text": [
      "\n"
     ]
    },
    {
     "name": "stdout",
     "output_type": "stream",
     "text": [
      "\n",
      "      Epoch    GPU_mem       loss  Instances       Size\n"
     ]
    },
    {
     "name": "stderr",
     "output_type": "stream",
     "text": [
      "     22/100      2.04G     0.1843         16        640: 100%|██████████| 152/152 [00:24<00:00,  6.31it/s]\n",
      "               classes   top1_acc   top5_acc: 100%|██████████| 19/19 [00:02<00:00,  6.82it/s]"
     ]
    },
    {
     "name": "stdout",
     "output_type": "stream",
     "text": [
      "                   all      0.929          1\n"
     ]
    },
    {
     "name": "stderr",
     "output_type": "stream",
     "text": [
      "\n"
     ]
    },
    {
     "name": "stdout",
     "output_type": "stream",
     "text": [
      "\n",
      "      Epoch    GPU_mem       loss  Instances       Size\n"
     ]
    },
    {
     "name": "stderr",
     "output_type": "stream",
     "text": [
      "     23/100      2.04G     0.1848         16        640: 100%|██████████| 152/152 [00:23<00:00,  6.36it/s]\n",
      "               classes   top1_acc   top5_acc: 100%|██████████| 19/19 [00:03<00:00,  5.11it/s]"
     ]
    },
    {
     "name": "stdout",
     "output_type": "stream",
     "text": [
      "                   all      0.919          1\n"
     ]
    },
    {
     "name": "stderr",
     "output_type": "stream",
     "text": [
      "\n"
     ]
    },
    {
     "name": "stdout",
     "output_type": "stream",
     "text": [
      "\n",
      "      Epoch    GPU_mem       loss  Instances       Size\n"
     ]
    },
    {
     "name": "stderr",
     "output_type": "stream",
     "text": [
      "     24/100      2.04G     0.1714         16        640: 100%|██████████| 152/152 [00:22<00:00,  6.89it/s]\n",
      "               classes   top1_acc   top5_acc: 100%|██████████| 19/19 [00:02<00:00,  8.47it/s]"
     ]
    },
    {
     "name": "stdout",
     "output_type": "stream",
     "text": [
      "                   all      0.931          1\n"
     ]
    },
    {
     "name": "stderr",
     "output_type": "stream",
     "text": [
      "\n"
     ]
    },
    {
     "name": "stdout",
     "output_type": "stream",
     "text": [
      "\n",
      "      Epoch    GPU_mem       loss  Instances       Size\n"
     ]
    },
    {
     "name": "stderr",
     "output_type": "stream",
     "text": [
      "     25/100      2.04G     0.1882         16        640: 100%|██████████| 152/152 [00:22<00:00,  6.65it/s]\n",
      "               classes   top1_acc   top5_acc: 100%|██████████| 19/19 [00:02<00:00,  7.20it/s]"
     ]
    },
    {
     "name": "stdout",
     "output_type": "stream",
     "text": [
      "                   all      0.927          1\n"
     ]
    },
    {
     "name": "stderr",
     "output_type": "stream",
     "text": [
      "\n"
     ]
    },
    {
     "name": "stdout",
     "output_type": "stream",
     "text": [
      "\n",
      "      Epoch    GPU_mem       loss  Instances       Size\n"
     ]
    },
    {
     "name": "stderr",
     "output_type": "stream",
     "text": [
      "     26/100      2.04G     0.1616         16        640: 100%|██████████| 152/152 [00:23<00:00,  6.46it/s]\n",
      "               classes   top1_acc   top5_acc: 100%|██████████| 19/19 [00:02<00:00,  7.31it/s]"
     ]
    },
    {
     "name": "stdout",
     "output_type": "stream",
     "text": [
      "                   all      0.926          1\n"
     ]
    },
    {
     "name": "stderr",
     "output_type": "stream",
     "text": [
      "\n"
     ]
    },
    {
     "name": "stdout",
     "output_type": "stream",
     "text": [
      "\n",
      "      Epoch    GPU_mem       loss  Instances       Size\n"
     ]
    },
    {
     "name": "stderr",
     "output_type": "stream",
     "text": [
      "     27/100      2.04G     0.1607         16        640: 100%|██████████| 152/152 [00:24<00:00,  6.20it/s]\n",
      "               classes   top1_acc   top5_acc: 100%|██████████| 19/19 [00:02<00:00,  7.46it/s]"
     ]
    },
    {
     "name": "stdout",
     "output_type": "stream",
     "text": [
      "                   all      0.927          1\n"
     ]
    },
    {
     "name": "stderr",
     "output_type": "stream",
     "text": [
      "\n"
     ]
    },
    {
     "name": "stdout",
     "output_type": "stream",
     "text": [
      "\n",
      "      Epoch    GPU_mem       loss  Instances       Size\n"
     ]
    },
    {
     "name": "stderr",
     "output_type": "stream",
     "text": [
      "     28/100      2.04G     0.1525         16        640: 100%|██████████| 152/152 [00:25<00:00,  5.93it/s]\n",
      "               classes   top1_acc   top5_acc: 100%|██████████| 19/19 [00:03<00:00,  6.18it/s]"
     ]
    },
    {
     "name": "stdout",
     "output_type": "stream",
     "text": [
      "                   all      0.941          1\n"
     ]
    },
    {
     "name": "stderr",
     "output_type": "stream",
     "text": [
      "\n"
     ]
    },
    {
     "name": "stdout",
     "output_type": "stream",
     "text": [
      "\n",
      "      Epoch    GPU_mem       loss  Instances       Size\n"
     ]
    },
    {
     "name": "stderr",
     "output_type": "stream",
     "text": [
      "     29/100      2.04G     0.1531         16        640: 100%|██████████| 152/152 [00:27<00:00,  5.46it/s]\n",
      "               classes   top1_acc   top5_acc: 100%|██████████| 19/19 [00:02<00:00,  6.91it/s]"
     ]
    },
    {
     "name": "stdout",
     "output_type": "stream",
     "text": [
      "                   all      0.924          1\n"
     ]
    },
    {
     "name": "stderr",
     "output_type": "stream",
     "text": [
      "\n"
     ]
    },
    {
     "name": "stdout",
     "output_type": "stream",
     "text": [
      "\n",
      "      Epoch    GPU_mem       loss  Instances       Size\n"
     ]
    },
    {
     "name": "stderr",
     "output_type": "stream",
     "text": [
      "     30/100      2.04G     0.1732         16        640: 100%|██████████| 152/152 [00:23<00:00,  6.48it/s]\n",
      "               classes   top1_acc   top5_acc: 100%|██████████| 19/19 [00:03<00:00,  5.62it/s]"
     ]
    },
    {
     "name": "stdout",
     "output_type": "stream",
     "text": [
      "                   all      0.929          1\n"
     ]
    },
    {
     "name": "stderr",
     "output_type": "stream",
     "text": [
      "\n"
     ]
    },
    {
     "name": "stdout",
     "output_type": "stream",
     "text": [
      "\n",
      "      Epoch    GPU_mem       loss  Instances       Size\n"
     ]
    },
    {
     "name": "stderr",
     "output_type": "stream",
     "text": [
      "     31/100      2.04G      0.158         16        640: 100%|██████████| 152/152 [00:24<00:00,  6.29it/s]\n",
      "               classes   top1_acc   top5_acc: 100%|██████████| 19/19 [00:04<00:00,  4.10it/s]"
     ]
    },
    {
     "name": "stdout",
     "output_type": "stream",
     "text": [
      "                   all      0.934          1\n"
     ]
    },
    {
     "name": "stderr",
     "output_type": "stream",
     "text": [
      "\n"
     ]
    },
    {
     "name": "stdout",
     "output_type": "stream",
     "text": [
      "\n",
      "      Epoch    GPU_mem       loss  Instances       Size\n"
     ]
    },
    {
     "name": "stderr",
     "output_type": "stream",
     "text": [
      "     32/100      2.04G     0.1584         16        640: 100%|██████████| 152/152 [00:27<00:00,  5.61it/s]\n",
      "               classes   top1_acc   top5_acc: 100%|██████████| 19/19 [00:02<00:00,  7.08it/s]"
     ]
    },
    {
     "name": "stdout",
     "output_type": "stream",
     "text": [
      "                   all      0.937          1\n"
     ]
    },
    {
     "name": "stderr",
     "output_type": "stream",
     "text": [
      "\n"
     ]
    },
    {
     "name": "stdout",
     "output_type": "stream",
     "text": [
      "\n",
      "      Epoch    GPU_mem       loss  Instances       Size\n"
     ]
    },
    {
     "name": "stderr",
     "output_type": "stream",
     "text": [
      "     33/100      2.04G     0.1343         16        640: 100%|██████████| 152/152 [00:22<00:00,  6.84it/s]\n",
      "               classes   top1_acc   top5_acc: 100%|██████████| 19/19 [00:01<00:00,  9.92it/s]"
     ]
    },
    {
     "name": "stdout",
     "output_type": "stream",
     "text": [
      "                   all      0.927          1\n"
     ]
    },
    {
     "name": "stderr",
     "output_type": "stream",
     "text": [
      "\n"
     ]
    },
    {
     "name": "stdout",
     "output_type": "stream",
     "text": [
      "\n",
      "      Epoch    GPU_mem       loss  Instances       Size\n"
     ]
    },
    {
     "name": "stderr",
     "output_type": "stream",
     "text": [
      "     34/100      2.04G      0.146         16        640: 100%|██████████| 152/152 [00:26<00:00,  5.68it/s]\n",
      "               classes   top1_acc   top5_acc: 100%|██████████| 19/19 [00:03<00:00,  5.63it/s]"
     ]
    },
    {
     "name": "stdout",
     "output_type": "stream",
     "text": [
      "                   all      0.926          1\n"
     ]
    },
    {
     "name": "stderr",
     "output_type": "stream",
     "text": [
      "\n"
     ]
    },
    {
     "name": "stdout",
     "output_type": "stream",
     "text": [
      "\n",
      "      Epoch    GPU_mem       loss  Instances       Size\n"
     ]
    },
    {
     "name": "stderr",
     "output_type": "stream",
     "text": [
      "     35/100      2.04G     0.1361         16        640: 100%|██████████| 152/152 [00:29<00:00,  5.13it/s]\n",
      "               classes   top1_acc   top5_acc: 100%|██████████| 19/19 [00:04<00:00,  4.44it/s]"
     ]
    },
    {
     "name": "stdout",
     "output_type": "stream",
     "text": [
      "                   all      0.931          1\n"
     ]
    },
    {
     "name": "stderr",
     "output_type": "stream",
     "text": [
      "\n"
     ]
    },
    {
     "name": "stdout",
     "output_type": "stream",
     "text": [
      "\n",
      "      Epoch    GPU_mem       loss  Instances       Size\n"
     ]
    },
    {
     "name": "stderr",
     "output_type": "stream",
     "text": [
      "     36/100      2.04G     0.1303         16        640: 100%|██████████| 152/152 [00:28<00:00,  5.27it/s]\n",
      "               classes   top1_acc   top5_acc: 100%|██████████| 19/19 [00:03<00:00,  5.02it/s]"
     ]
    },
    {
     "name": "stdout",
     "output_type": "stream",
     "text": [
      "                   all      0.942          1\n"
     ]
    },
    {
     "name": "stderr",
     "output_type": "stream",
     "text": [
      "\n"
     ]
    },
    {
     "name": "stdout",
     "output_type": "stream",
     "text": [
      "\n",
      "      Epoch    GPU_mem       loss  Instances       Size\n"
     ]
    },
    {
     "name": "stderr",
     "output_type": "stream",
     "text": [
      "     37/100      2.04G     0.1395         16        640: 100%|██████████| 152/152 [00:22<00:00,  6.74it/s]\n",
      "               classes   top1_acc   top5_acc: 100%|██████████| 19/19 [00:03<00:00,  5.24it/s]"
     ]
    },
    {
     "name": "stdout",
     "output_type": "stream",
     "text": [
      "                   all      0.944          1\n"
     ]
    },
    {
     "name": "stderr",
     "output_type": "stream",
     "text": [
      "\n"
     ]
    },
    {
     "name": "stdout",
     "output_type": "stream",
     "text": [
      "\n",
      "      Epoch    GPU_mem       loss  Instances       Size\n"
     ]
    },
    {
     "name": "stderr",
     "output_type": "stream",
     "text": [
      "     38/100      2.04G     0.1239         16        640: 100%|██████████| 152/152 [00:20<00:00,  7.53it/s]\n",
      "               classes   top1_acc   top5_acc: 100%|██████████| 19/19 [00:02<00:00,  6.93it/s]"
     ]
    },
    {
     "name": "stdout",
     "output_type": "stream",
     "text": [
      "                   all      0.926          1\n"
     ]
    },
    {
     "name": "stderr",
     "output_type": "stream",
     "text": [
      "\n"
     ]
    },
    {
     "name": "stdout",
     "output_type": "stream",
     "text": [
      "\n",
      "      Epoch    GPU_mem       loss  Instances       Size\n"
     ]
    },
    {
     "name": "stderr",
     "output_type": "stream",
     "text": [
      "     39/100      2.04G      0.146         16        640: 100%|██████████| 152/152 [00:21<00:00,  7.06it/s]\n",
      "               classes   top1_acc   top5_acc: 100%|██████████| 19/19 [00:02<00:00,  7.06it/s]"
     ]
    },
    {
     "name": "stdout",
     "output_type": "stream",
     "text": [
      "                   all      0.926          1\n"
     ]
    },
    {
     "name": "stderr",
     "output_type": "stream",
     "text": [
      "\n"
     ]
    },
    {
     "name": "stdout",
     "output_type": "stream",
     "text": [
      "\n",
      "      Epoch    GPU_mem       loss  Instances       Size\n"
     ]
    },
    {
     "name": "stderr",
     "output_type": "stream",
     "text": [
      "     40/100      2.04G     0.1249         16        640: 100%|██████████| 152/152 [00:26<00:00,  5.74it/s]\n",
      "               classes   top1_acc   top5_acc: 100%|██████████| 19/19 [00:02<00:00,  6.90it/s]"
     ]
    },
    {
     "name": "stdout",
     "output_type": "stream",
     "text": [
      "                   all      0.924          1\n"
     ]
    },
    {
     "name": "stderr",
     "output_type": "stream",
     "text": [
      "\n"
     ]
    },
    {
     "name": "stdout",
     "output_type": "stream",
     "text": [
      "\n",
      "      Epoch    GPU_mem       loss  Instances       Size\n"
     ]
    },
    {
     "name": "stderr",
     "output_type": "stream",
     "text": [
      "     41/100      2.04G     0.1044         16        640: 100%|██████████| 152/152 [00:21<00:00,  7.01it/s]\n",
      "               classes   top1_acc   top5_acc: 100%|██████████| 19/19 [00:02<00:00,  6.40it/s]"
     ]
    },
    {
     "name": "stdout",
     "output_type": "stream",
     "text": [
      "                   all      0.937          1\n"
     ]
    },
    {
     "name": "stderr",
     "output_type": "stream",
     "text": [
      "\n"
     ]
    },
    {
     "name": "stdout",
     "output_type": "stream",
     "text": [
      "\n",
      "      Epoch    GPU_mem       loss  Instances       Size\n"
     ]
    },
    {
     "name": "stderr",
     "output_type": "stream",
     "text": [
      "     42/100      2.04G     0.1102         16        640: 100%|██████████| 152/152 [00:20<00:00,  7.35it/s]\n",
      "               classes   top1_acc   top5_acc: 100%|██████████| 19/19 [00:03<00:00,  5.77it/s]"
     ]
    },
    {
     "name": "stdout",
     "output_type": "stream",
     "text": [
      "                   all      0.936          1\n"
     ]
    },
    {
     "name": "stderr",
     "output_type": "stream",
     "text": [
      "\n"
     ]
    },
    {
     "name": "stdout",
     "output_type": "stream",
     "text": [
      "\n",
      "      Epoch    GPU_mem       loss  Instances       Size\n"
     ]
    },
    {
     "name": "stderr",
     "output_type": "stream",
     "text": [
      "     43/100      2.04G    0.09847         16        640: 100%|██████████| 152/152 [00:20<00:00,  7.43it/s]\n",
      "               classes   top1_acc   top5_acc: 100%|██████████| 19/19 [00:02<00:00,  6.44it/s]"
     ]
    },
    {
     "name": "stdout",
     "output_type": "stream",
     "text": [
      "                   all      0.936          1\n"
     ]
    },
    {
     "name": "stderr",
     "output_type": "stream",
     "text": [
      "\n"
     ]
    },
    {
     "name": "stdout",
     "output_type": "stream",
     "text": [
      "\n",
      "      Epoch    GPU_mem       loss  Instances       Size\n"
     ]
    },
    {
     "name": "stderr",
     "output_type": "stream",
     "text": [
      "     44/100      2.04G     0.1112         16        640: 100%|██████████| 152/152 [00:20<00:00,  7.31it/s]\n",
      "               classes   top1_acc   top5_acc: 100%|██████████| 19/19 [00:02<00:00,  8.96it/s]"
     ]
    },
    {
     "name": "stdout",
     "output_type": "stream",
     "text": [
      "                   all      0.924          1\n"
     ]
    },
    {
     "name": "stderr",
     "output_type": "stream",
     "text": [
      "\n"
     ]
    },
    {
     "name": "stdout",
     "output_type": "stream",
     "text": [
      "\n",
      "      Epoch    GPU_mem       loss  Instances       Size\n"
     ]
    },
    {
     "name": "stderr",
     "output_type": "stream",
     "text": [
      "     45/100      2.04G     0.1227         16        640: 100%|██████████| 152/152 [00:20<00:00,  7.37it/s]\n",
      "               classes   top1_acc   top5_acc: 100%|██████████| 19/19 [00:03<00:00,  5.49it/s]"
     ]
    },
    {
     "name": "stdout",
     "output_type": "stream",
     "text": [
      "                   all      0.942          1\n"
     ]
    },
    {
     "name": "stderr",
     "output_type": "stream",
     "text": [
      "\n"
     ]
    },
    {
     "name": "stdout",
     "output_type": "stream",
     "text": [
      "\n",
      "      Epoch    GPU_mem       loss  Instances       Size\n"
     ]
    },
    {
     "name": "stderr",
     "output_type": "stream",
     "text": [
      "     46/100      2.04G     0.1071         16        640: 100%|██████████| 152/152 [00:20<00:00,  7.40it/s]\n",
      "               classes   top1_acc   top5_acc: 100%|██████████| 19/19 [00:02<00:00,  7.58it/s]"
     ]
    },
    {
     "name": "stdout",
     "output_type": "stream",
     "text": [
      "                   all      0.932          1\n"
     ]
    },
    {
     "name": "stderr",
     "output_type": "stream",
     "text": [
      "\n"
     ]
    },
    {
     "name": "stdout",
     "output_type": "stream",
     "text": [
      "\n",
      "      Epoch    GPU_mem       loss  Instances       Size\n"
     ]
    },
    {
     "name": "stderr",
     "output_type": "stream",
     "text": [
      "     47/100      2.04G     0.1081         16        640: 100%|██████████| 152/152 [00:27<00:00,  5.47it/s]\n",
      "               classes   top1_acc   top5_acc: 100%|██████████| 19/19 [00:04<00:00,  4.64it/s]"
     ]
    },
    {
     "name": "stdout",
     "output_type": "stream",
     "text": [
      "                   all      0.934          1\n"
     ]
    },
    {
     "name": "stderr",
     "output_type": "stream",
     "text": [
      "\n"
     ]
    },
    {
     "name": "stdout",
     "output_type": "stream",
     "text": [
      "\n",
      "      Epoch    GPU_mem       loss  Instances       Size\n"
     ]
    },
    {
     "name": "stderr",
     "output_type": "stream",
     "text": [
      "     48/100      2.04G     0.1021         16        640: 100%|██████████| 152/152 [00:29<00:00,  5.22it/s]\n",
      "               classes   top1_acc   top5_acc: 100%|██████████| 19/19 [00:03<00:00,  5.13it/s]"
     ]
    },
    {
     "name": "stdout",
     "output_type": "stream",
     "text": [
      "                   all      0.948          1\n"
     ]
    },
    {
     "name": "stderr",
     "output_type": "stream",
     "text": [
      "\n"
     ]
    },
    {
     "name": "stdout",
     "output_type": "stream",
     "text": [
      "\n",
      "      Epoch    GPU_mem       loss  Instances       Size\n"
     ]
    },
    {
     "name": "stderr",
     "output_type": "stream",
     "text": [
      "     49/100      2.04G    0.09028         16        640: 100%|██████████| 152/152 [00:28<00:00,  5.27it/s]\n",
      "               classes   top1_acc   top5_acc: 100%|██████████| 19/19 [00:04<00:00,  4.58it/s]"
     ]
    },
    {
     "name": "stdout",
     "output_type": "stream",
     "text": [
      "                   all      0.936          1\n"
     ]
    },
    {
     "name": "stderr",
     "output_type": "stream",
     "text": [
      "\n"
     ]
    },
    {
     "name": "stdout",
     "output_type": "stream",
     "text": [
      "\n",
      "      Epoch    GPU_mem       loss  Instances       Size\n"
     ]
    },
    {
     "name": "stderr",
     "output_type": "stream",
     "text": [
      "     50/100      2.04G     0.1092         16        640: 100%|██████████| 152/152 [00:23<00:00,  6.50it/s]\n",
      "               classes   top1_acc   top5_acc: 100%|██████████| 19/19 [00:02<00:00,  7.26it/s]"
     ]
    },
    {
     "name": "stdout",
     "output_type": "stream",
     "text": [
      "                   all      0.919          1\n"
     ]
    },
    {
     "name": "stderr",
     "output_type": "stream",
     "text": [
      "\n"
     ]
    },
    {
     "name": "stdout",
     "output_type": "stream",
     "text": [
      "\n",
      "      Epoch    GPU_mem       loss  Instances       Size\n"
     ]
    },
    {
     "name": "stderr",
     "output_type": "stream",
     "text": [
      "     51/100      2.04G    0.08127         16        640: 100%|██████████| 152/152 [00:26<00:00,  5.64it/s]\n",
      "               classes   top1_acc   top5_acc: 100%|██████████| 19/19 [00:04<00:00,  4.04it/s]"
     ]
    },
    {
     "name": "stdout",
     "output_type": "stream",
     "text": [
      "                   all      0.932          1\n"
     ]
    },
    {
     "name": "stderr",
     "output_type": "stream",
     "text": [
      "\n"
     ]
    },
    {
     "name": "stdout",
     "output_type": "stream",
     "text": [
      "\n",
      "      Epoch    GPU_mem       loss  Instances       Size\n"
     ]
    },
    {
     "name": "stderr",
     "output_type": "stream",
     "text": [
      "     52/100      2.04G    0.09508         16        640: 100%|██████████| 152/152 [00:29<00:00,  5.22it/s]\n",
      "               classes   top1_acc   top5_acc: 100%|██████████| 19/19 [00:04<00:00,  3.90it/s]"
     ]
    },
    {
     "name": "stdout",
     "output_type": "stream",
     "text": [
      "                   all      0.941          1\n"
     ]
    },
    {
     "name": "stderr",
     "output_type": "stream",
     "text": [
      "\n"
     ]
    },
    {
     "name": "stdout",
     "output_type": "stream",
     "text": [
      "\n",
      "      Epoch    GPU_mem       loss  Instances       Size\n"
     ]
    },
    {
     "name": "stderr",
     "output_type": "stream",
     "text": [
      "     53/100      2.04G    0.08679         16        640: 100%|██████████| 152/152 [00:26<00:00,  5.84it/s]\n",
      "               classes   top1_acc   top5_acc: 100%|██████████| 19/19 [00:02<00:00,  7.35it/s]"
     ]
    },
    {
     "name": "stdout",
     "output_type": "stream",
     "text": [
      "                   all      0.949          1\n"
     ]
    },
    {
     "name": "stderr",
     "output_type": "stream",
     "text": [
      "\n"
     ]
    },
    {
     "name": "stdout",
     "output_type": "stream",
     "text": [
      "\n",
      "      Epoch    GPU_mem       loss  Instances       Size\n"
     ]
    },
    {
     "name": "stderr",
     "output_type": "stream",
     "text": [
      "     54/100      2.04G     0.1089         16        640: 100%|██████████| 152/152 [00:24<00:00,  6.21it/s]\n",
      "               classes   top1_acc   top5_acc: 100%|██████████| 19/19 [00:03<00:00,  5.37it/s]"
     ]
    },
    {
     "name": "stdout",
     "output_type": "stream",
     "text": [
      "                   all      0.932          1\n"
     ]
    },
    {
     "name": "stderr",
     "output_type": "stream",
     "text": [
      "\n"
     ]
    },
    {
     "name": "stdout",
     "output_type": "stream",
     "text": [
      "\n",
      "      Epoch    GPU_mem       loss  Instances       Size\n"
     ]
    },
    {
     "name": "stderr",
     "output_type": "stream",
     "text": [
      "     55/100      2.04G    0.09134         16        640: 100%|██████████| 152/152 [00:29<00:00,  5.08it/s]\n",
      "               classes   top1_acc   top5_acc: 100%|██████████| 19/19 [00:03<00:00,  6.04it/s]"
     ]
    },
    {
     "name": "stdout",
     "output_type": "stream",
     "text": [
      "                   all      0.932          1\n"
     ]
    },
    {
     "name": "stderr",
     "output_type": "stream",
     "text": [
      "\n"
     ]
    },
    {
     "name": "stdout",
     "output_type": "stream",
     "text": [
      "\n",
      "      Epoch    GPU_mem       loss  Instances       Size\n"
     ]
    },
    {
     "name": "stderr",
     "output_type": "stream",
     "text": [
      "     56/100      2.04G    0.08098         16        640: 100%|██████████| 152/152 [00:30<00:00,  5.06it/s]\n",
      "               classes   top1_acc   top5_acc: 100%|██████████| 19/19 [00:03<00:00,  5.74it/s]"
     ]
    },
    {
     "name": "stdout",
     "output_type": "stream",
     "text": [
      "                   all      0.931          1\n"
     ]
    },
    {
     "name": "stderr",
     "output_type": "stream",
     "text": [
      "\n"
     ]
    },
    {
     "name": "stdout",
     "output_type": "stream",
     "text": [
      "\n",
      "      Epoch    GPU_mem       loss  Instances       Size\n"
     ]
    },
    {
     "name": "stderr",
     "output_type": "stream",
     "text": [
      "     57/100      2.04G    0.07202         16        640: 100%|██████████| 152/152 [00:29<00:00,  5.23it/s]\n",
      "               classes   top1_acc   top5_acc: 100%|██████████| 19/19 [00:04<00:00,  4.70it/s]"
     ]
    },
    {
     "name": "stdout",
     "output_type": "stream",
     "text": [
      "                   all      0.941          1\n"
     ]
    },
    {
     "name": "stderr",
     "output_type": "stream",
     "text": [
      "\n"
     ]
    },
    {
     "name": "stdout",
     "output_type": "stream",
     "text": [
      "\n",
      "      Epoch    GPU_mem       loss  Instances       Size\n"
     ]
    },
    {
     "name": "stderr",
     "output_type": "stream",
     "text": [
      "     58/100      2.04G    0.08722         16        640: 100%|██████████| 152/152 [00:29<00:00,  5.23it/s]\n",
      "               classes   top1_acc   top5_acc: 100%|██████████| 19/19 [00:02<00:00,  7.57it/s]"
     ]
    },
    {
     "name": "stdout",
     "output_type": "stream",
     "text": [
      "                   all      0.942          1\n"
     ]
    },
    {
     "name": "stderr",
     "output_type": "stream",
     "text": [
      "\n"
     ]
    },
    {
     "name": "stdout",
     "output_type": "stream",
     "text": [
      "\n",
      "      Epoch    GPU_mem       loss  Instances       Size\n"
     ]
    },
    {
     "name": "stderr",
     "output_type": "stream",
     "text": [
      "     59/100      2.04G     0.0875         16        640: 100%|██████████| 152/152 [00:28<00:00,  5.27it/s]\n",
      "               classes   top1_acc   top5_acc: 100%|██████████| 19/19 [00:03<00:00,  6.31it/s]"
     ]
    },
    {
     "name": "stdout",
     "output_type": "stream",
     "text": [
      "                   all      0.937          1\n"
     ]
    },
    {
     "name": "stderr",
     "output_type": "stream",
     "text": [
      "\n"
     ]
    },
    {
     "name": "stdout",
     "output_type": "stream",
     "text": [
      "\n",
      "      Epoch    GPU_mem       loss  Instances       Size\n"
     ]
    },
    {
     "name": "stderr",
     "output_type": "stream",
     "text": [
      "     60/100      2.04G    0.07638         16        640: 100%|██████████| 152/152 [00:29<00:00,  5.09it/s]\n",
      "               classes   top1_acc   top5_acc: 100%|██████████| 19/19 [00:04<00:00,  4.45it/s]"
     ]
    },
    {
     "name": "stdout",
     "output_type": "stream",
     "text": [
      "                   all      0.927          1\n"
     ]
    },
    {
     "name": "stderr",
     "output_type": "stream",
     "text": [
      "\n"
     ]
    },
    {
     "name": "stdout",
     "output_type": "stream",
     "text": [
      "\n",
      "      Epoch    GPU_mem       loss  Instances       Size\n"
     ]
    },
    {
     "name": "stderr",
     "output_type": "stream",
     "text": [
      "     61/100      2.04G    0.07616         16        640: 100%|██████████| 152/152 [00:29<00:00,  5.11it/s]\n",
      "               classes   top1_acc   top5_acc: 100%|██████████| 19/19 [00:04<00:00,  4.68it/s]"
     ]
    },
    {
     "name": "stdout",
     "output_type": "stream",
     "text": [
      "                   all      0.937          1\n"
     ]
    },
    {
     "name": "stderr",
     "output_type": "stream",
     "text": [
      "\n"
     ]
    },
    {
     "name": "stdout",
     "output_type": "stream",
     "text": [
      "\n",
      "      Epoch    GPU_mem       loss  Instances       Size\n"
     ]
    },
    {
     "name": "stderr",
     "output_type": "stream",
     "text": [
      "     62/100      2.04G    0.07435         16        640: 100%|██████████| 152/152 [00:26<00:00,  5.77it/s]\n",
      "               classes   top1_acc   top5_acc: 100%|██████████| 19/19 [00:02<00:00,  7.21it/s]"
     ]
    },
    {
     "name": "stdout",
     "output_type": "stream",
     "text": [
      "                   all      0.941          1\n"
     ]
    },
    {
     "name": "stderr",
     "output_type": "stream",
     "text": [
      "\n"
     ]
    },
    {
     "name": "stdout",
     "output_type": "stream",
     "text": [
      "\n",
      "      Epoch    GPU_mem       loss  Instances       Size\n"
     ]
    },
    {
     "name": "stderr",
     "output_type": "stream",
     "text": [
      "     63/100      2.04G    0.07995         16        640: 100%|██████████| 152/152 [00:26<00:00,  5.68it/s]\n",
      "               classes   top1_acc   top5_acc: 100%|██████████| 19/19 [00:03<00:00,  5.49it/s]"
     ]
    },
    {
     "name": "stdout",
     "output_type": "stream",
     "text": [
      "                   all      0.941          1\n"
     ]
    },
    {
     "name": "stderr",
     "output_type": "stream",
     "text": [
      "\n"
     ]
    },
    {
     "name": "stdout",
     "output_type": "stream",
     "text": [
      "\n",
      "      Epoch    GPU_mem       loss  Instances       Size\n"
     ]
    },
    {
     "name": "stderr",
     "output_type": "stream",
     "text": [
      "     64/100      2.04G     0.0736         16        640: 100%|██████████| 152/152 [00:28<00:00,  5.34it/s]\n",
      "               classes   top1_acc   top5_acc: 100%|██████████| 19/19 [00:03<00:00,  5.61it/s]"
     ]
    },
    {
     "name": "stdout",
     "output_type": "stream",
     "text": [
      "                   all      0.944          1\n"
     ]
    },
    {
     "name": "stderr",
     "output_type": "stream",
     "text": [
      "\n"
     ]
    },
    {
     "name": "stdout",
     "output_type": "stream",
     "text": [
      "\n",
      "      Epoch    GPU_mem       loss  Instances       Size\n"
     ]
    },
    {
     "name": "stderr",
     "output_type": "stream",
     "text": [
      "     65/100      2.04G    0.05647         16        640: 100%|██████████| 152/152 [00:29<00:00,  5.22it/s]\n",
      "               classes   top1_acc   top5_acc: 100%|██████████| 19/19 [00:02<00:00,  6.36it/s]"
     ]
    },
    {
     "name": "stdout",
     "output_type": "stream",
     "text": [
      "                   all      0.942          1\n"
     ]
    },
    {
     "name": "stderr",
     "output_type": "stream",
     "text": [
      "\n"
     ]
    },
    {
     "name": "stdout",
     "output_type": "stream",
     "text": [
      "\n",
      "      Epoch    GPU_mem       loss  Instances       Size\n"
     ]
    },
    {
     "name": "stderr",
     "output_type": "stream",
     "text": [
      "     66/100      2.04G    0.05535         16        640: 100%|██████████| 152/152 [00:28<00:00,  5.25it/s]\n",
      "               classes   top1_acc   top5_acc: 100%|██████████| 19/19 [00:02<00:00,  7.09it/s]"
     ]
    },
    {
     "name": "stdout",
     "output_type": "stream",
     "text": [
      "                   all      0.949          1\n"
     ]
    },
    {
     "name": "stderr",
     "output_type": "stream",
     "text": [
      "\n"
     ]
    },
    {
     "name": "stdout",
     "output_type": "stream",
     "text": [
      "\n",
      "      Epoch    GPU_mem       loss  Instances       Size\n"
     ]
    },
    {
     "name": "stderr",
     "output_type": "stream",
     "text": [
      "     67/100      2.04G    0.07096         16        640: 100%|██████████| 152/152 [00:22<00:00,  6.88it/s]\n",
      "               classes   top1_acc   top5_acc: 100%|██████████| 19/19 [00:02<00:00,  6.80it/s]"
     ]
    },
    {
     "name": "stdout",
     "output_type": "stream",
     "text": [
      "                   all      0.946          1\n"
     ]
    },
    {
     "name": "stderr",
     "output_type": "stream",
     "text": [
      "\n"
     ]
    },
    {
     "name": "stdout",
     "output_type": "stream",
     "text": [
      "\n",
      "      Epoch    GPU_mem       loss  Instances       Size\n"
     ]
    },
    {
     "name": "stderr",
     "output_type": "stream",
     "text": [
      "     68/100      2.04G    0.06645         16        640: 100%|██████████| 152/152 [00:20<00:00,  7.39it/s]\n",
      "               classes   top1_acc   top5_acc: 100%|██████████| 19/19 [00:02<00:00,  8.89it/s]"
     ]
    },
    {
     "name": "stdout",
     "output_type": "stream",
     "text": [
      "                   all      0.939          1\n"
     ]
    },
    {
     "name": "stderr",
     "output_type": "stream",
     "text": [
      "\n"
     ]
    },
    {
     "name": "stdout",
     "output_type": "stream",
     "text": [
      "\n",
      "      Epoch    GPU_mem       loss  Instances       Size\n"
     ]
    },
    {
     "name": "stderr",
     "output_type": "stream",
     "text": [
      "     69/100      2.04G    0.06467         16        640: 100%|██████████| 152/152 [00:21<00:00,  7.17it/s]\n",
      "               classes   top1_acc   top5_acc: 100%|██████████| 19/19 [00:02<00:00,  7.21it/s]"
     ]
    },
    {
     "name": "stdout",
     "output_type": "stream",
     "text": [
      "                   all      0.939          1\n"
     ]
    },
    {
     "name": "stderr",
     "output_type": "stream",
     "text": [
      "\n"
     ]
    },
    {
     "name": "stdout",
     "output_type": "stream",
     "text": [
      "\n",
      "      Epoch    GPU_mem       loss  Instances       Size\n"
     ]
    },
    {
     "name": "stderr",
     "output_type": "stream",
     "text": [
      "     70/100      2.04G    0.06213         16        640: 100%|██████████| 152/152 [00:20<00:00,  7.33it/s]\n",
      "               classes   top1_acc   top5_acc: 100%|██████████| 19/19 [00:02<00:00,  8.17it/s]"
     ]
    },
    {
     "name": "stdout",
     "output_type": "stream",
     "text": [
      "                   all      0.939          1\n"
     ]
    },
    {
     "name": "stderr",
     "output_type": "stream",
     "text": [
      "\n"
     ]
    },
    {
     "name": "stdout",
     "output_type": "stream",
     "text": [
      "\n",
      "      Epoch    GPU_mem       loss  Instances       Size\n"
     ]
    },
    {
     "name": "stderr",
     "output_type": "stream",
     "text": [
      "     71/100      2.04G     0.0508         16        640: 100%|██████████| 152/152 [00:20<00:00,  7.53it/s]\n",
      "               classes   top1_acc   top5_acc: 100%|██████████| 19/19 [00:02<00:00,  7.06it/s]"
     ]
    },
    {
     "name": "stdout",
     "output_type": "stream",
     "text": [
      "                   all      0.936          1\n"
     ]
    },
    {
     "name": "stderr",
     "output_type": "stream",
     "text": [
      "\n"
     ]
    },
    {
     "name": "stdout",
     "output_type": "stream",
     "text": [
      "\n",
      "      Epoch    GPU_mem       loss  Instances       Size\n"
     ]
    },
    {
     "name": "stderr",
     "output_type": "stream",
     "text": [
      "     72/100      2.04G    0.07032         16        640: 100%|██████████| 152/152 [00:20<00:00,  7.44it/s]\n",
      "               classes   top1_acc   top5_acc: 100%|██████████| 19/19 [00:02<00:00,  7.40it/s]"
     ]
    },
    {
     "name": "stdout",
     "output_type": "stream",
     "text": [
      "                   all      0.942          1\n"
     ]
    },
    {
     "name": "stderr",
     "output_type": "stream",
     "text": [
      "\n"
     ]
    },
    {
     "name": "stdout",
     "output_type": "stream",
     "text": [
      "\n",
      "      Epoch    GPU_mem       loss  Instances       Size\n"
     ]
    },
    {
     "name": "stderr",
     "output_type": "stream",
     "text": [
      "     73/100      2.04G    0.05483         16        640: 100%|██████████| 152/152 [00:20<00:00,  7.37it/s]\n",
      "               classes   top1_acc   top5_acc: 100%|██████████| 19/19 [00:02<00:00,  6.99it/s]"
     ]
    },
    {
     "name": "stdout",
     "output_type": "stream",
     "text": [
      "                   all      0.942          1\n"
     ]
    },
    {
     "name": "stderr",
     "output_type": "stream",
     "text": [
      "\n"
     ]
    },
    {
     "name": "stdout",
     "output_type": "stream",
     "text": [
      "\n",
      "      Epoch    GPU_mem       loss  Instances       Size\n"
     ]
    },
    {
     "name": "stderr",
     "output_type": "stream",
     "text": [
      "     74/100      2.04G    0.05395         16        640: 100%|██████████| 152/152 [00:20<00:00,  7.40it/s]\n",
      "               classes   top1_acc   top5_acc: 100%|██████████| 19/19 [00:03<00:00,  5.73it/s]"
     ]
    },
    {
     "name": "stdout",
     "output_type": "stream",
     "text": [
      "                   all      0.941          1\n"
     ]
    },
    {
     "name": "stderr",
     "output_type": "stream",
     "text": [
      "\n"
     ]
    },
    {
     "name": "stdout",
     "output_type": "stream",
     "text": [
      "\n",
      "      Epoch    GPU_mem       loss  Instances       Size\n"
     ]
    },
    {
     "name": "stderr",
     "output_type": "stream",
     "text": [
      "     75/100      2.04G    0.05397         16        640: 100%|██████████| 152/152 [00:20<00:00,  7.31it/s]\n",
      "               classes   top1_acc   top5_acc: 100%|██████████| 19/19 [00:02<00:00,  8.98it/s]"
     ]
    },
    {
     "name": "stdout",
     "output_type": "stream",
     "text": [
      "                   all      0.949          1\n"
     ]
    },
    {
     "name": "stderr",
     "output_type": "stream",
     "text": [
      "\n"
     ]
    },
    {
     "name": "stdout",
     "output_type": "stream",
     "text": [
      "\n",
      "      Epoch    GPU_mem       loss  Instances       Size\n"
     ]
    },
    {
     "name": "stderr",
     "output_type": "stream",
     "text": [
      "     76/100      2.04G    0.05503         16        640: 100%|██████████| 152/152 [00:26<00:00,  5.76it/s]\n",
      "               classes   top1_acc   top5_acc: 100%|██████████| 19/19 [00:03<00:00,  5.04it/s]"
     ]
    },
    {
     "name": "stdout",
     "output_type": "stream",
     "text": [
      "                   all      0.951          1\n"
     ]
    },
    {
     "name": "stderr",
     "output_type": "stream",
     "text": [
      "\n"
     ]
    },
    {
     "name": "stdout",
     "output_type": "stream",
     "text": [
      "\n",
      "      Epoch    GPU_mem       loss  Instances       Size\n"
     ]
    },
    {
     "name": "stderr",
     "output_type": "stream",
     "text": [
      "     77/100      2.04G    0.05336         16        640: 100%|██████████| 152/152 [00:29<00:00,  5.11it/s]\n",
      "               classes   top1_acc   top5_acc: 100%|██████████| 19/19 [00:04<00:00,  4.14it/s]"
     ]
    },
    {
     "name": "stdout",
     "output_type": "stream",
     "text": [
      "                   all      0.941          1\n"
     ]
    },
    {
     "name": "stderr",
     "output_type": "stream",
     "text": [
      "\n"
     ]
    },
    {
     "name": "stdout",
     "output_type": "stream",
     "text": [
      "\n",
      "      Epoch    GPU_mem       loss  Instances       Size\n"
     ]
    },
    {
     "name": "stderr",
     "output_type": "stream",
     "text": [
      "     78/100      2.04G    0.04103         16        640: 100%|██████████| 152/152 [00:29<00:00,  5.15it/s]\n",
      "               classes   top1_acc   top5_acc: 100%|██████████| 19/19 [00:03<00:00,  5.11it/s]"
     ]
    },
    {
     "name": "stdout",
     "output_type": "stream",
     "text": [
      "                   all      0.942          1\n"
     ]
    },
    {
     "name": "stderr",
     "output_type": "stream",
     "text": [
      "\n"
     ]
    },
    {
     "name": "stdout",
     "output_type": "stream",
     "text": [
      "\n",
      "      Epoch    GPU_mem       loss  Instances       Size\n"
     ]
    },
    {
     "name": "stderr",
     "output_type": "stream",
     "text": [
      "     79/100      2.04G    0.05953         16        640: 100%|██████████| 152/152 [00:29<00:00,  5.08it/s]\n",
      "               classes   top1_acc   top5_acc: 100%|██████████| 19/19 [00:03<00:00,  6.00it/s]"
     ]
    },
    {
     "name": "stdout",
     "output_type": "stream",
     "text": [
      "                   all      0.939          1\n"
     ]
    },
    {
     "name": "stderr",
     "output_type": "stream",
     "text": [
      "\n"
     ]
    },
    {
     "name": "stdout",
     "output_type": "stream",
     "text": [
      "\n",
      "      Epoch    GPU_mem       loss  Instances       Size\n"
     ]
    },
    {
     "name": "stderr",
     "output_type": "stream",
     "text": [
      "     80/100      2.04G    0.03667         16        640: 100%|██████████| 152/152 [00:26<00:00,  5.75it/s]\n",
      "               classes   top1_acc   top5_acc: 100%|██████████| 19/19 [00:03<00:00,  6.01it/s]"
     ]
    },
    {
     "name": "stdout",
     "output_type": "stream",
     "text": [
      "                   all      0.937          1\n"
     ]
    },
    {
     "name": "stderr",
     "output_type": "stream",
     "text": [
      "\n"
     ]
    },
    {
     "name": "stdout",
     "output_type": "stream",
     "text": [
      "\n",
      "      Epoch    GPU_mem       loss  Instances       Size\n"
     ]
    },
    {
     "name": "stderr",
     "output_type": "stream",
     "text": [
      "     81/100      2.04G     0.0403         16        640: 100%|██████████| 152/152 [00:24<00:00,  6.29it/s]\n",
      "               classes   top1_acc   top5_acc: 100%|██████████| 19/19 [00:03<00:00,  5.70it/s]"
     ]
    },
    {
     "name": "stdout",
     "output_type": "stream",
     "text": [
      "                   all      0.937          1\n"
     ]
    },
    {
     "name": "stderr",
     "output_type": "stream",
     "text": [
      "\n"
     ]
    },
    {
     "name": "stdout",
     "output_type": "stream",
     "text": [
      "\n",
      "      Epoch    GPU_mem       loss  Instances       Size\n"
     ]
    },
    {
     "name": "stderr",
     "output_type": "stream",
     "text": [
      "     82/100      2.04G    0.06154         16        640: 100%|██████████| 152/152 [00:30<00:00,  5.02it/s]\n",
      "               classes   top1_acc   top5_acc: 100%|██████████| 19/19 [00:03<00:00,  5.39it/s]"
     ]
    },
    {
     "name": "stdout",
     "output_type": "stream",
     "text": [
      "                   all      0.944          1\n"
     ]
    },
    {
     "name": "stderr",
     "output_type": "stream",
     "text": [
      "\n"
     ]
    },
    {
     "name": "stdout",
     "output_type": "stream",
     "text": [
      "\n",
      "      Epoch    GPU_mem       loss  Instances       Size\n"
     ]
    },
    {
     "name": "stderr",
     "output_type": "stream",
     "text": [
      "     83/100      2.04G    0.03901         16        640: 100%|██████████| 152/152 [00:28<00:00,  5.31it/s]\n",
      "               classes   top1_acc   top5_acc: 100%|██████████| 19/19 [00:03<00:00,  5.97it/s]"
     ]
    },
    {
     "name": "stdout",
     "output_type": "stream",
     "text": [
      "                   all      0.944          1\n"
     ]
    },
    {
     "name": "stderr",
     "output_type": "stream",
     "text": [
      "\n"
     ]
    },
    {
     "name": "stdout",
     "output_type": "stream",
     "text": [
      "\n",
      "      Epoch    GPU_mem       loss  Instances       Size\n"
     ]
    },
    {
     "name": "stderr",
     "output_type": "stream",
     "text": [
      "     84/100      2.04G    0.05362         16        640: 100%|██████████| 152/152 [00:29<00:00,  5.23it/s]\n",
      "               classes   top1_acc   top5_acc: 100%|██████████| 19/19 [00:04<00:00,  3.83it/s]"
     ]
    },
    {
     "name": "stdout",
     "output_type": "stream",
     "text": [
      "                   all      0.941          1\n"
     ]
    },
    {
     "name": "stderr",
     "output_type": "stream",
     "text": [
      "\n"
     ]
    },
    {
     "name": "stdout",
     "output_type": "stream",
     "text": [
      "\n",
      "      Epoch    GPU_mem       loss  Instances       Size\n"
     ]
    },
    {
     "name": "stderr",
     "output_type": "stream",
     "text": [
      "     85/100      2.04G    0.03587         16        640: 100%|██████████| 152/152 [00:29<00:00,  5.12it/s]\n",
      "               classes   top1_acc   top5_acc: 100%|██████████| 19/19 [00:04<00:00,  4.53it/s]"
     ]
    },
    {
     "name": "stdout",
     "output_type": "stream",
     "text": [
      "                   all      0.946          1\n"
     ]
    },
    {
     "name": "stderr",
     "output_type": "stream",
     "text": [
      "\n"
     ]
    },
    {
     "name": "stdout",
     "output_type": "stream",
     "text": [
      "\n",
      "      Epoch    GPU_mem       loss  Instances       Size\n"
     ]
    },
    {
     "name": "stderr",
     "output_type": "stream",
     "text": [
      "     86/100      2.04G    0.03159         16        640: 100%|██████████| 152/152 [00:20<00:00,  7.32it/s]\n",
      "               classes   top1_acc   top5_acc: 100%|██████████| 19/19 [00:02<00:00,  6.93it/s]"
     ]
    },
    {
     "name": "stdout",
     "output_type": "stream",
     "text": [
      "                   all      0.949          1\n"
     ]
    },
    {
     "name": "stderr",
     "output_type": "stream",
     "text": [
      "\n"
     ]
    },
    {
     "name": "stdout",
     "output_type": "stream",
     "text": [
      "\n",
      "      Epoch    GPU_mem       loss  Instances       Size\n"
     ]
    },
    {
     "name": "stderr",
     "output_type": "stream",
     "text": [
      "     87/100      2.04G    0.04348         16        640: 100%|██████████| 152/152 [00:20<00:00,  7.34it/s]\n",
      "               classes   top1_acc   top5_acc: 100%|██████████| 19/19 [00:02<00:00,  7.16it/s]"
     ]
    },
    {
     "name": "stdout",
     "output_type": "stream",
     "text": [
      "                   all      0.942          1\n"
     ]
    },
    {
     "name": "stderr",
     "output_type": "stream",
     "text": [
      "\n"
     ]
    },
    {
     "name": "stdout",
     "output_type": "stream",
     "text": [
      "\n",
      "      Epoch    GPU_mem       loss  Instances       Size\n"
     ]
    },
    {
     "name": "stderr",
     "output_type": "stream",
     "text": [
      "     88/100      2.04G    0.03206         16        640: 100%|██████████| 152/152 [00:21<00:00,  7.14it/s]\n",
      "               classes   top1_acc   top5_acc: 100%|██████████| 19/19 [00:02<00:00,  8.39it/s]"
     ]
    },
    {
     "name": "stdout",
     "output_type": "stream",
     "text": [
      "                   all      0.932          1\n"
     ]
    },
    {
     "name": "stderr",
     "output_type": "stream",
     "text": [
      "\n"
     ]
    },
    {
     "name": "stdout",
     "output_type": "stream",
     "text": [
      "\n",
      "      Epoch    GPU_mem       loss  Instances       Size\n"
     ]
    },
    {
     "name": "stderr",
     "output_type": "stream",
     "text": [
      "     89/100      2.04G    0.03782         16        640: 100%|██████████| 152/152 [00:21<00:00,  6.96it/s]\n",
      "               classes   top1_acc   top5_acc: 100%|██████████| 19/19 [00:02<00:00,  7.15it/s]"
     ]
    },
    {
     "name": "stdout",
     "output_type": "stream",
     "text": [
      "                   all      0.939          1\n"
     ]
    },
    {
     "name": "stderr",
     "output_type": "stream",
     "text": [
      "\n"
     ]
    },
    {
     "name": "stdout",
     "output_type": "stream",
     "text": [
      "\n",
      "      Epoch    GPU_mem       loss  Instances       Size\n"
     ]
    },
    {
     "name": "stderr",
     "output_type": "stream",
     "text": [
      "     90/100      2.04G    0.04152         16        640: 100%|██████████| 152/152 [00:20<00:00,  7.26it/s]\n",
      "               classes   top1_acc   top5_acc: 100%|██████████| 19/19 [00:02<00:00,  7.47it/s]"
     ]
    },
    {
     "name": "stdout",
     "output_type": "stream",
     "text": [
      "                   all      0.936          1\n"
     ]
    },
    {
     "name": "stderr",
     "output_type": "stream",
     "text": [
      "\n"
     ]
    },
    {
     "name": "stdout",
     "output_type": "stream",
     "text": [
      "\n",
      "      Epoch    GPU_mem       loss  Instances       Size\n"
     ]
    },
    {
     "name": "stderr",
     "output_type": "stream",
     "text": [
      "     91/100      2.04G  0.0008391         16        640:   1%|          | 1/152 [00:00<01:16,  1.97it/s]n in thread Thread-35 (plot_images):\n",
      "Traceback (most recent call last):\n",
      "  File \"c:\\Users\\User\\AppData\\Local\\Programs\\Python\\Python310\\lib\\threading.py\", line 1016, in _bootstrap_inner\n",
      "    self.run()\n",
      "  File \"C:\\Users\\User\\AppData\\Roaming\\Python\\Python310\\site-packages\\ipykernel\\ipkernel.py\", line 766, in run_closure\n",
      "    _threading_Thread_run(self)\n",
      "  File \"c:\\Users\\User\\AppData\\Local\\Programs\\Python\\Python310\\lib\\threading.py\", line 953, in run\n",
      "    self._target(*self._args, **self._kwargs)\n",
      "TypeError: plot_images() got an unexpected keyword argument 'batch_idx'\n",
      "     91/100      2.04G   0.001095         16        640:   1%|          | 1/152 [00:00<01:16,  1.97it/s]Exception in thread Thread-36 (plot_images):\n",
      "Traceback (most recent call last):\n",
      "  File \"c:\\Users\\User\\AppData\\Local\\Programs\\Python\\Python310\\lib\\threading.py\", line 1016, in _bootstrap_inner\n",
      "     91/100      2.04G   0.001095         16        640:   1%|▏         | 2/152 [00:00<00:43,  3.44it/s]    self.run()\n",
      "  File \"C:\\Users\\User\\AppData\\Roaming\\Python\\Python310\\site-packages\\ipykernel\\ipkernel.py\", line 766, in run_closure\n",
      "    _threading_Thread_run(self)\n",
      "  File \"c:\\Users\\User\\AppData\\Local\\Programs\\Python\\Python310\\lib\\threading.py\", line 953, in run\n",
      "    self._target(*self._args, **self._kwargs)\n",
      "TypeError: plot_images() got an unexpected keyword argument 'batch_idx'\n",
      "     91/100      2.04G   0.000987         16        640:   2%|▏         | 3/152 [00:00<00:30,  4.89it/s]Thread-37 (plot_images):\n",
      "Traceback (most recent call last):\n",
      "  File \"c:\\Users\\User\\AppData\\Local\\Programs\\Python\\Python310\\lib\\threading.py\", line 1016, in _bootstrap_inner\n",
      "    self.run()\n",
      "  File \"C:\\Users\\User\\AppData\\Roaming\\Python\\Python310\\site-packages\\ipykernel\\ipkernel.py\", line 766, in run_closure\n",
      "    _threading_Thread_run(self)\n",
      "  File \"c:\\Users\\User\\AppData\\Local\\Programs\\Python\\Python310\\lib\\threading.py\", line 953, in run\n",
      "    self._target(*self._args, **self._kwargs)\n",
      "TypeError: plot_images() got an unexpected keyword argument 'batch_idx'\n",
      "     91/100      2.04G    0.03624         16        640: 100%|██████████| 152/152 [00:21<00:00,  7.07it/s]\n",
      "               classes   top1_acc   top5_acc: 100%|██████████| 19/19 [00:02<00:00,  9.18it/s]"
     ]
    },
    {
     "name": "stdout",
     "output_type": "stream",
     "text": [
      "                   all      0.939          1\n"
     ]
    },
    {
     "name": "stderr",
     "output_type": "stream",
     "text": [
      "\n"
     ]
    },
    {
     "name": "stdout",
     "output_type": "stream",
     "text": [
      "\n",
      "      Epoch    GPU_mem       loss  Instances       Size\n"
     ]
    },
    {
     "name": "stderr",
     "output_type": "stream",
     "text": [
      "     92/100      2.04G    0.02739         16        640: 100%|██████████| 152/152 [00:20<00:00,  7.30it/s]\n",
      "               classes   top1_acc   top5_acc: 100%|██████████| 19/19 [00:02<00:00,  6.59it/s]"
     ]
    },
    {
     "name": "stdout",
     "output_type": "stream",
     "text": [
      "                   all      0.941          1\n"
     ]
    },
    {
     "name": "stderr",
     "output_type": "stream",
     "text": [
      "\n"
     ]
    },
    {
     "name": "stdout",
     "output_type": "stream",
     "text": [
      "\n",
      "      Epoch    GPU_mem       loss  Instances       Size\n"
     ]
    },
    {
     "name": "stderr",
     "output_type": "stream",
     "text": [
      "     93/100      2.04G    0.03783         16        640: 100%|██████████| 152/152 [00:20<00:00,  7.40it/s]\n",
      "               classes   top1_acc   top5_acc: 100%|██████████| 19/19 [00:03<00:00,  5.84it/s]"
     ]
    },
    {
     "name": "stdout",
     "output_type": "stream",
     "text": [
      "                   all      0.937          1\n"
     ]
    },
    {
     "name": "stderr",
     "output_type": "stream",
     "text": [
      "\n"
     ]
    },
    {
     "name": "stdout",
     "output_type": "stream",
     "text": [
      "\n",
      "      Epoch    GPU_mem       loss  Instances       Size\n"
     ]
    },
    {
     "name": "stderr",
     "output_type": "stream",
     "text": [
      "     94/100      2.04G     0.0292         16        640: 100%|██████████| 152/152 [00:20<00:00,  7.35it/s]\n",
      "               classes   top1_acc   top5_acc: 100%|██████████| 19/19 [00:03<00:00,  5.43it/s]"
     ]
    },
    {
     "name": "stdout",
     "output_type": "stream",
     "text": [
      "                   all      0.944          1\n"
     ]
    },
    {
     "name": "stderr",
     "output_type": "stream",
     "text": [
      "\n"
     ]
    },
    {
     "name": "stdout",
     "output_type": "stream",
     "text": [
      "\n",
      "      Epoch    GPU_mem       loss  Instances       Size\n"
     ]
    },
    {
     "name": "stderr",
     "output_type": "stream",
     "text": [
      "     95/100      2.04G    0.03104         16        640: 100%|██████████| 152/152 [00:20<00:00,  7.40it/s]\n",
      "               classes   top1_acc   top5_acc: 100%|██████████| 19/19 [00:02<00:00,  7.61it/s]"
     ]
    },
    {
     "name": "stdout",
     "output_type": "stream",
     "text": [
      "                   all      0.941          1\n"
     ]
    },
    {
     "name": "stderr",
     "output_type": "stream",
     "text": [
      "\n"
     ]
    },
    {
     "name": "stdout",
     "output_type": "stream",
     "text": [
      "\n",
      "      Epoch    GPU_mem       loss  Instances       Size\n"
     ]
    },
    {
     "name": "stderr",
     "output_type": "stream",
     "text": [
      "     96/100      2.04G    0.02829         16        640: 100%|██████████| 152/152 [00:26<00:00,  5.84it/s]\n",
      "               classes   top1_acc   top5_acc: 100%|██████████| 19/19 [00:02<00:00,  8.10it/s]"
     ]
    },
    {
     "name": "stdout",
     "output_type": "stream",
     "text": [
      "                   all      0.941          1\n"
     ]
    },
    {
     "name": "stderr",
     "output_type": "stream",
     "text": [
      "\n"
     ]
    },
    {
     "name": "stdout",
     "output_type": "stream",
     "text": [
      "\n",
      "      Epoch    GPU_mem       loss  Instances       Size\n"
     ]
    },
    {
     "name": "stderr",
     "output_type": "stream",
     "text": [
      "     97/100      2.04G     0.0317         16        640: 100%|██████████| 152/152 [00:29<00:00,  5.14it/s]\n",
      "               classes   top1_acc   top5_acc: 100%|██████████| 19/19 [00:03<00:00,  5.73it/s]"
     ]
    },
    {
     "name": "stdout",
     "output_type": "stream",
     "text": [
      "                   all      0.944          1\n"
     ]
    },
    {
     "name": "stderr",
     "output_type": "stream",
     "text": [
      "\n"
     ]
    },
    {
     "name": "stdout",
     "output_type": "stream",
     "text": [
      "\n",
      "      Epoch    GPU_mem       loss  Instances       Size\n"
     ]
    },
    {
     "name": "stderr",
     "output_type": "stream",
     "text": [
      "     98/100      2.04G    0.02876         16        640: 100%|██████████| 152/152 [00:24<00:00,  6.16it/s]\n",
      "               classes   top1_acc   top5_acc: 100%|██████████| 19/19 [00:03<00:00,  6.18it/s]"
     ]
    },
    {
     "name": "stdout",
     "output_type": "stream",
     "text": [
      "                   all      0.944          1\n"
     ]
    },
    {
     "name": "stderr",
     "output_type": "stream",
     "text": [
      "\n"
     ]
    },
    {
     "name": "stdout",
     "output_type": "stream",
     "text": [
      "\n",
      "      Epoch    GPU_mem       loss  Instances       Size\n"
     ]
    },
    {
     "name": "stderr",
     "output_type": "stream",
     "text": [
      "     99/100      2.04G    0.03181         16        640: 100%|██████████| 152/152 [00:25<00:00,  5.87it/s]\n",
      "               classes   top1_acc   top5_acc: 100%|██████████| 19/19 [00:03<00:00,  5.18it/s]"
     ]
    },
    {
     "name": "stdout",
     "output_type": "stream",
     "text": [
      "                   all      0.942          1\n"
     ]
    },
    {
     "name": "stderr",
     "output_type": "stream",
     "text": [
      "\n"
     ]
    },
    {
     "name": "stdout",
     "output_type": "stream",
     "text": [
      "\n",
      "      Epoch    GPU_mem       loss  Instances       Size\n"
     ]
    },
    {
     "name": "stderr",
     "output_type": "stream",
     "text": [
      "    100/100      2.04G    0.03104         16        640: 100%|██████████| 152/152 [00:23<00:00,  6.40it/s]\n",
      "               classes   top1_acc   top5_acc: 100%|██████████| 19/19 [00:03<00:00,  4.98it/s]"
     ]
    },
    {
     "name": "stdout",
     "output_type": "stream",
     "text": [
      "                   all      0.941          1\n"
     ]
    },
    {
     "name": "stderr",
     "output_type": "stream",
     "text": [
      "\n"
     ]
    },
    {
     "name": "stdout",
     "output_type": "stream",
     "text": [
      "\n",
      "100 epochs completed in 0.796 hours.\n",
      "Optimizer stripped from runs\\classify\\train5\\weights\\last.pt, 3.2MB\n",
      "Optimizer stripped from runs\\classify\\train5\\weights\\best.pt, 3.2MB\n",
      "\n",
      "Validating runs\\classify\\train5\\weights\\best.pt...\n",
      "Ultralytics 8.3.155  Python-3.10.7 torch-2.5.1+cu121 CUDA:0 (NVIDIA GeForce RTX 4060 Laptop GPU, 8188MiB)\n",
      "YOLO11n-cls summary (fused): 47 layers, 1,528,586 parameters, 0 gradients, 3.2 GFLOPs\n",
      "WARNING Dataset 'split=val' not found, using 'split=test' instead.\n",
      "\u001b[34m\u001b[1mtrain:\u001b[0m C:\\Users\\User\\Desktop\\1Year\\Term2\\SuperEngi\\1PrepareFinalTest\\test_Image1\\YoloFormat\\yolo\\train... found 2432 images in 2 classes  \n",
      "\u001b[34m\u001b[1mval:\u001b[0m C:\\Users\\User\\Desktop\\1Year\\Term2\\SuperEngi\\1PrepareFinalTest\\test_Image1\\YoloFormat\\yolo\\test... found 591 images in 2 classes  \n",
      "\u001b[34m\u001b[1mtest:\u001b[0m C:\\Users\\User\\Desktop\\1Year\\Term2\\SuperEngi\\1PrepareFinalTest\\test_Image1\\YoloFormat\\yolo\\test... found 591 images in 2 classes  \n"
     ]
    },
    {
     "name": "stderr",
     "output_type": "stream",
     "text": [
      "               classes   top1_acc   top5_acc: 100%|██████████| 19/19 [00:02<00:00,  7.94it/s]\n"
     ]
    },
    {
     "name": "stdout",
     "output_type": "stream",
     "text": [
      "                   all      0.951          1\n",
      "Speed: 0.9ms preprocess, 1.4ms inference, 0.0ms loss, 0.0ms postprocess per image\n",
      "Results saved to \u001b[1mruns\\classify\\train5\u001b[0m\n"
     ]
    }
   ],
   "source": [
    "from ultralytics import YOLO\n",
    "\n",
    "# Load a model\n",
    "model = YOLO(\"yolo11n-cls.pt\")  # load a pretrained model (recommended for training)\n",
    "\n",
    "# Train the model\n",
    "results = model.train(data=r\"C:\\Users\\User\\Desktop\\1Year\\Term2\\SuperEngi\\1PrepareFinalTest\\test_Image1\\YoloFormat\\yolo\", epochs=100, imgsz=640)"
   ]
  },
  {
   "cell_type": "code",
   "execution_count": 3,
   "id": "9bee252c",
   "metadata": {},
   "outputs": [
    {
     "name": "stdout",
     "output_type": "stream",
     "text": [
      "\n",
      "image 1/1 C:\\Users\\User\\Desktop\\1Year\\Term2\\SuperEngi\\1PrepareFinalTest\\test_Image1\\test\\6d3cad6b.jpg: 640x640 0 1.00, 1 0.00, 13.0ms\n",
      "Speed: 22.9ms preprocess, 13.0ms inference, 0.1ms postprocess per image at shape (1, 3, 640, 640)\n"
     ]
    },
    {
     "data": {
      "text/plain": [
       "<Figure size 600x600 with 1 Axes>"
      ]
     },
     "metadata": {},
     "output_type": "display_data"
    }
   ],
   "source": [
    "from ultralytics import YOLO\n",
    "import cv2\n",
    "import matplotlib.pyplot as plt\n",
    "\n",
    "model = YOLO(r\"C:\\Users\\User\\Desktop\\1Year\\Term2\\SuperEngi\\1PrepareFinalTest\\test_Image1\\runs\\classify\\train5\\weights\\best.pt\")\n",
    "img_path = r\"C:\\Users\\User\\Desktop\\1Year\\Term2\\SuperEngi\\1PrepareFinalTest\\test_Image1\\test\\6d3cad6b.jpg\"\n",
    "\n",
    "results = model(img_path)\n",
    "\n",
    "pred_class = results[0].probs.top1  \n",
    "confidence = results[0].probs.top1conf.item()  \n",
    "class_name = model.names[pred_class]  \n",
    "\n",
    "img = cv2.imread(img_path)\n",
    "img = cv2.cvtColor(img, cv2.COLOR_BGR2RGB)\n",
    "\n",
    "label = f\"{class_name} ({confidence*100:.1f}%)\"\n",
    "cv2.putText(img, label, (10, 30), cv2.FONT_HERSHEY_SIMPLEX, 1, (255, 0, 0), 2)\n",
    "\n",
    "plt.figure(figsize=(6, 6))\n",
    "plt.imshow(img)\n",
    "plt.axis('off')\n",
    "plt.title(\"Prediction\")\n",
    "plt.show()\n"
   ]
  },
  {
   "cell_type": "markdown",
   "id": "c2ca9262",
   "metadata": {},
   "source": [
    "#### Just 1 pic per 1 "
   ]
  },
  {
   "cell_type": "code",
   "execution_count": 1,
   "id": "e9c5e1f6",
   "metadata": {},
   "outputs": [
    {
     "name": "stderr",
     "output_type": "stream",
     "text": [
      "100%|██████████| 70/70 [00:01<00:00, 36.16it/s]\n"
     ]
    }
   ],
   "source": [
    "import os\n",
    "import random\n",
    "from PIL import Image\n",
    "from torchvision import transforms\n",
    "from tqdm import tqdm\n",
    "\n",
    "input_dir = r'C:\\Users\\User\\Desktop\\1Year\\Term2\\SuperEngi\\1PrepareFinalTest\\test_Image1\\YoloFormat\\yolo\\train\\1'\n",
    "output_dir = input_dir  # บันทึกในที่เดิมก็ได้\n",
    "\n",
    "# define transformation\n",
    "transform = transforms.Compose([\n",
    "    transforms.RandomHorizontalFlip(p=1.0),\n",
    "    transforms.RandomRotation(degrees=15),\n",
    "    transforms.ColorJitter(brightness=0.2, contrast=0.2),\n",
    "])\n",
    "\n",
    "n_total_augmented = 70  # รวมทั้งหมดแค่ 70 รูป\n",
    "image_files = [f for f in os.listdir(input_dir) if f.lower().endswith(('.jpg', '.jpeg', '.png'))]\n",
    "\n",
    "# สุ่ม 70 รูปจากต้นฉบับ\n",
    "selected_images = random.sample(image_files, min(n_total_augmented, len(image_files)))\n",
    "\n",
    "for i, img_name in enumerate(tqdm(selected_images)):\n",
    "    img_path = os.path.join(input_dir, img_name)\n",
    "    try:\n",
    "        image = Image.open(img_path).convert(\"RGB\")\n",
    "    except:\n",
    "        continue\n",
    "\n",
    "    augmented = transform(image)\n",
    "    new_name = f\"{os.path.splitext(img_name)[0]}_aug.jpg\"\n",
    "    augmented.save(os.path.join(output_dir, new_name))\n"
   ]
  },
  {
   "cell_type": "markdown",
   "id": "dee8d5fa",
   "metadata": {},
   "source": [
    "#### Per Image like 70 per 1 base"
   ]
  },
  {
   "cell_type": "code",
   "execution_count": null,
   "id": "b857bb7d",
   "metadata": {},
   "outputs": [],
   "source": [
    "import os\n",
    "from PIL import Image\n",
    "from torchvision import transforms\n",
    "from tqdm import tqdm\n",
    "\n",
    "input_dir = r'C:\\Users\\User\\Desktop\\1Year\\Term2\\SuperEngi\\1PrepareFinalTest\\test_Image1\\YoloFormat\\train\\1'   # โฟลเดอร์ class 1\n",
    "output_dir = r'C:\\Users\\User\\Desktop\\1Year\\Term2\\SuperEngi\\1PrepareFinalTest\\test_Image1\\YoloFormat\\train\\1'  # บันทึกทับที่เดิม หรือจะเปลี่ยน path ก็ได้\n",
    "\n",
    "# Define augmentation pipeline\n",
    "transform = transforms.Compose([\n",
    "    transforms.RandomHorizontalFlip(p=1.0),\n",
    "    transforms.RandomRotation(degrees=15),\n",
    "    transforms.ColorJitter(brightness=0.2, contrast=0.2),\n",
    "])\n",
    "\n",
    "n_aug_per_image = 70  # จำนวนที่ต้องการเพิ่มต่อภาพ\n",
    "\n",
    "for img_name in tqdm(os.listdir(input_dir)):\n",
    "    img_path = os.path.join(input_dir, img_name)\n",
    "    try:\n",
    "        image = Image.open(img_path).convert(\"RGB\")\n",
    "    except:\n",
    "        continue\n",
    "\n",
    "    for i in range(n_aug_per_image):\n",
    "        augmented = transform(image)\n",
    "        new_name = f\"{os.path.splitext(img_name)[0]}_aug{i}.jpg\"\n",
    "        augmented.save(os.path.join(output_dir, new_name))\n"
   ]
  },
  {
   "cell_type": "code",
   "execution_count": 4,
   "id": "9422d512",
   "metadata": {},
   "outputs": [
    {
     "name": "stderr",
     "output_type": "stream",
     "text": [
      "  0%|          | 0/1550 [00:00<?, ?it/s]"
     ]
    },
    {
     "name": "stdout",
     "output_type": "stream",
     "text": [
      "\n",
      "image 1/1 C:\\Users\\User\\Desktop\\1Year\\Term2\\SuperEngi\\1PrepareFinalTest\\test_Image1\\test\\00162f19.jpg: 640x640 0 1.00, 1 0.00, 13.8ms\n",
      "Speed: 10.9ms preprocess, 13.8ms inference, 0.1ms postprocess per image at shape (1, 3, 640, 640)\n"
     ]
    },
    {
     "name": "stderr",
     "output_type": "stream",
     "text": [
      "  0%|          | 1/1550 [00:00<02:50,  9.11it/s]"
     ]
    },
    {
     "name": "stdout",
     "output_type": "stream",
     "text": [
      "\n",
      "image 1/1 C:\\Users\\User\\Desktop\\1Year\\Term2\\SuperEngi\\1PrepareFinalTest\\test_Image1\\test\\004c4789.jpg: 640x640 0 1.00, 1 0.00, 13.7ms\n",
      "Speed: 9.0ms preprocess, 13.7ms inference, 0.1ms postprocess per image at shape (1, 3, 640, 640)\n",
      "\n",
      "image 1/1 C:\\Users\\User\\Desktop\\1Year\\Term2\\SuperEngi\\1PrepareFinalTest\\test_Image1\\test\\0059b42f.jpg: 640x640 1 1.00, 0 0.00, 15.8ms\n",
      "Speed: 9.1ms preprocess, 15.8ms inference, 0.1ms postprocess per image at shape (1, 3, 640, 640)\n",
      "\n",
      "image 1/1 C:\\Users\\User\\Desktop\\1Year\\Term2\\SuperEngi\\1PrepareFinalTest\\test_Image1\\test\\005f930c.jpg: 640x640 0 1.00, 1 0.00, 13.7ms\n",
      "Speed: 8.7ms preprocess, 13.7ms inference, 0.1ms postprocess per image at shape (1, 3, 640, 640)\n",
      "\n",
      "image 1/1 C:\\Users\\User\\Desktop\\1Year\\Term2\\SuperEngi\\1PrepareFinalTest\\test_Image1\\test\\009095e8.jpg: 640x640 1 1.00, 0 0.00, 13.4ms\n",
      "Speed: 8.2ms preprocess, 13.4ms inference, 0.1ms postprocess per image at shape (1, 3, 640, 640)\n"
     ]
    },
    {
     "name": "stderr",
     "output_type": "stream",
     "text": [
      "  0%|          | 5/1550 [00:00<01:06, 23.07it/s]"
     ]
    },
    {
     "name": "stdout",
     "output_type": "stream",
     "text": [
      "\n",
      "image 1/1 C:\\Users\\User\\Desktop\\1Year\\Term2\\SuperEngi\\1PrepareFinalTest\\test_Image1\\test\\00a98706.jpg: 640x640 0 1.00, 1 0.00, 13.5ms\n",
      "Speed: 9.1ms preprocess, 13.5ms inference, 0.1ms postprocess per image at shape (1, 3, 640, 640)\n",
      "\n",
      "image 1/1 C:\\Users\\User\\Desktop\\1Year\\Term2\\SuperEngi\\1PrepareFinalTest\\test_Image1\\test\\00da9dd7.jpg: 640x640 1 1.00, 0 0.00, 13.1ms\n",
      "Speed: 8.2ms preprocess, 13.1ms inference, 0.1ms postprocess per image at shape (1, 3, 640, 640)\n",
      "\n",
      "image 1/1 C:\\Users\\User\\Desktop\\1Year\\Term2\\SuperEngi\\1PrepareFinalTest\\test_Image1\\test\\00e2bfe0.jpg: 640x640 0 1.00, 1 0.00, 11.7ms\n",
      "Speed: 8.1ms preprocess, 11.7ms inference, 0.1ms postprocess per image at shape (1, 3, 640, 640)\n",
      "\n",
      "image 1/1 C:\\Users\\User\\Desktop\\1Year\\Term2\\SuperEngi\\1PrepareFinalTest\\test_Image1\\test\\00eac2a3.jpg: 640x640 1 0.94, 0 0.06, 11.9ms\n",
      "Speed: 7.9ms preprocess, 11.9ms inference, 0.1ms postprocess per image at shape (1, 3, 640, 640)\n"
     ]
    },
    {
     "name": "stderr",
     "output_type": "stream",
     "text": [
      "  1%|          | 9/1550 [00:00<00:54, 28.21it/s]"
     ]
    },
    {
     "name": "stdout",
     "output_type": "stream",
     "text": [
      "\n",
      "image 1/1 C:\\Users\\User\\Desktop\\1Year\\Term2\\SuperEngi\\1PrepareFinalTest\\test_Image1\\test\\01265567.jpg: 640x640 0 1.00, 1 0.00, 11.3ms\n",
      "Speed: 7.4ms preprocess, 11.3ms inference, 0.1ms postprocess per image at shape (1, 3, 640, 640)\n",
      "\n",
      "image 1/1 C:\\Users\\User\\Desktop\\1Year\\Term2\\SuperEngi\\1PrepareFinalTest\\test_Image1\\test\\0188f57d.jpg: 640x640 0 0.99, 1 0.01, 11.2ms\n",
      "Speed: 9.0ms preprocess, 11.2ms inference, 0.1ms postprocess per image at shape (1, 3, 640, 640)\n",
      "\n",
      "image 1/1 C:\\Users\\User\\Desktop\\1Year\\Term2\\SuperEngi\\1PrepareFinalTest\\test_Image1\\test\\01945b53.jpg: 640x640 0 0.99, 1 0.01, 11.3ms\n",
      "Speed: 8.2ms preprocess, 11.3ms inference, 0.1ms postprocess per image at shape (1, 3, 640, 640)\n",
      "\n",
      "image 1/1 C:\\Users\\User\\Desktop\\1Year\\Term2\\SuperEngi\\1PrepareFinalTest\\test_Image1\\test\\01ccbb76.jpg: 640x640 1 0.90, 0 0.10, 11.7ms\n",
      "Speed: 10.4ms preprocess, 11.7ms inference, 0.2ms postprocess per image at shape (1, 3, 640, 640)\n"
     ]
    },
    {
     "name": "stderr",
     "output_type": "stream",
     "text": [
      "  1%|          | 13/1550 [00:00<00:49, 30.86it/s]"
     ]
    },
    {
     "name": "stdout",
     "output_type": "stream",
     "text": [
      "\n",
      "image 1/1 C:\\Users\\User\\Desktop\\1Year\\Term2\\SuperEngi\\1PrepareFinalTest\\test_Image1\\test\\01e45f69.jpg: 640x640 1 1.00, 0 0.00, 11.2ms\n",
      "Speed: 8.1ms preprocess, 11.2ms inference, 0.1ms postprocess per image at shape (1, 3, 640, 640)\n",
      "\n",
      "image 1/1 C:\\Users\\User\\Desktop\\1Year\\Term2\\SuperEngi\\1PrepareFinalTest\\test_Image1\\test\\01ee5917.jpg: 640x640 0 1.00, 1 0.00, 10.9ms\n",
      "Speed: 9.6ms preprocess, 10.9ms inference, 0.1ms postprocess per image at shape (1, 3, 640, 640)\n",
      "\n",
      "image 1/1 C:\\Users\\User\\Desktop\\1Year\\Term2\\SuperEngi\\1PrepareFinalTest\\test_Image1\\test\\01f9d203.jpg: 640x640 1 1.00, 0 0.00, 9.8ms\n",
      "Speed: 8.4ms preprocess, 9.8ms inference, 0.0ms postprocess per image at shape (1, 3, 640, 640)\n",
      "\n",
      "image 1/1 C:\\Users\\User\\Desktop\\1Year\\Term2\\SuperEngi\\1PrepareFinalTest\\test_Image1\\test\\0264a981.jpg: 640x640 1 0.96, 0 0.04, 10.2ms\n",
      "Speed: 13.0ms preprocess, 10.2ms inference, 0.1ms postprocess per image at shape (1, 3, 640, 640)\n"
     ]
    },
    {
     "name": "stderr",
     "output_type": "stream",
     "text": [
      "  1%|          | 17/1550 [00:00<00:47, 32.04it/s]"
     ]
    },
    {
     "name": "stdout",
     "output_type": "stream",
     "text": [
      "\n",
      "image 1/1 C:\\Users\\User\\Desktop\\1Year\\Term2\\SuperEngi\\1PrepareFinalTest\\test_Image1\\test\\0272a96c.jpg: 640x640 1 0.96, 0 0.04, 10.1ms\n",
      "Speed: 9.6ms preprocess, 10.1ms inference, 0.1ms postprocess per image at shape (1, 3, 640, 640)\n",
      "\n",
      "image 1/1 C:\\Users\\User\\Desktop\\1Year\\Term2\\SuperEngi\\1PrepareFinalTest\\test_Image1\\test\\0282e334.jpg: 640x640 0 1.00, 1 0.00, 9.8ms\n",
      "Speed: 9.3ms preprocess, 9.8ms inference, 0.1ms postprocess per image at shape (1, 3, 640, 640)\n",
      "\n",
      "image 1/1 C:\\Users\\User\\Desktop\\1Year\\Term2\\SuperEngi\\1PrepareFinalTest\\test_Image1\\test\\02abb751.jpg: 640x640 1 1.00, 0 0.00, 10.9ms\n",
      "Speed: 8.8ms preprocess, 10.9ms inference, 0.1ms postprocess per image at shape (1, 3, 640, 640)\n",
      "\n",
      "image 1/1 C:\\Users\\User\\Desktop\\1Year\\Term2\\SuperEngi\\1PrepareFinalTest\\test_Image1\\test\\0338f3c6.jpg: 640x640 1 1.00, 0 0.00, 10.1ms\n",
      "Speed: 8.2ms preprocess, 10.1ms inference, 0.1ms postprocess per image at shape (1, 3, 640, 640)\n"
     ]
    },
    {
     "name": "stderr",
     "output_type": "stream",
     "text": [
      "  1%|▏         | 21/1550 [00:00<00:46, 33.06it/s]"
     ]
    },
    {
     "name": "stdout",
     "output_type": "stream",
     "text": [
      "\n",
      "image 1/1 C:\\Users\\User\\Desktop\\1Year\\Term2\\SuperEngi\\1PrepareFinalTest\\test_Image1\\test\\034c3c52.jpg: 640x640 1 0.99, 0 0.01, 9.6ms\n",
      "Speed: 8.3ms preprocess, 9.6ms inference, 0.1ms postprocess per image at shape (1, 3, 640, 640)\n",
      "\n",
      "image 1/1 C:\\Users\\User\\Desktop\\1Year\\Term2\\SuperEngi\\1PrepareFinalTest\\test_Image1\\test\\0356ad78.jpg: 640x640 1 1.00, 0 0.00, 9.8ms\n",
      "Speed: 9.9ms preprocess, 9.8ms inference, 0.0ms postprocess per image at shape (1, 3, 640, 640)\n",
      "\n",
      "image 1/1 C:\\Users\\User\\Desktop\\1Year\\Term2\\SuperEngi\\1PrepareFinalTest\\test_Image1\\test\\037b9cd8.jpg: 640x640 1 1.00, 0 0.00, 9.8ms\n",
      "Speed: 10.0ms preprocess, 9.8ms inference, 0.1ms postprocess per image at shape (1, 3, 640, 640)\n",
      "\n",
      "image 1/1 C:\\Users\\User\\Desktop\\1Year\\Term2\\SuperEngi\\1PrepareFinalTest\\test_Image1\\test\\037f2425.jpg: 640x640 0 1.00, 1 0.00, 9.8ms\n",
      "Speed: 9.1ms preprocess, 9.8ms inference, 0.1ms postprocess per image at shape (1, 3, 640, 640)\n"
     ]
    },
    {
     "name": "stderr",
     "output_type": "stream",
     "text": [
      "  2%|▏         | 25/1550 [00:00<00:45, 33.70it/s]"
     ]
    },
    {
     "name": "stdout",
     "output_type": "stream",
     "text": [
      "\n",
      "image 1/1 C:\\Users\\User\\Desktop\\1Year\\Term2\\SuperEngi\\1PrepareFinalTest\\test_Image1\\test\\038a0a48.jpg: 640x640 1 1.00, 0 0.00, 9.4ms\n",
      "Speed: 9.2ms preprocess, 9.4ms inference, 0.1ms postprocess per image at shape (1, 3, 640, 640)\n",
      "\n",
      "image 1/1 C:\\Users\\User\\Desktop\\1Year\\Term2\\SuperEngi\\1PrepareFinalTest\\test_Image1\\test\\03df66ca.jpg: 640x640 0 0.96, 1 0.04, 9.6ms\n",
      "Speed: 9.3ms preprocess, 9.6ms inference, 0.0ms postprocess per image at shape (1, 3, 640, 640)\n",
      "\n",
      "image 1/1 C:\\Users\\User\\Desktop\\1Year\\Term2\\SuperEngi\\1PrepareFinalTest\\test_Image1\\test\\0429a18d.jpg: 640x640 0 1.00, 1 0.00, 9.0ms\n",
      "Speed: 8.7ms preprocess, 9.0ms inference, 0.0ms postprocess per image at shape (1, 3, 640, 640)\n",
      "\n",
      "image 1/1 C:\\Users\\User\\Desktop\\1Year\\Term2\\SuperEngi\\1PrepareFinalTest\\test_Image1\\test\\042d74d8.jpg: 640x640 1 1.00, 0 0.00, 9.6ms\n",
      "Speed: 9.0ms preprocess, 9.6ms inference, 0.1ms postprocess per image at shape (1, 3, 640, 640)\n"
     ]
    },
    {
     "name": "stderr",
     "output_type": "stream",
     "text": [
      "  2%|▏         | 29/1550 [00:00<00:43, 34.79it/s]"
     ]
    },
    {
     "name": "stdout",
     "output_type": "stream",
     "text": [
      "\n",
      "image 1/1 C:\\Users\\User\\Desktop\\1Year\\Term2\\SuperEngi\\1PrepareFinalTest\\test_Image1\\test\\04c3f1bd.jpg: 640x640 0 1.00, 1 0.00, 7.3ms\n",
      "Speed: 7.3ms preprocess, 7.3ms inference, 0.0ms postprocess per image at shape (1, 3, 640, 640)\n",
      "\n",
      "image 1/1 C:\\Users\\User\\Desktop\\1Year\\Term2\\SuperEngi\\1PrepareFinalTest\\test_Image1\\test\\04c88a42.jpg: 640x640 1 1.00, 0 0.00, 7.2ms\n",
      "Speed: 7.0ms preprocess, 7.2ms inference, 0.1ms postprocess per image at shape (1, 3, 640, 640)\n",
      "\n",
      "image 1/1 C:\\Users\\User\\Desktop\\1Year\\Term2\\SuperEngi\\1PrepareFinalTest\\test_Image1\\test\\04dd10ad.jpg: 640x640 0 0.98, 1 0.02, 8.6ms\n",
      "Speed: 11.6ms preprocess, 8.6ms inference, 0.1ms postprocess per image at shape (1, 3, 640, 640)\n",
      "\n",
      "image 1/1 C:\\Users\\User\\Desktop\\1Year\\Term2\\SuperEngi\\1PrepareFinalTest\\test_Image1\\test\\051dd1f5.jpg: 640x640 0 1.00, 1 0.00, 7.2ms\n",
      "Speed: 7.9ms preprocess, 7.2ms inference, 0.1ms postprocess per image at shape (1, 3, 640, 640)\n"
     ]
    },
    {
     "name": "stderr",
     "output_type": "stream",
     "text": [
      "  2%|▏         | 33/1550 [00:01<00:42, 35.62it/s]"
     ]
    },
    {
     "name": "stdout",
     "output_type": "stream",
     "text": [
      "\n",
      "image 1/1 C:\\Users\\User\\Desktop\\1Year\\Term2\\SuperEngi\\1PrepareFinalTest\\test_Image1\\test\\0543215c.jpg: 640x640 1 0.51, 0 0.49, 7.1ms\n",
      "Speed: 7.6ms preprocess, 7.1ms inference, 0.1ms postprocess per image at shape (1, 3, 640, 640)\n",
      "\n",
      "image 1/1 C:\\Users\\User\\Desktop\\1Year\\Term2\\SuperEngi\\1PrepareFinalTest\\test_Image1\\test\\0561ab5a.jpg: 640x640 1 1.00, 0 0.00, 7.3ms\n",
      "Speed: 7.8ms preprocess, 7.3ms inference, 0.0ms postprocess per image at shape (1, 3, 640, 640)\n",
      "\n",
      "image 1/1 C:\\Users\\User\\Desktop\\1Year\\Term2\\SuperEngi\\1PrepareFinalTest\\test_Image1\\test\\056fda9b.jpg: 640x640 0 1.00, 1 0.00, 7.2ms\n",
      "Speed: 7.8ms preprocess, 7.2ms inference, 0.0ms postprocess per image at shape (1, 3, 640, 640)\n",
      "\n",
      "image 1/1 C:\\Users\\User\\Desktop\\1Year\\Term2\\SuperEngi\\1PrepareFinalTest\\test_Image1\\test\\0583f945.jpg: 640x640 0 1.00, 1 0.00, 6.8ms\n",
      "Speed: 6.7ms preprocess, 6.8ms inference, 0.1ms postprocess per image at shape (1, 3, 640, 640)\n",
      "\n",
      "image 1/1 C:\\Users\\User\\Desktop\\1Year\\Term2\\SuperEngi\\1PrepareFinalTest\\test_Image1\\test\\05a12031.jpg: 640x640 0 1.00, 1 0.00, 7.2ms\n",
      "Speed: 6.6ms preprocess, 7.2ms inference, 0.0ms postprocess per image at shape (1, 3, 640, 640)\n"
     ]
    },
    {
     "name": "stderr",
     "output_type": "stream",
     "text": [
      "  2%|▏         | 38/1550 [00:01<00:39, 38.30it/s]"
     ]
    },
    {
     "name": "stdout",
     "output_type": "stream",
     "text": [
      "\n",
      "image 1/1 C:\\Users\\User\\Desktop\\1Year\\Term2\\SuperEngi\\1PrepareFinalTest\\test_Image1\\test\\05d7d54f.jpg: 640x640 1 0.99, 0 0.01, 7.1ms\n",
      "Speed: 7.4ms preprocess, 7.1ms inference, 0.0ms postprocess per image at shape (1, 3, 640, 640)\n",
      "\n",
      "image 1/1 C:\\Users\\User\\Desktop\\1Year\\Term2\\SuperEngi\\1PrepareFinalTest\\test_Image1\\test\\05f824ae.jpg: 640x640 0 1.00, 1 0.00, 7.0ms\n",
      "Speed: 7.6ms preprocess, 7.0ms inference, 0.1ms postprocess per image at shape (1, 3, 640, 640)\n",
      "\n",
      "image 1/1 C:\\Users\\User\\Desktop\\1Year\\Term2\\SuperEngi\\1PrepareFinalTest\\test_Image1\\test\\063aa843.jpg: 640x640 1 1.00, 0 0.00, 7.7ms\n",
      "Speed: 7.8ms preprocess, 7.7ms inference, 0.1ms postprocess per image at shape (1, 3, 640, 640)\n",
      "\n",
      "image 1/1 C:\\Users\\User\\Desktop\\1Year\\Term2\\SuperEngi\\1PrepareFinalTest\\test_Image1\\test\\065def68.jpg: 640x640 0 1.00, 1 0.00, 6.9ms\n",
      "Speed: 6.6ms preprocess, 6.9ms inference, 0.1ms postprocess per image at shape (1, 3, 640, 640)\n",
      "\n",
      "image 1/1 C:\\Users\\User\\Desktop\\1Year\\Term2\\SuperEngi\\1PrepareFinalTest\\test_Image1\\test\\06683f95.jpg: 640x640 1 0.96, 0 0.04, 6.8ms\n",
      "Speed: 7.6ms preprocess, 6.8ms inference, 0.0ms postprocess per image at shape (1, 3, 640, 640)\n"
     ]
    },
    {
     "name": "stderr",
     "output_type": "stream",
     "text": [
      "  3%|▎         | 43/1550 [00:01<00:37, 40.15it/s]"
     ]
    },
    {
     "name": "stdout",
     "output_type": "stream",
     "text": [
      "\n",
      "image 1/1 C:\\Users\\User\\Desktop\\1Year\\Term2\\SuperEngi\\1PrepareFinalTest\\test_Image1\\test\\06b15de3.jpg: 640x640 1 0.99, 0 0.01, 7.4ms\n",
      "Speed: 9.3ms preprocess, 7.4ms inference, 0.1ms postprocess per image at shape (1, 3, 640, 640)\n",
      "\n",
      "image 1/1 C:\\Users\\User\\Desktop\\1Year\\Term2\\SuperEngi\\1PrepareFinalTest\\test_Image1\\test\\06b49f74.jpg: 640x640 0 0.96, 1 0.04, 7.0ms\n",
      "Speed: 8.7ms preprocess, 7.0ms inference, 0.1ms postprocess per image at shape (1, 3, 640, 640)\n",
      "\n",
      "image 1/1 C:\\Users\\User\\Desktop\\1Year\\Term2\\SuperEngi\\1PrepareFinalTest\\test_Image1\\test\\06e9b35d.jpg: 640x640 0 1.00, 1 0.00, 7.5ms\n",
      "Speed: 8.0ms preprocess, 7.5ms inference, 0.1ms postprocess per image at shape (1, 3, 640, 640)\n",
      "\n",
      "image 1/1 C:\\Users\\User\\Desktop\\1Year\\Term2\\SuperEngi\\1PrepareFinalTest\\test_Image1\\test\\07a3abdf.jpg: 640x640 0 1.00, 1 0.00, 6.8ms\n",
      "Speed: 7.7ms preprocess, 6.8ms inference, 0.0ms postprocess per image at shape (1, 3, 640, 640)\n",
      "\n",
      "image 1/1 C:\\Users\\User\\Desktop\\1Year\\Term2\\SuperEngi\\1PrepareFinalTest\\test_Image1\\test\\07b131dd.jpg: 640x640 0 1.00, 1 0.00, 7.2ms\n",
      "Speed: 8.0ms preprocess, 7.2ms inference, 0.0ms postprocess per image at shape (1, 3, 640, 640)\n"
     ]
    },
    {
     "name": "stderr",
     "output_type": "stream",
     "text": [
      "  3%|▎         | 48/1550 [00:01<00:37, 39.81it/s]"
     ]
    },
    {
     "name": "stdout",
     "output_type": "stream",
     "text": [
      "\n",
      "image 1/1 C:\\Users\\User\\Desktop\\1Year\\Term2\\SuperEngi\\1PrepareFinalTest\\test_Image1\\test\\07be23b3.jpg: 640x640 0 1.00, 1 0.00, 7.4ms\n",
      "Speed: 7.2ms preprocess, 7.4ms inference, 0.1ms postprocess per image at shape (1, 3, 640, 640)\n",
      "\n",
      "image 1/1 C:\\Users\\User\\Desktop\\1Year\\Term2\\SuperEngi\\1PrepareFinalTest\\test_Image1\\test\\07e4a534.jpg: 640x640 1 1.00, 0 0.00, 7.0ms\n",
      "Speed: 7.9ms preprocess, 7.0ms inference, 0.0ms postprocess per image at shape (1, 3, 640, 640)\n",
      "\n",
      "image 1/1 C:\\Users\\User\\Desktop\\1Year\\Term2\\SuperEngi\\1PrepareFinalTest\\test_Image1\\test\\07f97f5c.jpg: 640x640 1 1.00, 0 0.00, 7.3ms\n",
      "Speed: 7.0ms preprocess, 7.3ms inference, 0.0ms postprocess per image at shape (1, 3, 640, 640)\n",
      "\n",
      "image 1/1 C:\\Users\\User\\Desktop\\1Year\\Term2\\SuperEngi\\1PrepareFinalTest\\test_Image1\\test\\07fc4b9f.jpg: 640x640 1 1.00, 0 0.00, 7.6ms\n",
      "Speed: 7.4ms preprocess, 7.6ms inference, 0.0ms postprocess per image at shape (1, 3, 640, 640)\n",
      "\n",
      "image 1/1 C:\\Users\\User\\Desktop\\1Year\\Term2\\SuperEngi\\1PrepareFinalTest\\test_Image1\\test\\0806349e.jpg: 640x640 1 1.00, 0 0.00, 7.0ms\n",
      "Speed: 6.6ms preprocess, 7.0ms inference, 0.0ms postprocess per image at shape (1, 3, 640, 640)\n"
     ]
    },
    {
     "name": "stderr",
     "output_type": "stream",
     "text": [
      "  3%|▎         | 53/1550 [00:01<00:36, 41.20it/s]"
     ]
    },
    {
     "name": "stdout",
     "output_type": "stream",
     "text": [
      "\n",
      "image 1/1 C:\\Users\\User\\Desktop\\1Year\\Term2\\SuperEngi\\1PrepareFinalTest\\test_Image1\\test\\0812bf3e.jpg: 640x640 1 1.00, 0 0.00, 6.7ms\n",
      "Speed: 6.7ms preprocess, 6.7ms inference, 0.1ms postprocess per image at shape (1, 3, 640, 640)\n",
      "\n",
      "image 1/1 C:\\Users\\User\\Desktop\\1Year\\Term2\\SuperEngi\\1PrepareFinalTest\\test_Image1\\test\\0869c82c.jpg: 640x640 1 1.00, 0 0.00, 7.2ms\n",
      "Speed: 7.2ms preprocess, 7.2ms inference, 0.1ms postprocess per image at shape (1, 3, 640, 640)\n",
      "\n",
      "image 1/1 C:\\Users\\User\\Desktop\\1Year\\Term2\\SuperEngi\\1PrepareFinalTest\\test_Image1\\test\\087b0641.jpg: 640x640 1 1.00, 0 0.00, 6.9ms\n",
      "Speed: 7.1ms preprocess, 6.9ms inference, 0.1ms postprocess per image at shape (1, 3, 640, 640)\n",
      "\n",
      "image 1/1 C:\\Users\\User\\Desktop\\1Year\\Term2\\SuperEngi\\1PrepareFinalTest\\test_Image1\\test\\087c9dbe.jpg: 640x640 0 0.99, 1 0.01, 7.4ms\n",
      "Speed: 7.3ms preprocess, 7.4ms inference, 0.1ms postprocess per image at shape (1, 3, 640, 640)\n",
      "\n",
      "image 1/1 C:\\Users\\User\\Desktop\\1Year\\Term2\\SuperEngi\\1PrepareFinalTest\\test_Image1\\test\\087f7050.jpg: 640x640 1 1.00, 0 0.00, 7.0ms\n",
      "Speed: 6.6ms preprocess, 7.0ms inference, 0.1ms postprocess per image at shape (1, 3, 640, 640)\n"
     ]
    },
    {
     "name": "stderr",
     "output_type": "stream",
     "text": [
      "  4%|▎         | 58/1550 [00:01<00:35, 42.37it/s]"
     ]
    },
    {
     "name": "stdout",
     "output_type": "stream",
     "text": [
      "\n",
      "image 1/1 C:\\Users\\User\\Desktop\\1Year\\Term2\\SuperEngi\\1PrepareFinalTest\\test_Image1\\test\\088aa66b.jpg: 640x640 1 1.00, 0 0.00, 7.0ms\n",
      "Speed: 7.1ms preprocess, 7.0ms inference, 0.1ms postprocess per image at shape (1, 3, 640, 640)\n",
      "\n",
      "image 1/1 C:\\Users\\User\\Desktop\\1Year\\Term2\\SuperEngi\\1PrepareFinalTest\\test_Image1\\test\\08d1e417.jpg: 640x640 1 1.00, 0 0.00, 7.0ms\n",
      "Speed: 7.1ms preprocess, 7.0ms inference, 0.0ms postprocess per image at shape (1, 3, 640, 640)\n",
      "\n",
      "image 1/1 C:\\Users\\User\\Desktop\\1Year\\Term2\\SuperEngi\\1PrepareFinalTest\\test_Image1\\test\\08f0d385.jpg: 640x640 1 1.00, 0 0.00, 8.9ms\n",
      "Speed: 10.3ms preprocess, 8.9ms inference, 0.1ms postprocess per image at shape (1, 3, 640, 640)\n",
      "\n",
      "image 1/1 C:\\Users\\User\\Desktop\\1Year\\Term2\\SuperEngi\\1PrepareFinalTest\\test_Image1\\test\\08f5101e.jpg: 640x640 1 1.00, 0 0.00, 7.4ms\n",
      "Speed: 9.8ms preprocess, 7.4ms inference, 0.1ms postprocess per image at shape (1, 3, 640, 640)\n",
      "\n",
      "image 1/1 C:\\Users\\User\\Desktop\\1Year\\Term2\\SuperEngi\\1PrepareFinalTest\\test_Image1\\test\\09056569.jpg: 640x640 1 1.00, 0 0.00, 9.1ms\n",
      "Speed: 7.7ms preprocess, 9.1ms inference, 0.1ms postprocess per image at shape (1, 3, 640, 640)\n"
     ]
    },
    {
     "name": "stderr",
     "output_type": "stream",
     "text": [
      "  4%|▍         | 63/1550 [00:01<00:35, 41.36it/s]"
     ]
    },
    {
     "name": "stdout",
     "output_type": "stream",
     "text": [
      "\n",
      "image 1/1 C:\\Users\\User\\Desktop\\1Year\\Term2\\SuperEngi\\1PrepareFinalTest\\test_Image1\\test\\09127206.jpg: 640x640 1 1.00, 0 0.00, 7.0ms\n",
      "Speed: 7.7ms preprocess, 7.0ms inference, 0.1ms postprocess per image at shape (1, 3, 640, 640)\n",
      "\n",
      "image 1/1 C:\\Users\\User\\Desktop\\1Year\\Term2\\SuperEngi\\1PrepareFinalTest\\test_Image1\\test\\09da5ba2.jpg: 640x640 0 1.00, 1 0.00, 7.1ms\n",
      "Speed: 8.8ms preprocess, 7.1ms inference, 0.1ms postprocess per image at shape (1, 3, 640, 640)\n",
      "\n",
      "image 1/1 C:\\Users\\User\\Desktop\\1Year\\Term2\\SuperEngi\\1PrepareFinalTest\\test_Image1\\test\\0a2aa274.jpg: 640x640 0 1.00, 1 0.00, 6.9ms\n",
      "Speed: 7.3ms preprocess, 6.9ms inference, 0.0ms postprocess per image at shape (1, 3, 640, 640)\n",
      "\n",
      "image 1/1 C:\\Users\\User\\Desktop\\1Year\\Term2\\SuperEngi\\1PrepareFinalTest\\test_Image1\\test\\0a39e715.jpg: 640x640 0 1.00, 1 0.00, 7.0ms\n",
      "Speed: 8.1ms preprocess, 7.0ms inference, 0.0ms postprocess per image at shape (1, 3, 640, 640)\n",
      "\n",
      "image 1/1 C:\\Users\\User\\Desktop\\1Year\\Term2\\SuperEngi\\1PrepareFinalTest\\test_Image1\\test\\0a5dcd96.jpg: 640x640 0 1.00, 1 0.00, 7.1ms\n",
      "Speed: 7.1ms preprocess, 7.1ms inference, 0.1ms postprocess per image at shape (1, 3, 640, 640)\n"
     ]
    },
    {
     "name": "stderr",
     "output_type": "stream",
     "text": [
      "  4%|▍         | 68/1550 [00:01<00:35, 41.59it/s]"
     ]
    },
    {
     "name": "stdout",
     "output_type": "stream",
     "text": [
      "\n",
      "image 1/1 C:\\Users\\User\\Desktop\\1Year\\Term2\\SuperEngi\\1PrepareFinalTest\\test_Image1\\test\\0acafaac.jpg: 640x640 1 1.00, 0 0.00, 7.0ms\n",
      "Speed: 7.4ms preprocess, 7.0ms inference, 0.0ms postprocess per image at shape (1, 3, 640, 640)\n",
      "\n",
      "image 1/1 C:\\Users\\User\\Desktop\\1Year\\Term2\\SuperEngi\\1PrepareFinalTest\\test_Image1\\test\\0acd26d6.jpg: 640x640 0 1.00, 1 0.00, 7.4ms\n",
      "Speed: 7.5ms preprocess, 7.4ms inference, 0.1ms postprocess per image at shape (1, 3, 640, 640)\n",
      "\n",
      "image 1/1 C:\\Users\\User\\Desktop\\1Year\\Term2\\SuperEngi\\1PrepareFinalTest\\test_Image1\\test\\0af23162.jpg: 640x640 0 0.95, 1 0.05, 7.0ms\n",
      "Speed: 6.9ms preprocess, 7.0ms inference, 0.0ms postprocess per image at shape (1, 3, 640, 640)\n",
      "\n",
      "image 1/1 C:\\Users\\User\\Desktop\\1Year\\Term2\\SuperEngi\\1PrepareFinalTest\\test_Image1\\test\\0b5cd147.jpg: 640x640 0 1.00, 1 0.00, 7.5ms\n",
      "Speed: 7.3ms preprocess, 7.5ms inference, 0.1ms postprocess per image at shape (1, 3, 640, 640)\n",
      "\n",
      "image 1/1 C:\\Users\\User\\Desktop\\1Year\\Term2\\SuperEngi\\1PrepareFinalTest\\test_Image1\\test\\0b6054f3.jpg: 640x640 0 1.00, 1 0.00, 9.9ms\n",
      "Speed: 7.4ms preprocess, 9.9ms inference, 0.0ms postprocess per image at shape (1, 3, 640, 640)\n"
     ]
    },
    {
     "name": "stderr",
     "output_type": "stream",
     "text": [
      "  5%|▍         | 73/1550 [00:01<00:35, 41.81it/s]"
     ]
    },
    {
     "name": "stdout",
     "output_type": "stream",
     "text": [
      "\n",
      "image 1/1 C:\\Users\\User\\Desktop\\1Year\\Term2\\SuperEngi\\1PrepareFinalTest\\test_Image1\\test\\0b668b90.jpg: 640x640 0 1.00, 1 0.00, 6.9ms\n",
      "Speed: 6.8ms preprocess, 6.9ms inference, 0.1ms postprocess per image at shape (1, 3, 640, 640)\n",
      "\n",
      "image 1/1 C:\\Users\\User\\Desktop\\1Year\\Term2\\SuperEngi\\1PrepareFinalTest\\test_Image1\\test\\0b774419.jpg: 640x640 1 1.00, 0 0.00, 7.2ms\n",
      "Speed: 8.2ms preprocess, 7.2ms inference, 0.1ms postprocess per image at shape (1, 3, 640, 640)\n",
      "\n",
      "image 1/1 C:\\Users\\User\\Desktop\\1Year\\Term2\\SuperEngi\\1PrepareFinalTest\\test_Image1\\test\\0b8885ec.jpg: 640x640 0 1.00, 1 0.00, 13.5ms\n",
      "Speed: 7.4ms preprocess, 13.5ms inference, 0.1ms postprocess per image at shape (1, 3, 640, 640)\n",
      "\n",
      "image 1/1 C:\\Users\\User\\Desktop\\1Year\\Term2\\SuperEngi\\1PrepareFinalTest\\test_Image1\\test\\0bfb2868.jpg: 640x640 1 0.63, 0 0.37, 8.9ms\n",
      "Speed: 9.4ms preprocess, 8.9ms inference, 0.0ms postprocess per image at shape (1, 3, 640, 640)\n",
      "\n",
      "image 1/1 C:\\Users\\User\\Desktop\\1Year\\Term2\\SuperEngi\\1PrepareFinalTest\\test_Image1\\test\\0c348912.jpg: 640x640 1 1.00, 0 0.00, 7.0ms\n",
      "Speed: 7.5ms preprocess, 7.0ms inference, 0.0ms postprocess per image at shape (1, 3, 640, 640)\n"
     ]
    },
    {
     "name": "stderr",
     "output_type": "stream",
     "text": [
      "  5%|▌         | 78/1550 [00:02<00:36, 40.56it/s]"
     ]
    },
    {
     "name": "stdout",
     "output_type": "stream",
     "text": [
      "\n",
      "image 1/1 C:\\Users\\User\\Desktop\\1Year\\Term2\\SuperEngi\\1PrepareFinalTest\\test_Image1\\test\\0cc48828.jpg: 640x640 1 1.00, 0 0.00, 6.9ms\n",
      "Speed: 8.1ms preprocess, 6.9ms inference, 0.0ms postprocess per image at shape (1, 3, 640, 640)\n",
      "\n",
      "image 1/1 C:\\Users\\User\\Desktop\\1Year\\Term2\\SuperEngi\\1PrepareFinalTest\\test_Image1\\test\\0cfea799.jpg: 640x640 1 1.00, 0 0.00, 8.3ms\n",
      "Speed: 7.5ms preprocess, 8.3ms inference, 0.0ms postprocess per image at shape (1, 3, 640, 640)\n",
      "\n",
      "image 1/1 C:\\Users\\User\\Desktop\\1Year\\Term2\\SuperEngi\\1PrepareFinalTest\\test_Image1\\test\\0d0556a3.jpg: 640x640 0 1.00, 1 0.00, 7.6ms\n",
      "Speed: 8.6ms preprocess, 7.6ms inference, 0.0ms postprocess per image at shape (1, 3, 640, 640)\n",
      "\n",
      "image 1/1 C:\\Users\\User\\Desktop\\1Year\\Term2\\SuperEngi\\1PrepareFinalTest\\test_Image1\\test\\0d553e27.jpg: 640x640 1 1.00, 0 0.00, 7.0ms\n",
      "Speed: 8.1ms preprocess, 7.0ms inference, 0.1ms postprocess per image at shape (1, 3, 640, 640)\n",
      "\n",
      "image 1/1 C:\\Users\\User\\Desktop\\1Year\\Term2\\SuperEngi\\1PrepareFinalTest\\test_Image1\\test\\0d5c3991.jpg: 640x640 1 1.00, 0 0.00, 8.0ms\n",
      "Speed: 7.7ms preprocess, 8.0ms inference, 0.0ms postprocess per image at shape (1, 3, 640, 640)\n"
     ]
    },
    {
     "name": "stderr",
     "output_type": "stream",
     "text": [
      "  5%|▌         | 83/1550 [00:02<00:36, 40.43it/s]"
     ]
    },
    {
     "name": "stdout",
     "output_type": "stream",
     "text": [
      "\n",
      "image 1/1 C:\\Users\\User\\Desktop\\1Year\\Term2\\SuperEngi\\1PrepareFinalTest\\test_Image1\\test\\0dacca55.jpg: 640x640 1 0.52, 0 0.48, 7.2ms\n",
      "Speed: 7.9ms preprocess, 7.2ms inference, 0.1ms postprocess per image at shape (1, 3, 640, 640)\n",
      "\n",
      "image 1/1 C:\\Users\\User\\Desktop\\1Year\\Term2\\SuperEngi\\1PrepareFinalTest\\test_Image1\\test\\0dda4abc.jpg: 640x640 0 0.85, 1 0.15, 7.4ms\n",
      "Speed: 7.2ms preprocess, 7.4ms inference, 0.1ms postprocess per image at shape (1, 3, 640, 640)\n",
      "\n",
      "image 1/1 C:\\Users\\User\\Desktop\\1Year\\Term2\\SuperEngi\\1PrepareFinalTest\\test_Image1\\test\\0df07a47.jpg: 640x640 0 1.00, 1 0.00, 7.3ms\n",
      "Speed: 7.6ms preprocess, 7.3ms inference, 0.1ms postprocess per image at shape (1, 3, 640, 640)\n",
      "\n",
      "image 1/1 C:\\Users\\User\\Desktop\\1Year\\Term2\\SuperEngi\\1PrepareFinalTest\\test_Image1\\test\\0dfca80c.jpg: 640x640 1 1.00, 0 0.00, 7.1ms\n",
      "Speed: 7.1ms preprocess, 7.1ms inference, 0.0ms postprocess per image at shape (1, 3, 640, 640)\n",
      "\n",
      "image 1/1 C:\\Users\\User\\Desktop\\1Year\\Term2\\SuperEngi\\1PrepareFinalTest\\test_Image1\\test\\0e250170.jpg: 640x640 0 1.00, 1 0.00, 8.8ms\n",
      "Speed: 7.2ms preprocess, 8.8ms inference, 0.0ms postprocess per image at shape (1, 3, 640, 640)\n"
     ]
    },
    {
     "name": "stderr",
     "output_type": "stream",
     "text": [
      "  6%|▌         | 88/1550 [00:02<00:35, 41.10it/s]"
     ]
    },
    {
     "name": "stdout",
     "output_type": "stream",
     "text": [
      "\n",
      "image 1/1 C:\\Users\\User\\Desktop\\1Year\\Term2\\SuperEngi\\1PrepareFinalTest\\test_Image1\\test\\0e4f73ba.jpg: 640x640 1 1.00, 0 0.00, 7.1ms\n",
      "Speed: 6.6ms preprocess, 7.1ms inference, 0.1ms postprocess per image at shape (1, 3, 640, 640)\n",
      "\n",
      "image 1/1 C:\\Users\\User\\Desktop\\1Year\\Term2\\SuperEngi\\1PrepareFinalTest\\test_Image1\\test\\0e6bd6ea.jpg: 640x640 0 1.00, 1 0.00, 7.0ms\n",
      "Speed: 7.0ms preprocess, 7.0ms inference, 0.0ms postprocess per image at shape (1, 3, 640, 640)\n",
      "\n",
      "image 1/1 C:\\Users\\User\\Desktop\\1Year\\Term2\\SuperEngi\\1PrepareFinalTest\\test_Image1\\test\\0e6dd13f.jpg: 640x640 1 1.00, 0 0.00, 7.3ms\n",
      "Speed: 7.0ms preprocess, 7.3ms inference, 0.1ms postprocess per image at shape (1, 3, 640, 640)\n",
      "\n",
      "image 1/1 C:\\Users\\User\\Desktop\\1Year\\Term2\\SuperEngi\\1PrepareFinalTest\\test_Image1\\test\\0e6e24de.jpg: 640x640 1 1.00, 0 0.00, 7.3ms\n",
      "Speed: 8.7ms preprocess, 7.3ms inference, 0.1ms postprocess per image at shape (1, 3, 640, 640)\n",
      "\n",
      "image 1/1 C:\\Users\\User\\Desktop\\1Year\\Term2\\SuperEngi\\1PrepareFinalTest\\test_Image1\\test\\0e7672cd.jpg: 640x640 0 0.74, 1 0.26, 7.1ms\n",
      "Speed: 8.1ms preprocess, 7.1ms inference, 0.1ms postprocess per image at shape (1, 3, 640, 640)\n"
     ]
    },
    {
     "name": "stderr",
     "output_type": "stream",
     "text": [
      "  6%|▌         | 93/1550 [00:02<00:35, 41.38it/s]"
     ]
    },
    {
     "name": "stdout",
     "output_type": "stream",
     "text": [
      "\n",
      "image 1/1 C:\\Users\\User\\Desktop\\1Year\\Term2\\SuperEngi\\1PrepareFinalTest\\test_Image1\\test\\0e7bf631.jpg: 640x640 0 1.00, 1 0.00, 6.9ms\n",
      "Speed: 7.0ms preprocess, 6.9ms inference, 0.1ms postprocess per image at shape (1, 3, 640, 640)\n",
      "\n",
      "image 1/1 C:\\Users\\User\\Desktop\\1Year\\Term2\\SuperEngi\\1PrepareFinalTest\\test_Image1\\test\\0f0add8b.jpg: 640x640 0 1.00, 1 0.00, 7.0ms\n",
      "Speed: 8.4ms preprocess, 7.0ms inference, 0.0ms postprocess per image at shape (1, 3, 640, 640)\n",
      "\n",
      "image 1/1 C:\\Users\\User\\Desktop\\1Year\\Term2\\SuperEngi\\1PrepareFinalTest\\test_Image1\\test\\0f12067f.jpg: 640x640 1 1.00, 0 0.00, 7.4ms\n",
      "Speed: 9.7ms preprocess, 7.4ms inference, 0.1ms postprocess per image at shape (1, 3, 640, 640)\n",
      "\n",
      "image 1/1 C:\\Users\\User\\Desktop\\1Year\\Term2\\SuperEngi\\1PrepareFinalTest\\test_Image1\\test\\0f198b7d.jpg: 640x640 0 1.00, 1 0.00, 9.1ms\n",
      "Speed: 8.5ms preprocess, 9.1ms inference, 0.0ms postprocess per image at shape (1, 3, 640, 640)\n",
      "\n",
      "image 1/1 C:\\Users\\User\\Desktop\\1Year\\Term2\\SuperEngi\\1PrepareFinalTest\\test_Image1\\test\\0f3a12bb.jpg: 640x640 1 1.00, 0 0.00, 7.3ms\n",
      "Speed: 7.4ms preprocess, 7.3ms inference, 0.0ms postprocess per image at shape (1, 3, 640, 640)\n"
     ]
    },
    {
     "name": "stderr",
     "output_type": "stream",
     "text": [
      "  6%|▋         | 98/1550 [00:02<00:35, 40.69it/s]"
     ]
    },
    {
     "name": "stdout",
     "output_type": "stream",
     "text": [
      "\n",
      "image 1/1 C:\\Users\\User\\Desktop\\1Year\\Term2\\SuperEngi\\1PrepareFinalTest\\test_Image1\\test\\0f5a49f4.jpg: 640x640 1 1.00, 0 0.00, 7.1ms\n",
      "Speed: 7.6ms preprocess, 7.1ms inference, 0.1ms postprocess per image at shape (1, 3, 640, 640)\n",
      "\n",
      "image 1/1 C:\\Users\\User\\Desktop\\1Year\\Term2\\SuperEngi\\1PrepareFinalTest\\test_Image1\\test\\0f5b72ab.jpg: 640x640 1 1.00, 0 0.00, 7.3ms\n",
      "Speed: 7.6ms preprocess, 7.3ms inference, 0.0ms postprocess per image at shape (1, 3, 640, 640)\n",
      "\n",
      "image 1/1 C:\\Users\\User\\Desktop\\1Year\\Term2\\SuperEngi\\1PrepareFinalTest\\test_Image1\\test\\0f87ff9d.jpg: 640x640 1 1.00, 0 0.00, 6.9ms\n",
      "Speed: 7.3ms preprocess, 6.9ms inference, 0.1ms postprocess per image at shape (1, 3, 640, 640)\n",
      "\n",
      "image 1/1 C:\\Users\\User\\Desktop\\1Year\\Term2\\SuperEngi\\1PrepareFinalTest\\test_Image1\\test\\0f9d5961.jpg: 640x640 0 1.00, 1 0.00, 6.8ms\n",
      "Speed: 7.4ms preprocess, 6.8ms inference, 0.0ms postprocess per image at shape (1, 3, 640, 640)\n",
      "\n",
      "image 1/1 C:\\Users\\User\\Desktop\\1Year\\Term2\\SuperEngi\\1PrepareFinalTest\\test_Image1\\test\\0fb8776e.jpg: 640x640 0 1.00, 1 0.00, 6.9ms\n",
      "Speed: 7.1ms preprocess, 6.9ms inference, 0.1ms postprocess per image at shape (1, 3, 640, 640)\n"
     ]
    },
    {
     "name": "stderr",
     "output_type": "stream",
     "text": [
      "  7%|▋         | 103/1550 [00:02<00:34, 41.59it/s]"
     ]
    },
    {
     "name": "stdout",
     "output_type": "stream",
     "text": [
      "\n",
      "image 1/1 C:\\Users\\User\\Desktop\\1Year\\Term2\\SuperEngi\\1PrepareFinalTest\\test_Image1\\test\\0fe6eea4.jpg: 640x640 0 1.00, 1 0.00, 8.3ms\n",
      "Speed: 6.7ms preprocess, 8.3ms inference, 0.1ms postprocess per image at shape (1, 3, 640, 640)\n",
      "\n",
      "image 1/1 C:\\Users\\User\\Desktop\\1Year\\Term2\\SuperEngi\\1PrepareFinalTest\\test_Image1\\test\\0ff1d50f.jpg: 640x640 1 1.00, 0 0.00, 10.9ms\n",
      "Speed: 8.6ms preprocess, 10.9ms inference, 0.1ms postprocess per image at shape (1, 3, 640, 640)\n",
      "\n",
      "image 1/1 C:\\Users\\User\\Desktop\\1Year\\Term2\\SuperEngi\\1PrepareFinalTest\\test_Image1\\test\\10162b36.jpg: 640x640 0 1.00, 1 0.00, 9.4ms\n",
      "Speed: 7.9ms preprocess, 9.4ms inference, 0.1ms postprocess per image at shape (1, 3, 640, 640)\n",
      "\n",
      "image 1/1 C:\\Users\\User\\Desktop\\1Year\\Term2\\SuperEngi\\1PrepareFinalTest\\test_Image1\\test\\10b8ec65.jpg: 640x640 1 1.00, 0 0.00, 9.0ms\n",
      "Speed: 8.4ms preprocess, 9.0ms inference, 0.1ms postprocess per image at shape (1, 3, 640, 640)\n",
      "\n",
      "image 1/1 C:\\Users\\User\\Desktop\\1Year\\Term2\\SuperEngi\\1PrepareFinalTest\\test_Image1\\test\\10ccda7a.jpg: 640x640 1 1.00, 0 0.00, 9.2ms\n",
      "Speed: 8.0ms preprocess, 9.2ms inference, 0.1ms postprocess per image at shape (1, 3, 640, 640)\n"
     ]
    },
    {
     "name": "stderr",
     "output_type": "stream",
     "text": [
      "  7%|▋         | 108/1550 [00:02<00:35, 40.59it/s]"
     ]
    },
    {
     "name": "stdout",
     "output_type": "stream",
     "text": [
      "\n",
      "image 1/1 C:\\Users\\User\\Desktop\\1Year\\Term2\\SuperEngi\\1PrepareFinalTest\\test_Image1\\test\\10eb0b77.jpg: 640x640 0 1.00, 1 0.00, 9.4ms\n",
      "Speed: 7.9ms preprocess, 9.4ms inference, 0.1ms postprocess per image at shape (1, 3, 640, 640)\n",
      "\n",
      "image 1/1 C:\\Users\\User\\Desktop\\1Year\\Term2\\SuperEngi\\1PrepareFinalTest\\test_Image1\\test\\1149eb32.jpg: 640x640 0 0.99, 1 0.01, 9.3ms\n",
      "Speed: 11.9ms preprocess, 9.3ms inference, 0.1ms postprocess per image at shape (1, 3, 640, 640)\n",
      "\n",
      "image 1/1 C:\\Users\\User\\Desktop\\1Year\\Term2\\SuperEngi\\1PrepareFinalTest\\test_Image1\\test\\116009f6.jpg: 640x640 0 0.98, 1 0.02, 9.3ms\n",
      "Speed: 8.2ms preprocess, 9.3ms inference, 0.1ms postprocess per image at shape (1, 3, 640, 640)\n",
      "\n",
      "image 1/1 C:\\Users\\User\\Desktop\\1Year\\Term2\\SuperEngi\\1PrepareFinalTest\\test_Image1\\test\\116c3b7e.jpg: 640x640 0 1.00, 1 0.00, 9.9ms\n",
      "Speed: 7.3ms preprocess, 9.9ms inference, 0.1ms postprocess per image at shape (1, 3, 640, 640)\n",
      "\n",
      "image 1/1 C:\\Users\\User\\Desktop\\1Year\\Term2\\SuperEngi\\1PrepareFinalTest\\test_Image1\\test\\11d6e00c.jpg: 640x640 0 1.00, 1 0.00, 6.4ms\n",
      "Speed: 7.1ms preprocess, 6.4ms inference, 0.0ms postprocess per image at shape (1, 3, 640, 640)\n"
     ]
    },
    {
     "name": "stderr",
     "output_type": "stream",
     "text": [
      "  7%|▋         | 113/1550 [00:02<00:35, 40.31it/s]"
     ]
    },
    {
     "name": "stdout",
     "output_type": "stream",
     "text": [
      "\n",
      "image 1/1 C:\\Users\\User\\Desktop\\1Year\\Term2\\SuperEngi\\1PrepareFinalTest\\test_Image1\\test\\11f04229.jpg: 640x640 0 1.00, 1 0.00, 8.3ms\n",
      "Speed: 6.1ms preprocess, 8.3ms inference, 0.0ms postprocess per image at shape (1, 3, 640, 640)\n",
      "\n",
      "image 1/1 C:\\Users\\User\\Desktop\\1Year\\Term2\\SuperEngi\\1PrepareFinalTest\\test_Image1\\test\\11f20127.jpg: 640x640 0 1.00, 1 0.00, 7.0ms\n",
      "Speed: 8.4ms preprocess, 7.0ms inference, 0.1ms postprocess per image at shape (1, 3, 640, 640)\n",
      "\n",
      "image 1/1 C:\\Users\\User\\Desktop\\1Year\\Term2\\SuperEngi\\1PrepareFinalTest\\test_Image1\\test\\11f2b423.jpg: 640x640 0 1.00, 1 0.00, 7.0ms\n",
      "Speed: 7.0ms preprocess, 7.0ms inference, 0.0ms postprocess per image at shape (1, 3, 640, 640)\n",
      "\n",
      "image 1/1 C:\\Users\\User\\Desktop\\1Year\\Term2\\SuperEngi\\1PrepareFinalTest\\test_Image1\\test\\120a479e.jpg: 640x640 1 1.00, 0 0.00, 7.0ms\n",
      "Speed: 7.5ms preprocess, 7.0ms inference, 0.0ms postprocess per image at shape (1, 3, 640, 640)\n",
      "\n",
      "image 1/1 C:\\Users\\User\\Desktop\\1Year\\Term2\\SuperEngi\\1PrepareFinalTest\\test_Image1\\test\\120e9ae8.jpg: 640x640 1 1.00, 0 0.00, 6.9ms\n",
      "Speed: 7.7ms preprocess, 6.9ms inference, 0.1ms postprocess per image at shape (1, 3, 640, 640)\n"
     ]
    },
    {
     "name": "stderr",
     "output_type": "stream",
     "text": [
      "  8%|▊         | 118/1550 [00:03<00:34, 41.41it/s]"
     ]
    },
    {
     "name": "stdout",
     "output_type": "stream",
     "text": [
      "\n",
      "image 1/1 C:\\Users\\User\\Desktop\\1Year\\Term2\\SuperEngi\\1PrepareFinalTest\\test_Image1\\test\\12109efd.jpg: 640x640 1 1.00, 0 0.00, 6.7ms\n",
      "Speed: 7.8ms preprocess, 6.7ms inference, 0.1ms postprocess per image at shape (1, 3, 640, 640)\n",
      "\n",
      "image 1/1 C:\\Users\\User\\Desktop\\1Year\\Term2\\SuperEngi\\1PrepareFinalTest\\test_Image1\\test\\121be169.jpg: 640x640 0 1.00, 1 0.00, 8.2ms\n",
      "Speed: 10.0ms preprocess, 8.2ms inference, 0.0ms postprocess per image at shape (1, 3, 640, 640)\n",
      "\n",
      "image 1/1 C:\\Users\\User\\Desktop\\1Year\\Term2\\SuperEngi\\1PrepareFinalTest\\test_Image1\\test\\1274e0ad.jpg: 640x640 0 0.59, 1 0.41, 9.2ms\n",
      "Speed: 8.4ms preprocess, 9.2ms inference, 0.1ms postprocess per image at shape (1, 3, 640, 640)\n",
      "\n",
      "image 1/1 C:\\Users\\User\\Desktop\\1Year\\Term2\\SuperEngi\\1PrepareFinalTest\\test_Image1\\test\\1277cfcf.jpg: 640x640 1 0.87, 0 0.13, 7.0ms\n",
      "Speed: 9.6ms preprocess, 7.0ms inference, 0.0ms postprocess per image at shape (1, 3, 640, 640)\n",
      "\n",
      "image 1/1 C:\\Users\\User\\Desktop\\1Year\\Term2\\SuperEngi\\1PrepareFinalTest\\test_Image1\\test\\127f14ae.jpg: 640x640 0 1.00, 1 0.00, 7.0ms\n",
      "Speed: 7.1ms preprocess, 7.0ms inference, 0.0ms postprocess per image at shape (1, 3, 640, 640)\n"
     ]
    },
    {
     "name": "stderr",
     "output_type": "stream",
     "text": [
      "  8%|▊         | 123/1550 [00:03<00:35, 40.13it/s]"
     ]
    },
    {
     "name": "stdout",
     "output_type": "stream",
     "text": [
      "\n",
      "image 1/1 C:\\Users\\User\\Desktop\\1Year\\Term2\\SuperEngi\\1PrepareFinalTest\\test_Image1\\test\\12878c98.jpg: 640x640 0 1.00, 1 0.00, 6.7ms\n",
      "Speed: 7.0ms preprocess, 6.7ms inference, 0.0ms postprocess per image at shape (1, 3, 640, 640)\n",
      "\n",
      "image 1/1 C:\\Users\\User\\Desktop\\1Year\\Term2\\SuperEngi\\1PrepareFinalTest\\test_Image1\\test\\128f0b37.jpg: 640x640 0 1.00, 1 0.00, 7.0ms\n",
      "Speed: 6.7ms preprocess, 7.0ms inference, 0.1ms postprocess per image at shape (1, 3, 640, 640)\n",
      "\n",
      "image 1/1 C:\\Users\\User\\Desktop\\1Year\\Term2\\SuperEngi\\1PrepareFinalTest\\test_Image1\\test\\12c17ddf.jpg: 640x640 0 0.89, 1 0.11, 6.8ms\n",
      "Speed: 8.1ms preprocess, 6.8ms inference, 0.1ms postprocess per image at shape (1, 3, 640, 640)\n",
      "\n",
      "image 1/1 C:\\Users\\User\\Desktop\\1Year\\Term2\\SuperEngi\\1PrepareFinalTest\\test_Image1\\test\\12c1b9a2.jpg: 640x640 1 1.00, 0 0.00, 7.5ms\n",
      "Speed: 6.9ms preprocess, 7.5ms inference, 0.1ms postprocess per image at shape (1, 3, 640, 640)\n",
      "\n",
      "image 1/1 C:\\Users\\User\\Desktop\\1Year\\Term2\\SuperEngi\\1PrepareFinalTest\\test_Image1\\test\\12dbebf8.jpg: 640x640 0 1.00, 1 0.00, 7.9ms\n",
      "Speed: 7.0ms preprocess, 7.9ms inference, 0.0ms postprocess per image at shape (1, 3, 640, 640)\n"
     ]
    },
    {
     "name": "stderr",
     "output_type": "stream",
     "text": [
      "  8%|▊         | 128/1550 [00:03<00:34, 41.16it/s]"
     ]
    },
    {
     "name": "stdout",
     "output_type": "stream",
     "text": [
      "\n",
      "image 1/1 C:\\Users\\User\\Desktop\\1Year\\Term2\\SuperEngi\\1PrepareFinalTest\\test_Image1\\test\\12eb4d3f.jpg: 640x640 0 1.00, 1 0.00, 6.9ms\n",
      "Speed: 6.9ms preprocess, 6.9ms inference, 0.0ms postprocess per image at shape (1, 3, 640, 640)\n",
      "\n",
      "image 1/1 C:\\Users\\User\\Desktop\\1Year\\Term2\\SuperEngi\\1PrepareFinalTest\\test_Image1\\test\\12fa2b23.jpg: 640x640 0 1.00, 1 0.00, 6.7ms\n",
      "Speed: 7.1ms preprocess, 6.7ms inference, 0.0ms postprocess per image at shape (1, 3, 640, 640)\n",
      "\n",
      "image 1/1 C:\\Users\\User\\Desktop\\1Year\\Term2\\SuperEngi\\1PrepareFinalTest\\test_Image1\\test\\12fca91e.jpg: 640x640 0 1.00, 1 0.00, 6.9ms\n",
      "Speed: 7.5ms preprocess, 6.9ms inference, 0.0ms postprocess per image at shape (1, 3, 640, 640)\n",
      "\n",
      "image 1/1 C:\\Users\\User\\Desktop\\1Year\\Term2\\SuperEngi\\1PrepareFinalTest\\test_Image1\\test\\1310e8df.jpg: 640x640 0 0.99, 1 0.01, 6.7ms\n",
      "Speed: 7.1ms preprocess, 6.7ms inference, 0.1ms postprocess per image at shape (1, 3, 640, 640)\n",
      "\n",
      "image 1/1 C:\\Users\\User\\Desktop\\1Year\\Term2\\SuperEngi\\1PrepareFinalTest\\test_Image1\\test\\14197516.jpg: 640x640 1 1.00, 0 0.00, 6.6ms\n",
      "Speed: 7.0ms preprocess, 6.6ms inference, 0.0ms postprocess per image at shape (1, 3, 640, 640)\n"
     ]
    },
    {
     "name": "stderr",
     "output_type": "stream",
     "text": [
      "  9%|▊         | 133/1550 [00:03<00:33, 42.33it/s]"
     ]
    },
    {
     "name": "stdout",
     "output_type": "stream",
     "text": [
      "\n",
      "image 1/1 C:\\Users\\User\\Desktop\\1Year\\Term2\\SuperEngi\\1PrepareFinalTest\\test_Image1\\test\\143de759.jpg: 640x640 1 1.00, 0 0.00, 6.6ms\n",
      "Speed: 6.7ms preprocess, 6.6ms inference, 0.1ms postprocess per image at shape (1, 3, 640, 640)\n",
      "\n",
      "image 1/1 C:\\Users\\User\\Desktop\\1Year\\Term2\\SuperEngi\\1PrepareFinalTest\\test_Image1\\test\\14582209.jpg: 640x640 0 0.95, 1 0.05, 6.4ms\n",
      "Speed: 7.2ms preprocess, 6.4ms inference, 0.1ms postprocess per image at shape (1, 3, 640, 640)\n",
      "\n",
      "image 1/1 C:\\Users\\User\\Desktop\\1Year\\Term2\\SuperEngi\\1PrepareFinalTest\\test_Image1\\test\\14797aa9.jpg: 640x640 0 1.00, 1 0.00, 7.0ms\n",
      "Speed: 7.6ms preprocess, 7.0ms inference, 0.1ms postprocess per image at shape (1, 3, 640, 640)\n",
      "\n",
      "image 1/1 C:\\Users\\User\\Desktop\\1Year\\Term2\\SuperEngi\\1PrepareFinalTest\\test_Image1\\test\\1481178a.jpg: 640x640 1 1.00, 0 0.00, 7.0ms\n",
      "Speed: 10.9ms preprocess, 7.0ms inference, 0.1ms postprocess per image at shape (1, 3, 640, 640)\n",
      "\n",
      "image 1/1 C:\\Users\\User\\Desktop\\1Year\\Term2\\SuperEngi\\1PrepareFinalTest\\test_Image1\\test\\156459cf.jpg: 640x640 0 1.00, 1 0.00, 7.1ms\n",
      "Speed: 8.4ms preprocess, 7.1ms inference, 0.0ms postprocess per image at shape (1, 3, 640, 640)\n"
     ]
    },
    {
     "name": "stderr",
     "output_type": "stream",
     "text": [
      "  9%|▉         | 138/1550 [00:03<00:34, 41.47it/s]"
     ]
    },
    {
     "name": "stdout",
     "output_type": "stream",
     "text": [
      "\n",
      "image 1/1 C:\\Users\\User\\Desktop\\1Year\\Term2\\SuperEngi\\1PrepareFinalTest\\test_Image1\\test\\15a9fce9.jpg: 640x640 0 0.67, 1 0.33, 7.1ms\n",
      "Speed: 7.7ms preprocess, 7.1ms inference, 0.1ms postprocess per image at shape (1, 3, 640, 640)\n",
      "\n",
      "image 1/1 C:\\Users\\User\\Desktop\\1Year\\Term2\\SuperEngi\\1PrepareFinalTest\\test_Image1\\test\\15b0e8c6.jpg: 640x640 1 0.93, 0 0.07, 6.9ms\n",
      "Speed: 7.8ms preprocess, 6.9ms inference, 0.0ms postprocess per image at shape (1, 3, 640, 640)\n",
      "\n",
      "image 1/1 C:\\Users\\User\\Desktop\\1Year\\Term2\\SuperEngi\\1PrepareFinalTest\\test_Image1\\test\\15b9f115.jpg: 640x640 1 1.00, 0 0.00, 6.7ms\n",
      "Speed: 9.0ms preprocess, 6.7ms inference, 0.1ms postprocess per image at shape (1, 3, 640, 640)\n",
      "\n",
      "image 1/1 C:\\Users\\User\\Desktop\\1Year\\Term2\\SuperEngi\\1PrepareFinalTest\\test_Image1\\test\\15c65f1a.jpg: 640x640 1 1.00, 0 0.00, 7.0ms\n",
      "Speed: 6.8ms preprocess, 7.0ms inference, 0.0ms postprocess per image at shape (1, 3, 640, 640)\n",
      "\n",
      "image 1/1 C:\\Users\\User\\Desktop\\1Year\\Term2\\SuperEngi\\1PrepareFinalTest\\test_Image1\\test\\15c7474b.jpg: 640x640 0 1.00, 1 0.00, 6.8ms\n",
      "Speed: 6.9ms preprocess, 6.8ms inference, 0.1ms postprocess per image at shape (1, 3, 640, 640)\n"
     ]
    },
    {
     "name": "stderr",
     "output_type": "stream",
     "text": [
      "  9%|▉         | 143/1550 [00:03<00:33, 42.12it/s]"
     ]
    },
    {
     "name": "stdout",
     "output_type": "stream",
     "text": [
      "\n",
      "image 1/1 C:\\Users\\User\\Desktop\\1Year\\Term2\\SuperEngi\\1PrepareFinalTest\\test_Image1\\test\\15d8ccc1.jpg: 640x640 1 1.00, 0 0.00, 7.0ms\n",
      "Speed: 6.7ms preprocess, 7.0ms inference, 0.0ms postprocess per image at shape (1, 3, 640, 640)\n",
      "\n",
      "image 1/1 C:\\Users\\User\\Desktop\\1Year\\Term2\\SuperEngi\\1PrepareFinalTest\\test_Image1\\test\\16173ced.jpg: 640x640 0 1.00, 1 0.00, 9.1ms\n",
      "Speed: 7.0ms preprocess, 9.1ms inference, 0.1ms postprocess per image at shape (1, 3, 640, 640)\n",
      "\n",
      "image 1/1 C:\\Users\\User\\Desktop\\1Year\\Term2\\SuperEngi\\1PrepareFinalTest\\test_Image1\\test\\16226aef.jpg: 640x640 0 1.00, 1 0.00, 6.7ms\n",
      "Speed: 7.5ms preprocess, 6.7ms inference, 0.1ms postprocess per image at shape (1, 3, 640, 640)\n",
      "\n",
      "image 1/1 C:\\Users\\User\\Desktop\\1Year\\Term2\\SuperEngi\\1PrepareFinalTest\\test_Image1\\test\\16321b38.jpg: 640x640 0 1.00, 1 0.00, 7.2ms\n",
      "Speed: 6.7ms preprocess, 7.2ms inference, 0.0ms postprocess per image at shape (1, 3, 640, 640)\n",
      "\n",
      "image 1/1 C:\\Users\\User\\Desktop\\1Year\\Term2\\SuperEngi\\1PrepareFinalTest\\test_Image1\\test\\1637c98f.jpg: 640x640 0 1.00, 1 0.00, 7.0ms\n",
      "Speed: 7.6ms preprocess, 7.0ms inference, 0.1ms postprocess per image at shape (1, 3, 640, 640)\n"
     ]
    },
    {
     "name": "stderr",
     "output_type": "stream",
     "text": [
      " 10%|▉         | 148/1550 [00:03<00:33, 42.04it/s]"
     ]
    },
    {
     "name": "stdout",
     "output_type": "stream",
     "text": [
      "\n",
      "image 1/1 C:\\Users\\User\\Desktop\\1Year\\Term2\\SuperEngi\\1PrepareFinalTest\\test_Image1\\test\\165a6b47.jpg: 640x640 1 1.00, 0 0.00, 6.7ms\n",
      "Speed: 7.4ms preprocess, 6.7ms inference, 0.1ms postprocess per image at shape (1, 3, 640, 640)\n",
      "\n",
      "image 1/1 C:\\Users\\User\\Desktop\\1Year\\Term2\\SuperEngi\\1PrepareFinalTest\\test_Image1\\test\\169370f5.jpg: 640x640 1 1.00, 0 0.00, 7.6ms\n",
      "Speed: 7.6ms preprocess, 7.6ms inference, 0.1ms postprocess per image at shape (1, 3, 640, 640)\n",
      "\n",
      "image 1/1 C:\\Users\\User\\Desktop\\1Year\\Term2\\SuperEngi\\1PrepareFinalTest\\test_Image1\\test\\16d1ce9d.jpg: 640x640 0 1.00, 1 0.00, 6.9ms\n",
      "Speed: 8.4ms preprocess, 6.9ms inference, 0.1ms postprocess per image at shape (1, 3, 640, 640)\n",
      "\n",
      "image 1/1 C:\\Users\\User\\Desktop\\1Year\\Term2\\SuperEngi\\1PrepareFinalTest\\test_Image1\\test\\16ee199c.jpg: 640x640 1 1.00, 0 0.00, 7.2ms\n",
      "Speed: 11.7ms preprocess, 7.2ms inference, 0.1ms postprocess per image at shape (1, 3, 640, 640)\n",
      "\n",
      "image 1/1 C:\\Users\\User\\Desktop\\1Year\\Term2\\SuperEngi\\1PrepareFinalTest\\test_Image1\\test\\16fc1242.jpg: 640x640 1 1.00, 0 0.00, 8.4ms\n",
      "Speed: 8.3ms preprocess, 8.4ms inference, 0.1ms postprocess per image at shape (1, 3, 640, 640)\n"
     ]
    },
    {
     "name": "stderr",
     "output_type": "stream",
     "text": [
      " 10%|▉         | 153/1550 [00:03<00:33, 41.16it/s]"
     ]
    },
    {
     "name": "stdout",
     "output_type": "stream",
     "text": [
      "\n",
      "image 1/1 C:\\Users\\User\\Desktop\\1Year\\Term2\\SuperEngi\\1PrepareFinalTest\\test_Image1\\test\\17037193.jpg: 640x640 0 1.00, 1 0.00, 7.0ms\n",
      "Speed: 7.4ms preprocess, 7.0ms inference, 0.1ms postprocess per image at shape (1, 3, 640, 640)\n",
      "\n",
      "image 1/1 C:\\Users\\User\\Desktop\\1Year\\Term2\\SuperEngi\\1PrepareFinalTest\\test_Image1\\test\\1708145c.jpg: 640x640 0 1.00, 1 0.00, 6.8ms\n",
      "Speed: 7.6ms preprocess, 6.8ms inference, 0.1ms postprocess per image at shape (1, 3, 640, 640)\n",
      "\n",
      "image 1/1 C:\\Users\\User\\Desktop\\1Year\\Term2\\SuperEngi\\1PrepareFinalTest\\test_Image1\\test\\17b3df85.jpg: 640x640 1 1.00, 0 0.00, 7.0ms\n",
      "Speed: 8.2ms preprocess, 7.0ms inference, 0.1ms postprocess per image at shape (1, 3, 640, 640)\n",
      "\n",
      "image 1/1 C:\\Users\\User\\Desktop\\1Year\\Term2\\SuperEngi\\1PrepareFinalTest\\test_Image1\\test\\17cd0dab.jpg: 640x640 0 1.00, 1 0.00, 6.9ms\n",
      "Speed: 7.0ms preprocess, 6.9ms inference, 0.1ms postprocess per image at shape (1, 3, 640, 640)\n",
      "\n",
      "image 1/1 C:\\Users\\User\\Desktop\\1Year\\Term2\\SuperEngi\\1PrepareFinalTest\\test_Image1\\test\\17daad98.jpg: 640x640 0 1.00, 1 0.00, 6.4ms\n",
      "Speed: 8.2ms preprocess, 6.4ms inference, 0.0ms postprocess per image at shape (1, 3, 640, 640)\n"
     ]
    },
    {
     "name": "stderr",
     "output_type": "stream",
     "text": [
      " 10%|█         | 158/1550 [00:04<00:33, 41.69it/s]"
     ]
    },
    {
     "name": "stdout",
     "output_type": "stream",
     "text": [
      "\n",
      "image 1/1 C:\\Users\\User\\Desktop\\1Year\\Term2\\SuperEngi\\1PrepareFinalTest\\test_Image1\\test\\180ce114.jpg: 640x640 1 1.00, 0 0.00, 7.0ms\n",
      "Speed: 7.4ms preprocess, 7.0ms inference, 0.1ms postprocess per image at shape (1, 3, 640, 640)\n",
      "\n",
      "image 1/1 C:\\Users\\User\\Desktop\\1Year\\Term2\\SuperEngi\\1PrepareFinalTest\\test_Image1\\test\\181f6f64.jpg: 640x640 1 1.00, 0 0.00, 8.7ms\n",
      "Speed: 7.7ms preprocess, 8.7ms inference, 0.0ms postprocess per image at shape (1, 3, 640, 640)\n",
      "\n",
      "image 1/1 C:\\Users\\User\\Desktop\\1Year\\Term2\\SuperEngi\\1PrepareFinalTest\\test_Image1\\test\\18264b9f.jpg: 640x640 1 1.00, 0 0.00, 9.3ms\n",
      "Speed: 7.8ms preprocess, 9.3ms inference, 0.1ms postprocess per image at shape (1, 3, 640, 640)\n",
      "\n",
      "image 1/1 C:\\Users\\User\\Desktop\\1Year\\Term2\\SuperEngi\\1PrepareFinalTest\\test_Image1\\test\\185c58d3.jpg: 640x640 1 1.00, 0 0.00, 6.6ms\n",
      "Speed: 7.5ms preprocess, 6.6ms inference, 0.0ms postprocess per image at shape (1, 3, 640, 640)\n",
      "\n",
      "image 1/1 C:\\Users\\User\\Desktop\\1Year\\Term2\\SuperEngi\\1PrepareFinalTest\\test_Image1\\test\\187a8338.jpg: 640x640 0 1.00, 1 0.00, 7.7ms\n",
      "Speed: 7.6ms preprocess, 7.7ms inference, 0.0ms postprocess per image at shape (1, 3, 640, 640)\n"
     ]
    },
    {
     "name": "stderr",
     "output_type": "stream",
     "text": [
      " 11%|█         | 163/1550 [00:04<00:33, 41.47it/s]"
     ]
    },
    {
     "name": "stdout",
     "output_type": "stream",
     "text": [
      "\n",
      "image 1/1 C:\\Users\\User\\Desktop\\1Year\\Term2\\SuperEngi\\1PrepareFinalTest\\test_Image1\\test\\187e9afa.jpg: 640x640 0 1.00, 1 0.00, 7.0ms\n",
      "Speed: 7.1ms preprocess, 7.0ms inference, 0.1ms postprocess per image at shape (1, 3, 640, 640)\n",
      "\n",
      "image 1/1 C:\\Users\\User\\Desktop\\1Year\\Term2\\SuperEngi\\1PrepareFinalTest\\test_Image1\\test\\1888de25.jpg: 640x640 1 0.50, 0 0.50, 7.0ms\n",
      "Speed: 8.4ms preprocess, 7.0ms inference, 0.1ms postprocess per image at shape (1, 3, 640, 640)\n",
      "\n",
      "image 1/1 C:\\Users\\User\\Desktop\\1Year\\Term2\\SuperEngi\\1PrepareFinalTest\\test_Image1\\test\\18a066f3.jpg: 640x640 0 1.00, 1 0.00, 6.6ms\n",
      "Speed: 7.3ms preprocess, 6.6ms inference, 0.1ms postprocess per image at shape (1, 3, 640, 640)\n",
      "\n",
      "image 1/1 C:\\Users\\User\\Desktop\\1Year\\Term2\\SuperEngi\\1PrepareFinalTest\\test_Image1\\test\\18a79674.jpg: 640x640 0 1.00, 1 0.00, 6.7ms\n",
      "Speed: 7.4ms preprocess, 6.7ms inference, 0.0ms postprocess per image at shape (1, 3, 640, 640)\n",
      "\n",
      "image 1/1 C:\\Users\\User\\Desktop\\1Year\\Term2\\SuperEngi\\1PrepareFinalTest\\test_Image1\\test\\18b3c759.jpg: 640x640 0 1.00, 1 0.00, 6.9ms\n",
      "Speed: 7.5ms preprocess, 6.9ms inference, 0.0ms postprocess per image at shape (1, 3, 640, 640)\n"
     ]
    },
    {
     "name": "stderr",
     "output_type": "stream",
     "text": [
      " 11%|█         | 168/1550 [00:04<00:32, 42.27it/s]"
     ]
    },
    {
     "name": "stdout",
     "output_type": "stream",
     "text": [
      "\n",
      "image 1/1 C:\\Users\\User\\Desktop\\1Year\\Term2\\SuperEngi\\1PrepareFinalTest\\test_Image1\\test\\18c038e1.jpg: 640x640 1 1.00, 0 0.00, 6.7ms\n",
      "Speed: 7.6ms preprocess, 6.7ms inference, 0.1ms postprocess per image at shape (1, 3, 640, 640)\n",
      "\n",
      "image 1/1 C:\\Users\\User\\Desktop\\1Year\\Term2\\SuperEngi\\1PrepareFinalTest\\test_Image1\\test\\18fb3f4f.jpg: 640x640 0 1.00, 1 0.00, 12.4ms\n",
      "Speed: 11.4ms preprocess, 12.4ms inference, 0.1ms postprocess per image at shape (1, 3, 640, 640)\n",
      "\n",
      "image 1/1 C:\\Users\\User\\Desktop\\1Year\\Term2\\SuperEngi\\1PrepareFinalTest\\test_Image1\\test\\193cad70.jpg: 640x640 0 1.00, 1 0.00, 7.3ms\n",
      "Speed: 9.5ms preprocess, 7.3ms inference, 0.0ms postprocess per image at shape (1, 3, 640, 640)\n",
      "\n",
      "image 1/1 C:\\Users\\User\\Desktop\\1Year\\Term2\\SuperEngi\\1PrepareFinalTest\\test_Image1\\test\\194f1303.jpg: 640x640 0 0.98, 1 0.02, 9.0ms\n",
      "Speed: 8.6ms preprocess, 9.0ms inference, 0.0ms postprocess per image at shape (1, 3, 640, 640)\n",
      "\n",
      "image 1/1 C:\\Users\\User\\Desktop\\1Year\\Term2\\SuperEngi\\1PrepareFinalTest\\test_Image1\\test\\1950fb7b.jpg: 640x640 0 1.00, 1 0.00, 7.2ms\n",
      "Speed: 7.9ms preprocess, 7.2ms inference, 0.1ms postprocess per image at shape (1, 3, 640, 640)\n"
     ]
    },
    {
     "name": "stderr",
     "output_type": "stream",
     "text": [
      " 11%|█         | 173/1550 [00:04<00:34, 40.47it/s]"
     ]
    },
    {
     "name": "stdout",
     "output_type": "stream",
     "text": [
      "\n",
      "image 1/1 C:\\Users\\User\\Desktop\\1Year\\Term2\\SuperEngi\\1PrepareFinalTest\\test_Image1\\test\\19838136.jpg: 640x640 0 1.00, 1 0.00, 7.6ms\n",
      "Speed: 7.2ms preprocess, 7.6ms inference, 0.1ms postprocess per image at shape (1, 3, 640, 640)\n",
      "\n",
      "image 1/1 C:\\Users\\User\\Desktop\\1Year\\Term2\\SuperEngi\\1PrepareFinalTest\\test_Image1\\test\\19f955db.jpg: 640x640 0 1.00, 1 0.00, 6.7ms\n",
      "Speed: 7.2ms preprocess, 6.7ms inference, 0.0ms postprocess per image at shape (1, 3, 640, 640)\n",
      "\n",
      "image 1/1 C:\\Users\\User\\Desktop\\1Year\\Term2\\SuperEngi\\1PrepareFinalTest\\test_Image1\\test\\1a03c450.jpg: 640x640 1 1.00, 0 0.00, 7.0ms\n",
      "Speed: 7.1ms preprocess, 7.0ms inference, 0.1ms postprocess per image at shape (1, 3, 640, 640)\n",
      "\n",
      "image 1/1 C:\\Users\\User\\Desktop\\1Year\\Term2\\SuperEngi\\1PrepareFinalTest\\test_Image1\\test\\1a2f4b91.jpg: 640x640 1 1.00, 0 0.00, 6.8ms\n",
      "Speed: 8.2ms preprocess, 6.8ms inference, 0.1ms postprocess per image at shape (1, 3, 640, 640)\n",
      "\n",
      "image 1/1 C:\\Users\\User\\Desktop\\1Year\\Term2\\SuperEngi\\1PrepareFinalTest\\test_Image1\\test\\1aa8fd7f.jpg: 640x640 1 1.00, 0 0.00, 7.4ms\n",
      "Speed: 8.0ms preprocess, 7.4ms inference, 0.1ms postprocess per image at shape (1, 3, 640, 640)\n"
     ]
    },
    {
     "name": "stderr",
     "output_type": "stream",
     "text": [
      " 11%|█▏        | 178/1550 [00:04<00:33, 41.13it/s]"
     ]
    },
    {
     "name": "stdout",
     "output_type": "stream",
     "text": [
      "\n",
      "image 1/1 C:\\Users\\User\\Desktop\\1Year\\Term2\\SuperEngi\\1PrepareFinalTest\\test_Image1\\test\\1aaa133c.jpg: 640x640 0 1.00, 1 0.00, 6.9ms\n",
      "Speed: 7.5ms preprocess, 6.9ms inference, 0.1ms postprocess per image at shape (1, 3, 640, 640)\n",
      "\n",
      "image 1/1 C:\\Users\\User\\Desktop\\1Year\\Term2\\SuperEngi\\1PrepareFinalTest\\test_Image1\\test\\1ada360e.jpg: 640x640 0 1.00, 1 0.00, 6.7ms\n",
      "Speed: 7.7ms preprocess, 6.7ms inference, 0.1ms postprocess per image at shape (1, 3, 640, 640)\n",
      "\n",
      "image 1/1 C:\\Users\\User\\Desktop\\1Year\\Term2\\SuperEngi\\1PrepareFinalTest\\test_Image1\\test\\1afeaf2e.jpg: 640x640 0 0.95, 1 0.05, 7.4ms\n",
      "Speed: 8.1ms preprocess, 7.4ms inference, 0.1ms postprocess per image at shape (1, 3, 640, 640)\n",
      "\n",
      "image 1/1 C:\\Users\\User\\Desktop\\1Year\\Term2\\SuperEngi\\1PrepareFinalTest\\test_Image1\\test\\1b691cea.jpg: 640x640 0 1.00, 1 0.00, 7.0ms\n",
      "Speed: 8.0ms preprocess, 7.0ms inference, 0.0ms postprocess per image at shape (1, 3, 640, 640)\n",
      "\n",
      "image 1/1 C:\\Users\\User\\Desktop\\1Year\\Term2\\SuperEngi\\1PrepareFinalTest\\test_Image1\\test\\1b8096a4.jpg: 640x640 0 0.99, 1 0.01, 6.8ms\n",
      "Speed: 7.7ms preprocess, 6.8ms inference, 0.1ms postprocess per image at shape (1, 3, 640, 640)\n"
     ]
    },
    {
     "name": "stderr",
     "output_type": "stream",
     "text": [
      " 12%|█▏        | 183/1550 [00:04<00:33, 41.29it/s]"
     ]
    },
    {
     "name": "stdout",
     "output_type": "stream",
     "text": [
      "\n",
      "image 1/1 C:\\Users\\User\\Desktop\\1Year\\Term2\\SuperEngi\\1PrepareFinalTest\\test_Image1\\test\\1b8d4f5a.jpg: 640x640 1 1.00, 0 0.00, 6.7ms\n",
      "Speed: 7.2ms preprocess, 6.7ms inference, 0.0ms postprocess per image at shape (1, 3, 640, 640)\n",
      "\n",
      "image 1/1 C:\\Users\\User\\Desktop\\1Year\\Term2\\SuperEngi\\1PrepareFinalTest\\test_Image1\\test\\1bd5fea5.jpg: 640x640 0 0.93, 1 0.07, 6.8ms\n",
      "Speed: 7.5ms preprocess, 6.8ms inference, 0.0ms postprocess per image at shape (1, 3, 640, 640)\n",
      "\n",
      "image 1/1 C:\\Users\\User\\Desktop\\1Year\\Term2\\SuperEngi\\1PrepareFinalTest\\test_Image1\\test\\1c057660.jpg: 640x640 1 1.00, 0 0.00, 10.2ms\n",
      "Speed: 11.6ms preprocess, 10.2ms inference, 0.4ms postprocess per image at shape (1, 3, 640, 640)\n",
      "\n",
      "image 1/1 C:\\Users\\User\\Desktop\\1Year\\Term2\\SuperEngi\\1PrepareFinalTest\\test_Image1\\test\\1c210cd3.jpg: 640x640 0 0.99, 1 0.01, 9.3ms\n",
      "Speed: 10.4ms preprocess, 9.3ms inference, 0.0ms postprocess per image at shape (1, 3, 640, 640)\n",
      "\n",
      "image 1/1 C:\\Users\\User\\Desktop\\1Year\\Term2\\SuperEngi\\1PrepareFinalTest\\test_Image1\\test\\1c4f9313.jpg: 640x640 0 1.00, 1 0.00, 9.4ms\n",
      "Speed: 10.1ms preprocess, 9.4ms inference, 0.1ms postprocess per image at shape (1, 3, 640, 640)\n"
     ]
    },
    {
     "name": "stderr",
     "output_type": "stream",
     "text": [
      " 12%|█▏        | 188/1550 [00:04<00:34, 39.85it/s]"
     ]
    },
    {
     "name": "stdout",
     "output_type": "stream",
     "text": [
      "\n",
      "image 1/1 C:\\Users\\User\\Desktop\\1Year\\Term2\\SuperEngi\\1PrepareFinalTest\\test_Image1\\test\\1d145a7e.jpg: 640x640 0 1.00, 1 0.00, 9.2ms\n",
      "Speed: 8.5ms preprocess, 9.2ms inference, 0.1ms postprocess per image at shape (1, 3, 640, 640)\n",
      "\n",
      "image 1/1 C:\\Users\\User\\Desktop\\1Year\\Term2\\SuperEngi\\1PrepareFinalTest\\test_Image1\\test\\1d1fc811.jpg: 640x640 0 1.00, 1 0.00, 8.8ms\n",
      "Speed: 8.2ms preprocess, 8.8ms inference, 0.0ms postprocess per image at shape (1, 3, 640, 640)\n",
      "\n",
      "image 1/1 C:\\Users\\User\\Desktop\\1Year\\Term2\\SuperEngi\\1PrepareFinalTest\\test_Image1\\test\\1d368905.jpg: 640x640 0 0.83, 1 0.17, 9.3ms\n",
      "Speed: 8.7ms preprocess, 9.3ms inference, 0.1ms postprocess per image at shape (1, 3, 640, 640)\n",
      "\n",
      "image 1/1 C:\\Users\\User\\Desktop\\1Year\\Term2\\SuperEngi\\1PrepareFinalTest\\test_Image1\\test\\1df1da60.jpg: 640x640 0 1.00, 1 0.00, 9.4ms\n",
      "Speed: 8.4ms preprocess, 9.4ms inference, 0.0ms postprocess per image at shape (1, 3, 640, 640)\n",
      "\n",
      "image 1/1 C:\\Users\\User\\Desktop\\1Year\\Term2\\SuperEngi\\1PrepareFinalTest\\test_Image1\\test\\1e91e306.jpg: 640x640 0 1.00, 1 0.00, 9.5ms\n",
      "Speed: 8.7ms preprocess, 9.5ms inference, 0.1ms postprocess per image at shape (1, 3, 640, 640)\n"
     ]
    },
    {
     "name": "stderr",
     "output_type": "stream",
     "text": [
      " 12%|█▏        | 193/1550 [00:04<00:34, 39.28it/s]"
     ]
    },
    {
     "name": "stdout",
     "output_type": "stream",
     "text": [
      "\n",
      "image 1/1 C:\\Users\\User\\Desktop\\1Year\\Term2\\SuperEngi\\1PrepareFinalTest\\test_Image1\\test\\1e98c362.jpg: 640x640 0 1.00, 1 0.00, 6.2ms\n",
      "Speed: 8.0ms preprocess, 6.2ms inference, 0.0ms postprocess per image at shape (1, 3, 640, 640)\n",
      "\n",
      "image 1/1 C:\\Users\\User\\Desktop\\1Year\\Term2\\SuperEngi\\1PrepareFinalTest\\test_Image1\\test\\1ec13711.jpg: 640x640 0 0.71, 1 0.29, 6.9ms\n",
      "Speed: 9.0ms preprocess, 6.9ms inference, 0.0ms postprocess per image at shape (1, 3, 640, 640)\n",
      "\n",
      "image 1/1 C:\\Users\\User\\Desktop\\1Year\\Term2\\SuperEngi\\1PrepareFinalTest\\test_Image1\\test\\1ede07db.jpg: 640x640 1 0.99, 0 0.01, 8.2ms\n",
      "Speed: 9.4ms preprocess, 8.2ms inference, 0.0ms postprocess per image at shape (1, 3, 640, 640)\n",
      "\n",
      "image 1/1 C:\\Users\\User\\Desktop\\1Year\\Term2\\SuperEngi\\1PrepareFinalTest\\test_Image1\\test\\1f0f2402.jpg: 640x640 0 1.00, 1 0.00, 6.4ms\n",
      "Speed: 7.9ms preprocess, 6.4ms inference, 0.0ms postprocess per image at shape (1, 3, 640, 640)\n",
      "\n",
      "image 1/1 C:\\Users\\User\\Desktop\\1Year\\Term2\\SuperEngi\\1PrepareFinalTest\\test_Image1\\test\\1f5a3338.jpg: 640x640 1 1.00, 0 0.00, 6.5ms\n",
      "Speed: 8.0ms preprocess, 6.5ms inference, 0.1ms postprocess per image at shape (1, 3, 640, 640)\n"
     ]
    },
    {
     "name": "stderr",
     "output_type": "stream",
     "text": [
      " 13%|█▎        | 198/1550 [00:05<00:34, 39.73it/s]"
     ]
    },
    {
     "name": "stdout",
     "output_type": "stream",
     "text": [
      "\n",
      "image 1/1 C:\\Users\\User\\Desktop\\1Year\\Term2\\SuperEngi\\1PrepareFinalTest\\test_Image1\\test\\1f97a7db.jpg: 640x640 1 1.00, 0 0.00, 6.9ms\n",
      "Speed: 8.0ms preprocess, 6.9ms inference, 0.0ms postprocess per image at shape (1, 3, 640, 640)\n",
      "\n",
      "image 1/1 C:\\Users\\User\\Desktop\\1Year\\Term2\\SuperEngi\\1PrepareFinalTest\\test_Image1\\test\\2006456d.jpg: 640x640 1 0.98, 0 0.02, 7.1ms\n",
      "Speed: 7.6ms preprocess, 7.1ms inference, 0.1ms postprocess per image at shape (1, 3, 640, 640)\n",
      "\n",
      "image 1/1 C:\\Users\\User\\Desktop\\1Year\\Term2\\SuperEngi\\1PrepareFinalTest\\test_Image1\\test\\2015fcc4.jpg: 640x640 0 1.00, 1 0.00, 6.9ms\n",
      "Speed: 7.1ms preprocess, 6.9ms inference, 0.1ms postprocess per image at shape (1, 3, 640, 640)\n",
      "\n",
      "image 1/1 C:\\Users\\User\\Desktop\\1Year\\Term2\\SuperEngi\\1PrepareFinalTest\\test_Image1\\test\\2053fdd8.jpg: 640x640 0 1.00, 1 0.00, 10.1ms\n",
      "Speed: 9.7ms preprocess, 10.1ms inference, 0.1ms postprocess per image at shape (1, 3, 640, 640)\n",
      "\n",
      "image 1/1 C:\\Users\\User\\Desktop\\1Year\\Term2\\SuperEngi\\1PrepareFinalTest\\test_Image1\\test\\2073ad7f.jpg: 640x640 0 1.00, 1 0.00, 7.0ms\n",
      "Speed: 9.3ms preprocess, 7.0ms inference, 0.1ms postprocess per image at shape (1, 3, 640, 640)\n"
     ]
    },
    {
     "name": "stderr",
     "output_type": "stream",
     "text": [
      " 13%|█▎        | 203/1550 [00:05<00:33, 39.71it/s]"
     ]
    },
    {
     "name": "stdout",
     "output_type": "stream",
     "text": [
      "\n",
      "image 1/1 C:\\Users\\User\\Desktop\\1Year\\Term2\\SuperEngi\\1PrepareFinalTest\\test_Image1\\test\\20cf749e.jpg: 640x640 1 1.00, 0 0.00, 9.7ms\n",
      "Speed: 8.1ms preprocess, 9.7ms inference, 0.1ms postprocess per image at shape (1, 3, 640, 640)\n",
      "\n",
      "image 1/1 C:\\Users\\User\\Desktop\\1Year\\Term2\\SuperEngi\\1PrepareFinalTest\\test_Image1\\test\\20fe74fb.jpg: 640x640 0 0.52, 1 0.48, 7.5ms\n",
      "Speed: 8.8ms preprocess, 7.5ms inference, 0.1ms postprocess per image at shape (1, 3, 640, 640)\n",
      "\n",
      "image 1/1 C:\\Users\\User\\Desktop\\1Year\\Term2\\SuperEngi\\1PrepareFinalTest\\test_Image1\\test\\21003798.jpg: 640x640 0 0.99, 1 0.01, 6.9ms\n",
      "Speed: 8.1ms preprocess, 6.9ms inference, 0.0ms postprocess per image at shape (1, 3, 640, 640)\n",
      "\n",
      "image 1/1 C:\\Users\\User\\Desktop\\1Year\\Term2\\SuperEngi\\1PrepareFinalTest\\test_Image1\\test\\2130e146.jpg: 640x640 1 0.99, 0 0.01, 6.2ms\n",
      "Speed: 7.6ms preprocess, 6.2ms inference, 0.0ms postprocess per image at shape (1, 3, 640, 640)\n"
     ]
    },
    {
     "name": "stderr",
     "output_type": "stream",
     "text": [
      " 13%|█▎        | 207/1550 [00:05<00:33, 39.62it/s]"
     ]
    },
    {
     "name": "stdout",
     "output_type": "stream",
     "text": [
      "\n",
      "image 1/1 C:\\Users\\User\\Desktop\\1Year\\Term2\\SuperEngi\\1PrepareFinalTest\\test_Image1\\test\\216d63f1.jpg: 640x640 1 1.00, 0 0.00, 7.5ms\n",
      "Speed: 7.1ms preprocess, 7.5ms inference, 0.1ms postprocess per image at shape (1, 3, 640, 640)\n",
      "\n",
      "image 1/1 C:\\Users\\User\\Desktop\\1Year\\Term2\\SuperEngi\\1PrepareFinalTest\\test_Image1\\test\\2177ac5f.jpg: 640x640 0 1.00, 1 0.00, 6.5ms\n",
      "Speed: 7.1ms preprocess, 6.5ms inference, 0.0ms postprocess per image at shape (1, 3, 640, 640)\n",
      "\n",
      "image 1/1 C:\\Users\\User\\Desktop\\1Year\\Term2\\SuperEngi\\1PrepareFinalTest\\test_Image1\\test\\218e2a81.jpg: 640x640 0 0.94, 1 0.06, 6.8ms\n",
      "Speed: 6.9ms preprocess, 6.8ms inference, 0.0ms postprocess per image at shape (1, 3, 640, 640)\n",
      "\n",
      "image 1/1 C:\\Users\\User\\Desktop\\1Year\\Term2\\SuperEngi\\1PrepareFinalTest\\test_Image1\\test\\21edc12d.jpg: 640x640 1 1.00, 0 0.00, 6.6ms\n",
      "Speed: 7.7ms preprocess, 6.6ms inference, 0.1ms postprocess per image at shape (1, 3, 640, 640)\n",
      "\n",
      "image 1/1 C:\\Users\\User\\Desktop\\1Year\\Term2\\SuperEngi\\1PrepareFinalTest\\test_Image1\\test\\21f0bc2e.jpg: 640x640 1 1.00, 0 0.00, 6.6ms\n",
      "Speed: 6.7ms preprocess, 6.6ms inference, 0.1ms postprocess per image at shape (1, 3, 640, 640)\n"
     ]
    },
    {
     "name": "stderr",
     "output_type": "stream",
     "text": [
      " 14%|█▎        | 212/1550 [00:05<00:32, 40.86it/s]"
     ]
    },
    {
     "name": "stdout",
     "output_type": "stream",
     "text": [
      "\n",
      "image 1/1 C:\\Users\\User\\Desktop\\1Year\\Term2\\SuperEngi\\1PrepareFinalTest\\test_Image1\\test\\21fd7803.jpg: 640x640 1 1.00, 0 0.00, 6.6ms\n",
      "Speed: 8.3ms preprocess, 6.6ms inference, 0.1ms postprocess per image at shape (1, 3, 640, 640)\n",
      "\n",
      "image 1/1 C:\\Users\\User\\Desktop\\1Year\\Term2\\SuperEngi\\1PrepareFinalTest\\test_Image1\\test\\224bad2b.jpg: 640x640 0 1.00, 1 0.00, 8.2ms\n",
      "Speed: 6.8ms preprocess, 8.2ms inference, 0.1ms postprocess per image at shape (1, 3, 640, 640)\n",
      "\n",
      "image 1/1 C:\\Users\\User\\Desktop\\1Year\\Term2\\SuperEngi\\1PrepareFinalTest\\test_Image1\\test\\227cebf5.jpg: 640x640 0 1.00, 1 0.00, 6.5ms\n",
      "Speed: 6.9ms preprocess, 6.5ms inference, 0.1ms postprocess per image at shape (1, 3, 640, 640)\n",
      "\n",
      "image 1/1 C:\\Users\\User\\Desktop\\1Year\\Term2\\SuperEngi\\1PrepareFinalTest\\test_Image1\\test\\228369aa.jpg: 640x640 1 1.00, 0 0.00, 6.5ms\n",
      "Speed: 7.3ms preprocess, 6.5ms inference, 0.0ms postprocess per image at shape (1, 3, 640, 640)\n",
      "\n",
      "image 1/1 C:\\Users\\User\\Desktop\\1Year\\Term2\\SuperEngi\\1PrepareFinalTest\\test_Image1\\test\\22eb8594.jpg: 640x640 0 0.99, 1 0.01, 6.9ms\n",
      "Speed: 8.3ms preprocess, 6.9ms inference, 0.1ms postprocess per image at shape (1, 3, 640, 640)\n"
     ]
    },
    {
     "name": "stderr",
     "output_type": "stream",
     "text": [
      " 14%|█▍        | 217/1550 [00:05<00:32, 41.46it/s]"
     ]
    },
    {
     "name": "stdout",
     "output_type": "stream",
     "text": [
      "\n",
      "image 1/1 C:\\Users\\User\\Desktop\\1Year\\Term2\\SuperEngi\\1PrepareFinalTest\\test_Image1\\test\\23d267ad.jpg: 640x640 1 1.00, 0 0.00, 6.5ms\n",
      "Speed: 7.2ms preprocess, 6.5ms inference, 0.1ms postprocess per image at shape (1, 3, 640, 640)\n",
      "\n",
      "image 1/1 C:\\Users\\User\\Desktop\\1Year\\Term2\\SuperEngi\\1PrepareFinalTest\\test_Image1\\test\\23dacfb7.jpg: 640x640 0 1.00, 1 0.00, 6.8ms\n",
      "Speed: 10.6ms preprocess, 6.8ms inference, 0.1ms postprocess per image at shape (1, 3, 640, 640)\n",
      "\n",
      "image 1/1 C:\\Users\\User\\Desktop\\1Year\\Term2\\SuperEngi\\1PrepareFinalTest\\test_Image1\\test\\23efa479.jpg: 640x640 0 1.00, 1 0.00, 8.1ms\n",
      "Speed: 7.9ms preprocess, 8.1ms inference, 0.0ms postprocess per image at shape (1, 3, 640, 640)\n",
      "\n",
      "image 1/1 C:\\Users\\User\\Desktop\\1Year\\Term2\\SuperEngi\\1PrepareFinalTest\\test_Image1\\test\\24413046.jpg: 640x640 0 1.00, 1 0.00, 6.9ms\n",
      "Speed: 7.8ms preprocess, 6.9ms inference, 0.0ms postprocess per image at shape (1, 3, 640, 640)\n",
      "\n",
      "image 1/1 C:\\Users\\User\\Desktop\\1Year\\Term2\\SuperEngi\\1PrepareFinalTest\\test_Image1\\test\\248aaafe.jpg: 640x640 1 1.00, 0 0.00, 6.8ms\n",
      "Speed: 7.6ms preprocess, 6.8ms inference, 0.0ms postprocess per image at shape (1, 3, 640, 640)\n"
     ]
    },
    {
     "name": "stderr",
     "output_type": "stream",
     "text": [
      " 14%|█▍        | 222/1550 [00:05<00:32, 40.89it/s]"
     ]
    },
    {
     "name": "stdout",
     "output_type": "stream",
     "text": [
      "\n",
      "image 1/1 C:\\Users\\User\\Desktop\\1Year\\Term2\\SuperEngi\\1PrepareFinalTest\\test_Image1\\test\\2530c605.jpg: 640x640 1 1.00, 0 0.00, 6.5ms\n",
      "Speed: 7.1ms preprocess, 6.5ms inference, 0.1ms postprocess per image at shape (1, 3, 640, 640)\n",
      "\n",
      "image 1/1 C:\\Users\\User\\Desktop\\1Year\\Term2\\SuperEngi\\1PrepareFinalTest\\test_Image1\\test\\25373df8.jpg: 640x640 0 1.00, 1 0.00, 6.8ms\n",
      "Speed: 7.4ms preprocess, 6.8ms inference, 0.1ms postprocess per image at shape (1, 3, 640, 640)\n",
      "\n",
      "image 1/1 C:\\Users\\User\\Desktop\\1Year\\Term2\\SuperEngi\\1PrepareFinalTest\\test_Image1\\test\\254f3c01.jpg: 640x640 1 1.00, 0 0.00, 6.2ms\n",
      "Speed: 6.9ms preprocess, 6.2ms inference, 0.1ms postprocess per image at shape (1, 3, 640, 640)\n",
      "\n",
      "image 1/1 C:\\Users\\User\\Desktop\\1Year\\Term2\\SuperEngi\\1PrepareFinalTest\\test_Image1\\test\\25ab6a5b.jpg: 640x640 1 1.00, 0 0.00, 6.8ms\n",
      "Speed: 7.4ms preprocess, 6.8ms inference, 0.0ms postprocess per image at shape (1, 3, 640, 640)\n",
      "\n",
      "image 1/1 C:\\Users\\User\\Desktop\\1Year\\Term2\\SuperEngi\\1PrepareFinalTest\\test_Image1\\test\\25b85661.jpg: 640x640 0 1.00, 1 0.00, 6.8ms\n",
      "Speed: 7.7ms preprocess, 6.8ms inference, 0.1ms postprocess per image at shape (1, 3, 640, 640)\n"
     ]
    },
    {
     "name": "stderr",
     "output_type": "stream",
     "text": [
      " 15%|█▍        | 227/1550 [00:05<00:31, 42.05it/s]"
     ]
    },
    {
     "name": "stdout",
     "output_type": "stream",
     "text": [
      "\n",
      "image 1/1 C:\\Users\\User\\Desktop\\1Year\\Term2\\SuperEngi\\1PrepareFinalTest\\test_Image1\\test\\25d9c5c0.jpg: 640x640 0 0.88, 1 0.12, 6.9ms\n",
      "Speed: 7.6ms preprocess, 6.9ms inference, 0.1ms postprocess per image at shape (1, 3, 640, 640)\n",
      "\n",
      "image 1/1 C:\\Users\\User\\Desktop\\1Year\\Term2\\SuperEngi\\1PrepareFinalTest\\test_Image1\\test\\2602910e.jpg: 640x640 0 0.99, 1 0.01, 6.9ms\n",
      "Speed: 11.5ms preprocess, 6.9ms inference, 0.0ms postprocess per image at shape (1, 3, 640, 640)\n",
      "\n",
      "image 1/1 C:\\Users\\User\\Desktop\\1Year\\Term2\\SuperEngi\\1PrepareFinalTest\\test_Image1\\test\\2625cc65.jpg: 640x640 1 1.00, 0 0.00, 8.3ms\n",
      "Speed: 7.8ms preprocess, 8.3ms inference, 0.0ms postprocess per image at shape (1, 3, 640, 640)\n",
      "\n",
      "image 1/1 C:\\Users\\User\\Desktop\\1Year\\Term2\\SuperEngi\\1PrepareFinalTest\\test_Image1\\test\\26d5aa1f.jpg: 640x640 0 1.00, 1 0.00, 6.9ms\n",
      "Speed: 7.2ms preprocess, 6.9ms inference, 0.0ms postprocess per image at shape (1, 3, 640, 640)\n",
      "\n",
      "image 1/1 C:\\Users\\User\\Desktop\\1Year\\Term2\\SuperEngi\\1PrepareFinalTest\\test_Image1\\test\\27096e35.jpg: 640x640 0 1.00, 1 0.00, 6.9ms\n",
      "Speed: 7.9ms preprocess, 6.9ms inference, 0.1ms postprocess per image at shape (1, 3, 640, 640)\n"
     ]
    },
    {
     "name": "stderr",
     "output_type": "stream",
     "text": [
      " 15%|█▍        | 232/1550 [00:05<00:31, 41.62it/s]"
     ]
    },
    {
     "name": "stdout",
     "output_type": "stream",
     "text": [
      "\n",
      "image 1/1 C:\\Users\\User\\Desktop\\1Year\\Term2\\SuperEngi\\1PrepareFinalTest\\test_Image1\\test\\270b0869.jpg: 640x640 1 1.00, 0 0.00, 6.6ms\n",
      "Speed: 8.1ms preprocess, 6.6ms inference, 0.0ms postprocess per image at shape (1, 3, 640, 640)\n",
      "\n",
      "image 1/1 C:\\Users\\User\\Desktop\\1Year\\Term2\\SuperEngi\\1PrepareFinalTest\\test_Image1\\test\\27102e59.jpg: 640x640 1 0.95, 0 0.05, 6.7ms\n",
      "Speed: 7.6ms preprocess, 6.7ms inference, 0.1ms postprocess per image at shape (1, 3, 640, 640)\n",
      "\n",
      "image 1/1 C:\\Users\\User\\Desktop\\1Year\\Term2\\SuperEngi\\1PrepareFinalTest\\test_Image1\\test\\27138273.jpg: 640x640 0 1.00, 1 0.00, 8.8ms\n",
      "Speed: 12.5ms preprocess, 8.8ms inference, 0.0ms postprocess per image at shape (1, 3, 640, 640)\n",
      "\n",
      "image 1/1 C:\\Users\\User\\Desktop\\1Year\\Term2\\SuperEngi\\1PrepareFinalTest\\test_Image1\\test\\2758992a.jpg: 640x640 0 1.00, 1 0.00, 6.6ms\n",
      "Speed: 8.1ms preprocess, 6.6ms inference, 0.1ms postprocess per image at shape (1, 3, 640, 640)\n",
      "\n",
      "image 1/1 C:\\Users\\User\\Desktop\\1Year\\Term2\\SuperEngi\\1PrepareFinalTest\\test_Image1\\test\\2780944d.jpg: 640x640 0 1.00, 1 0.00, 6.9ms\n",
      "Speed: 7.3ms preprocess, 6.9ms inference, 0.1ms postprocess per image at shape (1, 3, 640, 640)\n"
     ]
    },
    {
     "name": "stderr",
     "output_type": "stream",
     "text": [
      " 15%|█▌        | 237/1550 [00:05<00:32, 40.75it/s]"
     ]
    },
    {
     "name": "stdout",
     "output_type": "stream",
     "text": [
      "\n",
      "image 1/1 C:\\Users\\User\\Desktop\\1Year\\Term2\\SuperEngi\\1PrepareFinalTest\\test_Image1\\test\\27b5084b.jpg: 640x640 0 1.00, 1 0.00, 6.9ms\n",
      "Speed: 8.4ms preprocess, 6.9ms inference, 0.1ms postprocess per image at shape (1, 3, 640, 640)\n",
      "\n",
      "image 1/1 C:\\Users\\User\\Desktop\\1Year\\Term2\\SuperEngi\\1PrepareFinalTest\\test_Image1\\test\\28737e08.jpg: 640x640 1 1.00, 0 0.00, 6.9ms\n",
      "Speed: 9.2ms preprocess, 6.9ms inference, 0.1ms postprocess per image at shape (1, 3, 640, 640)\n",
      "\n",
      "image 1/1 C:\\Users\\User\\Desktop\\1Year\\Term2\\SuperEngi\\1PrepareFinalTest\\test_Image1\\test\\28ca6b22.jpg: 640x640 0 1.00, 1 0.00, 8.4ms\n",
      "Speed: 7.2ms preprocess, 8.4ms inference, 0.1ms postprocess per image at shape (1, 3, 640, 640)\n",
      "\n",
      "image 1/1 C:\\Users\\User\\Desktop\\1Year\\Term2\\SuperEngi\\1PrepareFinalTest\\test_Image1\\test\\2930ea03.jpg: 640x640 1 1.00, 0 0.00, 6.4ms\n",
      "Speed: 7.9ms preprocess, 6.4ms inference, 0.0ms postprocess per image at shape (1, 3, 640, 640)\n",
      "\n",
      "image 1/1 C:\\Users\\User\\Desktop\\1Year\\Term2\\SuperEngi\\1PrepareFinalTest\\test_Image1\\test\\296a6aec.jpg: 640x640 0 1.00, 1 0.00, 7.4ms\n",
      "Speed: 7.9ms preprocess, 7.4ms inference, 0.1ms postprocess per image at shape (1, 3, 640, 640)\n"
     ]
    },
    {
     "name": "stderr",
     "output_type": "stream",
     "text": [
      " 16%|█▌        | 242/1550 [00:06<00:31, 40.89it/s]"
     ]
    },
    {
     "name": "stdout",
     "output_type": "stream",
     "text": [
      "\n",
      "image 1/1 C:\\Users\\User\\Desktop\\1Year\\Term2\\SuperEngi\\1PrepareFinalTest\\test_Image1\\test\\29948715.jpg: 640x640 0 1.00, 1 0.00, 6.6ms\n",
      "Speed: 8.1ms preprocess, 6.6ms inference, 0.0ms postprocess per image at shape (1, 3, 640, 640)\n",
      "\n",
      "image 1/1 C:\\Users\\User\\Desktop\\1Year\\Term2\\SuperEngi\\1PrepareFinalTest\\test_Image1\\test\\299c8726.jpg: 640x640 1 1.00, 0 0.00, 6.7ms\n",
      "Speed: 8.2ms preprocess, 6.7ms inference, 0.1ms postprocess per image at shape (1, 3, 640, 640)\n",
      "\n",
      "image 1/1 C:\\Users\\User\\Desktop\\1Year\\Term2\\SuperEngi\\1PrepareFinalTest\\test_Image1\\test\\29a50f92.jpg: 640x640 0 1.00, 1 0.00, 7.9ms\n",
      "Speed: 8.5ms preprocess, 7.9ms inference, 0.1ms postprocess per image at shape (1, 3, 640, 640)\n",
      "\n",
      "image 1/1 C:\\Users\\User\\Desktop\\1Year\\Term2\\SuperEngi\\1PrepareFinalTest\\test_Image1\\test\\29dce285.jpg: 640x640 1 1.00, 0 0.00, 6.8ms\n",
      "Speed: 7.6ms preprocess, 6.8ms inference, 0.1ms postprocess per image at shape (1, 3, 640, 640)\n",
      "\n",
      "image 1/1 C:\\Users\\User\\Desktop\\1Year\\Term2\\SuperEngi\\1PrepareFinalTest\\test_Image1\\test\\29dfc6f3.jpg: 640x640 0 1.00, 1 0.00, 6.5ms\n",
      "Speed: 7.7ms preprocess, 6.5ms inference, 0.0ms postprocess per image at shape (1, 3, 640, 640)\n"
     ]
    },
    {
     "name": "stderr",
     "output_type": "stream",
     "text": [
      " 16%|█▌        | 247/1550 [00:06<00:31, 41.38it/s]"
     ]
    },
    {
     "name": "stdout",
     "output_type": "stream",
     "text": [
      "\n",
      "image 1/1 C:\\Users\\User\\Desktop\\1Year\\Term2\\SuperEngi\\1PrepareFinalTest\\test_Image1\\test\\2a0d2e49.jpg: 640x640 0 1.00, 1 0.00, 6.9ms\n",
      "Speed: 7.3ms preprocess, 6.9ms inference, 0.1ms postprocess per image at shape (1, 3, 640, 640)\n",
      "\n",
      "image 1/1 C:\\Users\\User\\Desktop\\1Year\\Term2\\SuperEngi\\1PrepareFinalTest\\test_Image1\\test\\2a4327c6.jpg: 640x640 0 1.00, 1 0.00, 6.8ms\n",
      "Speed: 7.8ms preprocess, 6.8ms inference, 0.0ms postprocess per image at shape (1, 3, 640, 640)\n",
      "\n",
      "image 1/1 C:\\Users\\User\\Desktop\\1Year\\Term2\\SuperEngi\\1PrepareFinalTest\\test_Image1\\test\\2a462bd8.jpg: 640x640 0 1.00, 1 0.00, 6.5ms\n",
      "Speed: 7.4ms preprocess, 6.5ms inference, 0.1ms postprocess per image at shape (1, 3, 640, 640)\n",
      "\n",
      "image 1/1 C:\\Users\\User\\Desktop\\1Year\\Term2\\SuperEngi\\1PrepareFinalTest\\test_Image1\\test\\2a7a8da7.jpg: 640x640 1 1.00, 0 0.00, 6.6ms\n",
      "Speed: 7.4ms preprocess, 6.6ms inference, 0.1ms postprocess per image at shape (1, 3, 640, 640)\n",
      "\n",
      "image 1/1 C:\\Users\\User\\Desktop\\1Year\\Term2\\SuperEngi\\1PrepareFinalTest\\test_Image1\\test\\2a911ceb.jpg: 640x640 1 1.00, 0 0.00, 7.5ms\n",
      "Speed: 7.1ms preprocess, 7.5ms inference, 0.1ms postprocess per image at shape (1, 3, 640, 640)\n"
     ]
    },
    {
     "name": "stderr",
     "output_type": "stream",
     "text": [
      " 16%|█▋        | 252/1550 [00:06<00:30, 42.08it/s]"
     ]
    },
    {
     "name": "stdout",
     "output_type": "stream",
     "text": [
      "\n",
      "image 1/1 C:\\Users\\User\\Desktop\\1Year\\Term2\\SuperEngi\\1PrepareFinalTest\\test_Image1\\test\\2ac79bf3.jpg: 640x640 1 0.89, 0 0.11, 6.5ms\n",
      "Speed: 7.1ms preprocess, 6.5ms inference, 0.1ms postprocess per image at shape (1, 3, 640, 640)\n",
      "\n",
      "image 1/1 C:\\Users\\User\\Desktop\\1Year\\Term2\\SuperEngi\\1PrepareFinalTest\\test_Image1\\test\\2b3d31e5.jpg: 640x640 0 1.00, 1 0.00, 7.7ms\n",
      "Speed: 12.3ms preprocess, 7.7ms inference, 0.1ms postprocess per image at shape (1, 3, 640, 640)\n",
      "\n",
      "image 1/1 C:\\Users\\User\\Desktop\\1Year\\Term2\\SuperEngi\\1PrepareFinalTest\\test_Image1\\test\\2b4a905c.jpg: 640x640 0 1.00, 1 0.00, 6.9ms\n",
      "Speed: 9.0ms preprocess, 6.9ms inference, 0.1ms postprocess per image at shape (1, 3, 640, 640)\n",
      "\n",
      "image 1/1 C:\\Users\\User\\Desktop\\1Year\\Term2\\SuperEngi\\1PrepareFinalTest\\test_Image1\\test\\2b4ba854.jpg: 640x640 1 0.84, 0 0.16, 6.9ms\n",
      "Speed: 8.6ms preprocess, 6.9ms inference, 0.1ms postprocess per image at shape (1, 3, 640, 640)\n",
      "\n",
      "image 1/1 C:\\Users\\User\\Desktop\\1Year\\Term2\\SuperEngi\\1PrepareFinalTest\\test_Image1\\test\\2c0ec43e.jpg: 640x640 0 0.96, 1 0.04, 6.7ms\n",
      "Speed: 8.5ms preprocess, 6.7ms inference, 0.1ms postprocess per image at shape (1, 3, 640, 640)\n"
     ]
    },
    {
     "name": "stderr",
     "output_type": "stream",
     "text": [
      " 17%|█▋        | 257/1550 [00:06<00:31, 40.41it/s]"
     ]
    },
    {
     "name": "stdout",
     "output_type": "stream",
     "text": [
      "\n",
      "image 1/1 C:\\Users\\User\\Desktop\\1Year\\Term2\\SuperEngi\\1PrepareFinalTest\\test_Image1\\test\\2c45d334.jpg: 640x640 0 1.00, 1 0.00, 6.9ms\n",
      "Speed: 8.4ms preprocess, 6.9ms inference, 0.0ms postprocess per image at shape (1, 3, 640, 640)\n",
      "\n",
      "image 1/1 C:\\Users\\User\\Desktop\\1Year\\Term2\\SuperEngi\\1PrepareFinalTest\\test_Image1\\test\\2c6adef4.jpg: 640x640 0 0.78, 1 0.22, 8.1ms\n",
      "Speed: 7.5ms preprocess, 8.1ms inference, 0.0ms postprocess per image at shape (1, 3, 640, 640)\n",
      "\n",
      "image 1/1 C:\\Users\\User\\Desktop\\1Year\\Term2\\SuperEngi\\1PrepareFinalTest\\test_Image1\\test\\2c80c176.jpg: 640x640 0 1.00, 1 0.00, 6.8ms\n",
      "Speed: 7.6ms preprocess, 6.8ms inference, 0.1ms postprocess per image at shape (1, 3, 640, 640)\n",
      "\n",
      "image 1/1 C:\\Users\\User\\Desktop\\1Year\\Term2\\SuperEngi\\1PrepareFinalTest\\test_Image1\\test\\2cb78ff7.jpg: 640x640 1 1.00, 0 0.00, 6.9ms\n",
      "Speed: 8.0ms preprocess, 6.9ms inference, 0.0ms postprocess per image at shape (1, 3, 640, 640)\n",
      "\n",
      "image 1/1 C:\\Users\\User\\Desktop\\1Year\\Term2\\SuperEngi\\1PrepareFinalTest\\test_Image1\\test\\2d26bbaa.jpg: 640x640 0 1.00, 1 0.00, 7.0ms\n",
      "Speed: 7.3ms preprocess, 7.0ms inference, 0.1ms postprocess per image at shape (1, 3, 640, 640)\n"
     ]
    },
    {
     "name": "stderr",
     "output_type": "stream",
     "text": [
      " 17%|█▋        | 262/1550 [00:06<00:31, 40.92it/s]"
     ]
    },
    {
     "name": "stdout",
     "output_type": "stream",
     "text": [
      "\n",
      "image 1/1 C:\\Users\\User\\Desktop\\1Year\\Term2\\SuperEngi\\1PrepareFinalTest\\test_Image1\\test\\2d43acef.jpg: 640x640 0 0.52, 1 0.48, 6.5ms\n",
      "Speed: 7.2ms preprocess, 6.5ms inference, 0.1ms postprocess per image at shape (1, 3, 640, 640)\n",
      "\n",
      "image 1/1 C:\\Users\\User\\Desktop\\1Year\\Term2\\SuperEngi\\1PrepareFinalTest\\test_Image1\\test\\2d58278a.jpg: 640x640 1 1.00, 0 0.00, 7.4ms\n",
      "Speed: 7.4ms preprocess, 7.4ms inference, 0.1ms postprocess per image at shape (1, 3, 640, 640)\n",
      "\n",
      "image 1/1 C:\\Users\\User\\Desktop\\1Year\\Term2\\SuperEngi\\1PrepareFinalTest\\test_Image1\\test\\2d6bbae3.jpg: 640x640 0 1.00, 1 0.00, 6.9ms\n",
      "Speed: 7.9ms preprocess, 6.9ms inference, 0.0ms postprocess per image at shape (1, 3, 640, 640)\n",
      "\n",
      "image 1/1 C:\\Users\\User\\Desktop\\1Year\\Term2\\SuperEngi\\1PrepareFinalTest\\test_Image1\\test\\2d7181b5.jpg: 640x640 0 1.00, 1 0.00, 6.8ms\n",
      "Speed: 7.6ms preprocess, 6.8ms inference, 0.0ms postprocess per image at shape (1, 3, 640, 640)\n",
      "\n",
      "image 1/1 C:\\Users\\User\\Desktop\\1Year\\Term2\\SuperEngi\\1PrepareFinalTest\\test_Image1\\test\\2d8e3340.jpg: 640x640 0 1.00, 1 0.00, 6.8ms\n",
      "Speed: 8.4ms preprocess, 6.8ms inference, 0.1ms postprocess per image at shape (1, 3, 640, 640)\n"
     ]
    },
    {
     "name": "stderr",
     "output_type": "stream",
     "text": [
      " 17%|█▋        | 267/1550 [00:06<00:30, 41.41it/s]"
     ]
    },
    {
     "name": "stdout",
     "output_type": "stream",
     "text": [
      "\n",
      "image 1/1 C:\\Users\\User\\Desktop\\1Year\\Term2\\SuperEngi\\1PrepareFinalTest\\test_Image1\\test\\2e1cb076.jpg: 640x640 1 1.00, 0 0.00, 7.0ms\n",
      "Speed: 8.2ms preprocess, 7.0ms inference, 0.1ms postprocess per image at shape (1, 3, 640, 640)\n",
      "\n",
      "image 1/1 C:\\Users\\User\\Desktop\\1Year\\Term2\\SuperEngi\\1PrepareFinalTest\\test_Image1\\test\\2e1dc703.jpg: 640x640 0 1.00, 1 0.00, 9.5ms\n",
      "Speed: 7.3ms preprocess, 9.5ms inference, 0.1ms postprocess per image at shape (1, 3, 640, 640)\n",
      "\n",
      "image 1/1 C:\\Users\\User\\Desktop\\1Year\\Term2\\SuperEngi\\1PrepareFinalTest\\test_Image1\\test\\2e595ec6.jpg: 640x640 1 1.00, 0 0.00, 11.5ms\n",
      "Speed: 11.0ms preprocess, 11.5ms inference, 0.1ms postprocess per image at shape (1, 3, 640, 640)\n",
      "\n",
      "image 1/1 C:\\Users\\User\\Desktop\\1Year\\Term2\\SuperEngi\\1PrepareFinalTest\\test_Image1\\test\\2e84c552.jpg: 640x640 1 1.00, 0 0.00, 7.5ms\n",
      "Speed: 8.7ms preprocess, 7.5ms inference, 0.1ms postprocess per image at shape (1, 3, 640, 640)\n",
      "\n",
      "image 1/1 C:\\Users\\User\\Desktop\\1Year\\Term2\\SuperEngi\\1PrepareFinalTest\\test_Image1\\test\\2e93f5b4.jpg: 640x640 1 1.00, 0 0.00, 7.3ms\n",
      "Speed: 8.2ms preprocess, 7.3ms inference, 0.1ms postprocess per image at shape (1, 3, 640, 640)\n"
     ]
    },
    {
     "name": "stderr",
     "output_type": "stream",
     "text": [
      " 18%|█▊        | 272/1550 [00:06<00:32, 39.47it/s]"
     ]
    },
    {
     "name": "stdout",
     "output_type": "stream",
     "text": [
      "\n",
      "image 1/1 C:\\Users\\User\\Desktop\\1Year\\Term2\\SuperEngi\\1PrepareFinalTest\\test_Image1\\test\\2ecfb9a9.jpg: 640x640 1 1.00, 0 0.00, 9.8ms\n",
      "Speed: 8.6ms preprocess, 9.8ms inference, 0.1ms postprocess per image at shape (1, 3, 640, 640)\n",
      "\n",
      "image 1/1 C:\\Users\\User\\Desktop\\1Year\\Term2\\SuperEngi\\1PrepareFinalTest\\test_Image1\\test\\2ee3d11c.jpg: 640x640 1 1.00, 0 0.00, 7.0ms\n",
      "Speed: 7.6ms preprocess, 7.0ms inference, 0.0ms postprocess per image at shape (1, 3, 640, 640)\n",
      "\n",
      "image 1/1 C:\\Users\\User\\Desktop\\1Year\\Term2\\SuperEngi\\1PrepareFinalTest\\test_Image1\\test\\2efc53fd.jpg: 640x640 0 0.99, 1 0.01, 6.9ms\n",
      "Speed: 7.7ms preprocess, 6.9ms inference, 0.0ms postprocess per image at shape (1, 3, 640, 640)\n",
      "\n",
      "image 1/1 C:\\Users\\User\\Desktop\\1Year\\Term2\\SuperEngi\\1PrepareFinalTest\\test_Image1\\test\\2f008da4.jpg: 640x640 0 0.92, 1 0.08, 7.5ms\n",
      "Speed: 6.9ms preprocess, 7.5ms inference, 0.1ms postprocess per image at shape (1, 3, 640, 640)\n",
      "\n",
      "image 1/1 C:\\Users\\User\\Desktop\\1Year\\Term2\\SuperEngi\\1PrepareFinalTest\\test_Image1\\test\\2f1f2e39.jpg: 640x640 0 1.00, 1 0.00, 7.1ms\n",
      "Speed: 8.6ms preprocess, 7.1ms inference, 0.1ms postprocess per image at shape (1, 3, 640, 640)\n"
     ]
    },
    {
     "name": "stderr",
     "output_type": "stream",
     "text": [
      " 18%|█▊        | 277/1550 [00:06<00:32, 39.77it/s]"
     ]
    },
    {
     "name": "stdout",
     "output_type": "stream",
     "text": [
      "\n",
      "image 1/1 C:\\Users\\User\\Desktop\\1Year\\Term2\\SuperEngi\\1PrepareFinalTest\\test_Image1\\test\\2f2d3193.jpg: 640x640 1 0.99, 0 0.01, 7.0ms\n",
      "Speed: 7.9ms preprocess, 7.0ms inference, 0.0ms postprocess per image at shape (1, 3, 640, 640)\n",
      "\n",
      "image 1/1 C:\\Users\\User\\Desktop\\1Year\\Term2\\SuperEngi\\1PrepareFinalTest\\test_Image1\\test\\2f31ffc0.jpg: 640x640 0 1.00, 1 0.00, 7.4ms\n",
      "Speed: 8.5ms preprocess, 7.4ms inference, 0.1ms postprocess per image at shape (1, 3, 640, 640)\n",
      "\n",
      "image 1/1 C:\\Users\\User\\Desktop\\1Year\\Term2\\SuperEngi\\1PrepareFinalTest\\test_Image1\\test\\2f34f5b1.jpg: 640x640 0 1.00, 1 0.00, 7.3ms\n",
      "Speed: 7.6ms preprocess, 7.3ms inference, 0.0ms postprocess per image at shape (1, 3, 640, 640)\n",
      "\n",
      "image 1/1 C:\\Users\\User\\Desktop\\1Year\\Term2\\SuperEngi\\1PrepareFinalTest\\test_Image1\\test\\2f670aed.jpg: 640x640 1 1.00, 0 0.00, 9.5ms\n",
      "Speed: 7.6ms preprocess, 9.5ms inference, 0.1ms postprocess per image at shape (1, 3, 640, 640)\n"
     ]
    },
    {
     "name": "stderr",
     "output_type": "stream",
     "text": [
      " 18%|█▊        | 281/1550 [00:07<00:31, 39.66it/s]"
     ]
    },
    {
     "name": "stdout",
     "output_type": "stream",
     "text": [
      "\n",
      "image 1/1 C:\\Users\\User\\Desktop\\1Year\\Term2\\SuperEngi\\1PrepareFinalTest\\test_Image1\\test\\2fae68cf.jpg: 640x640 0 1.00, 1 0.00, 7.3ms\n",
      "Speed: 7.7ms preprocess, 7.3ms inference, 0.1ms postprocess per image at shape (1, 3, 640, 640)\n",
      "\n",
      "image 1/1 C:\\Users\\User\\Desktop\\1Year\\Term2\\SuperEngi\\1PrepareFinalTest\\test_Image1\\test\\2fc155c7.jpg: 640x640 0 0.99, 1 0.01, 8.9ms\n",
      "Speed: 9.4ms preprocess, 8.9ms inference, 0.1ms postprocess per image at shape (1, 3, 640, 640)\n",
      "\n",
      "image 1/1 C:\\Users\\User\\Desktop\\1Year\\Term2\\SuperEngi\\1PrepareFinalTest\\test_Image1\\test\\2fc8cc77.jpg: 640x640 0 1.00, 1 0.00, 13.6ms\n",
      "Speed: 8.9ms preprocess, 13.6ms inference, 0.1ms postprocess per image at shape (1, 3, 640, 640)\n",
      "\n",
      "image 1/1 C:\\Users\\User\\Desktop\\1Year\\Term2\\SuperEngi\\1PrepareFinalTest\\test_Image1\\test\\2fd889b4.jpg: 640x640 1 0.99, 0 0.01, 11.3ms\n",
      "Speed: 13.6ms preprocess, 11.3ms inference, 0.1ms postprocess per image at shape (1, 3, 640, 640)\n"
     ]
    },
    {
     "name": "stderr",
     "output_type": "stream",
     "text": [
      " 18%|█▊        | 285/1550 [00:07<00:33, 37.47it/s]"
     ]
    },
    {
     "name": "stdout",
     "output_type": "stream",
     "text": [
      "\n",
      "image 1/1 C:\\Users\\User\\Desktop\\1Year\\Term2\\SuperEngi\\1PrepareFinalTest\\test_Image1\\test\\2fe4a495.jpg: 640x640 0 0.98, 1 0.02, 9.7ms\n",
      "Speed: 15.5ms preprocess, 9.7ms inference, 0.1ms postprocess per image at shape (1, 3, 640, 640)\n",
      "\n",
      "image 1/1 C:\\Users\\User\\Desktop\\1Year\\Term2\\SuperEngi\\1PrepareFinalTest\\test_Image1\\test\\30213569.jpg: 640x640 1 1.00, 0 0.00, 9.9ms\n",
      "Speed: 11.5ms preprocess, 9.9ms inference, 0.1ms postprocess per image at shape (1, 3, 640, 640)\n",
      "\n",
      "image 1/1 C:\\Users\\User\\Desktop\\1Year\\Term2\\SuperEngi\\1PrepareFinalTest\\test_Image1\\test\\302728e8.jpg: 640x640 1 0.60, 0 0.40, 9.2ms\n",
      "Speed: 11.5ms preprocess, 9.2ms inference, 0.1ms postprocess per image at shape (1, 3, 640, 640)\n",
      "\n",
      "image 1/1 C:\\Users\\User\\Desktop\\1Year\\Term2\\SuperEngi\\1PrepareFinalTest\\test_Image1\\test\\3087825c.jpg: 640x640 0 1.00, 1 0.00, 9.4ms\n",
      "Speed: 9.5ms preprocess, 9.4ms inference, 0.1ms postprocess per image at shape (1, 3, 640, 640)\n"
     ]
    },
    {
     "name": "stderr",
     "output_type": "stream",
     "text": [
      " 19%|█▊        | 289/1550 [00:07<00:37, 34.04it/s]"
     ]
    },
    {
     "name": "stdout",
     "output_type": "stream",
     "text": [
      "\n",
      "image 1/1 C:\\Users\\User\\Desktop\\1Year\\Term2\\SuperEngi\\1PrepareFinalTest\\test_Image1\\test\\30918ce5.jpg: 640x640 0 1.00, 1 0.00, 9.1ms\n",
      "Speed: 9.3ms preprocess, 9.1ms inference, 0.1ms postprocess per image at shape (1, 3, 640, 640)\n",
      "\n",
      "image 1/1 C:\\Users\\User\\Desktop\\1Year\\Term2\\SuperEngi\\1PrepareFinalTest\\test_Image1\\test\\30c45964.jpg: 640x640 1 0.99, 0 0.01, 9.1ms\n",
      "Speed: 10.2ms preprocess, 9.1ms inference, 0.1ms postprocess per image at shape (1, 3, 640, 640)\n",
      "\n",
      "image 1/1 C:\\Users\\User\\Desktop\\1Year\\Term2\\SuperEngi\\1PrepareFinalTest\\test_Image1\\test\\30d75ac4.jpg: 640x640 0 0.98, 1 0.02, 12.0ms\n",
      "Speed: 9.7ms preprocess, 12.0ms inference, 0.1ms postprocess per image at shape (1, 3, 640, 640)\n",
      "\n",
      "image 1/1 C:\\Users\\User\\Desktop\\1Year\\Term2\\SuperEngi\\1PrepareFinalTest\\test_Image1\\test\\3107fbe2.jpg: 640x640 0 1.00, 1 0.00, 9.4ms\n",
      "Speed: 9.4ms preprocess, 9.4ms inference, 0.1ms postprocess per image at shape (1, 3, 640, 640)\n"
     ]
    },
    {
     "name": "stderr",
     "output_type": "stream",
     "text": [
      " 19%|█▉        | 293/1550 [00:07<00:37, 33.83it/s]"
     ]
    },
    {
     "name": "stdout",
     "output_type": "stream",
     "text": [
      "\n",
      "image 1/1 C:\\Users\\User\\Desktop\\1Year\\Term2\\SuperEngi\\1PrepareFinalTest\\test_Image1\\test\\3108b4db.jpg: 640x640 1 0.95, 0 0.05, 9.2ms\n",
      "Speed: 9.5ms preprocess, 9.2ms inference, 0.1ms postprocess per image at shape (1, 3, 640, 640)\n",
      "\n",
      "image 1/1 C:\\Users\\User\\Desktop\\1Year\\Term2\\SuperEngi\\1PrepareFinalTest\\test_Image1\\test\\3124b30c.jpg: 640x640 0 1.00, 1 0.00, 9.0ms\n",
      "Speed: 9.6ms preprocess, 9.0ms inference, 0.1ms postprocess per image at shape (1, 3, 640, 640)\n",
      "\n",
      "image 1/1 C:\\Users\\User\\Desktop\\1Year\\Term2\\SuperEngi\\1PrepareFinalTest\\test_Image1\\test\\3168fedc.jpg: 640x640 0 1.00, 1 0.00, 9.2ms\n",
      "Speed: 10.5ms preprocess, 9.2ms inference, 0.1ms postprocess per image at shape (1, 3, 640, 640)\n",
      "\n",
      "image 1/1 C:\\Users\\User\\Desktop\\1Year\\Term2\\SuperEngi\\1PrepareFinalTest\\test_Image1\\test\\3183d69f.jpg: 640x640 1 1.00, 0 0.00, 9.0ms\n",
      "Speed: 10.8ms preprocess, 9.0ms inference, 0.1ms postprocess per image at shape (1, 3, 640, 640)\n"
     ]
    },
    {
     "name": "stderr",
     "output_type": "stream",
     "text": [
      " 19%|█▉        | 297/1550 [00:07<00:36, 33.97it/s]"
     ]
    },
    {
     "name": "stdout",
     "output_type": "stream",
     "text": [
      "\n",
      "image 1/1 C:\\Users\\User\\Desktop\\1Year\\Term2\\SuperEngi\\1PrepareFinalTest\\test_Image1\\test\\31987a81.jpg: 640x640 0 1.00, 1 0.00, 9.3ms\n",
      "Speed: 9.6ms preprocess, 9.3ms inference, 0.1ms postprocess per image at shape (1, 3, 640, 640)\n",
      "\n",
      "image 1/1 C:\\Users\\User\\Desktop\\1Year\\Term2\\SuperEngi\\1PrepareFinalTest\\test_Image1\\test\\31a0aaa9.jpg: 640x640 1 1.00, 0 0.00, 9.1ms\n",
      "Speed: 11.3ms preprocess, 9.1ms inference, 0.1ms postprocess per image at shape (1, 3, 640, 640)\n",
      "\n",
      "image 1/1 C:\\Users\\User\\Desktop\\1Year\\Term2\\SuperEngi\\1PrepareFinalTest\\test_Image1\\test\\3235653e.jpg: 640x640 1 1.00, 0 0.00, 9.4ms\n",
      "Speed: 8.9ms preprocess, 9.4ms inference, 0.1ms postprocess per image at shape (1, 3, 640, 640)\n",
      "\n",
      "image 1/1 C:\\Users\\User\\Desktop\\1Year\\Term2\\SuperEngi\\1PrepareFinalTest\\test_Image1\\test\\3252c271.jpg: 640x640 0 0.80, 1 0.20, 9.1ms\n",
      "Speed: 8.8ms preprocess, 9.1ms inference, 0.0ms postprocess per image at shape (1, 3, 640, 640)\n"
     ]
    },
    {
     "name": "stderr",
     "output_type": "stream",
     "text": [
      " 19%|█▉        | 301/1550 [00:07<00:36, 34.57it/s]"
     ]
    },
    {
     "name": "stdout",
     "output_type": "stream",
     "text": [
      "\n",
      "image 1/1 C:\\Users\\User\\Desktop\\1Year\\Term2\\SuperEngi\\1PrepareFinalTest\\test_Image1\\test\\32ac8ff2.jpg: 640x640 1 0.79, 0 0.21, 8.8ms\n",
      "Speed: 8.6ms preprocess, 8.8ms inference, 0.1ms postprocess per image at shape (1, 3, 640, 640)\n",
      "\n",
      "image 1/1 C:\\Users\\User\\Desktop\\1Year\\Term2\\SuperEngi\\1PrepareFinalTest\\test_Image1\\test\\32b506ce.jpg: 640x640 0 1.00, 1 0.00, 6.7ms\n",
      "Speed: 6.9ms preprocess, 6.7ms inference, 0.1ms postprocess per image at shape (1, 3, 640, 640)\n",
      "\n",
      "image 1/1 C:\\Users\\User\\Desktop\\1Year\\Term2\\SuperEngi\\1PrepareFinalTest\\test_Image1\\test\\32d34d03.jpg: 640x640 0 1.00, 1 0.00, 6.7ms\n",
      "Speed: 8.1ms preprocess, 6.7ms inference, 0.1ms postprocess per image at shape (1, 3, 640, 640)\n",
      "\n",
      "image 1/1 C:\\Users\\User\\Desktop\\1Year\\Term2\\SuperEngi\\1PrepareFinalTest\\test_Image1\\test\\32e02d2f.jpg: 640x640 0 1.00, 1 0.00, 6.7ms\n",
      "Speed: 7.7ms preprocess, 6.7ms inference, 0.1ms postprocess per image at shape (1, 3, 640, 640)\n",
      "\n",
      "image 1/1 C:\\Users\\User\\Desktop\\1Year\\Term2\\SuperEngi\\1PrepareFinalTest\\test_Image1\\test\\32e72801.jpg: 640x640 1 1.00, 0 0.00, 9.1ms\n",
      "Speed: 6.8ms preprocess, 9.1ms inference, 0.0ms postprocess per image at shape (1, 3, 640, 640)\n"
     ]
    },
    {
     "name": "stderr",
     "output_type": "stream",
     "text": [
      " 20%|█▉        | 306/1550 [00:07<00:34, 36.51it/s]"
     ]
    },
    {
     "name": "stdout",
     "output_type": "stream",
     "text": [
      "\n",
      "image 1/1 C:\\Users\\User\\Desktop\\1Year\\Term2\\SuperEngi\\1PrepareFinalTest\\test_Image1\\test\\32f9963a.jpg: 640x640 0 1.00, 1 0.00, 6.6ms\n",
      "Speed: 7.3ms preprocess, 6.6ms inference, 0.1ms postprocess per image at shape (1, 3, 640, 640)\n",
      "\n",
      "image 1/1 C:\\Users\\User\\Desktop\\1Year\\Term2\\SuperEngi\\1PrepareFinalTest\\test_Image1\\test\\332ded3f.jpg: 640x640 1 1.00, 0 0.00, 7.0ms\n",
      "Speed: 9.0ms preprocess, 7.0ms inference, 0.1ms postprocess per image at shape (1, 3, 640, 640)\n",
      "\n",
      "image 1/1 C:\\Users\\User\\Desktop\\1Year\\Term2\\SuperEngi\\1PrepareFinalTest\\test_Image1\\test\\33416bc2.jpg: 640x640 1 1.00, 0 0.00, 6.9ms\n",
      "Speed: 8.7ms preprocess, 6.9ms inference, 0.1ms postprocess per image at shape (1, 3, 640, 640)\n",
      "\n",
      "image 1/1 C:\\Users\\User\\Desktop\\1Year\\Term2\\SuperEngi\\1PrepareFinalTest\\test_Image1\\test\\3369298d.jpg: 640x640 0 0.55, 1 0.45, 6.8ms\n",
      "Speed: 7.9ms preprocess, 6.8ms inference, 0.1ms postprocess per image at shape (1, 3, 640, 640)\n",
      "\n",
      "image 1/1 C:\\Users\\User\\Desktop\\1Year\\Term2\\SuperEngi\\1PrepareFinalTest\\test_Image1\\test\\33abbbe0.jpg: 640x640 1 1.00, 0 0.00, 7.3ms\n",
      "Speed: 7.2ms preprocess, 7.3ms inference, 0.1ms postprocess per image at shape (1, 3, 640, 640)\n"
     ]
    },
    {
     "name": "stderr",
     "output_type": "stream",
     "text": [
      " 20%|██        | 311/1550 [00:07<00:32, 38.08it/s]"
     ]
    },
    {
     "name": "stdout",
     "output_type": "stream",
     "text": [
      "\n",
      "image 1/1 C:\\Users\\User\\Desktop\\1Year\\Term2\\SuperEngi\\1PrepareFinalTest\\test_Image1\\test\\33c1c186.jpg: 640x640 0 1.00, 1 0.00, 7.0ms\n",
      "Speed: 7.9ms preprocess, 7.0ms inference, 0.0ms postprocess per image at shape (1, 3, 640, 640)\n",
      "\n",
      "image 1/1 C:\\Users\\User\\Desktop\\1Year\\Term2\\SuperEngi\\1PrepareFinalTest\\test_Image1\\test\\33d539f9.jpg: 640x640 1 1.00, 0 0.00, 7.0ms\n",
      "Speed: 8.0ms preprocess, 7.0ms inference, 0.1ms postprocess per image at shape (1, 3, 640, 640)\n",
      "\n",
      "image 1/1 C:\\Users\\User\\Desktop\\1Year\\Term2\\SuperEngi\\1PrepareFinalTest\\test_Image1\\test\\33e4ec9b.jpg: 640x640 0 1.00, 1 0.00, 7.0ms\n",
      "Speed: 7.5ms preprocess, 7.0ms inference, 0.1ms postprocess per image at shape (1, 3, 640, 640)\n",
      "\n",
      "image 1/1 C:\\Users\\User\\Desktop\\1Year\\Term2\\SuperEngi\\1PrepareFinalTest\\test_Image1\\test\\33ef7e9d.jpg: 640x640 0 0.98, 1 0.02, 6.8ms\n",
      "Speed: 7.3ms preprocess, 6.8ms inference, 0.1ms postprocess per image at shape (1, 3, 640, 640)\n",
      "\n",
      "image 1/1 C:\\Users\\User\\Desktop\\1Year\\Term2\\SuperEngi\\1PrepareFinalTest\\test_Image1\\test\\34064367.jpg: 640x640 0 1.00, 1 0.00, 7.7ms\n",
      "Speed: 10.4ms preprocess, 7.7ms inference, 0.1ms postprocess per image at shape (1, 3, 640, 640)\n"
     ]
    },
    {
     "name": "stderr",
     "output_type": "stream",
     "text": [
      " 20%|██        | 316/1550 [00:08<00:31, 38.68it/s]"
     ]
    },
    {
     "name": "stdout",
     "output_type": "stream",
     "text": [
      "\n",
      "image 1/1 C:\\Users\\User\\Desktop\\1Year\\Term2\\SuperEngi\\1PrepareFinalTest\\test_Image1\\test\\340a3e9d.jpg: 640x640 1 1.00, 0 0.00, 7.1ms\n",
      "Speed: 9.4ms preprocess, 7.1ms inference, 0.0ms postprocess per image at shape (1, 3, 640, 640)\n",
      "\n",
      "image 1/1 C:\\Users\\User\\Desktop\\1Year\\Term2\\SuperEngi\\1PrepareFinalTest\\test_Image1\\test\\342bbe4c.jpg: 640x640 0 1.00, 1 0.00, 9.8ms\n",
      "Speed: 8.7ms preprocess, 9.8ms inference, 0.1ms postprocess per image at shape (1, 3, 640, 640)\n",
      "\n",
      "image 1/1 C:\\Users\\User\\Desktop\\1Year\\Term2\\SuperEngi\\1PrepareFinalTest\\test_Image1\\test\\342de140.jpg: 640x640 0 1.00, 1 0.00, 6.5ms\n",
      "Speed: 6.5ms preprocess, 6.5ms inference, 0.0ms postprocess per image at shape (1, 3, 640, 640)\n",
      "\n",
      "image 1/1 C:\\Users\\User\\Desktop\\1Year\\Term2\\SuperEngi\\1PrepareFinalTest\\test_Image1\\test\\34330495.jpg: 640x640 1 1.00, 0 0.00, 6.9ms\n",
      "Speed: 6.5ms preprocess, 6.9ms inference, 0.0ms postprocess per image at shape (1, 3, 640, 640)\n",
      "\n",
      "image 1/1 C:\\Users\\User\\Desktop\\1Year\\Term2\\SuperEngi\\1PrepareFinalTest\\test_Image1\\test\\3477f767.jpg: 640x640 1 0.72, 0 0.28, 6.3ms\n",
      "Speed: 6.3ms preprocess, 6.3ms inference, 0.0ms postprocess per image at shape (1, 3, 640, 640)\n"
     ]
    },
    {
     "name": "stderr",
     "output_type": "stream",
     "text": [
      " 21%|██        | 321/1550 [00:08<00:30, 40.01it/s]"
     ]
    },
    {
     "name": "stdout",
     "output_type": "stream",
     "text": [
      "\n",
      "image 1/1 C:\\Users\\User\\Desktop\\1Year\\Term2\\SuperEngi\\1PrepareFinalTest\\test_Image1\\test\\34b5c210.jpg: 640x640 0 1.00, 1 0.00, 6.4ms\n",
      "Speed: 5.8ms preprocess, 6.4ms inference, 0.0ms postprocess per image at shape (1, 3, 640, 640)\n",
      "\n",
      "image 1/1 C:\\Users\\User\\Desktop\\1Year\\Term2\\SuperEngi\\1PrepareFinalTest\\test_Image1\\test\\34d23cb6.jpg: 640x640 0 0.69, 1 0.31, 6.4ms\n",
      "Speed: 6.4ms preprocess, 6.4ms inference, 0.0ms postprocess per image at shape (1, 3, 640, 640)\n",
      "\n",
      "image 1/1 C:\\Users\\User\\Desktop\\1Year\\Term2\\SuperEngi\\1PrepareFinalTest\\test_Image1\\test\\34e65477.jpg: 640x640 0 1.00, 1 0.00, 6.4ms\n",
      "Speed: 6.1ms preprocess, 6.4ms inference, 0.1ms postprocess per image at shape (1, 3, 640, 640)\n",
      "\n",
      "image 1/1 C:\\Users\\User\\Desktop\\1Year\\Term2\\SuperEngi\\1PrepareFinalTest\\test_Image1\\test\\34f08e48.jpg: 640x640 1 1.00, 0 0.00, 7.0ms\n",
      "Speed: 7.8ms preprocess, 7.0ms inference, 0.1ms postprocess per image at shape (1, 3, 640, 640)\n",
      "\n",
      "image 1/1 C:\\Users\\User\\Desktop\\1Year\\Term2\\SuperEngi\\1PrepareFinalTest\\test_Image1\\test\\35173e73.jpg: 640x640 1 1.00, 0 0.00, 7.0ms\n",
      "Speed: 8.3ms preprocess, 7.0ms inference, 0.1ms postprocess per image at shape (1, 3, 640, 640)\n"
     ]
    },
    {
     "name": "stderr",
     "output_type": "stream",
     "text": [
      " 21%|██        | 326/1550 [00:08<00:29, 41.72it/s]"
     ]
    },
    {
     "name": "stdout",
     "output_type": "stream",
     "text": [
      "\n",
      "image 1/1 C:\\Users\\User\\Desktop\\1Year\\Term2\\SuperEngi\\1PrepareFinalTest\\test_Image1\\test\\3522f2be.jpg: 640x640 0 1.00, 1 0.00, 7.0ms\n",
      "Speed: 7.7ms preprocess, 7.0ms inference, 0.1ms postprocess per image at shape (1, 3, 640, 640)\n",
      "\n",
      "image 1/1 C:\\Users\\User\\Desktop\\1Year\\Term2\\SuperEngi\\1PrepareFinalTest\\test_Image1\\test\\3596294e.jpg: 640x640 0 1.00, 1 0.00, 9.8ms\n",
      "Speed: 7.4ms preprocess, 9.8ms inference, 0.1ms postprocess per image at shape (1, 3, 640, 640)\n",
      "\n",
      "image 1/1 C:\\Users\\User\\Desktop\\1Year\\Term2\\SuperEngi\\1PrepareFinalTest\\test_Image1\\test\\35b3a93e.jpg: 640x640 0 1.00, 1 0.00, 6.5ms\n",
      "Speed: 7.1ms preprocess, 6.5ms inference, 0.0ms postprocess per image at shape (1, 3, 640, 640)\n",
      "\n",
      "image 1/1 C:\\Users\\User\\Desktop\\1Year\\Term2\\SuperEngi\\1PrepareFinalTest\\test_Image1\\test\\35c37bfb.jpg: 640x640 1 1.00, 0 0.00, 7.1ms\n",
      "Speed: 7.0ms preprocess, 7.1ms inference, 0.1ms postprocess per image at shape (1, 3, 640, 640)\n",
      "\n",
      "image 1/1 C:\\Users\\User\\Desktop\\1Year\\Term2\\SuperEngi\\1PrepareFinalTest\\test_Image1\\test\\35d31cce.jpg: 640x640 1 1.00, 0 0.00, 7.0ms\n",
      "Speed: 7.6ms preprocess, 7.0ms inference, 0.1ms postprocess per image at shape (1, 3, 640, 640)\n"
     ]
    },
    {
     "name": "stderr",
     "output_type": "stream",
     "text": [
      " 21%|██▏       | 331/1550 [00:08<00:28, 42.05it/s]"
     ]
    },
    {
     "name": "stdout",
     "output_type": "stream",
     "text": [
      "\n",
      "image 1/1 C:\\Users\\User\\Desktop\\1Year\\Term2\\SuperEngi\\1PrepareFinalTest\\test_Image1\\test\\35d7632c.jpg: 640x640 0 1.00, 1 0.00, 7.0ms\n",
      "Speed: 8.2ms preprocess, 7.0ms inference, 0.1ms postprocess per image at shape (1, 3, 640, 640)\n",
      "\n",
      "image 1/1 C:\\Users\\User\\Desktop\\1Year\\Term2\\SuperEngi\\1PrepareFinalTest\\test_Image1\\test\\3608ab19.jpg: 640x640 1 1.00, 0 0.00, 6.7ms\n",
      "Speed: 9.6ms preprocess, 6.7ms inference, 0.1ms postprocess per image at shape (1, 3, 640, 640)\n",
      "\n",
      "image 1/1 C:\\Users\\User\\Desktop\\1Year\\Term2\\SuperEngi\\1PrepareFinalTest\\test_Image1\\test\\36591396.jpg: 640x640 1 0.99, 0 0.01, 6.8ms\n",
      "Speed: 8.2ms preprocess, 6.8ms inference, 0.1ms postprocess per image at shape (1, 3, 640, 640)\n",
      "\n",
      "image 1/1 C:\\Users\\User\\Desktop\\1Year\\Term2\\SuperEngi\\1PrepareFinalTest\\test_Image1\\test\\365cd72f.jpg: 640x640 0 1.00, 1 0.00, 11.5ms\n",
      "Speed: 8.9ms preprocess, 11.5ms inference, 0.1ms postprocess per image at shape (1, 3, 640, 640)\n",
      "\n",
      "image 1/1 C:\\Users\\User\\Desktop\\1Year\\Term2\\SuperEngi\\1PrepareFinalTest\\test_Image1\\test\\3691a80b.jpg: 640x640 0 1.00, 1 0.00, 9.2ms\n",
      "Speed: 9.5ms preprocess, 9.2ms inference, 0.1ms postprocess per image at shape (1, 3, 640, 640)\n"
     ]
    },
    {
     "name": "stderr",
     "output_type": "stream",
     "text": [
      " 22%|██▏       | 336/1550 [00:08<00:29, 40.48it/s]"
     ]
    },
    {
     "name": "stdout",
     "output_type": "stream",
     "text": [
      "\n",
      "image 1/1 C:\\Users\\User\\Desktop\\1Year\\Term2\\SuperEngi\\1PrepareFinalTest\\test_Image1\\test\\36c0213c.jpg: 640x640 1 1.00, 0 0.00, 7.0ms\n",
      "Speed: 8.1ms preprocess, 7.0ms inference, 0.1ms postprocess per image at shape (1, 3, 640, 640)\n",
      "\n",
      "image 1/1 C:\\Users\\User\\Desktop\\1Year\\Term2\\SuperEngi\\1PrepareFinalTest\\test_Image1\\test\\36cf3714.jpg: 640x640 0 0.99, 1 0.01, 7.1ms\n",
      "Speed: 7.7ms preprocess, 7.1ms inference, 0.1ms postprocess per image at shape (1, 3, 640, 640)\n",
      "\n",
      "image 1/1 C:\\Users\\User\\Desktop\\1Year\\Term2\\SuperEngi\\1PrepareFinalTest\\test_Image1\\test\\36e9394a.jpg: 640x640 1 0.99, 0 0.01, 7.2ms\n",
      "Speed: 8.2ms preprocess, 7.2ms inference, 0.0ms postprocess per image at shape (1, 3, 640, 640)\n",
      "\n",
      "image 1/1 C:\\Users\\User\\Desktop\\1Year\\Term2\\SuperEngi\\1PrepareFinalTest\\test_Image1\\test\\37cbebe6.jpg: 640x640 1 1.00, 0 0.00, 6.8ms\n",
      "Speed: 7.5ms preprocess, 6.8ms inference, 0.1ms postprocess per image at shape (1, 3, 640, 640)\n",
      "\n",
      "image 1/1 C:\\Users\\User\\Desktop\\1Year\\Term2\\SuperEngi\\1PrepareFinalTest\\test_Image1\\test\\37d20f8f.jpg: 640x640 1 1.00, 0 0.00, 7.1ms\n",
      "Speed: 8.5ms preprocess, 7.1ms inference, 0.0ms postprocess per image at shape (1, 3, 640, 640)\n"
     ]
    },
    {
     "name": "stderr",
     "output_type": "stream",
     "text": [
      " 22%|██▏       | 341/1550 [00:08<00:29, 41.02it/s]"
     ]
    },
    {
     "name": "stdout",
     "output_type": "stream",
     "text": [
      "\n",
      "image 1/1 C:\\Users\\User\\Desktop\\1Year\\Term2\\SuperEngi\\1PrepareFinalTest\\test_Image1\\test\\38c26968.jpg: 640x640 0 0.65, 1 0.35, 7.1ms\n",
      "Speed: 10.6ms preprocess, 7.1ms inference, 0.1ms postprocess per image at shape (1, 3, 640, 640)\n",
      "\n",
      "image 1/1 C:\\Users\\User\\Desktop\\1Year\\Term2\\SuperEngi\\1PrepareFinalTest\\test_Image1\\test\\38cee806.jpg: 640x640 0 1.00, 1 0.00, 6.8ms\n",
      "Speed: 8.4ms preprocess, 6.8ms inference, 0.1ms postprocess per image at shape (1, 3, 640, 640)\n",
      "\n",
      "image 1/1 C:\\Users\\User\\Desktop\\1Year\\Term2\\SuperEngi\\1PrepareFinalTest\\test_Image1\\test\\38fad18c.jpg: 640x640 0 1.00, 1 0.00, 6.9ms\n",
      "Speed: 8.2ms preprocess, 6.9ms inference, 0.1ms postprocess per image at shape (1, 3, 640, 640)\n",
      "\n",
      "image 1/1 C:\\Users\\User\\Desktop\\1Year\\Term2\\SuperEngi\\1PrepareFinalTest\\test_Image1\\test\\3915383f.jpg: 640x640 0 0.96, 1 0.04, 6.8ms\n",
      "Speed: 8.6ms preprocess, 6.8ms inference, 0.1ms postprocess per image at shape (1, 3, 640, 640)\n",
      "\n",
      "image 1/1 C:\\Users\\User\\Desktop\\1Year\\Term2\\SuperEngi\\1PrepareFinalTest\\test_Image1\\test\\3941cb2f.jpg: 640x640 1 1.00, 0 0.00, 6.7ms\n",
      "Speed: 8.3ms preprocess, 6.7ms inference, 0.1ms postprocess per image at shape (1, 3, 640, 640)\n"
     ]
    },
    {
     "name": "stderr",
     "output_type": "stream",
     "text": [
      " 22%|██▏       | 346/1550 [00:08<00:30, 39.63it/s]"
     ]
    },
    {
     "name": "stdout",
     "output_type": "stream",
     "text": [
      "\n",
      "image 1/1 C:\\Users\\User\\Desktop\\1Year\\Term2\\SuperEngi\\1PrepareFinalTest\\test_Image1\\test\\396a6997.jpg: 640x640 0 1.00, 1 0.00, 8.8ms\n",
      "Speed: 8.4ms preprocess, 8.8ms inference, 0.0ms postprocess per image at shape (1, 3, 640, 640)\n",
      "\n",
      "image 1/1 C:\\Users\\User\\Desktop\\1Year\\Term2\\SuperEngi\\1PrepareFinalTest\\test_Image1\\test\\397ba7da.jpg: 640x640 1 1.00, 0 0.00, 7.0ms\n",
      "Speed: 8.4ms preprocess, 7.0ms inference, 0.1ms postprocess per image at shape (1, 3, 640, 640)\n",
      "\n",
      "image 1/1 C:\\Users\\User\\Desktop\\1Year\\Term2\\SuperEngi\\1PrepareFinalTest\\test_Image1\\test\\39b8b3bb.jpg: 640x640 1 1.00, 0 0.00, 6.6ms\n",
      "Speed: 7.7ms preprocess, 6.6ms inference, 0.0ms postprocess per image at shape (1, 3, 640, 640)\n",
      "\n",
      "image 1/1 C:\\Users\\User\\Desktop\\1Year\\Term2\\SuperEngi\\1PrepareFinalTest\\test_Image1\\test\\3a1ee343.jpg: 640x640 0 1.00, 1 0.00, 6.8ms\n",
      "Speed: 7.9ms preprocess, 6.8ms inference, 0.1ms postprocess per image at shape (1, 3, 640, 640)\n",
      "\n",
      "image 1/1 C:\\Users\\User\\Desktop\\1Year\\Term2\\SuperEngi\\1PrepareFinalTest\\test_Image1\\test\\3a20dafb.jpg: 640x640 0 1.00, 1 0.00, 9.4ms\n",
      "Speed: 7.0ms preprocess, 9.4ms inference, 0.1ms postprocess per image at shape (1, 3, 640, 640)\n"
     ]
    },
    {
     "name": "stderr",
     "output_type": "stream",
     "text": [
      " 23%|██▎       | 351/1550 [00:08<00:29, 40.13it/s]"
     ]
    },
    {
     "name": "stdout",
     "output_type": "stream",
     "text": [
      "\n",
      "image 1/1 C:\\Users\\User\\Desktop\\1Year\\Term2\\SuperEngi\\1PrepareFinalTest\\test_Image1\\test\\3a6c80a3.jpg: 640x640 1 1.00, 0 0.00, 6.9ms\n",
      "Speed: 7.8ms preprocess, 6.9ms inference, 0.0ms postprocess per image at shape (1, 3, 640, 640)\n",
      "\n",
      "image 1/1 C:\\Users\\User\\Desktop\\1Year\\Term2\\SuperEngi\\1PrepareFinalTest\\test_Image1\\test\\3aa344a2.jpg: 640x640 1 1.00, 0 0.00, 7.1ms\n",
      "Speed: 7.6ms preprocess, 7.1ms inference, 0.1ms postprocess per image at shape (1, 3, 640, 640)\n",
      "\n",
      "image 1/1 C:\\Users\\User\\Desktop\\1Year\\Term2\\SuperEngi\\1PrepareFinalTest\\test_Image1\\test\\3aff7456.jpg: 640x640 1 0.99, 0 0.01, 7.0ms\n",
      "Speed: 8.1ms preprocess, 7.0ms inference, 0.0ms postprocess per image at shape (1, 3, 640, 640)\n",
      "\n",
      "image 1/1 C:\\Users\\User\\Desktop\\1Year\\Term2\\SuperEngi\\1PrepareFinalTest\\test_Image1\\test\\3b192117.jpg: 640x640 1 0.96, 0 0.04, 6.6ms\n",
      "Speed: 7.4ms preprocess, 6.6ms inference, 0.0ms postprocess per image at shape (1, 3, 640, 640)\n",
      "\n",
      "image 1/1 C:\\Users\\User\\Desktop\\1Year\\Term2\\SuperEngi\\1PrepareFinalTest\\test_Image1\\test\\3b92b347.jpg: 640x640 1 1.00, 0 0.00, 6.8ms\n",
      "Speed: 7.5ms preprocess, 6.8ms inference, 0.1ms postprocess per image at shape (1, 3, 640, 640)\n"
     ]
    },
    {
     "name": "stderr",
     "output_type": "stream",
     "text": [
      " 23%|██▎       | 356/1550 [00:09<00:29, 40.92it/s]"
     ]
    },
    {
     "name": "stdout",
     "output_type": "stream",
     "text": [
      "\n",
      "image 1/1 C:\\Users\\User\\Desktop\\1Year\\Term2\\SuperEngi\\1PrepareFinalTest\\test_Image1\\test\\3bc5c4d8.jpg: 640x640 0 1.00, 1 0.00, 6.5ms\n",
      "Speed: 9.1ms preprocess, 6.5ms inference, 0.1ms postprocess per image at shape (1, 3, 640, 640)\n",
      "\n",
      "image 1/1 C:\\Users\\User\\Desktop\\1Year\\Term2\\SuperEngi\\1PrepareFinalTest\\test_Image1\\test\\3c307a4a.jpg: 640x640 0 1.00, 1 0.00, 7.0ms\n",
      "Speed: 8.9ms preprocess, 7.0ms inference, 0.1ms postprocess per image at shape (1, 3, 640, 640)\n",
      "\n",
      "image 1/1 C:\\Users\\User\\Desktop\\1Year\\Term2\\SuperEngi\\1PrepareFinalTest\\test_Image1\\test\\3c4b55f8.jpg: 640x640 1 1.00, 0 0.00, 7.0ms\n",
      "Speed: 8.0ms preprocess, 7.0ms inference, 0.1ms postprocess per image at shape (1, 3, 640, 640)\n",
      "\n",
      "image 1/1 C:\\Users\\User\\Desktop\\1Year\\Term2\\SuperEngi\\1PrepareFinalTest\\test_Image1\\test\\3c4e06be.jpg: 640x640 1 1.00, 0 0.00, 6.8ms\n",
      "Speed: 8.5ms preprocess, 6.8ms inference, 0.1ms postprocess per image at shape (1, 3, 640, 640)\n",
      "\n",
      "image 1/1 C:\\Users\\User\\Desktop\\1Year\\Term2\\SuperEngi\\1PrepareFinalTest\\test_Image1\\test\\3c832163.jpg: 640x640 0 1.00, 1 0.00, 6.8ms\n",
      "Speed: 7.5ms preprocess, 6.8ms inference, 0.0ms postprocess per image at shape (1, 3, 640, 640)\n"
     ]
    },
    {
     "name": "stderr",
     "output_type": "stream",
     "text": [
      " 23%|██▎       | 361/1550 [00:09<00:29, 40.91it/s]"
     ]
    },
    {
     "name": "stdout",
     "output_type": "stream",
     "text": [
      "\n",
      "image 1/1 C:\\Users\\User\\Desktop\\1Year\\Term2\\SuperEngi\\1PrepareFinalTest\\test_Image1\\test\\3c953d4e.jpg: 640x640 0 1.00, 1 0.00, 7.0ms\n",
      "Speed: 8.0ms preprocess, 7.0ms inference, 0.1ms postprocess per image at shape (1, 3, 640, 640)\n",
      "\n",
      "image 1/1 C:\\Users\\User\\Desktop\\1Year\\Term2\\SuperEngi\\1PrepareFinalTest\\test_Image1\\test\\3cb37eb1.jpg: 640x640 0 1.00, 1 0.00, 6.9ms\n",
      "Speed: 7.8ms preprocess, 6.9ms inference, 0.0ms postprocess per image at shape (1, 3, 640, 640)\n",
      "\n",
      "image 1/1 C:\\Users\\User\\Desktop\\1Year\\Term2\\SuperEngi\\1PrepareFinalTest\\test_Image1\\test\\3cb477e0.jpg: 640x640 1 1.00, 0 0.00, 7.4ms\n",
      "Speed: 6.6ms preprocess, 7.4ms inference, 0.0ms postprocess per image at shape (1, 3, 640, 640)\n",
      "\n",
      "image 1/1 C:\\Users\\User\\Desktop\\1Year\\Term2\\SuperEngi\\1PrepareFinalTest\\test_Image1\\test\\3cb7e6f8.jpg: 640x640 1 1.00, 0 0.00, 6.7ms\n",
      "Speed: 7.8ms preprocess, 6.7ms inference, 0.0ms postprocess per image at shape (1, 3, 640, 640)\n",
      "\n",
      "image 1/1 C:\\Users\\User\\Desktop\\1Year\\Term2\\SuperEngi\\1PrepareFinalTest\\test_Image1\\test\\3cfb57dc.jpg: 640x640 1 1.00, 0 0.00, 6.5ms\n",
      "Speed: 6.4ms preprocess, 6.5ms inference, 0.0ms postprocess per image at shape (1, 3, 640, 640)\n"
     ]
    },
    {
     "name": "stderr",
     "output_type": "stream",
     "text": [
      " 24%|██▎       | 366/1550 [00:09<00:28, 41.86it/s]"
     ]
    },
    {
     "name": "stdout",
     "output_type": "stream",
     "text": [
      "\n",
      "image 1/1 C:\\Users\\User\\Desktop\\1Year\\Term2\\SuperEngi\\1PrepareFinalTest\\test_Image1\\test\\3d1d40b2.jpg: 640x640 0 0.96, 1 0.04, 6.7ms\n",
      "Speed: 6.1ms preprocess, 6.7ms inference, 0.1ms postprocess per image at shape (1, 3, 640, 640)\n",
      "\n",
      "image 1/1 C:\\Users\\User\\Desktop\\1Year\\Term2\\SuperEngi\\1PrepareFinalTest\\test_Image1\\test\\3db514a7.jpg: 640x640 0 1.00, 1 0.00, 6.6ms\n",
      "Speed: 5.9ms preprocess, 6.6ms inference, 0.0ms postprocess per image at shape (1, 3, 640, 640)\n",
      "\n",
      "image 1/1 C:\\Users\\User\\Desktop\\1Year\\Term2\\SuperEngi\\1PrepareFinalTest\\test_Image1\\test\\3dc31ceb.jpg: 640x640 1 1.00, 0 0.00, 6.7ms\n",
      "Speed: 6.5ms preprocess, 6.7ms inference, 0.0ms postprocess per image at shape (1, 3, 640, 640)\n",
      "\n",
      "image 1/1 C:\\Users\\User\\Desktop\\1Year\\Term2\\SuperEngi\\1PrepareFinalTest\\test_Image1\\test\\3dcf91fd.jpg: 640x640 0 1.00, 1 0.00, 7.5ms\n",
      "Speed: 6.1ms preprocess, 7.5ms inference, 0.0ms postprocess per image at shape (1, 3, 640, 640)\n",
      "\n",
      "image 1/1 C:\\Users\\User\\Desktop\\1Year\\Term2\\SuperEngi\\1PrepareFinalTest\\test_Image1\\test\\3e11375b.jpg: 640x640 0 1.00, 1 0.00, 6.6ms\n",
      "Speed: 5.7ms preprocess, 6.6ms inference, 0.0ms postprocess per image at shape (1, 3, 640, 640)\n",
      "\n",
      "image 1/1 C:\\Users\\User\\Desktop\\1Year\\Term2\\SuperEngi\\1PrepareFinalTest\\test_Image1\\test\\3e5a0ca6.jpg: 640x640 0 1.00, 1 0.00, 8.3ms\n",
      "Speed: 7.1ms preprocess, 8.3ms inference, 0.1ms postprocess per image at shape (1, 3, 640, 640)\n"
     ]
    },
    {
     "name": "stderr",
     "output_type": "stream",
     "text": [
      " 24%|██▍       | 372/1550 [00:09<00:26, 43.97it/s]"
     ]
    },
    {
     "name": "stdout",
     "output_type": "stream",
     "text": [
      "\n",
      "image 1/1 C:\\Users\\User\\Desktop\\1Year\\Term2\\SuperEngi\\1PrepareFinalTest\\test_Image1\\test\\3ec07958.jpg: 640x640 0 1.00, 1 0.00, 6.5ms\n",
      "Speed: 8.4ms preprocess, 6.5ms inference, 0.1ms postprocess per image at shape (1, 3, 640, 640)\n",
      "\n",
      "image 1/1 C:\\Users\\User\\Desktop\\1Year\\Term2\\SuperEngi\\1PrepareFinalTest\\test_Image1\\test\\3f07beda.jpg: 640x640 1 0.95, 0 0.05, 7.0ms\n",
      "Speed: 8.7ms preprocess, 7.0ms inference, 0.1ms postprocess per image at shape (1, 3, 640, 640)\n",
      "\n",
      "image 1/1 C:\\Users\\User\\Desktop\\1Year\\Term2\\SuperEngi\\1PrepareFinalTest\\test_Image1\\test\\3f70ffc8.jpg: 640x640 0 0.95, 1 0.05, 6.6ms\n",
      "Speed: 9.0ms preprocess, 6.6ms inference, 0.0ms postprocess per image at shape (1, 3, 640, 640)\n",
      "\n",
      "image 1/1 C:\\Users\\User\\Desktop\\1Year\\Term2\\SuperEngi\\1PrepareFinalTest\\test_Image1\\test\\3f89997e.jpg: 640x640 1 1.00, 0 0.00, 6.8ms\n",
      "Speed: 8.3ms preprocess, 6.8ms inference, 0.1ms postprocess per image at shape (1, 3, 640, 640)\n",
      "\n",
      "image 1/1 C:\\Users\\User\\Desktop\\1Year\\Term2\\SuperEngi\\1PrepareFinalTest\\test_Image1\\test\\3fb84374.jpg: 640x640 1 1.00, 0 0.00, 6.4ms\n",
      "Speed: 7.8ms preprocess, 6.4ms inference, 0.1ms postprocess per image at shape (1, 3, 640, 640)\n"
     ]
    },
    {
     "name": "stderr",
     "output_type": "stream",
     "text": [
      " 24%|██▍       | 377/1550 [00:09<00:27, 42.91it/s]"
     ]
    },
    {
     "name": "stdout",
     "output_type": "stream",
     "text": [
      "\n",
      "image 1/1 C:\\Users\\User\\Desktop\\1Year\\Term2\\SuperEngi\\1PrepareFinalTest\\test_Image1\\test\\3fe1c275.jpg: 640x640 1 1.00, 0 0.00, 8.9ms\n",
      "Speed: 8.2ms preprocess, 8.9ms inference, 0.0ms postprocess per image at shape (1, 3, 640, 640)\n",
      "\n",
      "image 1/1 C:\\Users\\User\\Desktop\\1Year\\Term2\\SuperEngi\\1PrepareFinalTest\\test_Image1\\test\\3ff35c60.jpg: 640x640 0 1.00, 1 0.00, 7.1ms\n",
      "Speed: 8.5ms preprocess, 7.1ms inference, 0.1ms postprocess per image at shape (1, 3, 640, 640)\n",
      "\n",
      "image 1/1 C:\\Users\\User\\Desktop\\1Year\\Term2\\SuperEngi\\1PrepareFinalTest\\test_Image1\\test\\400469e8.jpg: 640x640 0 1.00, 1 0.00, 7.6ms\n",
      "Speed: 11.0ms preprocess, 7.6ms inference, 0.1ms postprocess per image at shape (1, 3, 640, 640)\n",
      "\n",
      "image 1/1 C:\\Users\\User\\Desktop\\1Year\\Term2\\SuperEngi\\1PrepareFinalTest\\test_Image1\\test\\401a6547.jpg: 640x640 1 1.00, 0 0.00, 7.0ms\n",
      "Speed: 10.6ms preprocess, 7.0ms inference, 0.1ms postprocess per image at shape (1, 3, 640, 640)\n",
      "\n",
      "image 1/1 C:\\Users\\User\\Desktop\\1Year\\Term2\\SuperEngi\\1PrepareFinalTest\\test_Image1\\test\\401c74d1.jpg: 640x640 0 0.72, 1 0.28, 7.0ms\n",
      "Speed: 8.1ms preprocess, 7.0ms inference, 0.1ms postprocess per image at shape (1, 3, 640, 640)\n"
     ]
    },
    {
     "name": "stderr",
     "output_type": "stream",
     "text": [
      " 25%|██▍       | 382/1550 [00:09<00:28, 40.82it/s]"
     ]
    },
    {
     "name": "stdout",
     "output_type": "stream",
     "text": [
      "\n",
      "image 1/1 C:\\Users\\User\\Desktop\\1Year\\Term2\\SuperEngi\\1PrepareFinalTest\\test_Image1\\test\\4060ab13.jpg: 640x640 0 1.00, 1 0.00, 7.3ms\n",
      "Speed: 8.1ms preprocess, 7.3ms inference, 0.1ms postprocess per image at shape (1, 3, 640, 640)\n",
      "\n",
      "image 1/1 C:\\Users\\User\\Desktop\\1Year\\Term2\\SuperEngi\\1PrepareFinalTest\\test_Image1\\test\\40a35a5c.jpg: 640x640 1 1.00, 0 0.00, 7.1ms\n",
      "Speed: 8.2ms preprocess, 7.1ms inference, 0.1ms postprocess per image at shape (1, 3, 640, 640)\n",
      "\n",
      "image 1/1 C:\\Users\\User\\Desktop\\1Year\\Term2\\SuperEngi\\1PrepareFinalTest\\test_Image1\\test\\4127fedf.jpg: 640x640 0 1.00, 1 0.00, 6.9ms\n",
      "Speed: 7.8ms preprocess, 6.9ms inference, 0.1ms postprocess per image at shape (1, 3, 640, 640)\n",
      "\n",
      "image 1/1 C:\\Users\\User\\Desktop\\1Year\\Term2\\SuperEngi\\1PrepareFinalTest\\test_Image1\\test\\412a13ac.jpg: 640x640 0 1.00, 1 0.00, 6.8ms\n",
      "Speed: 7.6ms preprocess, 6.8ms inference, 0.1ms postprocess per image at shape (1, 3, 640, 640)\n",
      "\n",
      "image 1/1 C:\\Users\\User\\Desktop\\1Year\\Term2\\SuperEngi\\1PrepareFinalTest\\test_Image1\\test\\4131b295.jpg: 640x640 1 1.00, 0 0.00, 6.9ms\n",
      "Speed: 6.9ms preprocess, 6.9ms inference, 0.0ms postprocess per image at shape (1, 3, 640, 640)\n"
     ]
    },
    {
     "name": "stderr",
     "output_type": "stream",
     "text": [
      " 25%|██▍       | 387/1550 [00:09<00:28, 41.09it/s]"
     ]
    },
    {
     "name": "stdout",
     "output_type": "stream",
     "text": [
      "\n",
      "image 1/1 C:\\Users\\User\\Desktop\\1Year\\Term2\\SuperEngi\\1PrepareFinalTest\\test_Image1\\test\\413b93ff.jpg: 640x640 1 1.00, 0 0.00, 7.2ms\n",
      "Speed: 8.1ms preprocess, 7.2ms inference, 0.1ms postprocess per image at shape (1, 3, 640, 640)\n",
      "\n",
      "image 1/1 C:\\Users\\User\\Desktop\\1Year\\Term2\\SuperEngi\\1PrepareFinalTest\\test_Image1\\test\\41487df6.jpg: 640x640 1 0.70, 0 0.30, 7.3ms\n",
      "Speed: 8.6ms preprocess, 7.3ms inference, 0.1ms postprocess per image at shape (1, 3, 640, 640)\n",
      "\n",
      "image 1/1 C:\\Users\\User\\Desktop\\1Year\\Term2\\SuperEngi\\1PrepareFinalTest\\test_Image1\\test\\4168797f.jpg: 640x640 1 1.00, 0 0.00, 10.3ms\n",
      "Speed: 8.8ms preprocess, 10.3ms inference, 0.1ms postprocess per image at shape (1, 3, 640, 640)\n",
      "\n",
      "image 1/1 C:\\Users\\User\\Desktop\\1Year\\Term2\\SuperEngi\\1PrepareFinalTest\\test_Image1\\test\\418d34a5.jpg: 640x640 1 1.00, 0 0.00, 6.9ms\n",
      "Speed: 8.8ms preprocess, 6.9ms inference, 0.0ms postprocess per image at shape (1, 3, 640, 640)\n",
      "\n",
      "image 1/1 C:\\Users\\User\\Desktop\\1Year\\Term2\\SuperEngi\\1PrepareFinalTest\\test_Image1\\test\\41b50624.jpg: 640x640 0 1.00, 1 0.00, 6.9ms\n",
      "Speed: 8.2ms preprocess, 6.9ms inference, 0.0ms postprocess per image at shape (1, 3, 640, 640)\n"
     ]
    },
    {
     "name": "stderr",
     "output_type": "stream",
     "text": [
      " 25%|██▌       | 392/1550 [00:09<00:28, 40.21it/s]"
     ]
    },
    {
     "name": "stdout",
     "output_type": "stream",
     "text": [
      "\n",
      "image 1/1 C:\\Users\\User\\Desktop\\1Year\\Term2\\SuperEngi\\1PrepareFinalTest\\test_Image1\\test\\41ba569c.jpg: 640x640 1 0.99, 0 0.01, 7.1ms\n",
      "Speed: 7.2ms preprocess, 7.1ms inference, 0.0ms postprocess per image at shape (1, 3, 640, 640)\n",
      "\n",
      "image 1/1 C:\\Users\\User\\Desktop\\1Year\\Term2\\SuperEngi\\1PrepareFinalTest\\test_Image1\\test\\426e9b14.jpg: 640x640 1 1.00, 0 0.00, 9.0ms\n",
      "Speed: 9.6ms preprocess, 9.0ms inference, 0.1ms postprocess per image at shape (1, 3, 640, 640)\n",
      "\n",
      "image 1/1 C:\\Users\\User\\Desktop\\1Year\\Term2\\SuperEngi\\1PrepareFinalTest\\test_Image1\\test\\42749a03.jpg: 640x640 1 1.00, 0 0.00, 9.0ms\n",
      "Speed: 9.5ms preprocess, 9.0ms inference, 0.1ms postprocess per image at shape (1, 3, 640, 640)\n",
      "\n",
      "image 1/1 C:\\Users\\User\\Desktop\\1Year\\Term2\\SuperEngi\\1PrepareFinalTest\\test_Image1\\test\\428c6ecc.jpg: 640x640 1 1.00, 0 0.00, 9.4ms\n",
      "Speed: 9.3ms preprocess, 9.4ms inference, 0.1ms postprocess per image at shape (1, 3, 640, 640)\n",
      "\n",
      "image 1/1 C:\\Users\\User\\Desktop\\1Year\\Term2\\SuperEngi\\1PrepareFinalTest\\test_Image1\\test\\428f57e8.jpg: 640x640 1 1.00, 0 0.00, 12.0ms\n",
      "Speed: 8.8ms preprocess, 12.0ms inference, 0.1ms postprocess per image at shape (1, 3, 640, 640)\n"
     ]
    },
    {
     "name": "stderr",
     "output_type": "stream",
     "text": [
      " 26%|██▌       | 397/1550 [00:10<00:29, 39.03it/s]"
     ]
    },
    {
     "name": "stdout",
     "output_type": "stream",
     "text": [
      "\n",
      "image 1/1 C:\\Users\\User\\Desktop\\1Year\\Term2\\SuperEngi\\1PrepareFinalTest\\test_Image1\\test\\429089c0.jpg: 640x640 1 1.00, 0 0.00, 9.0ms\n",
      "Speed: 8.4ms preprocess, 9.0ms inference, 0.1ms postprocess per image at shape (1, 3, 640, 640)\n",
      "\n",
      "image 1/1 C:\\Users\\User\\Desktop\\1Year\\Term2\\SuperEngi\\1PrepareFinalTest\\test_Image1\\test\\4327427e.jpg: 640x640 0 1.00, 1 0.00, 9.1ms\n",
      "Speed: 10.8ms preprocess, 9.1ms inference, 0.1ms postprocess per image at shape (1, 3, 640, 640)\n",
      "\n",
      "image 1/1 C:\\Users\\User\\Desktop\\1Year\\Term2\\SuperEngi\\1PrepareFinalTest\\test_Image1\\test\\4337ff85.jpg: 640x640 0 1.00, 1 0.00, 9.1ms\n",
      "Speed: 9.7ms preprocess, 9.1ms inference, 0.3ms postprocess per image at shape (1, 3, 640, 640)\n",
      "\n",
      "image 1/1 C:\\Users\\User\\Desktop\\1Year\\Term2\\SuperEngi\\1PrepareFinalTest\\test_Image1\\test\\4367bd45.jpg: 640x640 0 1.00, 1 0.00, 6.3ms\n",
      "Speed: 9.9ms preprocess, 6.3ms inference, 0.0ms postprocess per image at shape (1, 3, 640, 640)\n"
     ]
    },
    {
     "name": "stderr",
     "output_type": "stream",
     "text": [
      " 26%|██▌       | 401/1550 [00:10<00:29, 38.54it/s]"
     ]
    },
    {
     "name": "stdout",
     "output_type": "stream",
     "text": [
      "\n",
      "image 1/1 C:\\Users\\User\\Desktop\\1Year\\Term2\\SuperEngi\\1PrepareFinalTest\\test_Image1\\test\\438791e2.jpg: 640x640 1 1.00, 0 0.00, 6.6ms\n",
      "Speed: 7.9ms preprocess, 6.6ms inference, 0.1ms postprocess per image at shape (1, 3, 640, 640)\n",
      "\n",
      "image 1/1 C:\\Users\\User\\Desktop\\1Year\\Term2\\SuperEngi\\1PrepareFinalTest\\test_Image1\\test\\438de536.jpg: 640x640 0 1.00, 1 0.00, 8.2ms\n",
      "Speed: 8.1ms preprocess, 8.2ms inference, 0.0ms postprocess per image at shape (1, 3, 640, 640)\n",
      "\n",
      "image 1/1 C:\\Users\\User\\Desktop\\1Year\\Term2\\SuperEngi\\1PrepareFinalTest\\test_Image1\\test\\43a59ca9.jpg: 640x640 0 0.99, 1 0.01, 6.5ms\n",
      "Speed: 7.8ms preprocess, 6.5ms inference, 0.1ms postprocess per image at shape (1, 3, 640, 640)\n",
      "\n",
      "image 1/1 C:\\Users\\User\\Desktop\\1Year\\Term2\\SuperEngi\\1PrepareFinalTest\\test_Image1\\test\\43c5b7da.jpg: 640x640 1 1.00, 0 0.00, 6.6ms\n",
      "Speed: 7.3ms preprocess, 6.6ms inference, 0.1ms postprocess per image at shape (1, 3, 640, 640)\n",
      "\n",
      "image 1/1 C:\\Users\\User\\Desktop\\1Year\\Term2\\SuperEngi\\1PrepareFinalTest\\test_Image1\\test\\43d5a268.jpg: 640x640 1 1.00, 0 0.00, 6.8ms\n",
      "Speed: 7.6ms preprocess, 6.8ms inference, 0.0ms postprocess per image at shape (1, 3, 640, 640)\n"
     ]
    },
    {
     "name": "stderr",
     "output_type": "stream",
     "text": [
      " 26%|██▌       | 406/1550 [00:10<00:28, 39.86it/s]"
     ]
    },
    {
     "name": "stdout",
     "output_type": "stream",
     "text": [
      "\n",
      "image 1/1 C:\\Users\\User\\Desktop\\1Year\\Term2\\SuperEngi\\1PrepareFinalTest\\test_Image1\\test\\43ea920e.jpg: 640x640 1 1.00, 0 0.00, 7.0ms\n",
      "Speed: 7.6ms preprocess, 7.0ms inference, 0.1ms postprocess per image at shape (1, 3, 640, 640)\n",
      "\n",
      "image 1/1 C:\\Users\\User\\Desktop\\1Year\\Term2\\SuperEngi\\1PrepareFinalTest\\test_Image1\\test\\4447529e.jpg: 640x640 0 1.00, 1 0.00, 6.8ms\n",
      "Speed: 7.4ms preprocess, 6.8ms inference, 0.0ms postprocess per image at shape (1, 3, 640, 640)\n",
      "\n",
      "image 1/1 C:\\Users\\User\\Desktop\\1Year\\Term2\\SuperEngi\\1PrepareFinalTest\\test_Image1\\test\\44913ee8.jpg: 640x640 0 1.00, 1 0.00, 6.5ms\n",
      "Speed: 7.3ms preprocess, 6.5ms inference, 0.0ms postprocess per image at shape (1, 3, 640, 640)\n",
      "\n",
      "image 1/1 C:\\Users\\User\\Desktop\\1Year\\Term2\\SuperEngi\\1PrepareFinalTest\\test_Image1\\test\\449b791c.jpg: 640x640 0 1.00, 1 0.00, 6.6ms\n",
      "Speed: 8.1ms preprocess, 6.6ms inference, 0.1ms postprocess per image at shape (1, 3, 640, 640)\n",
      "\n",
      "image 1/1 C:\\Users\\User\\Desktop\\1Year\\Term2\\SuperEngi\\1PrepareFinalTest\\test_Image1\\test\\44f72a5f.jpg: 640x640 1 1.00, 0 0.00, 7.0ms\n",
      "Speed: 9.0ms preprocess, 7.0ms inference, 0.1ms postprocess per image at shape (1, 3, 640, 640)\n"
     ]
    },
    {
     "name": "stderr",
     "output_type": "stream",
     "text": [
      " 27%|██▋       | 411/1550 [00:10<00:28, 39.85it/s]"
     ]
    },
    {
     "name": "stdout",
     "output_type": "stream",
     "text": [
      "\n",
      "image 1/1 C:\\Users\\User\\Desktop\\1Year\\Term2\\SuperEngi\\1PrepareFinalTest\\test_Image1\\test\\4503f18f.jpg: 640x640 0 1.00, 1 0.00, 6.6ms\n",
      "Speed: 7.7ms preprocess, 6.6ms inference, 0.1ms postprocess per image at shape (1, 3, 640, 640)\n",
      "\n",
      "image 1/1 C:\\Users\\User\\Desktop\\1Year\\Term2\\SuperEngi\\1PrepareFinalTest\\test_Image1\\test\\450b6717.jpg: 640x640 0 1.00, 1 0.00, 8.0ms\n",
      "Speed: 7.2ms preprocess, 8.0ms inference, 0.1ms postprocess per image at shape (1, 3, 640, 640)\n",
      "\n",
      "image 1/1 C:\\Users\\User\\Desktop\\1Year\\Term2\\SuperEngi\\1PrepareFinalTest\\test_Image1\\test\\4591da5f.jpg: 640x640 0 1.00, 1 0.00, 6.6ms\n",
      "Speed: 7.9ms preprocess, 6.6ms inference, 0.1ms postprocess per image at shape (1, 3, 640, 640)\n",
      "\n",
      "image 1/1 C:\\Users\\User\\Desktop\\1Year\\Term2\\SuperEngi\\1PrepareFinalTest\\test_Image1\\test\\45ae4ec2.jpg: 640x640 1 1.00, 0 0.00, 6.8ms\n",
      "Speed: 7.5ms preprocess, 6.8ms inference, 0.0ms postprocess per image at shape (1, 3, 640, 640)\n",
      "\n",
      "image 1/1 C:\\Users\\User\\Desktop\\1Year\\Term2\\SuperEngi\\1PrepareFinalTest\\test_Image1\\test\\45ccb09a.jpg: 640x640 1 1.00, 0 0.00, 6.6ms\n",
      "Speed: 7.0ms preprocess, 6.6ms inference, 0.0ms postprocess per image at shape (1, 3, 640, 640)\n"
     ]
    },
    {
     "name": "stderr",
     "output_type": "stream",
     "text": [
      " 27%|██▋       | 416/1550 [00:10<00:28, 40.45it/s]"
     ]
    },
    {
     "name": "stdout",
     "output_type": "stream",
     "text": [
      "\n",
      "image 1/1 C:\\Users\\User\\Desktop\\1Year\\Term2\\SuperEngi\\1PrepareFinalTest\\test_Image1\\test\\45cf537e.jpg: 640x640 1 1.00, 0 0.00, 6.8ms\n",
      "Speed: 6.6ms preprocess, 6.8ms inference, 0.0ms postprocess per image at shape (1, 3, 640, 640)\n",
      "\n",
      "image 1/1 C:\\Users\\User\\Desktop\\1Year\\Term2\\SuperEngi\\1PrepareFinalTest\\test_Image1\\test\\45d1d0da.jpg: 640x640 0 1.00, 1 0.00, 6.5ms\n",
      "Speed: 6.2ms preprocess, 6.5ms inference, 0.0ms postprocess per image at shape (1, 3, 640, 640)\n",
      "\n",
      "image 1/1 C:\\Users\\User\\Desktop\\1Year\\Term2\\SuperEngi\\1PrepareFinalTest\\test_Image1\\test\\45f09e08.jpg: 640x640 0 1.00, 1 0.00, 6.5ms\n",
      "Speed: 6.4ms preprocess, 6.5ms inference, 0.0ms postprocess per image at shape (1, 3, 640, 640)\n",
      "\n",
      "image 1/1 C:\\Users\\User\\Desktop\\1Year\\Term2\\SuperEngi\\1PrepareFinalTest\\test_Image1\\test\\461acb3f.jpg: 640x640 0 0.94, 1 0.06, 6.5ms\n",
      "Speed: 6.3ms preprocess, 6.5ms inference, 0.0ms postprocess per image at shape (1, 3, 640, 640)\n",
      "\n",
      "image 1/1 C:\\Users\\User\\Desktop\\1Year\\Term2\\SuperEngi\\1PrepareFinalTest\\test_Image1\\test\\4665f136.jpg: 640x640 0 1.00, 1 0.00, 9.2ms\n",
      "Speed: 11.3ms preprocess, 9.2ms inference, 0.0ms postprocess per image at shape (1, 3, 640, 640)\n"
     ]
    },
    {
     "name": "stderr",
     "output_type": "stream",
     "text": [
      " 27%|██▋       | 421/1550 [00:10<00:26, 41.89it/s]"
     ]
    },
    {
     "name": "stdout",
     "output_type": "stream",
     "text": [
      "\n",
      "image 1/1 C:\\Users\\User\\Desktop\\1Year\\Term2\\SuperEngi\\1PrepareFinalTest\\test_Image1\\test\\46979732.jpg: 640x640 0 1.00, 1 0.00, 7.0ms\n",
      "Speed: 9.5ms preprocess, 7.0ms inference, 0.0ms postprocess per image at shape (1, 3, 640, 640)\n",
      "\n",
      "image 1/1 C:\\Users\\User\\Desktop\\1Year\\Term2\\SuperEngi\\1PrepareFinalTest\\test_Image1\\test\\46b4b9ac.jpg: 640x640 0 1.00, 1 0.00, 6.6ms\n",
      "Speed: 7.3ms preprocess, 6.6ms inference, 0.0ms postprocess per image at shape (1, 3, 640, 640)\n",
      "\n",
      "image 1/1 C:\\Users\\User\\Desktop\\1Year\\Term2\\SuperEngi\\1PrepareFinalTest\\test_Image1\\test\\46c1f278.jpg: 640x640 0 1.00, 1 0.00, 6.5ms\n",
      "Speed: 7.2ms preprocess, 6.5ms inference, 0.0ms postprocess per image at shape (1, 3, 640, 640)\n",
      "\n",
      "image 1/1 C:\\Users\\User\\Desktop\\1Year\\Term2\\SuperEngi\\1PrepareFinalTest\\test_Image1\\test\\470c78b3.jpg: 640x640 1 0.97, 0 0.03, 6.4ms\n",
      "Speed: 6.6ms preprocess, 6.4ms inference, 0.0ms postprocess per image at shape (1, 3, 640, 640)\n",
      "\n",
      "image 1/1 C:\\Users\\User\\Desktop\\1Year\\Term2\\SuperEngi\\1PrepareFinalTest\\test_Image1\\test\\47237256.jpg: 640x640 1 1.00, 0 0.00, 6.5ms\n",
      "Speed: 6.4ms preprocess, 6.5ms inference, 0.1ms postprocess per image at shape (1, 3, 640, 640)\n"
     ]
    },
    {
     "name": "stderr",
     "output_type": "stream",
     "text": [
      " 27%|██▋       | 426/1550 [00:10<00:26, 42.98it/s]"
     ]
    },
    {
     "name": "stdout",
     "output_type": "stream",
     "text": [
      "\n",
      "image 1/1 C:\\Users\\User\\Desktop\\1Year\\Term2\\SuperEngi\\1PrepareFinalTest\\test_Image1\\test\\4724272d.jpg: 640x640 1 1.00, 0 0.00, 6.5ms\n",
      "Speed: 6.0ms preprocess, 6.5ms inference, 0.1ms postprocess per image at shape (1, 3, 640, 640)\n",
      "\n",
      "image 1/1 C:\\Users\\User\\Desktop\\1Year\\Term2\\SuperEngi\\1PrepareFinalTest\\test_Image1\\test\\478e362c.jpg: 640x640 1 1.00, 0 0.00, 6.6ms\n",
      "Speed: 6.6ms preprocess, 6.6ms inference, 0.1ms postprocess per image at shape (1, 3, 640, 640)\n",
      "\n",
      "image 1/1 C:\\Users\\User\\Desktop\\1Year\\Term2\\SuperEngi\\1PrepareFinalTest\\test_Image1\\test\\47975e30.jpg: 640x640 0 1.00, 1 0.00, 6.4ms\n",
      "Speed: 5.9ms preprocess, 6.4ms inference, 0.0ms postprocess per image at shape (1, 3, 640, 640)\n",
      "\n",
      "image 1/1 C:\\Users\\User\\Desktop\\1Year\\Term2\\SuperEngi\\1PrepareFinalTest\\test_Image1\\test\\47e9bda8.jpg: 640x640 0 1.00, 1 0.00, 6.5ms\n",
      "Speed: 6.0ms preprocess, 6.5ms inference, 0.0ms postprocess per image at shape (1, 3, 640, 640)\n",
      "\n",
      "image 1/1 C:\\Users\\User\\Desktop\\1Year\\Term2\\SuperEngi\\1PrepareFinalTest\\test_Image1\\test\\480adb36.jpg: 640x640 1 1.00, 0 0.00, 6.6ms\n",
      "Speed: 6.4ms preprocess, 6.6ms inference, 0.1ms postprocess per image at shape (1, 3, 640, 640)\n"
     ]
    },
    {
     "name": "stderr",
     "output_type": "stream",
     "text": [
      " 28%|██▊       | 431/1550 [00:10<00:24, 44.85it/s]"
     ]
    },
    {
     "name": "stdout",
     "output_type": "stream",
     "text": [
      "\n",
      "image 1/1 C:\\Users\\User\\Desktop\\1Year\\Term2\\SuperEngi\\1PrepareFinalTest\\test_Image1\\test\\48364c8b.jpg: 640x640 1 1.00, 0 0.00, 6.7ms\n",
      "Speed: 6.3ms preprocess, 6.7ms inference, 0.1ms postprocess per image at shape (1, 3, 640, 640)\n",
      "\n",
      "image 1/1 C:\\Users\\User\\Desktop\\1Year\\Term2\\SuperEngi\\1PrepareFinalTest\\test_Image1\\test\\4885c8a1.jpg: 640x640 0 1.00, 1 0.00, 8.4ms\n",
      "Speed: 8.3ms preprocess, 8.4ms inference, 0.0ms postprocess per image at shape (1, 3, 640, 640)\n",
      "\n",
      "image 1/1 C:\\Users\\User\\Desktop\\1Year\\Term2\\SuperEngi\\1PrepareFinalTest\\test_Image1\\test\\48a198d1.jpg: 640x640 1 1.00, 0 0.00, 6.3ms\n",
      "Speed: 8.3ms preprocess, 6.3ms inference, 0.0ms postprocess per image at shape (1, 3, 640, 640)\n",
      "\n",
      "image 1/1 C:\\Users\\User\\Desktop\\1Year\\Term2\\SuperEngi\\1PrepareFinalTest\\test_Image1\\test\\48e796bc.jpg: 640x640 0 1.00, 1 0.00, 6.3ms\n",
      "Speed: 6.8ms preprocess, 6.3ms inference, 0.1ms postprocess per image at shape (1, 3, 640, 640)\n",
      "\n",
      "image 1/1 C:\\Users\\User\\Desktop\\1Year\\Term2\\SuperEngi\\1PrepareFinalTest\\test_Image1\\test\\49425ff0.jpg: 640x640 0 1.00, 1 0.00, 6.8ms\n",
      "Speed: 8.0ms preprocess, 6.8ms inference, 0.1ms postprocess per image at shape (1, 3, 640, 640)\n"
     ]
    },
    {
     "name": "stderr",
     "output_type": "stream",
     "text": [
      " 28%|██▊       | 436/1550 [00:10<00:24, 44.73it/s]"
     ]
    },
    {
     "name": "stdout",
     "output_type": "stream",
     "text": [
      "\n",
      "image 1/1 C:\\Users\\User\\Desktop\\1Year\\Term2\\SuperEngi\\1PrepareFinalTest\\test_Image1\\test\\4961b93c.jpg: 640x640 0 1.00, 1 0.00, 7.0ms\n",
      "Speed: 6.7ms preprocess, 7.0ms inference, 0.1ms postprocess per image at shape (1, 3, 640, 640)\n",
      "\n",
      "image 1/1 C:\\Users\\User\\Desktop\\1Year\\Term2\\SuperEngi\\1PrepareFinalTest\\test_Image1\\test\\49891fe5.jpg: 640x640 1 1.00, 0 0.00, 6.8ms\n",
      "Speed: 10.4ms preprocess, 6.8ms inference, 0.0ms postprocess per image at shape (1, 3, 640, 640)\n",
      "\n",
      "image 1/1 C:\\Users\\User\\Desktop\\1Year\\Term2\\SuperEngi\\1PrepareFinalTest\\test_Image1\\test\\49e19ea0.jpg: 640x640 0 1.00, 1 0.00, 6.8ms\n",
      "Speed: 9.1ms preprocess, 6.8ms inference, 0.1ms postprocess per image at shape (1, 3, 640, 640)\n",
      "\n",
      "image 1/1 C:\\Users\\User\\Desktop\\1Year\\Term2\\SuperEngi\\1PrepareFinalTest\\test_Image1\\test\\4a466c49.jpg: 640x640 0 1.00, 1 0.00, 9.1ms\n",
      "Speed: 7.8ms preprocess, 9.1ms inference, 0.1ms postprocess per image at shape (1, 3, 640, 640)\n",
      "\n",
      "image 1/1 C:\\Users\\User\\Desktop\\1Year\\Term2\\SuperEngi\\1PrepareFinalTest\\test_Image1\\test\\4ab5fb20.jpg: 640x640 1 1.00, 0 0.00, 6.3ms\n",
      "Speed: 7.7ms preprocess, 6.3ms inference, 0.0ms postprocess per image at shape (1, 3, 640, 640)\n"
     ]
    },
    {
     "name": "stderr",
     "output_type": "stream",
     "text": [
      " 28%|██▊       | 441/1550 [00:11<00:26, 42.52it/s]"
     ]
    },
    {
     "name": "stdout",
     "output_type": "stream",
     "text": [
      "\n",
      "image 1/1 C:\\Users\\User\\Desktop\\1Year\\Term2\\SuperEngi\\1PrepareFinalTest\\test_Image1\\test\\4ac8f04c.jpg: 640x640 0 1.00, 1 0.00, 6.8ms\n",
      "Speed: 7.3ms preprocess, 6.8ms inference, 0.1ms postprocess per image at shape (1, 3, 640, 640)\n",
      "\n",
      "image 1/1 C:\\Users\\User\\Desktop\\1Year\\Term2\\SuperEngi\\1PrepareFinalTest\\test_Image1\\test\\4b711eea.jpg: 640x640 0 1.00, 1 0.00, 6.8ms\n",
      "Speed: 7.0ms preprocess, 6.8ms inference, 0.0ms postprocess per image at shape (1, 3, 640, 640)\n",
      "\n",
      "image 1/1 C:\\Users\\User\\Desktop\\1Year\\Term2\\SuperEngi\\1PrepareFinalTest\\test_Image1\\test\\4ba8be62.jpg: 640x640 0 1.00, 1 0.00, 6.3ms\n",
      "Speed: 6.7ms preprocess, 6.3ms inference, 0.0ms postprocess per image at shape (1, 3, 640, 640)\n",
      "\n",
      "image 1/1 C:\\Users\\User\\Desktop\\1Year\\Term2\\SuperEngi\\1PrepareFinalTest\\test_Image1\\test\\4bc363dd.jpg: 640x640 0 1.00, 1 0.00, 7.3ms\n",
      "Speed: 6.6ms preprocess, 7.3ms inference, 0.0ms postprocess per image at shape (1, 3, 640, 640)\n",
      "\n",
      "image 1/1 C:\\Users\\User\\Desktop\\1Year\\Term2\\SuperEngi\\1PrepareFinalTest\\test_Image1\\test\\4c17dfa1.jpg: 640x640 1 1.00, 0 0.00, 6.6ms\n",
      "Speed: 6.5ms preprocess, 6.6ms inference, 0.1ms postprocess per image at shape (1, 3, 640, 640)\n"
     ]
    },
    {
     "name": "stderr",
     "output_type": "stream",
     "text": [
      " 29%|██▉       | 446/1550 [00:11<00:25, 43.63it/s]"
     ]
    },
    {
     "name": "stdout",
     "output_type": "stream",
     "text": [
      "\n",
      "image 1/1 C:\\Users\\User\\Desktop\\1Year\\Term2\\SuperEngi\\1PrepareFinalTest\\test_Image1\\test\\4c273c32.jpg: 640x640 0 1.00, 1 0.00, 6.8ms\n",
      "Speed: 6.8ms preprocess, 6.8ms inference, 0.1ms postprocess per image at shape (1, 3, 640, 640)\n",
      "\n",
      "image 1/1 C:\\Users\\User\\Desktop\\1Year\\Term2\\SuperEngi\\1PrepareFinalTest\\test_Image1\\test\\4c2d4132.jpg: 640x640 0 1.00, 1 0.00, 6.4ms\n",
      "Speed: 6.8ms preprocess, 6.4ms inference, 0.0ms postprocess per image at shape (1, 3, 640, 640)\n",
      "\n",
      "image 1/1 C:\\Users\\User\\Desktop\\1Year\\Term2\\SuperEngi\\1PrepareFinalTest\\test_Image1\\test\\4c4ec5c3.jpg: 640x640 1 0.59, 0 0.41, 6.6ms\n",
      "Speed: 6.7ms preprocess, 6.6ms inference, 0.1ms postprocess per image at shape (1, 3, 640, 640)\n",
      "\n",
      "image 1/1 C:\\Users\\User\\Desktop\\1Year\\Term2\\SuperEngi\\1PrepareFinalTest\\test_Image1\\test\\4c8086b6.jpg: 640x640 0 1.00, 1 0.00, 6.4ms\n",
      "Speed: 6.7ms preprocess, 6.4ms inference, 0.0ms postprocess per image at shape (1, 3, 640, 640)\n",
      "\n",
      "image 1/1 C:\\Users\\User\\Desktop\\1Year\\Term2\\SuperEngi\\1PrepareFinalTest\\test_Image1\\test\\4cd45008.jpg: 640x640 0 1.00, 1 0.00, 6.4ms\n",
      "Speed: 6.2ms preprocess, 6.4ms inference, 0.1ms postprocess per image at shape (1, 3, 640, 640)\n"
     ]
    },
    {
     "name": "stderr",
     "output_type": "stream",
     "text": [
      " 29%|██▉       | 451/1550 [00:11<00:24, 44.89it/s]"
     ]
    },
    {
     "name": "stdout",
     "output_type": "stream",
     "text": [
      "\n",
      "image 1/1 C:\\Users\\User\\Desktop\\1Year\\Term2\\SuperEngi\\1PrepareFinalTest\\test_Image1\\test\\4ceabc1c.jpg: 640x640 1 0.89, 0 0.11, 9.0ms\n",
      "Speed: 6.9ms preprocess, 9.0ms inference, 0.0ms postprocess per image at shape (1, 3, 640, 640)\n",
      "\n",
      "image 1/1 C:\\Users\\User\\Desktop\\1Year\\Term2\\SuperEngi\\1PrepareFinalTest\\test_Image1\\test\\4cf06860.jpg: 640x640 0 1.00, 1 0.00, 6.6ms\n",
      "Speed: 6.1ms preprocess, 6.6ms inference, 0.0ms postprocess per image at shape (1, 3, 640, 640)\n",
      "\n",
      "image 1/1 C:\\Users\\User\\Desktop\\1Year\\Term2\\SuperEngi\\1PrepareFinalTest\\test_Image1\\test\\4d1b8a1e.jpg: 640x640 0 1.00, 1 0.00, 6.4ms\n",
      "Speed: 6.4ms preprocess, 6.4ms inference, 0.1ms postprocess per image at shape (1, 3, 640, 640)\n",
      "\n",
      "image 1/1 C:\\Users\\User\\Desktop\\1Year\\Term2\\SuperEngi\\1PrepareFinalTest\\test_Image1\\test\\4d203cd8.jpg: 640x640 1 1.00, 0 0.00, 6.4ms\n",
      "Speed: 7.3ms preprocess, 6.4ms inference, 0.0ms postprocess per image at shape (1, 3, 640, 640)\n",
      "\n",
      "image 1/1 C:\\Users\\User\\Desktop\\1Year\\Term2\\SuperEngi\\1PrepareFinalTest\\test_Image1\\test\\4d369b4f.jpg: 640x640 0 1.00, 1 0.00, 6.4ms\n",
      "Speed: 6.5ms preprocess, 6.4ms inference, 0.1ms postprocess per image at shape (1, 3, 640, 640)\n"
     ]
    },
    {
     "name": "stderr",
     "output_type": "stream",
     "text": [
      " 29%|██▉       | 456/1550 [00:11<00:23, 45.66it/s]"
     ]
    },
    {
     "name": "stdout",
     "output_type": "stream",
     "text": [
      "\n",
      "image 1/1 C:\\Users\\User\\Desktop\\1Year\\Term2\\SuperEngi\\1PrepareFinalTest\\test_Image1\\test\\4da96bd3.jpg: 640x640 0 0.88, 1 0.12, 6.2ms\n",
      "Speed: 7.0ms preprocess, 6.2ms inference, 0.1ms postprocess per image at shape (1, 3, 640, 640)\n",
      "\n",
      "image 1/1 C:\\Users\\User\\Desktop\\1Year\\Term2\\SuperEngi\\1PrepareFinalTest\\test_Image1\\test\\4db74638.jpg: 640x640 1 1.00, 0 0.00, 6.4ms\n",
      "Speed: 6.2ms preprocess, 6.4ms inference, 0.1ms postprocess per image at shape (1, 3, 640, 640)\n",
      "\n",
      "image 1/1 C:\\Users\\User\\Desktop\\1Year\\Term2\\SuperEngi\\1PrepareFinalTest\\test_Image1\\test\\4dd4334c.jpg: 640x640 0 1.00, 1 0.00, 6.9ms\n",
      "Speed: 6.6ms preprocess, 6.9ms inference, 0.0ms postprocess per image at shape (1, 3, 640, 640)\n",
      "\n",
      "image 1/1 C:\\Users\\User\\Desktop\\1Year\\Term2\\SuperEngi\\1PrepareFinalTest\\test_Image1\\test\\4dd7beb9.jpg: 640x640 0 1.00, 1 0.00, 6.5ms\n",
      "Speed: 6.2ms preprocess, 6.5ms inference, 0.1ms postprocess per image at shape (1, 3, 640, 640)\n",
      "\n",
      "image 1/1 C:\\Users\\User\\Desktop\\1Year\\Term2\\SuperEngi\\1PrepareFinalTest\\test_Image1\\test\\4dd7e1fd.jpg: 640x640 0 0.99, 1 0.01, 6.2ms\n",
      "Speed: 6.1ms preprocess, 6.2ms inference, 0.0ms postprocess per image at shape (1, 3, 640, 640)\n"
     ]
    },
    {
     "name": "stderr",
     "output_type": "stream",
     "text": [
      " 30%|██▉       | 461/1550 [00:11<00:23, 46.66it/s]"
     ]
    },
    {
     "name": "stdout",
     "output_type": "stream",
     "text": [
      "\n",
      "image 1/1 C:\\Users\\User\\Desktop\\1Year\\Term2\\SuperEngi\\1PrepareFinalTest\\test_Image1\\test\\4dedbae8.jpg: 640x640 1 1.00, 0 0.00, 6.2ms\n",
      "Speed: 6.1ms preprocess, 6.2ms inference, 0.0ms postprocess per image at shape (1, 3, 640, 640)\n",
      "\n",
      "image 1/1 C:\\Users\\User\\Desktop\\1Year\\Term2\\SuperEngi\\1PrepareFinalTest\\test_Image1\\test\\4e0362ca.jpg: 640x640 0 1.00, 1 0.00, 6.5ms\n",
      "Speed: 6.5ms preprocess, 6.5ms inference, 0.0ms postprocess per image at shape (1, 3, 640, 640)\n",
      "\n",
      "image 1/1 C:\\Users\\User\\Desktop\\1Year\\Term2\\SuperEngi\\1PrepareFinalTest\\test_Image1\\test\\4e05c307.jpg: 640x640 0 0.75, 1 0.25, 6.2ms\n",
      "Speed: 6.1ms preprocess, 6.2ms inference, 0.1ms postprocess per image at shape (1, 3, 640, 640)\n",
      "\n",
      "image 1/1 C:\\Users\\User\\Desktop\\1Year\\Term2\\SuperEngi\\1PrepareFinalTest\\test_Image1\\test\\4e06021e.jpg: 640x640 1 1.00, 0 0.00, 6.3ms\n",
      "Speed: 6.6ms preprocess, 6.3ms inference, 0.0ms postprocess per image at shape (1, 3, 640, 640)\n",
      "\n",
      "image 1/1 C:\\Users\\User\\Desktop\\1Year\\Term2\\SuperEngi\\1PrepareFinalTest\\test_Image1\\test\\4e2d8fef.jpg: 640x640 0 1.00, 1 0.00, 6.3ms\n",
      "Speed: 6.6ms preprocess, 6.3ms inference, 0.0ms postprocess per image at shape (1, 3, 640, 640)\n",
      "\n",
      "image 1/1 C:\\Users\\User\\Desktop\\1Year\\Term2\\SuperEngi\\1PrepareFinalTest\\test_Image1\\test\\4e30547a.jpg: 640x640 0 1.00, 1 0.00, 6.3ms\n",
      "Speed: 6.4ms preprocess, 6.3ms inference, 0.1ms postprocess per image at shape (1, 3, 640, 640)\n"
     ]
    },
    {
     "name": "stderr",
     "output_type": "stream",
     "text": [
      " 30%|███       | 467/1550 [00:11<00:22, 47.80it/s]"
     ]
    },
    {
     "name": "stdout",
     "output_type": "stream",
     "text": [
      "\n",
      "image 1/1 C:\\Users\\User\\Desktop\\1Year\\Term2\\SuperEngi\\1PrepareFinalTest\\test_Image1\\test\\4ebdce76.jpg: 640x640 1 0.95, 0 0.05, 6.8ms\n",
      "Speed: 5.8ms preprocess, 6.8ms inference, 0.1ms postprocess per image at shape (1, 3, 640, 640)\n",
      "\n",
      "image 1/1 C:\\Users\\User\\Desktop\\1Year\\Term2\\SuperEngi\\1PrepareFinalTest\\test_Image1\\test\\4ef8e8a0.jpg: 640x640 0 1.00, 1 0.00, 6.3ms\n",
      "Speed: 6.3ms preprocess, 6.3ms inference, 0.0ms postprocess per image at shape (1, 3, 640, 640)\n",
      "\n",
      "image 1/1 C:\\Users\\User\\Desktop\\1Year\\Term2\\SuperEngi\\1PrepareFinalTest\\test_Image1\\test\\4f0d6ef3.jpg: 640x640 1 1.00, 0 0.00, 6.3ms\n",
      "Speed: 6.2ms preprocess, 6.3ms inference, 0.0ms postprocess per image at shape (1, 3, 640, 640)\n",
      "\n",
      "image 1/1 C:\\Users\\User\\Desktop\\1Year\\Term2\\SuperEngi\\1PrepareFinalTest\\test_Image1\\test\\4f3cef69.jpg: 640x640 1 1.00, 0 0.00, 6.5ms\n",
      "Speed: 6.4ms preprocess, 6.5ms inference, 0.0ms postprocess per image at shape (1, 3, 640, 640)\n",
      "\n",
      "image 1/1 C:\\Users\\User\\Desktop\\1Year\\Term2\\SuperEngi\\1PrepareFinalTest\\test_Image1\\test\\4f41c4fc.jpg: 640x640 0 0.91, 1 0.09, 6.2ms\n",
      "Speed: 6.5ms preprocess, 6.2ms inference, 0.1ms postprocess per image at shape (1, 3, 640, 640)\n"
     ]
    },
    {
     "name": "stderr",
     "output_type": "stream",
     "text": [
      " 30%|███       | 472/1550 [00:11<00:22, 48.29it/s]"
     ]
    },
    {
     "name": "stdout",
     "output_type": "stream",
     "text": [
      "\n",
      "image 1/1 C:\\Users\\User\\Desktop\\1Year\\Term2\\SuperEngi\\1PrepareFinalTest\\test_Image1\\test\\4f5b08b1.jpg: 640x640 1 1.00, 0 0.00, 6.5ms\n",
      "Speed: 6.1ms preprocess, 6.5ms inference, 0.0ms postprocess per image at shape (1, 3, 640, 640)\n",
      "\n",
      "image 1/1 C:\\Users\\User\\Desktop\\1Year\\Term2\\SuperEngi\\1PrepareFinalTest\\test_Image1\\test\\4fae3445.jpg: 640x640 1 1.00, 0 0.00, 9.2ms\n",
      "Speed: 10.4ms preprocess, 9.2ms inference, 0.0ms postprocess per image at shape (1, 3, 640, 640)\n",
      "\n",
      "image 1/1 C:\\Users\\User\\Desktop\\1Year\\Term2\\SuperEngi\\1PrepareFinalTest\\test_Image1\\test\\4fd38ae5.jpg: 640x640 1 1.00, 0 0.00, 9.9ms\n",
      "Speed: 8.9ms preprocess, 9.9ms inference, 0.1ms postprocess per image at shape (1, 3, 640, 640)\n",
      "\n",
      "image 1/1 C:\\Users\\User\\Desktop\\1Year\\Term2\\SuperEngi\\1PrepareFinalTest\\test_Image1\\test\\4ff77183.jpg: 640x640 0 1.00, 1 0.00, 6.9ms\n",
      "Speed: 8.9ms preprocess, 6.9ms inference, 0.0ms postprocess per image at shape (1, 3, 640, 640)\n",
      "\n",
      "image 1/1 C:\\Users\\User\\Desktop\\1Year\\Term2\\SuperEngi\\1PrepareFinalTest\\test_Image1\\test\\504c8cfe.jpg: 640x640 0 1.00, 1 0.00, 6.6ms\n",
      "Speed: 7.3ms preprocess, 6.6ms inference, 0.0ms postprocess per image at shape (1, 3, 640, 640)\n"
     ]
    },
    {
     "name": "stderr",
     "output_type": "stream",
     "text": [
      " 31%|███       | 477/1550 [00:11<00:23, 45.40it/s]"
     ]
    },
    {
     "name": "stdout",
     "output_type": "stream",
     "text": [
      "\n",
      "image 1/1 C:\\Users\\User\\Desktop\\1Year\\Term2\\SuperEngi\\1PrepareFinalTest\\test_Image1\\test\\50664e5f.jpg: 640x640 1 0.96, 0 0.04, 6.4ms\n",
      "Speed: 6.6ms preprocess, 6.4ms inference, 0.1ms postprocess per image at shape (1, 3, 640, 640)\n",
      "\n",
      "image 1/1 C:\\Users\\User\\Desktop\\1Year\\Term2\\SuperEngi\\1PrepareFinalTest\\test_Image1\\test\\5094a9c7.jpg: 640x640 0 1.00, 1 0.00, 6.7ms\n",
      "Speed: 6.4ms preprocess, 6.7ms inference, 0.1ms postprocess per image at shape (1, 3, 640, 640)\n",
      "\n",
      "image 1/1 C:\\Users\\User\\Desktop\\1Year\\Term2\\SuperEngi\\1PrepareFinalTest\\test_Image1\\test\\50cd3d25.jpg: 640x640 0 0.99, 1 0.01, 7.0ms\n",
      "Speed: 6.5ms preprocess, 7.0ms inference, 0.0ms postprocess per image at shape (1, 3, 640, 640)\n",
      "\n",
      "image 1/1 C:\\Users\\User\\Desktop\\1Year\\Term2\\SuperEngi\\1PrepareFinalTest\\test_Image1\\test\\50cf456a.jpg: 640x640 0 1.00, 1 0.00, 8.1ms\n",
      "Speed: 6.2ms preprocess, 8.1ms inference, 0.0ms postprocess per image at shape (1, 3, 640, 640)\n",
      "\n",
      "image 1/1 C:\\Users\\User\\Desktop\\1Year\\Term2\\SuperEngi\\1PrepareFinalTest\\test_Image1\\test\\50d28f6d.jpg: 640x640 0 0.99, 1 0.01, 7.4ms\n",
      "Speed: 6.3ms preprocess, 7.4ms inference, 0.0ms postprocess per image at shape (1, 3, 640, 640)\n"
     ]
    },
    {
     "name": "stderr",
     "output_type": "stream",
     "text": [
      " 31%|███       | 482/1550 [00:11<00:23, 45.95it/s]"
     ]
    },
    {
     "name": "stdout",
     "output_type": "stream",
     "text": [
      "\n",
      "image 1/1 C:\\Users\\User\\Desktop\\1Year\\Term2\\SuperEngi\\1PrepareFinalTest\\test_Image1\\test\\510c3866.jpg: 640x640 0 0.64, 1 0.36, 7.1ms\n",
      "Speed: 5.7ms preprocess, 7.1ms inference, 0.0ms postprocess per image at shape (1, 3, 640, 640)\n",
      "\n",
      "image 1/1 C:\\Users\\User\\Desktop\\1Year\\Term2\\SuperEngi\\1PrepareFinalTest\\test_Image1\\test\\5157729e.jpg: 640x640 1 1.00, 0 0.00, 7.3ms\n",
      "Speed: 5.7ms preprocess, 7.3ms inference, 0.1ms postprocess per image at shape (1, 3, 640, 640)\n",
      "\n",
      "image 1/1 C:\\Users\\User\\Desktop\\1Year\\Term2\\SuperEngi\\1PrepareFinalTest\\test_Image1\\test\\5165b88f.jpg: 640x640 0 1.00, 1 0.00, 6.9ms\n",
      "Speed: 6.1ms preprocess, 6.9ms inference, 0.0ms postprocess per image at shape (1, 3, 640, 640)\n",
      "\n",
      "image 1/1 C:\\Users\\User\\Desktop\\1Year\\Term2\\SuperEngi\\1PrepareFinalTest\\test_Image1\\test\\5187b8e7.jpg: 640x640 0 1.00, 1 0.00, 6.4ms\n",
      "Speed: 6.2ms preprocess, 6.4ms inference, 0.0ms postprocess per image at shape (1, 3, 640, 640)\n",
      "\n",
      "image 1/1 C:\\Users\\User\\Desktop\\1Year\\Term2\\SuperEngi\\1PrepareFinalTest\\test_Image1\\test\\51aa83d6.jpg: 640x640 1 1.00, 0 0.00, 6.8ms\n",
      "Speed: 5.6ms preprocess, 6.8ms inference, 0.0ms postprocess per image at shape (1, 3, 640, 640)\n"
     ]
    },
    {
     "name": "stderr",
     "output_type": "stream",
     "text": [
      " 31%|███▏      | 487/1550 [00:12<00:22, 47.08it/s]"
     ]
    },
    {
     "name": "stdout",
     "output_type": "stream",
     "text": [
      "\n",
      "image 1/1 C:\\Users\\User\\Desktop\\1Year\\Term2\\SuperEngi\\1PrepareFinalTest\\test_Image1\\test\\51c109e4.jpg: 640x640 0 1.00, 1 0.00, 6.5ms\n",
      "Speed: 5.8ms preprocess, 6.5ms inference, 0.0ms postprocess per image at shape (1, 3, 640, 640)\n",
      "\n",
      "image 1/1 C:\\Users\\User\\Desktop\\1Year\\Term2\\SuperEngi\\1PrepareFinalTest\\test_Image1\\test\\51e20a5d.jpg: 640x640 1 1.00, 0 0.00, 8.0ms\n",
      "Speed: 5.8ms preprocess, 8.0ms inference, 0.0ms postprocess per image at shape (1, 3, 640, 640)\n",
      "\n",
      "image 1/1 C:\\Users\\User\\Desktop\\1Year\\Term2\\SuperEngi\\1PrepareFinalTest\\test_Image1\\test\\529de7b1.jpg: 640x640 0 1.00, 1 0.00, 7.2ms\n",
      "Speed: 5.9ms preprocess, 7.2ms inference, 0.1ms postprocess per image at shape (1, 3, 640, 640)\n",
      "\n",
      "image 1/1 C:\\Users\\User\\Desktop\\1Year\\Term2\\SuperEngi\\1PrepareFinalTest\\test_Image1\\test\\52bfa100.jpg: 640x640 0 1.00, 1 0.00, 6.8ms\n",
      "Speed: 5.9ms preprocess, 6.8ms inference, 0.1ms postprocess per image at shape (1, 3, 640, 640)\n",
      "\n",
      "image 1/1 C:\\Users\\User\\Desktop\\1Year\\Term2\\SuperEngi\\1PrepareFinalTest\\test_Image1\\test\\52c200f6.jpg: 640x640 1 0.99, 0 0.01, 7.0ms\n",
      "Speed: 6.1ms preprocess, 7.0ms inference, 0.1ms postprocess per image at shape (1, 3, 640, 640)\n"
     ]
    },
    {
     "name": "stderr",
     "output_type": "stream",
     "text": [
      " 32%|███▏      | 492/1550 [00:12<00:22, 47.88it/s]"
     ]
    },
    {
     "name": "stdout",
     "output_type": "stream",
     "text": [
      "\n",
      "image 1/1 C:\\Users\\User\\Desktop\\1Year\\Term2\\SuperEngi\\1PrepareFinalTest\\test_Image1\\test\\52d29a7c.jpg: 640x640 1 0.98, 0 0.02, 6.4ms\n",
      "Speed: 7.3ms preprocess, 6.4ms inference, 0.0ms postprocess per image at shape (1, 3, 640, 640)\n",
      "\n",
      "image 1/1 C:\\Users\\User\\Desktop\\1Year\\Term2\\SuperEngi\\1PrepareFinalTest\\test_Image1\\test\\530d4c99.jpg: 640x640 1 0.87, 0 0.13, 6.6ms\n",
      "Speed: 5.7ms preprocess, 6.6ms inference, 0.0ms postprocess per image at shape (1, 3, 640, 640)\n",
      "\n",
      "image 1/1 C:\\Users\\User\\Desktop\\1Year\\Term2\\SuperEngi\\1PrepareFinalTest\\test_Image1\\test\\53270b27.jpg: 640x640 1 1.00, 0 0.00, 6.6ms\n",
      "Speed: 6.6ms preprocess, 6.6ms inference, 0.0ms postprocess per image at shape (1, 3, 640, 640)\n",
      "\n",
      "image 1/1 C:\\Users\\User\\Desktop\\1Year\\Term2\\SuperEngi\\1PrepareFinalTest\\test_Image1\\test\\533843b6.jpg: 640x640 0 0.99, 1 0.01, 6.4ms\n",
      "Speed: 6.4ms preprocess, 6.4ms inference, 0.0ms postprocess per image at shape (1, 3, 640, 640)\n",
      "\n",
      "image 1/1 C:\\Users\\User\\Desktop\\1Year\\Term2\\SuperEngi\\1PrepareFinalTest\\test_Image1\\test\\53626eb3.jpg: 640x640 0 1.00, 1 0.00, 6.6ms\n",
      "Speed: 5.7ms preprocess, 6.6ms inference, 0.0ms postprocess per image at shape (1, 3, 640, 640)\n",
      "\n",
      "image 1/1 C:\\Users\\User\\Desktop\\1Year\\Term2\\SuperEngi\\1PrepareFinalTest\\test_Image1\\test\\5382bdfb.jpg: 640x640 1 1.00, 0 0.00, 6.6ms\n",
      "Speed: 6.0ms preprocess, 6.6ms inference, 0.1ms postprocess per image at shape (1, 3, 640, 640)\n"
     ]
    },
    {
     "name": "stderr",
     "output_type": "stream",
     "text": [
      " 32%|███▏      | 498/1550 [00:12<00:21, 48.75it/s]"
     ]
    },
    {
     "name": "stdout",
     "output_type": "stream",
     "text": [
      "\n",
      "image 1/1 C:\\Users\\User\\Desktop\\1Year\\Term2\\SuperEngi\\1PrepareFinalTest\\test_Image1\\test\\53b7d8b1.jpg: 640x640 0 1.00, 1 0.00, 12.4ms\n",
      "Speed: 9.5ms preprocess, 12.4ms inference, 0.1ms postprocess per image at shape (1, 3, 640, 640)\n",
      "\n",
      "image 1/1 C:\\Users\\User\\Desktop\\1Year\\Term2\\SuperEngi\\1PrepareFinalTest\\test_Image1\\test\\53bae954.jpg: 640x640 0 1.00, 1 0.00, 9.4ms\n",
      "Speed: 9.6ms preprocess, 9.4ms inference, 0.1ms postprocess per image at shape (1, 3, 640, 640)\n",
      "\n",
      "image 1/1 C:\\Users\\User\\Desktop\\1Year\\Term2\\SuperEngi\\1PrepareFinalTest\\test_Image1\\test\\53c9a58f.jpg: 640x640 1 1.00, 0 0.00, 6.5ms\n",
      "Speed: 6.9ms preprocess, 6.5ms inference, 0.0ms postprocess per image at shape (1, 3, 640, 640)\n",
      "\n",
      "image 1/1 C:\\Users\\User\\Desktop\\1Year\\Term2\\SuperEngi\\1PrepareFinalTest\\test_Image1\\test\\53d31435.jpg: 640x640 0 1.00, 1 0.00, 6.6ms\n",
      "Speed: 7.1ms preprocess, 6.6ms inference, 0.0ms postprocess per image at shape (1, 3, 640, 640)\n",
      "\n",
      "image 1/1 C:\\Users\\User\\Desktop\\1Year\\Term2\\SuperEngi\\1PrepareFinalTest\\test_Image1\\test\\542bcea5.jpg: 640x640 0 0.96, 1 0.04, 6.4ms\n",
      "Speed: 6.3ms preprocess, 6.4ms inference, 0.0ms postprocess per image at shape (1, 3, 640, 640)\n"
     ]
    },
    {
     "name": "stderr",
     "output_type": "stream",
     "text": [
      " 32%|███▏      | 503/1550 [00:12<00:22, 46.14it/s]"
     ]
    },
    {
     "name": "stdout",
     "output_type": "stream",
     "text": [
      "\n",
      "image 1/1 C:\\Users\\User\\Desktop\\1Year\\Term2\\SuperEngi\\1PrepareFinalTest\\test_Image1\\test\\54466b30.jpg: 640x640 0 0.99, 1 0.01, 6.3ms\n",
      "Speed: 6.2ms preprocess, 6.3ms inference, 0.0ms postprocess per image at shape (1, 3, 640, 640)\n",
      "\n",
      "image 1/1 C:\\Users\\User\\Desktop\\1Year\\Term2\\SuperEngi\\1PrepareFinalTest\\test_Image1\\test\\545e632d.jpg: 640x640 1 0.98, 0 0.02, 6.2ms\n",
      "Speed: 6.2ms preprocess, 6.2ms inference, 0.0ms postprocess per image at shape (1, 3, 640, 640)\n",
      "\n",
      "image 1/1 C:\\Users\\User\\Desktop\\1Year\\Term2\\SuperEngi\\1PrepareFinalTest\\test_Image1\\test\\546a0935.jpg: 640x640 1 1.00, 0 0.00, 6.4ms\n",
      "Speed: 6.2ms preprocess, 6.4ms inference, 0.0ms postprocess per image at shape (1, 3, 640, 640)\n",
      "\n",
      "image 1/1 C:\\Users\\User\\Desktop\\1Year\\Term2\\SuperEngi\\1PrepareFinalTest\\test_Image1\\test\\5480493c.jpg: 640x640 0 1.00, 1 0.00, 6.6ms\n",
      "Speed: 6.0ms preprocess, 6.6ms inference, 0.0ms postprocess per image at shape (1, 3, 640, 640)\n",
      "\n",
      "image 1/1 C:\\Users\\User\\Desktop\\1Year\\Term2\\SuperEngi\\1PrepareFinalTest\\test_Image1\\test\\54d1ba78.jpg: 640x640 0 1.00, 1 0.00, 6.2ms\n",
      "Speed: 5.9ms preprocess, 6.2ms inference, 0.0ms postprocess per image at shape (1, 3, 640, 640)\n",
      "\n",
      "image 1/1 C:\\Users\\User\\Desktop\\1Year\\Term2\\SuperEngi\\1PrepareFinalTest\\test_Image1\\test\\54f26e6b.jpg: 640x640 1 1.00, 0 0.00, 6.2ms\n",
      "Speed: 6.1ms preprocess, 6.2ms inference, 0.0ms postprocess per image at shape (1, 3, 640, 640)\n"
     ]
    },
    {
     "name": "stderr",
     "output_type": "stream",
     "text": [
      " 33%|███▎      | 509/1550 [00:12<00:21, 47.94it/s]"
     ]
    },
    {
     "name": "stdout",
     "output_type": "stream",
     "text": [
      "\n",
      "image 1/1 C:\\Users\\User\\Desktop\\1Year\\Term2\\SuperEngi\\1PrepareFinalTest\\test_Image1\\test\\558219e2.jpg: 640x640 0 1.00, 1 0.00, 6.5ms\n",
      "Speed: 6.3ms preprocess, 6.5ms inference, 0.0ms postprocess per image at shape (1, 3, 640, 640)\n",
      "\n",
      "image 1/1 C:\\Users\\User\\Desktop\\1Year\\Term2\\SuperEngi\\1PrepareFinalTest\\test_Image1\\test\\55b1d462.jpg: 640x640 0 1.00, 1 0.00, 6.4ms\n",
      "Speed: 5.7ms preprocess, 6.4ms inference, 0.2ms postprocess per image at shape (1, 3, 640, 640)\n",
      "\n",
      "image 1/1 C:\\Users\\User\\Desktop\\1Year\\Term2\\SuperEngi\\1PrepareFinalTest\\test_Image1\\test\\55b61e71.jpg: 640x640 0 0.98, 1 0.02, 6.2ms\n",
      "Speed: 5.9ms preprocess, 6.2ms inference, 0.0ms postprocess per image at shape (1, 3, 640, 640)\n",
      "\n",
      "image 1/1 C:\\Users\\User\\Desktop\\1Year\\Term2\\SuperEngi\\1PrepareFinalTest\\test_Image1\\test\\55ffce24.jpg: 640x640 1 1.00, 0 0.00, 6.7ms\n",
      "Speed: 6.0ms preprocess, 6.7ms inference, 0.0ms postprocess per image at shape (1, 3, 640, 640)\n",
      "\n",
      "image 1/1 C:\\Users\\User\\Desktop\\1Year\\Term2\\SuperEngi\\1PrepareFinalTest\\test_Image1\\test\\569cb738.jpg: 640x640 0 1.00, 1 0.00, 6.9ms\n",
      "Speed: 8.7ms preprocess, 6.9ms inference, 0.1ms postprocess per image at shape (1, 3, 640, 640)\n"
     ]
    },
    {
     "name": "stderr",
     "output_type": "stream",
     "text": [
      " 33%|███▎      | 514/1550 [00:12<00:21, 48.22it/s]"
     ]
    },
    {
     "name": "stdout",
     "output_type": "stream",
     "text": [
      "\n",
      "image 1/1 C:\\Users\\User\\Desktop\\1Year\\Term2\\SuperEngi\\1PrepareFinalTest\\test_Image1\\test\\57200181.jpg: 640x640 1 1.00, 0 0.00, 7.1ms\n",
      "Speed: 8.8ms preprocess, 7.1ms inference, 0.0ms postprocess per image at shape (1, 3, 640, 640)\n",
      "\n",
      "image 1/1 C:\\Users\\User\\Desktop\\1Year\\Term2\\SuperEngi\\1PrepareFinalTest\\test_Image1\\test\\57214aa1.jpg: 640x640 0 0.93, 1 0.07, 6.7ms\n",
      "Speed: 8.9ms preprocess, 6.7ms inference, 0.1ms postprocess per image at shape (1, 3, 640, 640)\n",
      "\n",
      "image 1/1 C:\\Users\\User\\Desktop\\1Year\\Term2\\SuperEngi\\1PrepareFinalTest\\test_Image1\\test\\573a7bbc.jpg: 640x640 0 0.99, 1 0.01, 6.9ms\n",
      "Speed: 8.1ms preprocess, 6.9ms inference, 0.1ms postprocess per image at shape (1, 3, 640, 640)\n",
      "\n",
      "image 1/1 C:\\Users\\User\\Desktop\\1Year\\Term2\\SuperEngi\\1PrepareFinalTest\\test_Image1\\test\\5754a281.jpg: 640x640 1 1.00, 0 0.00, 6.9ms\n",
      "Speed: 8.9ms preprocess, 6.9ms inference, 0.1ms postprocess per image at shape (1, 3, 640, 640)\n",
      "\n",
      "image 1/1 C:\\Users\\User\\Desktop\\1Year\\Term2\\SuperEngi\\1PrepareFinalTest\\test_Image1\\test\\575ec55a.jpg: 640x640 1 1.00, 0 0.00, 6.9ms\n",
      "Speed: 9.4ms preprocess, 6.9ms inference, 0.1ms postprocess per image at shape (1, 3, 640, 640)\n"
     ]
    },
    {
     "name": "stderr",
     "output_type": "stream",
     "text": [
      " 33%|███▎      | 519/1550 [00:12<00:22, 44.99it/s]"
     ]
    },
    {
     "name": "stdout",
     "output_type": "stream",
     "text": [
      "\n",
      "image 1/1 C:\\Users\\User\\Desktop\\1Year\\Term2\\SuperEngi\\1PrepareFinalTest\\test_Image1\\test\\57b2ae82.jpg: 640x640 1 1.00, 0 0.00, 7.3ms\n",
      "Speed: 12.5ms preprocess, 7.3ms inference, 0.1ms postprocess per image at shape (1, 3, 640, 640)\n",
      "\n",
      "image 1/1 C:\\Users\\User\\Desktop\\1Year\\Term2\\SuperEngi\\1PrepareFinalTest\\test_Image1\\test\\57b3c5c2.jpg: 640x640 0 1.00, 1 0.00, 6.9ms\n",
      "Speed: 8.6ms preprocess, 6.9ms inference, 0.1ms postprocess per image at shape (1, 3, 640, 640)\n",
      "\n",
      "image 1/1 C:\\Users\\User\\Desktop\\1Year\\Term2\\SuperEngi\\1PrepareFinalTest\\test_Image1\\test\\58247717.jpg: 640x640 0 1.00, 1 0.00, 7.1ms\n",
      "Speed: 8.6ms preprocess, 7.1ms inference, 0.0ms postprocess per image at shape (1, 3, 640, 640)\n",
      "\n",
      "image 1/1 C:\\Users\\User\\Desktop\\1Year\\Term2\\SuperEngi\\1PrepareFinalTest\\test_Image1\\test\\58267211.jpg: 640x640 1 1.00, 0 0.00, 6.5ms\n",
      "Speed: 8.8ms preprocess, 6.5ms inference, 0.1ms postprocess per image at shape (1, 3, 640, 640)\n",
      "\n",
      "image 1/1 C:\\Users\\User\\Desktop\\1Year\\Term2\\SuperEngi\\1PrepareFinalTest\\test_Image1\\test\\582c787c.jpg: 640x640 0 1.00, 1 0.00, 7.4ms\n",
      "Speed: 9.2ms preprocess, 7.4ms inference, 0.0ms postprocess per image at shape (1, 3, 640, 640)\n"
     ]
    },
    {
     "name": "stderr",
     "output_type": "stream",
     "text": [
      " 34%|███▍      | 524/1550 [00:12<00:24, 41.42it/s]"
     ]
    },
    {
     "name": "stdout",
     "output_type": "stream",
     "text": [
      "\n",
      "image 1/1 C:\\Users\\User\\Desktop\\1Year\\Term2\\SuperEngi\\1PrepareFinalTest\\test_Image1\\test\\583e01c9.jpg: 640x640 0 1.00, 1 0.00, 6.3ms\n",
      "Speed: 7.6ms preprocess, 6.3ms inference, 0.1ms postprocess per image at shape (1, 3, 640, 640)\n",
      "\n",
      "image 1/1 C:\\Users\\User\\Desktop\\1Year\\Term2\\SuperEngi\\1PrepareFinalTest\\test_Image1\\test\\58d343f2.jpg: 640x640 1 1.00, 0 0.00, 7.9ms\n",
      "Speed: 7.7ms preprocess, 7.9ms inference, 0.0ms postprocess per image at shape (1, 3, 640, 640)\n",
      "\n",
      "image 1/1 C:\\Users\\User\\Desktop\\1Year\\Term2\\SuperEngi\\1PrepareFinalTest\\test_Image1\\test\\5913e805.jpg: 640x640 1 1.00, 0 0.00, 7.8ms\n",
      "Speed: 7.6ms preprocess, 7.8ms inference, 0.0ms postprocess per image at shape (1, 3, 640, 640)\n",
      "\n",
      "image 1/1 C:\\Users\\User\\Desktop\\1Year\\Term2\\SuperEngi\\1PrepareFinalTest\\test_Image1\\test\\5923d103.jpg: 640x640 1 1.00, 0 0.00, 6.7ms\n",
      "Speed: 7.5ms preprocess, 6.7ms inference, 0.1ms postprocess per image at shape (1, 3, 640, 640)\n",
      "\n",
      "image 1/1 C:\\Users\\User\\Desktop\\1Year\\Term2\\SuperEngi\\1PrepareFinalTest\\test_Image1\\test\\593f5feb.jpg: 640x640 1 1.00, 0 0.00, 7.0ms\n",
      "Speed: 7.6ms preprocess, 7.0ms inference, 0.0ms postprocess per image at shape (1, 3, 640, 640)\n"
     ]
    },
    {
     "name": "stderr",
     "output_type": "stream",
     "text": [
      " 34%|███▍      | 529/1550 [00:12<00:24, 41.60it/s]"
     ]
    },
    {
     "name": "stdout",
     "output_type": "stream",
     "text": [
      "\n",
      "image 1/1 C:\\Users\\User\\Desktop\\1Year\\Term2\\SuperEngi\\1PrepareFinalTest\\test_Image1\\test\\597df2f7.jpg: 640x640 1 0.55, 0 0.45, 6.7ms\n",
      "Speed: 8.3ms preprocess, 6.7ms inference, 0.1ms postprocess per image at shape (1, 3, 640, 640)\n",
      "\n",
      "image 1/1 C:\\Users\\User\\Desktop\\1Year\\Term2\\SuperEngi\\1PrepareFinalTest\\test_Image1\\test\\5994b592.jpg: 640x640 0 1.00, 1 0.00, 6.7ms\n",
      "Speed: 8.4ms preprocess, 6.7ms inference, 0.1ms postprocess per image at shape (1, 3, 640, 640)\n",
      "\n",
      "image 1/1 C:\\Users\\User\\Desktop\\1Year\\Term2\\SuperEngi\\1PrepareFinalTest\\test_Image1\\test\\5aca8314.jpg: 640x640 1 1.00, 0 0.00, 8.0ms\n",
      "Speed: 7.7ms preprocess, 8.0ms inference, 0.1ms postprocess per image at shape (1, 3, 640, 640)\n",
      "\n",
      "image 1/1 C:\\Users\\User\\Desktop\\1Year\\Term2\\SuperEngi\\1PrepareFinalTest\\test_Image1\\test\\5ad77b0a.jpg: 640x640 0 1.00, 1 0.00, 6.6ms\n",
      "Speed: 7.5ms preprocess, 6.6ms inference, 0.0ms postprocess per image at shape (1, 3, 640, 640)\n",
      "\n",
      "image 1/1 C:\\Users\\User\\Desktop\\1Year\\Term2\\SuperEngi\\1PrepareFinalTest\\test_Image1\\test\\5af5198a.jpg: 640x640 0 1.00, 1 0.00, 6.4ms\n",
      "Speed: 7.0ms preprocess, 6.4ms inference, 0.1ms postprocess per image at shape (1, 3, 640, 640)\n"
     ]
    },
    {
     "name": "stderr",
     "output_type": "stream",
     "text": [
      " 34%|███▍      | 534/1550 [00:13<00:24, 41.46it/s]"
     ]
    },
    {
     "name": "stdout",
     "output_type": "stream",
     "text": [
      "\n",
      "image 1/1 C:\\Users\\User\\Desktop\\1Year\\Term2\\SuperEngi\\1PrepareFinalTest\\test_Image1\\test\\5b22e513.jpg: 640x640 1 1.00, 0 0.00, 6.5ms\n",
      "Speed: 7.9ms preprocess, 6.5ms inference, 0.0ms postprocess per image at shape (1, 3, 640, 640)\n",
      "\n",
      "image 1/1 C:\\Users\\User\\Desktop\\1Year\\Term2\\SuperEngi\\1PrepareFinalTest\\test_Image1\\test\\5b7f5128.jpg: 640x640 1 1.00, 0 0.00, 7.6ms\n",
      "Speed: 11.5ms preprocess, 7.6ms inference, 0.1ms postprocess per image at shape (1, 3, 640, 640)\n",
      "\n",
      "image 1/1 C:\\Users\\User\\Desktop\\1Year\\Term2\\SuperEngi\\1PrepareFinalTest\\test_Image1\\test\\5b9ddac2.jpg: 640x640 1 0.99, 0 0.01, 8.1ms\n",
      "Speed: 8.8ms preprocess, 8.1ms inference, 0.1ms postprocess per image at shape (1, 3, 640, 640)\n",
      "\n",
      "image 1/1 C:\\Users\\User\\Desktop\\1Year\\Term2\\SuperEngi\\1PrepareFinalTest\\test_Image1\\test\\5bcca9b9.jpg: 640x640 1 1.00, 0 0.00, 6.4ms\n",
      "Speed: 7.8ms preprocess, 6.4ms inference, 0.1ms postprocess per image at shape (1, 3, 640, 640)\n",
      "\n",
      "image 1/1 C:\\Users\\User\\Desktop\\1Year\\Term2\\SuperEngi\\1PrepareFinalTest\\test_Image1\\test\\5c421eed.jpg: 640x640 1 1.00, 0 0.00, 7.0ms\n",
      "Speed: 7.8ms preprocess, 7.0ms inference, 0.1ms postprocess per image at shape (1, 3, 640, 640)\n"
     ]
    },
    {
     "name": "stderr",
     "output_type": "stream",
     "text": [
      " 35%|███▍      | 539/1550 [00:13<00:25, 39.39it/s]"
     ]
    },
    {
     "name": "stdout",
     "output_type": "stream",
     "text": [
      "\n",
      "image 1/1 C:\\Users\\User\\Desktop\\1Year\\Term2\\SuperEngi\\1PrepareFinalTest\\test_Image1\\test\\5c43fc0d.jpg: 640x640 0 0.98, 1 0.02, 6.8ms\n",
      "Speed: 7.6ms preprocess, 6.8ms inference, 0.1ms postprocess per image at shape (1, 3, 640, 640)\n",
      "\n",
      "image 1/1 C:\\Users\\User\\Desktop\\1Year\\Term2\\SuperEngi\\1PrepareFinalTest\\test_Image1\\test\\5c59c118.jpg: 640x640 0 1.00, 1 0.00, 7.1ms\n",
      "Speed: 9.3ms preprocess, 7.1ms inference, 0.1ms postprocess per image at shape (1, 3, 640, 640)\n",
      "\n",
      "image 1/1 C:\\Users\\User\\Desktop\\1Year\\Term2\\SuperEngi\\1PrepareFinalTest\\test_Image1\\test\\5cf0912c.jpg: 640x640 0 1.00, 1 0.00, 9.1ms\n",
      "Speed: 8.2ms preprocess, 9.1ms inference, 0.1ms postprocess per image at shape (1, 3, 640, 640)\n",
      "\n",
      "image 1/1 C:\\Users\\User\\Desktop\\1Year\\Term2\\SuperEngi\\1PrepareFinalTest\\test_Image1\\test\\5d2293a9.jpg: 640x640 1 0.83, 0 0.17, 6.6ms\n",
      "Speed: 7.3ms preprocess, 6.6ms inference, 0.0ms postprocess per image at shape (1, 3, 640, 640)\n",
      "\n",
      "image 1/1 C:\\Users\\User\\Desktop\\1Year\\Term2\\SuperEngi\\1PrepareFinalTest\\test_Image1\\test\\5d6952ac.jpg: 640x640 0 0.99, 1 0.01, 6.9ms\n",
      "Speed: 8.2ms preprocess, 6.9ms inference, 0.1ms postprocess per image at shape (1, 3, 640, 640)\n"
     ]
    },
    {
     "name": "stderr",
     "output_type": "stream",
     "text": [
      " 35%|███▌      | 544/1550 [00:13<00:25, 39.97it/s]"
     ]
    },
    {
     "name": "stdout",
     "output_type": "stream",
     "text": [
      "\n",
      "image 1/1 C:\\Users\\User\\Desktop\\1Year\\Term2\\SuperEngi\\1PrepareFinalTest\\test_Image1\\test\\5d82d2b1.jpg: 640x640 1 1.00, 0 0.00, 7.3ms\n",
      "Speed: 7.8ms preprocess, 7.3ms inference, 0.1ms postprocess per image at shape (1, 3, 640, 640)\n",
      "\n",
      "image 1/1 C:\\Users\\User\\Desktop\\1Year\\Term2\\SuperEngi\\1PrepareFinalTest\\test_Image1\\test\\5d871084.jpg: 640x640 0 1.00, 1 0.00, 7.1ms\n",
      "Speed: 8.1ms preprocess, 7.1ms inference, 0.0ms postprocess per image at shape (1, 3, 640, 640)\n",
      "\n",
      "image 1/1 C:\\Users\\User\\Desktop\\1Year\\Term2\\SuperEngi\\1PrepareFinalTest\\test_Image1\\test\\5da44a16.jpg: 640x640 0 1.00, 1 0.00, 7.9ms\n",
      "Speed: 7.8ms preprocess, 7.9ms inference, 0.0ms postprocess per image at shape (1, 3, 640, 640)\n",
      "\n",
      "image 1/1 C:\\Users\\User\\Desktop\\1Year\\Term2\\SuperEngi\\1PrepareFinalTest\\test_Image1\\test\\5e0166f8.jpg: 640x640 1 1.00, 0 0.00, 6.8ms\n",
      "Speed: 7.3ms preprocess, 6.8ms inference, 0.1ms postprocess per image at shape (1, 3, 640, 640)\n",
      "\n",
      "image 1/1 C:\\Users\\User\\Desktop\\1Year\\Term2\\SuperEngi\\1PrepareFinalTest\\test_Image1\\test\\5e04ee4a.jpg: 640x640 0 1.00, 1 0.00, 6.9ms\n",
      "Speed: 7.2ms preprocess, 6.9ms inference, 0.0ms postprocess per image at shape (1, 3, 640, 640)\n"
     ]
    },
    {
     "name": "stderr",
     "output_type": "stream",
     "text": [
      " 35%|███▌      | 549/1550 [00:13<00:24, 40.99it/s]"
     ]
    },
    {
     "name": "stdout",
     "output_type": "stream",
     "text": [
      "\n",
      "image 1/1 C:\\Users\\User\\Desktop\\1Year\\Term2\\SuperEngi\\1PrepareFinalTest\\test_Image1\\test\\5e2d50a4.jpg: 640x640 1 1.00, 0 0.00, 7.2ms\n",
      "Speed: 7.4ms preprocess, 7.2ms inference, 0.1ms postprocess per image at shape (1, 3, 640, 640)\n",
      "\n",
      "image 1/1 C:\\Users\\User\\Desktop\\1Year\\Term2\\SuperEngi\\1PrepareFinalTest\\test_Image1\\test\\5e8aea48.jpg: 640x640 0 1.00, 1 0.00, 7.0ms\n",
      "Speed: 8.9ms preprocess, 7.0ms inference, 0.1ms postprocess per image at shape (1, 3, 640, 640)\n",
      "\n",
      "image 1/1 C:\\Users\\User\\Desktop\\1Year\\Term2\\SuperEngi\\1PrepareFinalTest\\test_Image1\\test\\5ea84627.jpg: 640x640 1 1.00, 0 0.00, 7.0ms\n",
      "Speed: 7.4ms preprocess, 7.0ms inference, 0.1ms postprocess per image at shape (1, 3, 640, 640)\n",
      "\n",
      "image 1/1 C:\\Users\\User\\Desktop\\1Year\\Term2\\SuperEngi\\1PrepareFinalTest\\test_Image1\\test\\5f033aaf.jpg: 640x640 1 1.00, 0 0.00, 7.0ms\n",
      "Speed: 8.8ms preprocess, 7.0ms inference, 0.1ms postprocess per image at shape (1, 3, 640, 640)\n",
      "\n",
      "image 1/1 C:\\Users\\User\\Desktop\\1Year\\Term2\\SuperEngi\\1PrepareFinalTest\\test_Image1\\test\\5f229900.jpg: 640x640 0 1.00, 1 0.00, 8.3ms\n",
      "Speed: 7.4ms preprocess, 8.3ms inference, 0.1ms postprocess per image at shape (1, 3, 640, 640)\n"
     ]
    },
    {
     "name": "stderr",
     "output_type": "stream",
     "text": [
      " 36%|███▌      | 554/1550 [00:13<00:24, 41.11it/s]"
     ]
    },
    {
     "name": "stdout",
     "output_type": "stream",
     "text": [
      "\n",
      "image 1/1 C:\\Users\\User\\Desktop\\1Year\\Term2\\SuperEngi\\1PrepareFinalTest\\test_Image1\\test\\5f5ef892.jpg: 640x640 0 1.00, 1 0.00, 7.1ms\n",
      "Speed: 9.0ms preprocess, 7.1ms inference, 0.1ms postprocess per image at shape (1, 3, 640, 640)\n",
      "\n",
      "image 1/1 C:\\Users\\User\\Desktop\\1Year\\Term2\\SuperEngi\\1PrepareFinalTest\\test_Image1\\test\\5f7a930c.jpg: 640x640 1 1.00, 0 0.00, 8.1ms\n",
      "Speed: 8.1ms preprocess, 8.1ms inference, 0.1ms postprocess per image at shape (1, 3, 640, 640)\n",
      "\n",
      "image 1/1 C:\\Users\\User\\Desktop\\1Year\\Term2\\SuperEngi\\1PrepareFinalTest\\test_Image1\\test\\5f7d69e3.jpg: 640x640 1 1.00, 0 0.00, 6.9ms\n",
      "Speed: 8.1ms preprocess, 6.9ms inference, 0.1ms postprocess per image at shape (1, 3, 640, 640)\n",
      "\n",
      "image 1/1 C:\\Users\\User\\Desktop\\1Year\\Term2\\SuperEngi\\1PrepareFinalTest\\test_Image1\\test\\5fb482dc.jpg: 640x640 0 0.86, 1 0.14, 7.2ms\n",
      "Speed: 7.6ms preprocess, 7.2ms inference, 0.1ms postprocess per image at shape (1, 3, 640, 640)\n",
      "\n",
      "image 1/1 C:\\Users\\User\\Desktop\\1Year\\Term2\\SuperEngi\\1PrepareFinalTest\\test_Image1\\test\\5fe420e8.jpg: 640x640 1 1.00, 0 0.00, 6.7ms\n",
      "Speed: 7.6ms preprocess, 6.7ms inference, 0.0ms postprocess per image at shape (1, 3, 640, 640)\n"
     ]
    },
    {
     "name": "stderr",
     "output_type": "stream",
     "text": [
      " 36%|███▌      | 559/1550 [00:13<00:24, 41.02it/s]"
     ]
    },
    {
     "name": "stdout",
     "output_type": "stream",
     "text": [
      "\n",
      "image 1/1 C:\\Users\\User\\Desktop\\1Year\\Term2\\SuperEngi\\1PrepareFinalTest\\test_Image1\\test\\60080d3e.jpg: 640x640 1 1.00, 0 0.00, 7.0ms\n",
      "Speed: 8.2ms preprocess, 7.0ms inference, 0.1ms postprocess per image at shape (1, 3, 640, 640)\n",
      "\n",
      "image 1/1 C:\\Users\\User\\Desktop\\1Year\\Term2\\SuperEngi\\1PrepareFinalTest\\test_Image1\\test\\602e6224.jpg: 640x640 0 1.00, 1 0.00, 7.4ms\n",
      "Speed: 7.7ms preprocess, 7.4ms inference, 0.1ms postprocess per image at shape (1, 3, 640, 640)\n",
      "\n",
      "image 1/1 C:\\Users\\User\\Desktop\\1Year\\Term2\\SuperEngi\\1PrepareFinalTest\\test_Image1\\test\\607b0dfe.jpg: 640x640 1 1.00, 0 0.00, 6.9ms\n",
      "Speed: 7.7ms preprocess, 6.9ms inference, 0.1ms postprocess per image at shape (1, 3, 640, 640)\n",
      "\n",
      "image 1/1 C:\\Users\\User\\Desktop\\1Year\\Term2\\SuperEngi\\1PrepareFinalTest\\test_Image1\\test\\60aefb64.jpg: 640x640 0 1.00, 1 0.00, 7.0ms\n",
      "Speed: 8.9ms preprocess, 7.0ms inference, 0.1ms postprocess per image at shape (1, 3, 640, 640)\n",
      "\n",
      "image 1/1 C:\\Users\\User\\Desktop\\1Year\\Term2\\SuperEngi\\1PrepareFinalTest\\test_Image1\\test\\60bb9abd.jpg: 640x640 1 1.00, 0 0.00, 6.7ms\n",
      "Speed: 7.9ms preprocess, 6.7ms inference, 0.1ms postprocess per image at shape (1, 3, 640, 640)\n"
     ]
    },
    {
     "name": "stderr",
     "output_type": "stream",
     "text": [
      " 36%|███▋      | 564/1550 [00:13<00:24, 41.05it/s]"
     ]
    },
    {
     "name": "stdout",
     "output_type": "stream",
     "text": [
      "\n",
      "image 1/1 C:\\Users\\User\\Desktop\\1Year\\Term2\\SuperEngi\\1PrepareFinalTest\\test_Image1\\test\\6110be70.jpg: 640x640 0 1.00, 1 0.00, 6.7ms\n",
      "Speed: 8.3ms preprocess, 6.7ms inference, 0.0ms postprocess per image at shape (1, 3, 640, 640)\n",
      "\n",
      "image 1/1 C:\\Users\\User\\Desktop\\1Year\\Term2\\SuperEngi\\1PrepareFinalTest\\test_Image1\\test\\6121332d.jpg: 640x640 0 1.00, 1 0.00, 7.3ms\n",
      "Speed: 7.8ms preprocess, 7.3ms inference, 0.1ms postprocess per image at shape (1, 3, 640, 640)\n",
      "\n",
      "image 1/1 C:\\Users\\User\\Desktop\\1Year\\Term2\\SuperEngi\\1PrepareFinalTest\\test_Image1\\test\\61754b7d.jpg: 640x640 1 0.91, 0 0.09, 7.0ms\n",
      "Speed: 7.7ms preprocess, 7.0ms inference, 0.1ms postprocess per image at shape (1, 3, 640, 640)\n",
      "\n",
      "image 1/1 C:\\Users\\User\\Desktop\\1Year\\Term2\\SuperEngi\\1PrepareFinalTest\\test_Image1\\test\\6189c8fa.jpg: 640x640 1 1.00, 0 0.00, 6.9ms\n",
      "Speed: 7.5ms preprocess, 6.9ms inference, 0.0ms postprocess per image at shape (1, 3, 640, 640)\n",
      "\n",
      "image 1/1 C:\\Users\\User\\Desktop\\1Year\\Term2\\SuperEngi\\1PrepareFinalTest\\test_Image1\\test\\61bac937.jpg: 640x640 0 1.00, 1 0.00, 7.2ms\n",
      "Speed: 7.8ms preprocess, 7.2ms inference, 0.0ms postprocess per image at shape (1, 3, 640, 640)\n"
     ]
    },
    {
     "name": "stderr",
     "output_type": "stream",
     "text": [
      " 37%|███▋      | 569/1550 [00:13<00:23, 41.45it/s]"
     ]
    },
    {
     "name": "stdout",
     "output_type": "stream",
     "text": [
      "\n",
      "image 1/1 C:\\Users\\User\\Desktop\\1Year\\Term2\\SuperEngi\\1PrepareFinalTest\\test_Image1\\test\\62187266.jpg: 640x640 1 1.00, 0 0.00, 7.0ms\n",
      "Speed: 7.7ms preprocess, 7.0ms inference, 0.1ms postprocess per image at shape (1, 3, 640, 640)\n",
      "\n",
      "image 1/1 C:\\Users\\User\\Desktop\\1Year\\Term2\\SuperEngi\\1PrepareFinalTest\\test_Image1\\test\\62784888.jpg: 640x640 1 1.00, 0 0.00, 7.2ms\n",
      "Speed: 8.1ms preprocess, 7.2ms inference, 0.1ms postprocess per image at shape (1, 3, 640, 640)\n",
      "\n",
      "image 1/1 C:\\Users\\User\\Desktop\\1Year\\Term2\\SuperEngi\\1PrepareFinalTest\\test_Image1\\test\\6301b5ad.jpg: 640x640 1 1.00, 0 0.00, 9.2ms\n",
      "Speed: 9.4ms preprocess, 9.2ms inference, 0.1ms postprocess per image at shape (1, 3, 640, 640)\n",
      "\n",
      "image 1/1 C:\\Users\\User\\Desktop\\1Year\\Term2\\SuperEngi\\1PrepareFinalTest\\test_Image1\\test\\630ca612.jpg: 640x640 1 1.00, 0 0.00, 7.4ms\n",
      "Speed: 7.7ms preprocess, 7.4ms inference, 0.1ms postprocess per image at shape (1, 3, 640, 640)\n",
      "\n",
      "image 1/1 C:\\Users\\User\\Desktop\\1Year\\Term2\\SuperEngi\\1PrepareFinalTest\\test_Image1\\test\\632726ba.jpg: 640x640 1 0.98, 0 0.02, 7.3ms\n",
      "Speed: 8.1ms preprocess, 7.3ms inference, 0.1ms postprocess per image at shape (1, 3, 640, 640)\n"
     ]
    },
    {
     "name": "stderr",
     "output_type": "stream",
     "text": [
      " 37%|███▋      | 574/1550 [00:14<00:23, 40.67it/s]"
     ]
    },
    {
     "name": "stdout",
     "output_type": "stream",
     "text": [
      "\n",
      "image 1/1 C:\\Users\\User\\Desktop\\1Year\\Term2\\SuperEngi\\1PrepareFinalTest\\test_Image1\\test\\6344534a.jpg: 640x640 0 1.00, 1 0.00, 7.0ms\n",
      "Speed: 7.7ms preprocess, 7.0ms inference, 0.1ms postprocess per image at shape (1, 3, 640, 640)\n",
      "\n",
      "image 1/1 C:\\Users\\User\\Desktop\\1Year\\Term2\\SuperEngi\\1PrepareFinalTest\\test_Image1\\test\\635b361b.jpg: 640x640 0 1.00, 1 0.00, 12.1ms\n",
      "Speed: 11.8ms preprocess, 12.1ms inference, 0.1ms postprocess per image at shape (1, 3, 640, 640)\n",
      "\n",
      "image 1/1 C:\\Users\\User\\Desktop\\1Year\\Term2\\SuperEngi\\1PrepareFinalTest\\test_Image1\\test\\6387d951.jpg: 640x640 1 1.00, 0 0.00, 7.1ms\n",
      "Speed: 10.0ms preprocess, 7.1ms inference, 0.1ms postprocess per image at shape (1, 3, 640, 640)\n",
      "\n",
      "image 1/1 C:\\Users\\User\\Desktop\\1Year\\Term2\\SuperEngi\\1PrepareFinalTest\\test_Image1\\test\\63b4fe02.jpg: 640x640 1 1.00, 0 0.00, 7.0ms\n",
      "Speed: 7.9ms preprocess, 7.0ms inference, 0.1ms postprocess per image at shape (1, 3, 640, 640)\n",
      "\n",
      "image 1/1 C:\\Users\\User\\Desktop\\1Year\\Term2\\SuperEngi\\1PrepareFinalTest\\test_Image1\\test\\63ce4369.jpg: 640x640 0 1.00, 1 0.00, 7.3ms\n",
      "Speed: 7.9ms preprocess, 7.3ms inference, 0.1ms postprocess per image at shape (1, 3, 640, 640)\n"
     ]
    },
    {
     "name": "stderr",
     "output_type": "stream",
     "text": [
      " 37%|███▋      | 579/1550 [00:14<00:24, 39.18it/s]"
     ]
    },
    {
     "name": "stdout",
     "output_type": "stream",
     "text": [
      "\n",
      "image 1/1 C:\\Users\\User\\Desktop\\1Year\\Term2\\SuperEngi\\1PrepareFinalTest\\test_Image1\\test\\63d13ecb.jpg: 640x640 0 1.00, 1 0.00, 7.2ms\n",
      "Speed: 8.0ms preprocess, 7.2ms inference, 0.1ms postprocess per image at shape (1, 3, 640, 640)\n",
      "\n",
      "image 1/1 C:\\Users\\User\\Desktop\\1Year\\Term2\\SuperEngi\\1PrepareFinalTest\\test_Image1\\test\\645db703.jpg: 640x640 1 1.00, 0 0.00, 6.9ms\n",
      "Speed: 8.9ms preprocess, 6.9ms inference, 0.1ms postprocess per image at shape (1, 3, 640, 640)\n",
      "\n",
      "image 1/1 C:\\Users\\User\\Desktop\\1Year\\Term2\\SuperEngi\\1PrepareFinalTest\\test_Image1\\test\\645e314f.jpg: 640x640 0 1.00, 1 0.00, 8.4ms\n",
      "Speed: 7.2ms preprocess, 8.4ms inference, 0.1ms postprocess per image at shape (1, 3, 640, 640)\n",
      "\n",
      "image 1/1 C:\\Users\\User\\Desktop\\1Year\\Term2\\SuperEngi\\1PrepareFinalTest\\test_Image1\\test\\64a29118.jpg: 640x640 1 1.00, 0 0.00, 9.7ms\n",
      "Speed: 8.7ms preprocess, 9.7ms inference, 0.1ms postprocess per image at shape (1, 3, 640, 640)\n"
     ]
    },
    {
     "name": "stderr",
     "output_type": "stream",
     "text": [
      " 38%|███▊      | 583/1550 [00:14<00:24, 39.12it/s]"
     ]
    },
    {
     "name": "stdout",
     "output_type": "stream",
     "text": [
      "\n",
      "image 1/1 C:\\Users\\User\\Desktop\\1Year\\Term2\\SuperEngi\\1PrepareFinalTest\\test_Image1\\test\\64bb2834.jpg: 640x640 0 1.00, 1 0.00, 9.1ms\n",
      "Speed: 9.2ms preprocess, 9.1ms inference, 0.1ms postprocess per image at shape (1, 3, 640, 640)\n",
      "\n",
      "image 1/1 C:\\Users\\User\\Desktop\\1Year\\Term2\\SuperEngi\\1PrepareFinalTest\\test_Image1\\test\\64bb87d7.jpg: 640x640 1 0.93, 0 0.07, 9.0ms\n",
      "Speed: 9.4ms preprocess, 9.0ms inference, 0.1ms postprocess per image at shape (1, 3, 640, 640)\n",
      "\n",
      "image 1/1 C:\\Users\\User\\Desktop\\1Year\\Term2\\SuperEngi\\1PrepareFinalTest\\test_Image1\\test\\64db070d.jpg: 640x640 0 0.99, 1 0.01, 9.5ms\n",
      "Speed: 9.9ms preprocess, 9.5ms inference, 0.1ms postprocess per image at shape (1, 3, 640, 640)\n",
      "\n",
      "image 1/1 C:\\Users\\User\\Desktop\\1Year\\Term2\\SuperEngi\\1PrepareFinalTest\\test_Image1\\test\\6506717c.jpg: 640x640 0 1.00, 1 0.00, 9.0ms\n",
      "Speed: 9.0ms preprocess, 9.0ms inference, 0.1ms postprocess per image at shape (1, 3, 640, 640)\n"
     ]
    },
    {
     "name": "stderr",
     "output_type": "stream",
     "text": [
      " 38%|███▊      | 587/1550 [00:14<00:25, 38.25it/s]"
     ]
    },
    {
     "name": "stdout",
     "output_type": "stream",
     "text": [
      "\n",
      "image 1/1 C:\\Users\\User\\Desktop\\1Year\\Term2\\SuperEngi\\1PrepareFinalTest\\test_Image1\\test\\650d6e59.jpg: 640x640 1 1.00, 0 0.00, 9.4ms\n",
      "Speed: 10.0ms preprocess, 9.4ms inference, 0.1ms postprocess per image at shape (1, 3, 640, 640)\n",
      "\n",
      "image 1/1 C:\\Users\\User\\Desktop\\1Year\\Term2\\SuperEngi\\1PrepareFinalTest\\test_Image1\\test\\650f6075.jpg: 640x640 0 0.99, 1 0.01, 9.0ms\n",
      "Speed: 8.9ms preprocess, 9.0ms inference, 0.1ms postprocess per image at shape (1, 3, 640, 640)\n",
      "\n",
      "image 1/1 C:\\Users\\User\\Desktop\\1Year\\Term2\\SuperEngi\\1PrepareFinalTest\\test_Image1\\test\\65301437.jpg: 640x640 1 1.00, 0 0.00, 8.3ms\n",
      "Speed: 14.5ms preprocess, 8.3ms inference, 0.1ms postprocess per image at shape (1, 3, 640, 640)\n",
      "\n",
      "image 1/1 C:\\Users\\User\\Desktop\\1Year\\Term2\\SuperEngi\\1PrepareFinalTest\\test_Image1\\test\\6535e588.jpg: 640x640 1 1.00, 0 0.00, 7.7ms\n",
      "Speed: 9.6ms preprocess, 7.7ms inference, 0.0ms postprocess per image at shape (1, 3, 640, 640)\n"
     ]
    },
    {
     "name": "stderr",
     "output_type": "stream",
     "text": [
      " 38%|███▊      | 591/1550 [00:14<00:26, 36.75it/s]"
     ]
    },
    {
     "name": "stdout",
     "output_type": "stream",
     "text": [
      "\n",
      "image 1/1 C:\\Users\\User\\Desktop\\1Year\\Term2\\SuperEngi\\1PrepareFinalTest\\test_Image1\\test\\655d8bff.jpg: 640x640 0 1.00, 1 0.00, 7.6ms\n",
      "Speed: 8.4ms preprocess, 7.6ms inference, 0.1ms postprocess per image at shape (1, 3, 640, 640)\n",
      "\n",
      "image 1/1 C:\\Users\\User\\Desktop\\1Year\\Term2\\SuperEngi\\1PrepareFinalTest\\test_Image1\\test\\656e8851.jpg: 640x640 1 1.00, 0 0.00, 7.0ms\n",
      "Speed: 7.8ms preprocess, 7.0ms inference, 0.1ms postprocess per image at shape (1, 3, 640, 640)\n",
      "\n",
      "image 1/1 C:\\Users\\User\\Desktop\\1Year\\Term2\\SuperEngi\\1PrepareFinalTest\\test_Image1\\test\\656fc174.jpg: 640x640 0 1.00, 1 0.00, 8.8ms\n",
      "Speed: 8.1ms preprocess, 8.8ms inference, 0.1ms postprocess per image at shape (1, 3, 640, 640)\n",
      "\n",
      "image 1/1 C:\\Users\\User\\Desktop\\1Year\\Term2\\SuperEngi\\1PrepareFinalTest\\test_Image1\\test\\65a07b78.jpg: 640x640 0 1.00, 1 0.00, 7.5ms\n",
      "Speed: 7.8ms preprocess, 7.5ms inference, 0.0ms postprocess per image at shape (1, 3, 640, 640)\n",
      "\n",
      "image 1/1 C:\\Users\\User\\Desktop\\1Year\\Term2\\SuperEngi\\1PrepareFinalTest\\test_Image1\\test\\6608aa80.jpg: 640x640 1 1.00, 0 0.00, 7.1ms\n",
      "Speed: 7.7ms preprocess, 7.1ms inference, 0.1ms postprocess per image at shape (1, 3, 640, 640)\n"
     ]
    },
    {
     "name": "stderr",
     "output_type": "stream",
     "text": [
      " 38%|███▊      | 596/1550 [00:14<00:25, 38.10it/s]"
     ]
    },
    {
     "name": "stdout",
     "output_type": "stream",
     "text": [
      "\n",
      "image 1/1 C:\\Users\\User\\Desktop\\1Year\\Term2\\SuperEngi\\1PrepareFinalTest\\test_Image1\\test\\673b02ea.jpg: 640x640 0 1.00, 1 0.00, 6.9ms\n",
      "Speed: 7.9ms preprocess, 6.9ms inference, 0.1ms postprocess per image at shape (1, 3, 640, 640)\n",
      "\n",
      "image 1/1 C:\\Users\\User\\Desktop\\1Year\\Term2\\SuperEngi\\1PrepareFinalTest\\test_Image1\\test\\67b8782e.jpg: 640x640 0 0.97, 1 0.03, 7.1ms\n",
      "Speed: 9.3ms preprocess, 7.1ms inference, 0.0ms postprocess per image at shape (1, 3, 640, 640)\n",
      "\n",
      "image 1/1 C:\\Users\\User\\Desktop\\1Year\\Term2\\SuperEngi\\1PrepareFinalTest\\test_Image1\\test\\67bd97de.jpg: 640x640 0 0.99, 1 0.01, 7.0ms\n",
      "Speed: 8.3ms preprocess, 7.0ms inference, 0.1ms postprocess per image at shape (1, 3, 640, 640)\n",
      "\n",
      "image 1/1 C:\\Users\\User\\Desktop\\1Year\\Term2\\SuperEngi\\1PrepareFinalTest\\test_Image1\\test\\67d3ccdf.jpg: 640x640 1 1.00, 0 0.00, 7.1ms\n",
      "Speed: 7.5ms preprocess, 7.1ms inference, 0.3ms postprocess per image at shape (1, 3, 640, 640)\n",
      "\n",
      "image 1/1 C:\\Users\\User\\Desktop\\1Year\\Term2\\SuperEngi\\1PrepareFinalTest\\test_Image1\\test\\67d766d2.jpg: 640x640 1 1.00, 0 0.00, 6.6ms\n",
      "Speed: 7.6ms preprocess, 6.6ms inference, 0.1ms postprocess per image at shape (1, 3, 640, 640)\n"
     ]
    },
    {
     "name": "stderr",
     "output_type": "stream",
     "text": [
      " 39%|███▉      | 601/1550 [00:14<00:24, 39.40it/s]"
     ]
    },
    {
     "name": "stdout",
     "output_type": "stream",
     "text": [
      "\n",
      "image 1/1 C:\\Users\\User\\Desktop\\1Year\\Term2\\SuperEngi\\1PrepareFinalTest\\test_Image1\\test\\67e39825.jpg: 640x640 0 1.00, 1 0.00, 7.2ms\n",
      "Speed: 8.0ms preprocess, 7.2ms inference, 0.1ms postprocess per image at shape (1, 3, 640, 640)\n",
      "\n",
      "image 1/1 C:\\Users\\User\\Desktop\\1Year\\Term2\\SuperEngi\\1PrepareFinalTest\\test_Image1\\test\\67e60873.jpg: 640x640 1 1.00, 0 0.00, 7.1ms\n",
      "Speed: 8.2ms preprocess, 7.1ms inference, 0.1ms postprocess per image at shape (1, 3, 640, 640)\n",
      "\n",
      "image 1/1 C:\\Users\\User\\Desktop\\1Year\\Term2\\SuperEngi\\1PrepareFinalTest\\test_Image1\\test\\68156078.jpg: 640x640 0 1.00, 1 0.00, 6.8ms\n",
      "Speed: 9.9ms preprocess, 6.8ms inference, 0.0ms postprocess per image at shape (1, 3, 640, 640)\n",
      "\n",
      "image 1/1 C:\\Users\\User\\Desktop\\1Year\\Term2\\SuperEngi\\1PrepareFinalTest\\test_Image1\\test\\6816f4bc.jpg: 640x640 1 1.00, 0 0.00, 6.7ms\n",
      "Speed: 7.8ms preprocess, 6.7ms inference, 0.1ms postprocess per image at shape (1, 3, 640, 640)\n"
     ]
    },
    {
     "name": "stderr",
     "output_type": "stream",
     "text": [
      " 39%|███▉      | 605/1550 [00:14<00:23, 39.56it/s]"
     ]
    },
    {
     "name": "stdout",
     "output_type": "stream",
     "text": [
      "\n",
      "image 1/1 C:\\Users\\User\\Desktop\\1Year\\Term2\\SuperEngi\\1PrepareFinalTest\\test_Image1\\test\\683ac559.jpg: 640x640 1 1.00, 0 0.00, 7.1ms\n",
      "Speed: 7.8ms preprocess, 7.1ms inference, 0.1ms postprocess per image at shape (1, 3, 640, 640)\n",
      "\n",
      "image 1/1 C:\\Users\\User\\Desktop\\1Year\\Term2\\SuperEngi\\1PrepareFinalTest\\test_Image1\\test\\683d8605.jpg: 640x640 0 1.00, 1 0.00, 7.3ms\n",
      "Speed: 7.4ms preprocess, 7.3ms inference, 0.1ms postprocess per image at shape (1, 3, 640, 640)\n",
      "\n",
      "image 1/1 C:\\Users\\User\\Desktop\\1Year\\Term2\\SuperEngi\\1PrepareFinalTest\\test_Image1\\test\\6873f22d.jpg: 640x640 1 0.87, 0 0.13, 8.5ms\n",
      "Speed: 10.4ms preprocess, 8.5ms inference, 0.0ms postprocess per image at shape (1, 3, 640, 640)\n",
      "\n",
      "image 1/1 C:\\Users\\User\\Desktop\\1Year\\Term2\\SuperEngi\\1PrepareFinalTest\\test_Image1\\test\\6976bdce.jpg: 640x640 0 1.00, 1 0.00, 7.3ms\n",
      "Speed: 8.8ms preprocess, 7.3ms inference, 0.1ms postprocess per image at shape (1, 3, 640, 640)\n"
     ]
    },
    {
     "name": "stderr",
     "output_type": "stream",
     "text": [
      " 39%|███▉      | 609/1550 [00:15<00:24, 39.02it/s]"
     ]
    },
    {
     "name": "stdout",
     "output_type": "stream",
     "text": [
      "\n",
      "image 1/1 C:\\Users\\User\\Desktop\\1Year\\Term2\\SuperEngi\\1PrepareFinalTest\\test_Image1\\test\\699296dc.jpg: 640x640 0 1.00, 1 0.00, 6.9ms\n",
      "Speed: 8.1ms preprocess, 6.9ms inference, 0.0ms postprocess per image at shape (1, 3, 640, 640)\n",
      "\n",
      "image 1/1 C:\\Users\\User\\Desktop\\1Year\\Term2\\SuperEngi\\1PrepareFinalTest\\test_Image1\\test\\69c0ed63.jpg: 640x640 1 1.00, 0 0.00, 8.9ms\n",
      "Speed: 7.5ms preprocess, 8.9ms inference, 0.1ms postprocess per image at shape (1, 3, 640, 640)\n",
      "\n",
      "image 1/1 C:\\Users\\User\\Desktop\\1Year\\Term2\\SuperEngi\\1PrepareFinalTest\\test_Image1\\test\\69e54e88.jpg: 640x640 0 1.00, 1 0.00, 6.8ms\n",
      "Speed: 8.0ms preprocess, 6.8ms inference, 0.0ms postprocess per image at shape (1, 3, 640, 640)\n",
      "\n",
      "image 1/1 C:\\Users\\User\\Desktop\\1Year\\Term2\\SuperEngi\\1PrepareFinalTest\\test_Image1\\test\\6a3448d9.jpg: 640x640 0 1.00, 1 0.00, 6.7ms\n",
      "Speed: 7.5ms preprocess, 6.7ms inference, 0.0ms postprocess per image at shape (1, 3, 640, 640)\n",
      "\n",
      "image 1/1 C:\\Users\\User\\Desktop\\1Year\\Term2\\SuperEngi\\1PrepareFinalTest\\test_Image1\\test\\6a4a2b23.jpg: 640x640 0 1.00, 1 0.00, 6.8ms\n",
      "Speed: 6.8ms preprocess, 6.8ms inference, 0.0ms postprocess per image at shape (1, 3, 640, 640)\n"
     ]
    },
    {
     "name": "stderr",
     "output_type": "stream",
     "text": [
      " 40%|███▉      | 614/1550 [00:15<00:23, 40.43it/s]"
     ]
    },
    {
     "name": "stdout",
     "output_type": "stream",
     "text": [
      "\n",
      "image 1/1 C:\\Users\\User\\Desktop\\1Year\\Term2\\SuperEngi\\1PrepareFinalTest\\test_Image1\\test\\6a5a68ee.jpg: 640x640 0 1.00, 1 0.00, 7.2ms\n",
      "Speed: 8.5ms preprocess, 7.2ms inference, 0.1ms postprocess per image at shape (1, 3, 640, 640)\n",
      "\n",
      "image 1/1 C:\\Users\\User\\Desktop\\1Year\\Term2\\SuperEngi\\1PrepareFinalTest\\test_Image1\\test\\6a879f71.jpg: 640x640 0 1.00, 1 0.00, 6.8ms\n",
      "Speed: 8.6ms preprocess, 6.8ms inference, 0.1ms postprocess per image at shape (1, 3, 640, 640)\n",
      "\n",
      "image 1/1 C:\\Users\\User\\Desktop\\1Year\\Term2\\SuperEngi\\1PrepareFinalTest\\test_Image1\\test\\6aebd62e.jpg: 640x640 1 1.00, 0 0.00, 6.9ms\n",
      "Speed: 8.6ms preprocess, 6.9ms inference, 0.0ms postprocess per image at shape (1, 3, 640, 640)\n",
      "\n",
      "image 1/1 C:\\Users\\User\\Desktop\\1Year\\Term2\\SuperEngi\\1PrepareFinalTest\\test_Image1\\test\\6b457536.jpg: 640x640 1 1.00, 0 0.00, 7.5ms\n",
      "Speed: 8.1ms preprocess, 7.5ms inference, 0.0ms postprocess per image at shape (1, 3, 640, 640)\n",
      "\n",
      "image 1/1 C:\\Users\\User\\Desktop\\1Year\\Term2\\SuperEngi\\1PrepareFinalTest\\test_Image1\\test\\6b771322.jpg: 640x640 1 1.00, 0 0.00, 6.7ms\n",
      "Speed: 7.4ms preprocess, 6.7ms inference, 0.1ms postprocess per image at shape (1, 3, 640, 640)\n"
     ]
    },
    {
     "name": "stderr",
     "output_type": "stream",
     "text": [
      " 40%|███▉      | 619/1550 [00:15<00:22, 40.82it/s]"
     ]
    },
    {
     "name": "stdout",
     "output_type": "stream",
     "text": [
      "\n",
      "image 1/1 C:\\Users\\User\\Desktop\\1Year\\Term2\\SuperEngi\\1PrepareFinalTest\\test_Image1\\test\\6ba3e83e.jpg: 640x640 1 1.00, 0 0.00, 7.0ms\n",
      "Speed: 8.7ms preprocess, 7.0ms inference, 0.1ms postprocess per image at shape (1, 3, 640, 640)\n",
      "\n",
      "image 1/1 C:\\Users\\User\\Desktop\\1Year\\Term2\\SuperEngi\\1PrepareFinalTest\\test_Image1\\test\\6bc4b3e7.jpg: 640x640 0 1.00, 1 0.00, 8.1ms\n",
      "Speed: 8.1ms preprocess, 8.1ms inference, 0.1ms postprocess per image at shape (1, 3, 640, 640)\n",
      "\n",
      "image 1/1 C:\\Users\\User\\Desktop\\1Year\\Term2\\SuperEngi\\1PrepareFinalTest\\test_Image1\\test\\6bf3a0f7.jpg: 640x640 1 1.00, 0 0.00, 8.3ms\n",
      "Speed: 9.0ms preprocess, 8.3ms inference, 0.1ms postprocess per image at shape (1, 3, 640, 640)\n",
      "\n",
      "image 1/1 C:\\Users\\User\\Desktop\\1Year\\Term2\\SuperEngi\\1PrepareFinalTest\\test_Image1\\test\\6cb6f1a0.jpg: 640x640 0 1.00, 1 0.00, 6.9ms\n",
      "Speed: 10.6ms preprocess, 6.9ms inference, 0.0ms postprocess per image at shape (1, 3, 640, 640)\n",
      "\n",
      "image 1/1 C:\\Users\\User\\Desktop\\1Year\\Term2\\SuperEngi\\1PrepareFinalTest\\test_Image1\\test\\6cee5846.jpg: 640x640 1 1.00, 0 0.00, 7.3ms\n",
      "Speed: 9.2ms preprocess, 7.3ms inference, 0.1ms postprocess per image at shape (1, 3, 640, 640)\n"
     ]
    },
    {
     "name": "stderr",
     "output_type": "stream",
     "text": [
      " 40%|████      | 624/1550 [00:15<00:23, 38.80it/s]"
     ]
    },
    {
     "name": "stdout",
     "output_type": "stream",
     "text": [
      "\n",
      "image 1/1 C:\\Users\\User\\Desktop\\1Year\\Term2\\SuperEngi\\1PrepareFinalTest\\test_Image1\\test\\6cf50ba4.jpg: 640x640 1 0.95, 0 0.05, 7.8ms\n",
      "Speed: 8.1ms preprocess, 7.8ms inference, 0.1ms postprocess per image at shape (1, 3, 640, 640)\n",
      "\n",
      "image 1/1 C:\\Users\\User\\Desktop\\1Year\\Term2\\SuperEngi\\1PrepareFinalTest\\test_Image1\\test\\6d3cad6b.jpg: 640x640 0 1.00, 1 0.00, 6.9ms\n",
      "Speed: 9.1ms preprocess, 6.9ms inference, 0.1ms postprocess per image at shape (1, 3, 640, 640)\n",
      "\n",
      "image 1/1 C:\\Users\\User\\Desktop\\1Year\\Term2\\SuperEngi\\1PrepareFinalTest\\test_Image1\\test\\6d5721a1.jpg: 640x640 1 1.00, 0 0.00, 6.9ms\n",
      "Speed: 8.5ms preprocess, 6.9ms inference, 0.1ms postprocess per image at shape (1, 3, 640, 640)\n",
      "\n",
      "image 1/1 C:\\Users\\User\\Desktop\\1Year\\Term2\\SuperEngi\\1PrepareFinalTest\\test_Image1\\test\\6d626e6c.jpg: 640x640 1 0.54, 0 0.46, 7.2ms\n",
      "Speed: 8.0ms preprocess, 7.2ms inference, 0.1ms postprocess per image at shape (1, 3, 640, 640)\n"
     ]
    },
    {
     "name": "stderr",
     "output_type": "stream",
     "text": [
      " 41%|████      | 628/1550 [00:15<00:23, 38.97it/s]"
     ]
    },
    {
     "name": "stdout",
     "output_type": "stream",
     "text": [
      "\n",
      "image 1/1 C:\\Users\\User\\Desktop\\1Year\\Term2\\SuperEngi\\1PrepareFinalTest\\test_Image1\\test\\6e0cabd5.jpg: 640x640 1 1.00, 0 0.00, 7.0ms\n",
      "Speed: 8.6ms preprocess, 7.0ms inference, 0.1ms postprocess per image at shape (1, 3, 640, 640)\n",
      "\n",
      "image 1/1 C:\\Users\\User\\Desktop\\1Year\\Term2\\SuperEngi\\1PrepareFinalTest\\test_Image1\\test\\6e32a8c0.jpg: 640x640 0 1.00, 1 0.00, 7.1ms\n",
      "Speed: 8.9ms preprocess, 7.1ms inference, 0.1ms postprocess per image at shape (1, 3, 640, 640)\n",
      "\n",
      "image 1/1 C:\\Users\\User\\Desktop\\1Year\\Term2\\SuperEngi\\1PrepareFinalTest\\test_Image1\\test\\6e609a75.jpg: 640x640 1 1.00, 0 0.00, 6.8ms\n",
      "Speed: 8.8ms preprocess, 6.8ms inference, 0.1ms postprocess per image at shape (1, 3, 640, 640)\n",
      "\n",
      "image 1/1 C:\\Users\\User\\Desktop\\1Year\\Term2\\SuperEngi\\1PrepareFinalTest\\test_Image1\\test\\6ebe19dd.jpg: 640x640 1 1.00, 0 0.00, 6.8ms\n",
      "Speed: 7.6ms preprocess, 6.8ms inference, 0.0ms postprocess per image at shape (1, 3, 640, 640)\n"
     ]
    },
    {
     "name": "stderr",
     "output_type": "stream",
     "text": [
      " 41%|████      | 632/1550 [00:15<00:23, 38.60it/s]"
     ]
    },
    {
     "name": "stdout",
     "output_type": "stream",
     "text": [
      "\n",
      "image 1/1 C:\\Users\\User\\Desktop\\1Year\\Term2\\SuperEngi\\1PrepareFinalTest\\test_Image1\\test\\6ee716ef.jpg: 640x640 0 1.00, 1 0.00, 6.6ms\n",
      "Speed: 7.8ms preprocess, 6.6ms inference, 0.1ms postprocess per image at shape (1, 3, 640, 640)\n",
      "\n",
      "image 1/1 C:\\Users\\User\\Desktop\\1Year\\Term2\\SuperEngi\\1PrepareFinalTest\\test_Image1\\test\\6eff7b85.jpg: 640x640 1 1.00, 0 0.00, 7.1ms\n",
      "Speed: 7.6ms preprocess, 7.1ms inference, 0.1ms postprocess per image at shape (1, 3, 640, 640)\n",
      "\n",
      "image 1/1 C:\\Users\\User\\Desktop\\1Year\\Term2\\SuperEngi\\1PrepareFinalTest\\test_Image1\\test\\6f01272a.jpg: 640x640 1 1.00, 0 0.00, 7.1ms\n",
      "Speed: 8.1ms preprocess, 7.1ms inference, 0.1ms postprocess per image at shape (1, 3, 640, 640)\n",
      "\n",
      "image 1/1 C:\\Users\\User\\Desktop\\1Year\\Term2\\SuperEngi\\1PrepareFinalTest\\test_Image1\\test\\6f4c6ad6.jpg: 640x640 1 0.95, 0 0.05, 7.2ms\n",
      "Speed: 7.7ms preprocess, 7.2ms inference, 0.0ms postprocess per image at shape (1, 3, 640, 640)\n",
      "\n",
      "image 1/1 C:\\Users\\User\\Desktop\\1Year\\Term2\\SuperEngi\\1PrepareFinalTest\\test_Image1\\test\\6f62887b.jpg: 640x640 1 1.00, 0 0.00, 6.9ms\n",
      "Speed: 7.7ms preprocess, 6.9ms inference, 0.1ms postprocess per image at shape (1, 3, 640, 640)\n"
     ]
    },
    {
     "name": "stderr",
     "output_type": "stream",
     "text": [
      " 41%|████      | 637/1550 [00:15<00:23, 39.58it/s]"
     ]
    },
    {
     "name": "stdout",
     "output_type": "stream",
     "text": [
      "\n",
      "image 1/1 C:\\Users\\User\\Desktop\\1Year\\Term2\\SuperEngi\\1PrepareFinalTest\\test_Image1\\test\\6fe9e031.jpg: 640x640 0 1.00, 1 0.00, 7.1ms\n",
      "Speed: 8.2ms preprocess, 7.1ms inference, 0.1ms postprocess per image at shape (1, 3, 640, 640)\n",
      "\n",
      "image 1/1 C:\\Users\\User\\Desktop\\1Year\\Term2\\SuperEngi\\1PrepareFinalTest\\test_Image1\\test\\6feb260e.jpg: 640x640 0 1.00, 1 0.00, 7.1ms\n",
      "Speed: 7.7ms preprocess, 7.1ms inference, 0.1ms postprocess per image at shape (1, 3, 640, 640)\n",
      "\n",
      "image 1/1 C:\\Users\\User\\Desktop\\1Year\\Term2\\SuperEngi\\1PrepareFinalTest\\test_Image1\\test\\7045ee0e.jpg: 640x640 1 1.00, 0 0.00, 7.4ms\n",
      "Speed: 7.7ms preprocess, 7.4ms inference, 0.1ms postprocess per image at shape (1, 3, 640, 640)\n",
      "\n",
      "image 1/1 C:\\Users\\User\\Desktop\\1Year\\Term2\\SuperEngi\\1PrepareFinalTest\\test_Image1\\test\\70a0cf01.jpg: 640x640 0 1.00, 1 0.00, 6.5ms\n",
      "Speed: 8.2ms preprocess, 6.5ms inference, 0.1ms postprocess per image at shape (1, 3, 640, 640)\n"
     ]
    },
    {
     "name": "stderr",
     "output_type": "stream",
     "text": [
      " 41%|████▏     | 641/1550 [00:15<00:22, 39.56it/s]"
     ]
    },
    {
     "name": "stdout",
     "output_type": "stream",
     "text": [
      "\n",
      "image 1/1 C:\\Users\\User\\Desktop\\1Year\\Term2\\SuperEngi\\1PrepareFinalTest\\test_Image1\\test\\71032a54.jpg: 640x640 0 1.00, 1 0.00, 7.2ms\n",
      "Speed: 9.2ms preprocess, 7.2ms inference, 0.1ms postprocess per image at shape (1, 3, 640, 640)\n",
      "\n",
      "image 1/1 C:\\Users\\User\\Desktop\\1Year\\Term2\\SuperEngi\\1PrepareFinalTest\\test_Image1\\test\\711bde86.jpg: 640x640 0 1.00, 1 0.00, 7.0ms\n",
      "Speed: 9.2ms preprocess, 7.0ms inference, 0.1ms postprocess per image at shape (1, 3, 640, 640)\n",
      "\n",
      "image 1/1 C:\\Users\\User\\Desktop\\1Year\\Term2\\SuperEngi\\1PrepareFinalTest\\test_Image1\\test\\713e4b53.jpg: 640x640 1 1.00, 0 0.00, 6.7ms\n",
      "Speed: 8.7ms preprocess, 6.7ms inference, 0.1ms postprocess per image at shape (1, 3, 640, 640)\n",
      "\n",
      "image 1/1 C:\\Users\\User\\Desktop\\1Year\\Term2\\SuperEngi\\1PrepareFinalTest\\test_Image1\\test\\715a666a.jpg: 640x640 1 1.00, 0 0.00, 6.9ms\n",
      "Speed: 7.8ms preprocess, 6.9ms inference, 0.1ms postprocess per image at shape (1, 3, 640, 640)\n"
     ]
    },
    {
     "name": "stderr",
     "output_type": "stream",
     "text": [
      " 42%|████▏     | 645/1550 [00:15<00:22, 39.57it/s]"
     ]
    },
    {
     "name": "stdout",
     "output_type": "stream",
     "text": [
      "\n",
      "image 1/1 C:\\Users\\User\\Desktop\\1Year\\Term2\\SuperEngi\\1PrepareFinalTest\\test_Image1\\test\\71d46d87.jpg: 640x640 1 1.00, 0 0.00, 7.3ms\n",
      "Speed: 8.3ms preprocess, 7.3ms inference, 0.1ms postprocess per image at shape (1, 3, 640, 640)\n",
      "\n",
      "image 1/1 C:\\Users\\User\\Desktop\\1Year\\Term2\\SuperEngi\\1PrepareFinalTest\\test_Image1\\test\\71dd0a48.jpg: 640x640 1 1.00, 0 0.00, 6.9ms\n",
      "Speed: 8.0ms preprocess, 6.9ms inference, 0.1ms postprocess per image at shape (1, 3, 640, 640)\n",
      "\n",
      "image 1/1 C:\\Users\\User\\Desktop\\1Year\\Term2\\SuperEngi\\1PrepareFinalTest\\test_Image1\\test\\7202a063.jpg: 640x640 0 1.00, 1 0.00, 8.3ms\n",
      "Speed: 7.4ms preprocess, 8.3ms inference, 0.1ms postprocess per image at shape (1, 3, 640, 640)\n",
      "\n",
      "image 1/1 C:\\Users\\User\\Desktop\\1Year\\Term2\\SuperEngi\\1PrepareFinalTest\\test_Image1\\test\\72454909.jpg: 640x640 0 1.00, 1 0.00, 6.8ms\n",
      "Speed: 7.1ms preprocess, 6.8ms inference, 0.0ms postprocess per image at shape (1, 3, 640, 640)\n",
      "\n",
      "image 1/1 C:\\Users\\User\\Desktop\\1Year\\Term2\\SuperEngi\\1PrepareFinalTest\\test_Image1\\test\\724b5ead.jpg: 640x640 1 0.90, 0 0.10, 7.1ms\n",
      "Speed: 8.2ms preprocess, 7.1ms inference, 0.1ms postprocess per image at shape (1, 3, 640, 640)\n"
     ]
    },
    {
     "name": "stderr",
     "output_type": "stream",
     "text": [
      " 42%|████▏     | 650/1550 [00:16<00:22, 40.04it/s]"
     ]
    },
    {
     "name": "stdout",
     "output_type": "stream",
     "text": [
      "\n",
      "image 1/1 C:\\Users\\User\\Desktop\\1Year\\Term2\\SuperEngi\\1PrepareFinalTest\\test_Image1\\test\\725cb133.jpg: 640x640 0 1.00, 1 0.00, 7.3ms\n",
      "Speed: 7.8ms preprocess, 7.3ms inference, 0.1ms postprocess per image at shape (1, 3, 640, 640)\n",
      "\n",
      "image 1/1 C:\\Users\\User\\Desktop\\1Year\\Term2\\SuperEngi\\1PrepareFinalTest\\test_Image1\\test\\728caeea.jpg: 640x640 0 1.00, 1 0.00, 6.9ms\n",
      "Speed: 7.2ms preprocess, 6.9ms inference, 0.2ms postprocess per image at shape (1, 3, 640, 640)\n",
      "\n",
      "image 1/1 C:\\Users\\User\\Desktop\\1Year\\Term2\\SuperEngi\\1PrepareFinalTest\\test_Image1\\test\\72c83667.jpg: 640x640 0 1.00, 1 0.00, 11.4ms\n",
      "Speed: 10.4ms preprocess, 11.4ms inference, 0.1ms postprocess per image at shape (1, 3, 640, 640)\n",
      "\n",
      "image 1/1 C:\\Users\\User\\Desktop\\1Year\\Term2\\SuperEngi\\1PrepareFinalTest\\test_Image1\\test\\72ce7f51.jpg: 640x640 1 1.00, 0 0.00, 7.1ms\n",
      "Speed: 10.3ms preprocess, 7.1ms inference, 0.1ms postprocess per image at shape (1, 3, 640, 640)\n",
      "\n",
      "image 1/1 C:\\Users\\User\\Desktop\\1Year\\Term2\\SuperEngi\\1PrepareFinalTest\\test_Image1\\test\\735dfd16.jpg: 640x640 1 1.00, 0 0.00, 7.3ms\n",
      "Speed: 8.1ms preprocess, 7.3ms inference, 0.1ms postprocess per image at shape (1, 3, 640, 640)\n"
     ]
    },
    {
     "name": "stderr",
     "output_type": "stream",
     "text": [
      " 42%|████▏     | 655/1550 [00:16<00:23, 38.00it/s]"
     ]
    },
    {
     "name": "stdout",
     "output_type": "stream",
     "text": [
      "\n",
      "image 1/1 C:\\Users\\User\\Desktop\\1Year\\Term2\\SuperEngi\\1PrepareFinalTest\\test_Image1\\test\\736e019f.jpg: 640x640 1 1.00, 0 0.00, 6.6ms\n",
      "Speed: 9.0ms preprocess, 6.6ms inference, 0.1ms postprocess per image at shape (1, 3, 640, 640)\n",
      "\n",
      "image 1/1 C:\\Users\\User\\Desktop\\1Year\\Term2\\SuperEngi\\1PrepareFinalTest\\test_Image1\\test\\73729abb.jpg: 640x640 0 1.00, 1 0.00, 7.6ms\n",
      "Speed: 7.7ms preprocess, 7.6ms inference, 0.1ms postprocess per image at shape (1, 3, 640, 640)\n",
      "\n",
      "image 1/1 C:\\Users\\User\\Desktop\\1Year\\Term2\\SuperEngi\\1PrepareFinalTest\\test_Image1\\test\\737506e9.jpg: 640x640 0 0.84, 1 0.16, 7.0ms\n",
      "Speed: 7.9ms preprocess, 7.0ms inference, 0.1ms postprocess per image at shape (1, 3, 640, 640)\n",
      "\n",
      "image 1/1 C:\\Users\\User\\Desktop\\1Year\\Term2\\SuperEngi\\1PrepareFinalTest\\test_Image1\\test\\73ab6cfc.jpg: 640x640 0 1.00, 1 0.00, 7.3ms\n",
      "Speed: 9.0ms preprocess, 7.3ms inference, 0.1ms postprocess per image at shape (1, 3, 640, 640)\n"
     ]
    },
    {
     "name": "stderr",
     "output_type": "stream",
     "text": [
      " 43%|████▎     | 659/1550 [00:16<00:23, 38.12it/s]"
     ]
    },
    {
     "name": "stdout",
     "output_type": "stream",
     "text": [
      "\n",
      "image 1/1 C:\\Users\\User\\Desktop\\1Year\\Term2\\SuperEngi\\1PrepareFinalTest\\test_Image1\\test\\73af8711.jpg: 640x640 1 1.00, 0 0.00, 7.8ms\n",
      "Speed: 8.1ms preprocess, 7.8ms inference, 0.1ms postprocess per image at shape (1, 3, 640, 640)\n",
      "\n",
      "image 1/1 C:\\Users\\User\\Desktop\\1Year\\Term2\\SuperEngi\\1PrepareFinalTest\\test_Image1\\test\\73bd7d72.jpg: 640x640 1 0.95, 0 0.05, 9.5ms\n",
      "Speed: 10.1ms preprocess, 9.5ms inference, 0.1ms postprocess per image at shape (1, 3, 640, 640)\n",
      "\n",
      "image 1/1 C:\\Users\\User\\Desktop\\1Year\\Term2\\SuperEngi\\1PrepareFinalTest\\test_Image1\\test\\741a02b2.jpg: 640x640 1 1.00, 0 0.00, 10.5ms\n",
      "Speed: 9.1ms preprocess, 10.5ms inference, 0.1ms postprocess per image at shape (1, 3, 640, 640)\n",
      "\n",
      "image 1/1 C:\\Users\\User\\Desktop\\1Year\\Term2\\SuperEngi\\1PrepareFinalTest\\test_Image1\\test\\74750a38.jpg: 640x640 1 1.00, 0 0.00, 9.7ms\n",
      "Speed: 9.5ms preprocess, 9.7ms inference, 0.1ms postprocess per image at shape (1, 3, 640, 640)\n"
     ]
    },
    {
     "name": "stderr",
     "output_type": "stream",
     "text": [
      " 43%|████▎     | 663/1550 [00:16<00:23, 37.53it/s]"
     ]
    },
    {
     "name": "stdout",
     "output_type": "stream",
     "text": [
      "\n",
      "image 1/1 C:\\Users\\User\\Desktop\\1Year\\Term2\\SuperEngi\\1PrepareFinalTest\\test_Image1\\test\\74ad8c45.jpg: 640x640 1 1.00, 0 0.00, 12.3ms\n",
      "Speed: 8.7ms preprocess, 12.3ms inference, 0.1ms postprocess per image at shape (1, 3, 640, 640)\n",
      "\n",
      "image 1/1 C:\\Users\\User\\Desktop\\1Year\\Term2\\SuperEngi\\1PrepareFinalTest\\test_Image1\\test\\74ce4676.jpg: 640x640 0 1.00, 1 0.00, 9.9ms\n",
      "Speed: 9.8ms preprocess, 9.9ms inference, 0.1ms postprocess per image at shape (1, 3, 640, 640)\n",
      "\n",
      "image 1/1 C:\\Users\\User\\Desktop\\1Year\\Term2\\SuperEngi\\1PrepareFinalTest\\test_Image1\\test\\74d21a05.jpg: 640x640 1 1.00, 0 0.00, 9.4ms\n",
      "Speed: 12.0ms preprocess, 9.4ms inference, 0.1ms postprocess per image at shape (1, 3, 640, 640)\n",
      "\n",
      "image 1/1 C:\\Users\\User\\Desktop\\1Year\\Term2\\SuperEngi\\1PrepareFinalTest\\test_Image1\\test\\75311361.jpg: 640x640 0 1.00, 1 0.00, 9.5ms\n",
      "Speed: 10.8ms preprocess, 9.5ms inference, 0.1ms postprocess per image at shape (1, 3, 640, 640)\n"
     ]
    },
    {
     "name": "stderr",
     "output_type": "stream",
     "text": [
      " 43%|████▎     | 667/1550 [00:16<00:24, 35.36it/s]"
     ]
    },
    {
     "name": "stdout",
     "output_type": "stream",
     "text": [
      "\n",
      "image 1/1 C:\\Users\\User\\Desktop\\1Year\\Term2\\SuperEngi\\1PrepareFinalTest\\test_Image1\\test\\754a112d.jpg: 640x640 1 1.00, 0 0.00, 9.4ms\n",
      "Speed: 10.2ms preprocess, 9.4ms inference, 0.1ms postprocess per image at shape (1, 3, 640, 640)\n",
      "\n",
      "image 1/1 C:\\Users\\User\\Desktop\\1Year\\Term2\\SuperEngi\\1PrepareFinalTest\\test_Image1\\test\\75babc9b.jpg: 640x640 1 1.00, 0 0.00, 9.5ms\n",
      "Speed: 9.4ms preprocess, 9.5ms inference, 0.1ms postprocess per image at shape (1, 3, 640, 640)\n",
      "\n",
      "image 1/1 C:\\Users\\User\\Desktop\\1Year\\Term2\\SuperEngi\\1PrepareFinalTest\\test_Image1\\test\\75e18fe0.jpg: 640x640 1 1.00, 0 0.00, 9.7ms\n",
      "Speed: 9.3ms preprocess, 9.7ms inference, 0.1ms postprocess per image at shape (1, 3, 640, 640)\n",
      "\n",
      "image 1/1 C:\\Users\\User\\Desktop\\1Year\\Term2\\SuperEngi\\1PrepareFinalTest\\test_Image1\\test\\75fe04de.jpg: 640x640 0 1.00, 1 0.00, 9.5ms\n",
      "Speed: 9.1ms preprocess, 9.5ms inference, 0.1ms postprocess per image at shape (1, 3, 640, 640)\n"
     ]
    },
    {
     "name": "stderr",
     "output_type": "stream",
     "text": [
      " 43%|████▎     | 671/1550 [00:16<00:24, 35.37it/s]"
     ]
    },
    {
     "name": "stdout",
     "output_type": "stream",
     "text": [
      "\n",
      "image 1/1 C:\\Users\\User\\Desktop\\1Year\\Term2\\SuperEngi\\1PrepareFinalTest\\test_Image1\\test\\767b278e.jpg: 640x640 1 1.00, 0 0.00, 12.2ms\n",
      "Speed: 9.3ms preprocess, 12.2ms inference, 0.2ms postprocess per image at shape (1, 3, 640, 640)\n",
      "\n",
      "image 1/1 C:\\Users\\User\\Desktop\\1Year\\Term2\\SuperEngi\\1PrepareFinalTest\\test_Image1\\test\\76bae481.jpg: 640x640 0 1.00, 1 0.00, 9.7ms\n",
      "Speed: 9.9ms preprocess, 9.7ms inference, 0.1ms postprocess per image at shape (1, 3, 640, 640)\n",
      "\n",
      "image 1/1 C:\\Users\\User\\Desktop\\1Year\\Term2\\SuperEngi\\1PrepareFinalTest\\test_Image1\\test\\76d68031.jpg: 640x640 0 1.00, 1 0.00, 9.6ms\n",
      "Speed: 9.3ms preprocess, 9.6ms inference, 0.1ms postprocess per image at shape (1, 3, 640, 640)\n",
      "\n",
      "image 1/1 C:\\Users\\User\\Desktop\\1Year\\Term2\\SuperEngi\\1PrepareFinalTest\\test_Image1\\test\\774f33a8.jpg: 640x640 0 1.00, 1 0.00, 7.0ms\n",
      "Speed: 7.4ms preprocess, 7.0ms inference, 0.2ms postprocess per image at shape (1, 3, 640, 640)\n"
     ]
    },
    {
     "name": "stderr",
     "output_type": "stream",
     "text": [
      " 44%|████▎     | 675/1550 [00:16<00:24, 35.81it/s]"
     ]
    },
    {
     "name": "stdout",
     "output_type": "stream",
     "text": [
      "\n",
      "image 1/1 C:\\Users\\User\\Desktop\\1Year\\Term2\\SuperEngi\\1PrepareFinalTest\\test_Image1\\test\\77770040.jpg: 640x640 0 0.96, 1 0.04, 7.3ms\n",
      "Speed: 7.0ms preprocess, 7.3ms inference, 0.0ms postprocess per image at shape (1, 3, 640, 640)\n",
      "\n",
      "image 1/1 C:\\Users\\User\\Desktop\\1Year\\Term2\\SuperEngi\\1PrepareFinalTest\\test_Image1\\test\\7787dbaa.jpg: 640x640 1 1.00, 0 0.00, 7.4ms\n",
      "Speed: 7.8ms preprocess, 7.4ms inference, 0.1ms postprocess per image at shape (1, 3, 640, 640)\n",
      "\n",
      "image 1/1 C:\\Users\\User\\Desktop\\1Year\\Term2\\SuperEngi\\1PrepareFinalTest\\test_Image1\\test\\77cae88f.jpg: 640x640 1 1.00, 0 0.00, 7.3ms\n",
      "Speed: 7.1ms preprocess, 7.3ms inference, 0.1ms postprocess per image at shape (1, 3, 640, 640)\n",
      "\n",
      "image 1/1 C:\\Users\\User\\Desktop\\1Year\\Term2\\SuperEngi\\1PrepareFinalTest\\test_Image1\\test\\77dcca0c.jpg: 640x640 1 1.00, 0 0.00, 7.0ms\n",
      "Speed: 8.3ms preprocess, 7.0ms inference, 0.1ms postprocess per image at shape (1, 3, 640, 640)\n",
      "\n",
      "image 1/1 C:\\Users\\User\\Desktop\\1Year\\Term2\\SuperEngi\\1PrepareFinalTest\\test_Image1\\test\\781c193c.jpg: 640x640 0 1.00, 1 0.00, 6.9ms\n",
      "Speed: 8.3ms preprocess, 6.9ms inference, 0.0ms postprocess per image at shape (1, 3, 640, 640)\n"
     ]
    },
    {
     "name": "stderr",
     "output_type": "stream",
     "text": [
      " 44%|████▍     | 680/1550 [00:16<00:23, 37.51it/s]"
     ]
    },
    {
     "name": "stdout",
     "output_type": "stream",
     "text": [
      "\n",
      "image 1/1 C:\\Users\\User\\Desktop\\1Year\\Term2\\SuperEngi\\1PrepareFinalTest\\test_Image1\\test\\78821031.jpg: 640x640 1 1.00, 0 0.00, 7.3ms\n",
      "Speed: 7.1ms preprocess, 7.3ms inference, 0.1ms postprocess per image at shape (1, 3, 640, 640)\n",
      "\n",
      "image 1/1 C:\\Users\\User\\Desktop\\1Year\\Term2\\SuperEngi\\1PrepareFinalTest\\test_Image1\\test\\78922849.jpg: 640x640 0 1.00, 1 0.00, 7.0ms\n",
      "Speed: 9.2ms preprocess, 7.0ms inference, 0.1ms postprocess per image at shape (1, 3, 640, 640)\n",
      "\n",
      "image 1/1 C:\\Users\\User\\Desktop\\1Year\\Term2\\SuperEngi\\1PrepareFinalTest\\test_Image1\\test\\78a9996e.jpg: 640x640 1 0.94, 0 0.06, 7.3ms\n",
      "Speed: 7.5ms preprocess, 7.3ms inference, 0.0ms postprocess per image at shape (1, 3, 640, 640)\n",
      "\n",
      "image 1/1 C:\\Users\\User\\Desktop\\1Year\\Term2\\SuperEngi\\1PrepareFinalTest\\test_Image1\\test\\78c097a0.jpg: 640x640 1 1.00, 0 0.00, 6.9ms\n",
      "Speed: 8.5ms preprocess, 6.9ms inference, 0.1ms postprocess per image at shape (1, 3, 640, 640)\n",
      "\n",
      "image 1/1 C:\\Users\\User\\Desktop\\1Year\\Term2\\SuperEngi\\1PrepareFinalTest\\test_Image1\\test\\78c3bb06.jpg: 640x640 0 1.00, 1 0.00, 7.4ms\n",
      "Speed: 8.8ms preprocess, 7.4ms inference, 0.1ms postprocess per image at shape (1, 3, 640, 640)\n"
     ]
    },
    {
     "name": "stderr",
     "output_type": "stream",
     "text": [
      " 44%|████▍     | 685/1550 [00:16<00:22, 38.48it/s]"
     ]
    },
    {
     "name": "stdout",
     "output_type": "stream",
     "text": [
      "\n",
      "image 1/1 C:\\Users\\User\\Desktop\\1Year\\Term2\\SuperEngi\\1PrepareFinalTest\\test_Image1\\test\\78fb392a.jpg: 640x640 1 1.00, 0 0.00, 7.0ms\n",
      "Speed: 7.8ms preprocess, 7.0ms inference, 0.0ms postprocess per image at shape (1, 3, 640, 640)\n",
      "\n",
      "image 1/1 C:\\Users\\User\\Desktop\\1Year\\Term2\\SuperEngi\\1PrepareFinalTest\\test_Image1\\test\\79109903.jpg: 640x640 1 1.00, 0 0.00, 7.9ms\n",
      "Speed: 7.8ms preprocess, 7.9ms inference, 0.1ms postprocess per image at shape (1, 3, 640, 640)\n",
      "\n",
      "image 1/1 C:\\Users\\User\\Desktop\\1Year\\Term2\\SuperEngi\\1PrepareFinalTest\\test_Image1\\test\\79146832.jpg: 640x640 0 1.00, 1 0.00, 7.0ms\n",
      "Speed: 8.9ms preprocess, 7.0ms inference, 0.1ms postprocess per image at shape (1, 3, 640, 640)\n",
      "\n",
      "image 1/1 C:\\Users\\User\\Desktop\\1Year\\Term2\\SuperEngi\\1PrepareFinalTest\\test_Image1\\test\\791982df.jpg: 640x640 0 0.99, 1 0.01, 7.3ms\n",
      "Speed: 8.2ms preprocess, 7.3ms inference, 0.1ms postprocess per image at shape (1, 3, 640, 640)\n"
     ]
    },
    {
     "name": "stderr",
     "output_type": "stream",
     "text": [
      " 44%|████▍     | 689/1550 [00:17<00:22, 38.79it/s]"
     ]
    },
    {
     "name": "stdout",
     "output_type": "stream",
     "text": [
      "\n",
      "image 1/1 C:\\Users\\User\\Desktop\\1Year\\Term2\\SuperEngi\\1PrepareFinalTest\\test_Image1\\test\\7990af53.jpg: 640x640 1 1.00, 0 0.00, 8.8ms\n",
      "Speed: 12.9ms preprocess, 8.8ms inference, 0.0ms postprocess per image at shape (1, 3, 640, 640)\n",
      "\n",
      "image 1/1 C:\\Users\\User\\Desktop\\1Year\\Term2\\SuperEngi\\1PrepareFinalTest\\test_Image1\\test\\79e5e450.jpg: 640x640 0 1.00, 1 0.00, 7.8ms\n",
      "Speed: 8.8ms preprocess, 7.8ms inference, 0.1ms postprocess per image at shape (1, 3, 640, 640)\n",
      "\n",
      "image 1/1 C:\\Users\\User\\Desktop\\1Year\\Term2\\SuperEngi\\1PrepareFinalTest\\test_Image1\\test\\7a101d27.jpg: 640x640 0 1.00, 1 0.00, 8.7ms\n",
      "Speed: 8.8ms preprocess, 8.7ms inference, 0.0ms postprocess per image at shape (1, 3, 640, 640)\n",
      "\n",
      "image 1/1 C:\\Users\\User\\Desktop\\1Year\\Term2\\SuperEngi\\1PrepareFinalTest\\test_Image1\\test\\7a211113.jpg: 640x640 0 1.00, 1 0.00, 8.5ms\n",
      "Speed: 8.7ms preprocess, 8.5ms inference, 0.1ms postprocess per image at shape (1, 3, 640, 640)\n"
     ]
    },
    {
     "name": "stderr",
     "output_type": "stream",
     "text": [
      " 45%|████▍     | 693/1550 [00:17<00:23, 37.08it/s]"
     ]
    },
    {
     "name": "stdout",
     "output_type": "stream",
     "text": [
      "\n",
      "image 1/1 C:\\Users\\User\\Desktop\\1Year\\Term2\\SuperEngi\\1PrepareFinalTest\\test_Image1\\test\\7a44c39b.jpg: 640x640 1 0.99, 0 0.01, 8.8ms\n",
      "Speed: 7.7ms preprocess, 8.8ms inference, 0.0ms postprocess per image at shape (1, 3, 640, 640)\n",
      "\n",
      "image 1/1 C:\\Users\\User\\Desktop\\1Year\\Term2\\SuperEngi\\1PrepareFinalTest\\test_Image1\\test\\7a45401e.jpg: 640x640 0 1.00, 1 0.00, 7.6ms\n",
      "Speed: 7.9ms preprocess, 7.6ms inference, 0.0ms postprocess per image at shape (1, 3, 640, 640)\n",
      "\n",
      "image 1/1 C:\\Users\\User\\Desktop\\1Year\\Term2\\SuperEngi\\1PrepareFinalTest\\test_Image1\\test\\7a57fa54.jpg: 640x640 0 1.00, 1 0.00, 7.3ms\n",
      "Speed: 8.1ms preprocess, 7.3ms inference, 0.1ms postprocess per image at shape (1, 3, 640, 640)\n",
      "\n",
      "image 1/1 C:\\Users\\User\\Desktop\\1Year\\Term2\\SuperEngi\\1PrepareFinalTest\\test_Image1\\test\\7a920b80.jpg: 640x640 0 1.00, 1 0.00, 7.0ms\n",
      "Speed: 8.3ms preprocess, 7.0ms inference, 0.1ms postprocess per image at shape (1, 3, 640, 640)\n"
     ]
    },
    {
     "name": "stderr",
     "output_type": "stream",
     "text": [
      " 45%|████▍     | 697/1550 [00:17<00:22, 37.51it/s]"
     ]
    },
    {
     "name": "stdout",
     "output_type": "stream",
     "text": [
      "\n",
      "image 1/1 C:\\Users\\User\\Desktop\\1Year\\Term2\\SuperEngi\\1PrepareFinalTest\\test_Image1\\test\\7aad369d.jpg: 640x640 0 1.00, 1 0.00, 7.4ms\n",
      "Speed: 8.5ms preprocess, 7.4ms inference, 0.2ms postprocess per image at shape (1, 3, 640, 640)\n",
      "\n",
      "image 1/1 C:\\Users\\User\\Desktop\\1Year\\Term2\\SuperEngi\\1PrepareFinalTest\\test_Image1\\test\\7af2bd92.jpg: 640x640 0 1.00, 1 0.00, 7.0ms\n",
      "Speed: 8.5ms preprocess, 7.0ms inference, 0.1ms postprocess per image at shape (1, 3, 640, 640)\n",
      "\n",
      "image 1/1 C:\\Users\\User\\Desktop\\1Year\\Term2\\SuperEngi\\1PrepareFinalTest\\test_Image1\\test\\7b304617.jpg: 640x640 0 1.00, 1 0.00, 7.6ms\n",
      "Speed: 8.1ms preprocess, 7.6ms inference, 0.1ms postprocess per image at shape (1, 3, 640, 640)\n",
      "\n",
      "image 1/1 C:\\Users\\User\\Desktop\\1Year\\Term2\\SuperEngi\\1PrepareFinalTest\\test_Image1\\test\\7b5e37f5.jpg: 640x640 0 0.65, 1 0.35, 12.1ms\n",
      "Speed: 8.0ms preprocess, 12.1ms inference, 0.1ms postprocess per image at shape (1, 3, 640, 640)\n"
     ]
    },
    {
     "name": "stderr",
     "output_type": "stream",
     "text": [
      " 45%|████▌     | 701/1550 [00:17<00:22, 37.53it/s]"
     ]
    },
    {
     "name": "stdout",
     "output_type": "stream",
     "text": [
      "\n",
      "image 1/1 C:\\Users\\User\\Desktop\\1Year\\Term2\\SuperEngi\\1PrepareFinalTest\\test_Image1\\test\\7ba62bd4.jpg: 640x640 0 1.00, 1 0.00, 8.6ms\n",
      "Speed: 8.2ms preprocess, 8.6ms inference, 0.1ms postprocess per image at shape (1, 3, 640, 640)\n",
      "\n",
      "image 1/1 C:\\Users\\User\\Desktop\\1Year\\Term2\\SuperEngi\\1PrepareFinalTest\\test_Image1\\test\\7ba6d581.jpg: 640x640 0 1.00, 1 0.00, 7.4ms\n",
      "Speed: 8.2ms preprocess, 7.4ms inference, 0.1ms postprocess per image at shape (1, 3, 640, 640)\n",
      "\n",
      "image 1/1 C:\\Users\\User\\Desktop\\1Year\\Term2\\SuperEngi\\1PrepareFinalTest\\test_Image1\\test\\7bb02ebb.jpg: 640x640 0 1.00, 1 0.00, 7.0ms\n",
      "Speed: 8.5ms preprocess, 7.0ms inference, 0.1ms postprocess per image at shape (1, 3, 640, 640)\n",
      "\n",
      "image 1/1 C:\\Users\\User\\Desktop\\1Year\\Term2\\SuperEngi\\1PrepareFinalTest\\test_Image1\\test\\7bd7b92f.jpg: 640x640 1 0.98, 0 0.02, 9.1ms\n",
      "Speed: 11.0ms preprocess, 9.1ms inference, 0.1ms postprocess per image at shape (1, 3, 640, 640)\n"
     ]
    },
    {
     "name": "stderr",
     "output_type": "stream",
     "text": [
      " 45%|████▌     | 705/1550 [00:17<00:22, 36.92it/s]"
     ]
    },
    {
     "name": "stdout",
     "output_type": "stream",
     "text": [
      "\n",
      "image 1/1 C:\\Users\\User\\Desktop\\1Year\\Term2\\SuperEngi\\1PrepareFinalTest\\test_Image1\\test\\7c112068.jpg: 640x640 0 1.00, 1 0.00, 7.3ms\n",
      "Speed: 8.8ms preprocess, 7.3ms inference, 0.1ms postprocess per image at shape (1, 3, 640, 640)\n",
      "\n",
      "image 1/1 C:\\Users\\User\\Desktop\\1Year\\Term2\\SuperEngi\\1PrepareFinalTest\\test_Image1\\test\\7c56c39f.jpg: 640x640 1 1.00, 0 0.00, 7.4ms\n",
      "Speed: 8.2ms preprocess, 7.4ms inference, 0.1ms postprocess per image at shape (1, 3, 640, 640)\n",
      "\n",
      "image 1/1 C:\\Users\\User\\Desktop\\1Year\\Term2\\SuperEngi\\1PrepareFinalTest\\test_Image1\\test\\7c5d7eb9.jpg: 640x640 1 1.00, 0 0.00, 7.4ms\n",
      "Speed: 7.9ms preprocess, 7.4ms inference, 0.1ms postprocess per image at shape (1, 3, 640, 640)\n",
      "\n",
      "image 1/1 C:\\Users\\User\\Desktop\\1Year\\Term2\\SuperEngi\\1PrepareFinalTest\\test_Image1\\test\\7c675383.jpg: 640x640 0 1.00, 1 0.00, 7.1ms\n",
      "Speed: 7.5ms preprocess, 7.1ms inference, 0.1ms postprocess per image at shape (1, 3, 640, 640)\n"
     ]
    },
    {
     "name": "stderr",
     "output_type": "stream",
     "text": [
      " 46%|████▌     | 709/1550 [00:17<00:22, 37.57it/s]"
     ]
    },
    {
     "name": "stdout",
     "output_type": "stream",
     "text": [
      "\n",
      "image 1/1 C:\\Users\\User\\Desktop\\1Year\\Term2\\SuperEngi\\1PrepareFinalTest\\test_Image1\\test\\7c6b0b7a.jpg: 640x640 0 1.00, 1 0.00, 7.6ms\n",
      "Speed: 7.6ms preprocess, 7.6ms inference, 0.1ms postprocess per image at shape (1, 3, 640, 640)\n",
      "\n",
      "image 1/1 C:\\Users\\User\\Desktop\\1Year\\Term2\\SuperEngi\\1PrepareFinalTest\\test_Image1\\test\\7ca0a84e.jpg: 640x640 1 0.81, 0 0.19, 7.4ms\n",
      "Speed: 8.5ms preprocess, 7.4ms inference, 0.1ms postprocess per image at shape (1, 3, 640, 640)\n",
      "\n",
      "image 1/1 C:\\Users\\User\\Desktop\\1Year\\Term2\\SuperEngi\\1PrepareFinalTest\\test_Image1\\test\\7ce8fc51.jpg: 640x640 0 1.00, 1 0.00, 7.8ms\n",
      "Speed: 7.3ms preprocess, 7.8ms inference, 0.1ms postprocess per image at shape (1, 3, 640, 640)\n",
      "\n",
      "image 1/1 C:\\Users\\User\\Desktop\\1Year\\Term2\\SuperEngi\\1PrepareFinalTest\\test_Image1\\test\\7cedad8c.jpg: 640x640 1 0.99, 0 0.01, 7.5ms\n",
      "Speed: 10.0ms preprocess, 7.5ms inference, 0.1ms postprocess per image at shape (1, 3, 640, 640)\n"
     ]
    },
    {
     "name": "stderr",
     "output_type": "stream",
     "text": [
      " 46%|████▌     | 713/1550 [00:17<00:21, 38.25it/s]"
     ]
    },
    {
     "name": "stdout",
     "output_type": "stream",
     "text": [
      "\n",
      "image 1/1 C:\\Users\\User\\Desktop\\1Year\\Term2\\SuperEngi\\1PrepareFinalTest\\test_Image1\\test\\7d380430.jpg: 640x640 0 1.00, 1 0.00, 7.0ms\n",
      "Speed: 8.7ms preprocess, 7.0ms inference, 0.1ms postprocess per image at shape (1, 3, 640, 640)\n",
      "\n",
      "image 1/1 C:\\Users\\User\\Desktop\\1Year\\Term2\\SuperEngi\\1PrepareFinalTest\\test_Image1\\test\\7d51a6fc.jpg: 640x640 1 1.00, 0 0.00, 7.3ms\n",
      "Speed: 7.7ms preprocess, 7.3ms inference, 0.1ms postprocess per image at shape (1, 3, 640, 640)\n",
      "\n",
      "image 1/1 C:\\Users\\User\\Desktop\\1Year\\Term2\\SuperEngi\\1PrepareFinalTest\\test_Image1\\test\\7d5c1720.jpg: 640x640 0 1.00, 1 0.00, 7.2ms\n",
      "Speed: 8.6ms preprocess, 7.2ms inference, 0.0ms postprocess per image at shape (1, 3, 640, 640)\n",
      "\n",
      "image 1/1 C:\\Users\\User\\Desktop\\1Year\\Term2\\SuperEngi\\1PrepareFinalTest\\test_Image1\\test\\7d61cbdb.jpg: 640x640 0 1.00, 1 0.00, 7.3ms\n",
      "Speed: 8.0ms preprocess, 7.3ms inference, 0.1ms postprocess per image at shape (1, 3, 640, 640)\n"
     ]
    },
    {
     "name": "stderr",
     "output_type": "stream",
     "text": [
      " 46%|████▋     | 717/1550 [00:17<00:21, 38.35it/s]"
     ]
    },
    {
     "name": "stdout",
     "output_type": "stream",
     "text": [
      "\n",
      "image 1/1 C:\\Users\\User\\Desktop\\1Year\\Term2\\SuperEngi\\1PrepareFinalTest\\test_Image1\\test\\7d72abd0.jpg: 640x640 0 1.00, 1 0.00, 6.7ms\n",
      "Speed: 7.7ms preprocess, 6.7ms inference, 0.1ms postprocess per image at shape (1, 3, 640, 640)\n",
      "\n",
      "image 1/1 C:\\Users\\User\\Desktop\\1Year\\Term2\\SuperEngi\\1PrepareFinalTest\\test_Image1\\test\\7d762131.jpg: 640x640 1 1.00, 0 0.00, 10.8ms\n",
      "Speed: 14.0ms preprocess, 10.8ms inference, 0.1ms postprocess per image at shape (1, 3, 640, 640)\n",
      "\n",
      "image 1/1 C:\\Users\\User\\Desktop\\1Year\\Term2\\SuperEngi\\1PrepareFinalTest\\test_Image1\\test\\7d7a3d8c.jpg: 640x640 0 0.77, 1 0.23, 10.5ms\n",
      "Speed: 10.2ms preprocess, 10.5ms inference, 0.1ms postprocess per image at shape (1, 3, 640, 640)\n",
      "\n",
      "image 1/1 C:\\Users\\User\\Desktop\\1Year\\Term2\\SuperEngi\\1PrepareFinalTest\\test_Image1\\test\\7db761d4.jpg: 640x640 0 0.96, 1 0.04, 7.3ms\n",
      "Speed: 8.8ms preprocess, 7.3ms inference, 0.1ms postprocess per image at shape (1, 3, 640, 640)\n"
     ]
    },
    {
     "name": "stderr",
     "output_type": "stream",
     "text": [
      " 47%|████▋     | 721/1550 [00:17<00:22, 36.38it/s]"
     ]
    },
    {
     "name": "stdout",
     "output_type": "stream",
     "text": [
      "\n",
      "image 1/1 C:\\Users\\User\\Desktop\\1Year\\Term2\\SuperEngi\\1PrepareFinalTest\\test_Image1\\test\\7dc9c0f9.jpg: 640x640 0 1.00, 1 0.00, 7.4ms\n",
      "Speed: 8.4ms preprocess, 7.4ms inference, 0.1ms postprocess per image at shape (1, 3, 640, 640)\n",
      "\n",
      "image 1/1 C:\\Users\\User\\Desktop\\1Year\\Term2\\SuperEngi\\1PrepareFinalTest\\test_Image1\\test\\7df1d7e9.jpg: 640x640 1 1.00, 0 0.00, 7.1ms\n",
      "Speed: 8.4ms preprocess, 7.1ms inference, 0.0ms postprocess per image at shape (1, 3, 640, 640)\n",
      "\n",
      "image 1/1 C:\\Users\\User\\Desktop\\1Year\\Term2\\SuperEngi\\1PrepareFinalTest\\test_Image1\\test\\7e092106.jpg: 640x640 0 1.00, 1 0.00, 8.7ms\n",
      "Speed: 7.0ms preprocess, 8.7ms inference, 0.1ms postprocess per image at shape (1, 3, 640, 640)\n",
      "\n",
      "image 1/1 C:\\Users\\User\\Desktop\\1Year\\Term2\\SuperEngi\\1PrepareFinalTest\\test_Image1\\test\\7e2030a0.jpg: 640x640 1 1.00, 0 0.00, 7.9ms\n",
      "Speed: 7.5ms preprocess, 7.9ms inference, 0.1ms postprocess per image at shape (1, 3, 640, 640)\n",
      "\n",
      "image 1/1 C:\\Users\\User\\Desktop\\1Year\\Term2\\SuperEngi\\1PrepareFinalTest\\test_Image1\\test\\7e4fd30a.jpg: 640x640 0 1.00, 1 0.00, 6.9ms\n",
      "Speed: 6.4ms preprocess, 6.9ms inference, 0.0ms postprocess per image at shape (1, 3, 640, 640)\n"
     ]
    },
    {
     "name": "stderr",
     "output_type": "stream",
     "text": [
      " 47%|████▋     | 726/1550 [00:18<00:21, 38.11it/s]"
     ]
    },
    {
     "name": "stdout",
     "output_type": "stream",
     "text": [
      "\n",
      "image 1/1 C:\\Users\\User\\Desktop\\1Year\\Term2\\SuperEngi\\1PrepareFinalTest\\test_Image1\\test\\7e6cafaa.jpg: 640x640 1 1.00, 0 0.00, 6.8ms\n",
      "Speed: 6.4ms preprocess, 6.8ms inference, 0.0ms postprocess per image at shape (1, 3, 640, 640)\n",
      "\n",
      "image 1/1 C:\\Users\\User\\Desktop\\1Year\\Term2\\SuperEngi\\1PrepareFinalTest\\test_Image1\\test\\7e78ba7d.jpg: 640x640 1 0.90, 0 0.10, 6.9ms\n",
      "Speed: 6.0ms preprocess, 6.9ms inference, 0.1ms postprocess per image at shape (1, 3, 640, 640)\n",
      "\n",
      "image 1/1 C:\\Users\\User\\Desktop\\1Year\\Term2\\SuperEngi\\1PrepareFinalTest\\test_Image1\\test\\7e8862e8.jpg: 640x640 0 0.99, 1 0.01, 6.7ms\n",
      "Speed: 6.2ms preprocess, 6.7ms inference, 0.0ms postprocess per image at shape (1, 3, 640, 640)\n",
      "\n",
      "image 1/1 C:\\Users\\User\\Desktop\\1Year\\Term2\\SuperEngi\\1PrepareFinalTest\\test_Image1\\test\\7e90f408.jpg: 640x640 1 1.00, 0 0.00, 6.9ms\n",
      "Speed: 6.0ms preprocess, 6.9ms inference, 0.1ms postprocess per image at shape (1, 3, 640, 640)\n",
      "\n",
      "image 1/1 C:\\Users\\User\\Desktop\\1Year\\Term2\\SuperEngi\\1PrepareFinalTest\\test_Image1\\test\\7ea2fb36.jpg: 640x640 1 1.00, 0 0.00, 6.9ms\n",
      "Speed: 6.5ms preprocess, 6.9ms inference, 0.0ms postprocess per image at shape (1, 3, 640, 640)\n"
     ]
    },
    {
     "name": "stderr",
     "output_type": "stream",
     "text": [
      " 47%|████▋     | 731/1550 [00:18<00:19, 41.24it/s]"
     ]
    },
    {
     "name": "stdout",
     "output_type": "stream",
     "text": [
      "\n",
      "image 1/1 C:\\Users\\User\\Desktop\\1Year\\Term2\\SuperEngi\\1PrepareFinalTest\\test_Image1\\test\\7ea36d0f.jpg: 640x640 0 1.00, 1 0.00, 7.0ms\n",
      "Speed: 6.2ms preprocess, 7.0ms inference, 0.1ms postprocess per image at shape (1, 3, 640, 640)\n",
      "\n",
      "image 1/1 C:\\Users\\User\\Desktop\\1Year\\Term2\\SuperEngi\\1PrepareFinalTest\\test_Image1\\test\\7ec1365e.jpg: 640x640 1 1.00, 0 0.00, 7.0ms\n",
      "Speed: 7.3ms preprocess, 7.0ms inference, 0.1ms postprocess per image at shape (1, 3, 640, 640)\n",
      "\n",
      "image 1/1 C:\\Users\\User\\Desktop\\1Year\\Term2\\SuperEngi\\1PrepareFinalTest\\test_Image1\\test\\7ee9ab15.jpg: 640x640 0 1.00, 1 0.00, 7.3ms\n",
      "Speed: 7.0ms preprocess, 7.3ms inference, 0.0ms postprocess per image at shape (1, 3, 640, 640)\n",
      "\n",
      "image 1/1 C:\\Users\\User\\Desktop\\1Year\\Term2\\SuperEngi\\1PrepareFinalTest\\test_Image1\\test\\7eeee8e1.jpg: 640x640 0 1.00, 1 0.00, 7.0ms\n",
      "Speed: 6.8ms preprocess, 7.0ms inference, 0.0ms postprocess per image at shape (1, 3, 640, 640)\n",
      "\n",
      "image 1/1 C:\\Users\\User\\Desktop\\1Year\\Term2\\SuperEngi\\1PrepareFinalTest\\test_Image1\\test\\7efe714e.jpg: 640x640 0 1.00, 1 0.00, 7.1ms\n",
      "Speed: 6.2ms preprocess, 7.1ms inference, 0.0ms postprocess per image at shape (1, 3, 640, 640)\n"
     ]
    },
    {
     "name": "stderr",
     "output_type": "stream",
     "text": [
      " 47%|████▋     | 736/1550 [00:18<00:19, 42.79it/s]"
     ]
    },
    {
     "name": "stdout",
     "output_type": "stream",
     "text": [
      "\n",
      "image 1/1 C:\\Users\\User\\Desktop\\1Year\\Term2\\SuperEngi\\1PrepareFinalTest\\test_Image1\\test\\7f6c2638.jpg: 640x640 0 0.99, 1 0.01, 6.9ms\n",
      "Speed: 6.0ms preprocess, 6.9ms inference, 0.0ms postprocess per image at shape (1, 3, 640, 640)\n",
      "\n",
      "image 1/1 C:\\Users\\User\\Desktop\\1Year\\Term2\\SuperEngi\\1PrepareFinalTest\\test_Image1\\test\\7f90ee2c.jpg: 640x640 0 1.00, 1 0.00, 7.0ms\n",
      "Speed: 6.1ms preprocess, 7.0ms inference, 0.0ms postprocess per image at shape (1, 3, 640, 640)\n",
      "\n",
      "image 1/1 C:\\Users\\User\\Desktop\\1Year\\Term2\\SuperEngi\\1PrepareFinalTest\\test_Image1\\test\\7fd6caef.jpg: 640x640 1 1.00, 0 0.00, 6.9ms\n",
      "Speed: 6.0ms preprocess, 6.9ms inference, 0.0ms postprocess per image at shape (1, 3, 640, 640)\n",
      "\n",
      "image 1/1 C:\\Users\\User\\Desktop\\1Year\\Term2\\SuperEngi\\1PrepareFinalTest\\test_Image1\\test\\7fdc9698.jpg: 640x640 0 1.00, 1 0.00, 7.0ms\n",
      "Speed: 6.6ms preprocess, 7.0ms inference, 0.3ms postprocess per image at shape (1, 3, 640, 640)\n",
      "\n",
      "image 1/1 C:\\Users\\User\\Desktop\\1Year\\Term2\\SuperEngi\\1PrepareFinalTest\\test_Image1\\test\\7ff8da4e.jpg: 640x640 0 1.00, 1 0.00, 7.0ms\n",
      "Speed: 5.7ms preprocess, 7.0ms inference, 0.0ms postprocess per image at shape (1, 3, 640, 640)\n"
     ]
    },
    {
     "name": "stderr",
     "output_type": "stream",
     "text": [
      " 48%|████▊     | 741/1550 [00:18<00:18, 44.52it/s]"
     ]
    },
    {
     "name": "stdout",
     "output_type": "stream",
     "text": [
      "\n",
      "image 1/1 C:\\Users\\User\\Desktop\\1Year\\Term2\\SuperEngi\\1PrepareFinalTest\\test_Image1\\test\\800205bd.jpg: 640x640 0 1.00, 1 0.00, 7.0ms\n",
      "Speed: 6.0ms preprocess, 7.0ms inference, 0.0ms postprocess per image at shape (1, 3, 640, 640)\n",
      "\n",
      "image 1/1 C:\\Users\\User\\Desktop\\1Year\\Term2\\SuperEngi\\1PrepareFinalTest\\test_Image1\\test\\806357e2.jpg: 640x640 1 0.99, 0 0.01, 8.2ms\n",
      "Speed: 7.5ms preprocess, 8.2ms inference, 0.1ms postprocess per image at shape (1, 3, 640, 640)\n",
      "\n",
      "image 1/1 C:\\Users\\User\\Desktop\\1Year\\Term2\\SuperEngi\\1PrepareFinalTest\\test_Image1\\test\\80cec1c9.jpg: 640x640 1 1.00, 0 0.00, 7.5ms\n",
      "Speed: 6.2ms preprocess, 7.5ms inference, 0.0ms postprocess per image at shape (1, 3, 640, 640)\n",
      "\n",
      "image 1/1 C:\\Users\\User\\Desktop\\1Year\\Term2\\SuperEngi\\1PrepareFinalTest\\test_Image1\\test\\80e71a89.jpg: 640x640 0 1.00, 1 0.00, 6.9ms\n",
      "Speed: 5.7ms preprocess, 6.9ms inference, 0.0ms postprocess per image at shape (1, 3, 640, 640)\n",
      "\n",
      "image 1/1 C:\\Users\\User\\Desktop\\1Year\\Term2\\SuperEngi\\1PrepareFinalTest\\test_Image1\\test\\814b66b1.jpg: 640x640 1 0.99, 0 0.01, 7.0ms\n",
      "Speed: 6.7ms preprocess, 7.0ms inference, 0.0ms postprocess per image at shape (1, 3, 640, 640)\n"
     ]
    },
    {
     "name": "stderr",
     "output_type": "stream",
     "text": [
      " 48%|████▊     | 746/1550 [00:18<00:17, 45.35it/s]"
     ]
    },
    {
     "name": "stdout",
     "output_type": "stream",
     "text": [
      "\n",
      "image 1/1 C:\\Users\\User\\Desktop\\1Year\\Term2\\SuperEngi\\1PrepareFinalTest\\test_Image1\\test\\8176d497.jpg: 640x640 1 0.86, 0 0.14, 7.7ms\n",
      "Speed: 7.4ms preprocess, 7.7ms inference, 0.1ms postprocess per image at shape (1, 3, 640, 640)\n",
      "\n",
      "image 1/1 C:\\Users\\User\\Desktop\\1Year\\Term2\\SuperEngi\\1PrepareFinalTest\\test_Image1\\test\\8179b213.jpg: 640x640 0 1.00, 1 0.00, 6.3ms\n",
      "Speed: 6.3ms preprocess, 6.3ms inference, 0.1ms postprocess per image at shape (1, 3, 640, 640)\n",
      "\n",
      "image 1/1 C:\\Users\\User\\Desktop\\1Year\\Term2\\SuperEngi\\1PrepareFinalTest\\test_Image1\\test\\81bc175f.jpg: 640x640 0 1.00, 1 0.00, 6.7ms\n",
      "Speed: 6.1ms preprocess, 6.7ms inference, 0.0ms postprocess per image at shape (1, 3, 640, 640)\n",
      "\n",
      "image 1/1 C:\\Users\\User\\Desktop\\1Year\\Term2\\SuperEngi\\1PrepareFinalTest\\test_Image1\\test\\81f26568.jpg: 640x640 0 1.00, 1 0.00, 6.7ms\n",
      "Speed: 5.9ms preprocess, 6.7ms inference, 0.0ms postprocess per image at shape (1, 3, 640, 640)\n",
      "\n",
      "image 1/1 C:\\Users\\User\\Desktop\\1Year\\Term2\\SuperEngi\\1PrepareFinalTest\\test_Image1\\test\\81fb9fd7.jpg: 640x640 1 1.00, 0 0.00, 6.8ms\n",
      "Speed: 5.9ms preprocess, 6.8ms inference, 0.1ms postprocess per image at shape (1, 3, 640, 640)\n"
     ]
    },
    {
     "name": "stderr",
     "output_type": "stream",
     "text": [
      " 48%|████▊     | 751/1550 [00:18<00:17, 46.24it/s]"
     ]
    },
    {
     "name": "stdout",
     "output_type": "stream",
     "text": [
      "\n",
      "image 1/1 C:\\Users\\User\\Desktop\\1Year\\Term2\\SuperEngi\\1PrepareFinalTest\\test_Image1\\test\\82402242.jpg: 640x640 0 1.00, 1 0.00, 7.0ms\n",
      "Speed: 8.5ms preprocess, 7.0ms inference, 0.0ms postprocess per image at shape (1, 3, 640, 640)\n",
      "\n",
      "image 1/1 C:\\Users\\User\\Desktop\\1Year\\Term2\\SuperEngi\\1PrepareFinalTest\\test_Image1\\test\\825b04fe.jpg: 640x640 0 1.00, 1 0.00, 6.9ms\n",
      "Speed: 10.6ms preprocess, 6.9ms inference, 0.1ms postprocess per image at shape (1, 3, 640, 640)\n",
      "\n",
      "image 1/1 C:\\Users\\User\\Desktop\\1Year\\Term2\\SuperEngi\\1PrepareFinalTest\\test_Image1\\test\\828d7d35.jpg: 640x640 0 1.00, 1 0.00, 8.3ms\n",
      "Speed: 8.9ms preprocess, 8.3ms inference, 0.1ms postprocess per image at shape (1, 3, 640, 640)\n",
      "\n",
      "image 1/1 C:\\Users\\User\\Desktop\\1Year\\Term2\\SuperEngi\\1PrepareFinalTest\\test_Image1\\test\\82da3ef8.jpg: 640x640 1 1.00, 0 0.00, 6.8ms\n",
      "Speed: 8.6ms preprocess, 6.8ms inference, 0.1ms postprocess per image at shape (1, 3, 640, 640)\n",
      "\n",
      "image 1/1 C:\\Users\\User\\Desktop\\1Year\\Term2\\SuperEngi\\1PrepareFinalTest\\test_Image1\\test\\82de2aa1.jpg: 640x640 1 1.00, 0 0.00, 7.1ms\n",
      "Speed: 13.3ms preprocess, 7.1ms inference, 0.1ms postprocess per image at shape (1, 3, 640, 640)\n"
     ]
    },
    {
     "name": "stderr",
     "output_type": "stream",
     "text": [
      " 49%|████▉     | 756/1550 [00:18<00:18, 42.44it/s]"
     ]
    },
    {
     "name": "stdout",
     "output_type": "stream",
     "text": [
      "\n",
      "image 1/1 C:\\Users\\User\\Desktop\\1Year\\Term2\\SuperEngi\\1PrepareFinalTest\\test_Image1\\test\\83235a6b.jpg: 640x640 0 1.00, 1 0.00, 8.1ms\n",
      "Speed: 9.9ms preprocess, 8.1ms inference, 0.1ms postprocess per image at shape (1, 3, 640, 640)\n",
      "\n",
      "image 1/1 C:\\Users\\User\\Desktop\\1Year\\Term2\\SuperEngi\\1PrepareFinalTest\\test_Image1\\test\\832900d5.jpg: 640x640 0 1.00, 1 0.00, 6.9ms\n",
      "Speed: 7.8ms preprocess, 6.9ms inference, 0.1ms postprocess per image at shape (1, 3, 640, 640)\n",
      "\n",
      "image 1/1 C:\\Users\\User\\Desktop\\1Year\\Term2\\SuperEngi\\1PrepareFinalTest\\test_Image1\\test\\839ae712.jpg: 640x640 1 1.00, 0 0.00, 7.2ms\n",
      "Speed: 7.7ms preprocess, 7.2ms inference, 0.1ms postprocess per image at shape (1, 3, 640, 640)\n",
      "\n",
      "image 1/1 C:\\Users\\User\\Desktop\\1Year\\Term2\\SuperEngi\\1PrepareFinalTest\\test_Image1\\test\\83dd9020.jpg: 640x640 1 1.00, 0 0.00, 6.8ms\n",
      "Speed: 7.4ms preprocess, 6.8ms inference, 0.1ms postprocess per image at shape (1, 3, 640, 640)\n",
      "\n",
      "image 1/1 C:\\Users\\User\\Desktop\\1Year\\Term2\\SuperEngi\\1PrepareFinalTest\\test_Image1\\test\\83f20d72.jpg: 640x640 0 1.00, 1 0.00, 7.2ms\n",
      "Speed: 8.2ms preprocess, 7.2ms inference, 0.1ms postprocess per image at shape (1, 3, 640, 640)\n"
     ]
    },
    {
     "name": "stderr",
     "output_type": "stream",
     "text": [
      " 49%|████▉     | 761/1550 [00:18<00:19, 41.27it/s]"
     ]
    },
    {
     "name": "stdout",
     "output_type": "stream",
     "text": [
      "\n",
      "image 1/1 C:\\Users\\User\\Desktop\\1Year\\Term2\\SuperEngi\\1PrepareFinalTest\\test_Image1\\test\\83fa81e2.jpg: 640x640 0 1.00, 1 0.00, 7.8ms\n",
      "Speed: 8.1ms preprocess, 7.8ms inference, 0.1ms postprocess per image at shape (1, 3, 640, 640)\n",
      "\n",
      "image 1/1 C:\\Users\\User\\Desktop\\1Year\\Term2\\SuperEngi\\1PrepareFinalTest\\test_Image1\\test\\844130ad.jpg: 640x640 0 1.00, 1 0.00, 7.1ms\n",
      "Speed: 8.4ms preprocess, 7.1ms inference, 0.1ms postprocess per image at shape (1, 3, 640, 640)\n",
      "\n",
      "image 1/1 C:\\Users\\User\\Desktop\\1Year\\Term2\\SuperEngi\\1PrepareFinalTest\\test_Image1\\test\\8470632a.jpg: 640x640 0 1.00, 1 0.00, 8.8ms\n",
      "Speed: 8.1ms preprocess, 8.8ms inference, 0.0ms postprocess per image at shape (1, 3, 640, 640)\n",
      "\n",
      "image 1/1 C:\\Users\\User\\Desktop\\1Year\\Term2\\SuperEngi\\1PrepareFinalTest\\test_Image1\\test\\848fa28e.jpg: 640x640 1 1.00, 0 0.00, 6.7ms\n",
      "Speed: 8.5ms preprocess, 6.7ms inference, 0.1ms postprocess per image at shape (1, 3, 640, 640)\n",
      "\n",
      "image 1/1 C:\\Users\\User\\Desktop\\1Year\\Term2\\SuperEngi\\1PrepareFinalTest\\test_Image1\\test\\84988add.jpg: 640x640 1 1.00, 0 0.00, 9.0ms\n",
      "Speed: 7.2ms preprocess, 9.0ms inference, 0.0ms postprocess per image at shape (1, 3, 640, 640)\n"
     ]
    },
    {
     "name": "stderr",
     "output_type": "stream",
     "text": [
      " 49%|████▉     | 766/1550 [00:18<00:19, 40.55it/s]"
     ]
    },
    {
     "name": "stdout",
     "output_type": "stream",
     "text": [
      "\n",
      "image 1/1 C:\\Users\\User\\Desktop\\1Year\\Term2\\SuperEngi\\1PrepareFinalTest\\test_Image1\\test\\84b06786.jpg: 640x640 0 1.00, 1 0.00, 6.8ms\n",
      "Speed: 8.0ms preprocess, 6.8ms inference, 0.1ms postprocess per image at shape (1, 3, 640, 640)\n",
      "\n",
      "image 1/1 C:\\Users\\User\\Desktop\\1Year\\Term2\\SuperEngi\\1PrepareFinalTest\\test_Image1\\test\\84bb5ead.jpg: 640x640 1 1.00, 0 0.00, 6.7ms\n",
      "Speed: 7.4ms preprocess, 6.7ms inference, 0.0ms postprocess per image at shape (1, 3, 640, 640)\n",
      "\n",
      "image 1/1 C:\\Users\\User\\Desktop\\1Year\\Term2\\SuperEngi\\1PrepareFinalTest\\test_Image1\\test\\8582f6c4.jpg: 640x640 0 1.00, 1 0.00, 11.4ms\n",
      "Speed: 11.2ms preprocess, 11.4ms inference, 0.1ms postprocess per image at shape (1, 3, 640, 640)\n",
      "\n",
      "image 1/1 C:\\Users\\User\\Desktop\\1Year\\Term2\\SuperEngi\\1PrepareFinalTest\\test_Image1\\test\\85e6ac9a.jpg: 640x640 1 1.00, 0 0.00, 7.2ms\n",
      "Speed: 8.8ms preprocess, 7.2ms inference, 0.1ms postprocess per image at shape (1, 3, 640, 640)\n",
      "\n",
      "image 1/1 C:\\Users\\User\\Desktop\\1Year\\Term2\\SuperEngi\\1PrepareFinalTest\\test_Image1\\test\\8602a8d7.jpg: 640x640 0 1.00, 1 0.00, 7.2ms\n",
      "Speed: 8.2ms preprocess, 7.2ms inference, 0.1ms postprocess per image at shape (1, 3, 640, 640)\n"
     ]
    },
    {
     "name": "stderr",
     "output_type": "stream",
     "text": [
      " 50%|████▉     | 771/1550 [00:19<00:19, 39.75it/s]"
     ]
    },
    {
     "name": "stdout",
     "output_type": "stream",
     "text": [
      "\n",
      "image 1/1 C:\\Users\\User\\Desktop\\1Year\\Term2\\SuperEngi\\1PrepareFinalTest\\test_Image1\\test\\86175aa8.jpg: 640x640 0 1.00, 1 0.00, 6.7ms\n",
      "Speed: 7.3ms preprocess, 6.7ms inference, 0.1ms postprocess per image at shape (1, 3, 640, 640)\n",
      "\n",
      "image 1/1 C:\\Users\\User\\Desktop\\1Year\\Term2\\SuperEngi\\1PrepareFinalTest\\test_Image1\\test\\8623c63c.jpg: 640x640 1 1.00, 0 0.00, 9.0ms\n",
      "Speed: 7.9ms preprocess, 9.0ms inference, 0.1ms postprocess per image at shape (1, 3, 640, 640)\n",
      "\n",
      "image 1/1 C:\\Users\\User\\Desktop\\1Year\\Term2\\SuperEngi\\1PrepareFinalTest\\test_Image1\\test\\8634cb83.jpg: 640x640 0 1.00, 1 0.00, 6.7ms\n",
      "Speed: 7.4ms preprocess, 6.7ms inference, 0.0ms postprocess per image at shape (1, 3, 640, 640)\n",
      "\n",
      "image 1/1 C:\\Users\\User\\Desktop\\1Year\\Term2\\SuperEngi\\1PrepareFinalTest\\test_Image1\\test\\86b199ef.jpg: 640x640 0 1.00, 1 0.00, 7.0ms\n",
      "Speed: 7.6ms preprocess, 7.0ms inference, 0.1ms postprocess per image at shape (1, 3, 640, 640)\n",
      "\n",
      "image 1/1 C:\\Users\\User\\Desktop\\1Year\\Term2\\SuperEngi\\1PrepareFinalTest\\test_Image1\\test\\87615100.jpg: 640x640 0 1.00, 1 0.00, 7.2ms\n",
      "Speed: 10.3ms preprocess, 7.2ms inference, 0.1ms postprocess per image at shape (1, 3, 640, 640)\n"
     ]
    },
    {
     "name": "stderr",
     "output_type": "stream",
     "text": [
      " 50%|█████     | 776/1550 [00:19<00:19, 40.14it/s]"
     ]
    },
    {
     "name": "stdout",
     "output_type": "stream",
     "text": [
      "\n",
      "image 1/1 C:\\Users\\User\\Desktop\\1Year\\Term2\\SuperEngi\\1PrepareFinalTest\\test_Image1\\test\\8779fdb4.jpg: 640x640 0 1.00, 1 0.00, 9.6ms\n",
      "Speed: 7.6ms preprocess, 9.6ms inference, 0.1ms postprocess per image at shape (1, 3, 640, 640)\n",
      "\n",
      "image 1/1 C:\\Users\\User\\Desktop\\1Year\\Term2\\SuperEngi\\1PrepareFinalTest\\test_Image1\\test\\8789fe5d.jpg: 640x640 0 1.00, 1 0.00, 8.4ms\n",
      "Speed: 8.4ms preprocess, 8.4ms inference, 0.0ms postprocess per image at shape (1, 3, 640, 640)\n",
      "\n",
      "image 1/1 C:\\Users\\User\\Desktop\\1Year\\Term2\\SuperEngi\\1PrepareFinalTest\\test_Image1\\test\\87a7ca7f.jpg: 640x640 1 0.87, 0 0.13, 7.0ms\n",
      "Speed: 7.7ms preprocess, 7.0ms inference, 0.1ms postprocess per image at shape (1, 3, 640, 640)\n",
      "\n",
      "image 1/1 C:\\Users\\User\\Desktop\\1Year\\Term2\\SuperEngi\\1PrepareFinalTest\\test_Image1\\test\\87c285bc.jpg: 640x640 1 1.00, 0 0.00, 6.9ms\n",
      "Speed: 8.0ms preprocess, 6.9ms inference, 0.1ms postprocess per image at shape (1, 3, 640, 640)\n",
      "\n",
      "image 1/1 C:\\Users\\User\\Desktop\\1Year\\Term2\\SuperEngi\\1PrepareFinalTest\\test_Image1\\test\\87d9797d.jpg: 640x640 1 1.00, 0 0.00, 6.8ms\n",
      "Speed: 8.0ms preprocess, 6.8ms inference, 0.1ms postprocess per image at shape (1, 3, 640, 640)\n"
     ]
    },
    {
     "name": "stderr",
     "output_type": "stream",
     "text": [
      " 50%|█████     | 781/1550 [00:19<00:19, 40.31it/s]"
     ]
    },
    {
     "name": "stdout",
     "output_type": "stream",
     "text": [
      "\n",
      "image 1/1 C:\\Users\\User\\Desktop\\1Year\\Term2\\SuperEngi\\1PrepareFinalTest\\test_Image1\\test\\87f0034a.jpg: 640x640 0 1.00, 1 0.00, 6.4ms\n",
      "Speed: 9.0ms preprocess, 6.4ms inference, 0.1ms postprocess per image at shape (1, 3, 640, 640)\n",
      "\n",
      "image 1/1 C:\\Users\\User\\Desktop\\1Year\\Term2\\SuperEngi\\1PrepareFinalTest\\test_Image1\\test\\880dfb48.jpg: 640x640 0 1.00, 1 0.00, 7.0ms\n",
      "Speed: 9.9ms preprocess, 7.0ms inference, 0.1ms postprocess per image at shape (1, 3, 640, 640)\n",
      "\n",
      "image 1/1 C:\\Users\\User\\Desktop\\1Year\\Term2\\SuperEngi\\1PrepareFinalTest\\test_Image1\\test\\884397f5.jpg: 640x640 0 1.00, 1 0.00, 7.7ms\n",
      "Speed: 7.7ms preprocess, 7.7ms inference, 0.0ms postprocess per image at shape (1, 3, 640, 640)\n",
      "\n",
      "image 1/1 C:\\Users\\User\\Desktop\\1Year\\Term2\\SuperEngi\\1PrepareFinalTest\\test_Image1\\test\\887f5c9f.jpg: 640x640 0 0.99, 1 0.01, 7.1ms\n",
      "Speed: 7.9ms preprocess, 7.1ms inference, 0.1ms postprocess per image at shape (1, 3, 640, 640)\n",
      "\n",
      "image 1/1 C:\\Users\\User\\Desktop\\1Year\\Term2\\SuperEngi\\1PrepareFinalTest\\test_Image1\\test\\88a97bbd.jpg: 640x640 1 1.00, 0 0.00, 9.2ms\n",
      "Speed: 8.3ms preprocess, 9.2ms inference, 0.1ms postprocess per image at shape (1, 3, 640, 640)\n"
     ]
    },
    {
     "name": "stderr",
     "output_type": "stream",
     "text": [
      " 51%|█████     | 786/1550 [00:19<00:19, 40.13it/s]"
     ]
    },
    {
     "name": "stdout",
     "output_type": "stream",
     "text": [
      "\n",
      "image 1/1 C:\\Users\\User\\Desktop\\1Year\\Term2\\SuperEngi\\1PrepareFinalTest\\test_Image1\\test\\88bb2b03.jpg: 640x640 0 1.00, 1 0.00, 7.0ms\n",
      "Speed: 8.5ms preprocess, 7.0ms inference, 0.1ms postprocess per image at shape (1, 3, 640, 640)\n",
      "\n",
      "image 1/1 C:\\Users\\User\\Desktop\\1Year\\Term2\\SuperEngi\\1PrepareFinalTest\\test_Image1\\test\\8917f559.jpg: 640x640 0 0.98, 1 0.02, 7.1ms\n",
      "Speed: 7.8ms preprocess, 7.1ms inference, 0.1ms postprocess per image at shape (1, 3, 640, 640)\n",
      "\n",
      "image 1/1 C:\\Users\\User\\Desktop\\1Year\\Term2\\SuperEngi\\1PrepareFinalTest\\test_Image1\\test\\89216483.jpg: 640x640 0 1.00, 1 0.00, 7.0ms\n",
      "Speed: 7.7ms preprocess, 7.0ms inference, 0.1ms postprocess per image at shape (1, 3, 640, 640)\n",
      "\n",
      "image 1/1 C:\\Users\\User\\Desktop\\1Year\\Term2\\SuperEngi\\1PrepareFinalTest\\test_Image1\\test\\897e6108.jpg: 640x640 1 1.00, 0 0.00, 6.9ms\n",
      "Speed: 9.3ms preprocess, 6.9ms inference, 0.1ms postprocess per image at shape (1, 3, 640, 640)\n",
      "\n",
      "image 1/1 C:\\Users\\User\\Desktop\\1Year\\Term2\\SuperEngi\\1PrepareFinalTest\\test_Image1\\test\\899293d5.jpg: 640x640 1 1.00, 0 0.00, 6.7ms\n",
      "Speed: 8.1ms preprocess, 6.7ms inference, 0.0ms postprocess per image at shape (1, 3, 640, 640)\n"
     ]
    },
    {
     "name": "stderr",
     "output_type": "stream",
     "text": [
      " 51%|█████     | 791/1550 [00:19<00:18, 40.50it/s]"
     ]
    },
    {
     "name": "stdout",
     "output_type": "stream",
     "text": [
      "\n",
      "image 1/1 C:\\Users\\User\\Desktop\\1Year\\Term2\\SuperEngi\\1PrepareFinalTest\\test_Image1\\test\\89b0d845.jpg: 640x640 1 1.00, 0 0.00, 7.1ms\n",
      "Speed: 9.4ms preprocess, 7.1ms inference, 0.1ms postprocess per image at shape (1, 3, 640, 640)\n",
      "\n",
      "image 1/1 C:\\Users\\User\\Desktop\\1Year\\Term2\\SuperEngi\\1PrepareFinalTest\\test_Image1\\test\\89d47be9.jpg: 640x640 0 1.00, 1 0.00, 6.8ms\n",
      "Speed: 12.8ms preprocess, 6.8ms inference, 0.1ms postprocess per image at shape (1, 3, 640, 640)\n",
      "\n",
      "image 1/1 C:\\Users\\User\\Desktop\\1Year\\Term2\\SuperEngi\\1PrepareFinalTest\\test_Image1\\test\\89fcf431.jpg: 640x640 1 0.94, 0 0.06, 8.7ms\n",
      "Speed: 7.5ms preprocess, 8.7ms inference, 0.0ms postprocess per image at shape (1, 3, 640, 640)\n",
      "\n",
      "image 1/1 C:\\Users\\User\\Desktop\\1Year\\Term2\\SuperEngi\\1PrepareFinalTest\\test_Image1\\test\\8a218a02.jpg: 640x640 0 0.61, 1 0.39, 7.3ms\n",
      "Speed: 7.5ms preprocess, 7.3ms inference, 0.1ms postprocess per image at shape (1, 3, 640, 640)\n",
      "\n",
      "image 1/1 C:\\Users\\User\\Desktop\\1Year\\Term2\\SuperEngi\\1PrepareFinalTest\\test_Image1\\test\\8a284c5c.jpg: 640x640 0 0.70, 1 0.30, 7.0ms\n",
      "Speed: 7.7ms preprocess, 7.0ms inference, 0.1ms postprocess per image at shape (1, 3, 640, 640)\n"
     ]
    },
    {
     "name": "stderr",
     "output_type": "stream",
     "text": [
      " 51%|█████▏    | 796/1550 [00:19<00:18, 40.17it/s]"
     ]
    },
    {
     "name": "stdout",
     "output_type": "stream",
     "text": [
      "\n",
      "image 1/1 C:\\Users\\User\\Desktop\\1Year\\Term2\\SuperEngi\\1PrepareFinalTest\\test_Image1\\test\\8a35d4e2.jpg: 640x640 1 1.00, 0 0.00, 7.1ms\n",
      "Speed: 7.9ms preprocess, 7.1ms inference, 0.1ms postprocess per image at shape (1, 3, 640, 640)\n",
      "\n",
      "image 1/1 C:\\Users\\User\\Desktop\\1Year\\Term2\\SuperEngi\\1PrepareFinalTest\\test_Image1\\test\\8a60480c.jpg: 640x640 0 1.00, 1 0.00, 6.7ms\n",
      "Speed: 8.3ms preprocess, 6.7ms inference, 0.1ms postprocess per image at shape (1, 3, 640, 640)\n",
      "\n",
      "image 1/1 C:\\Users\\User\\Desktop\\1Year\\Term2\\SuperEngi\\1PrepareFinalTest\\test_Image1\\test\\8aae7930.jpg: 640x640 1 1.00, 0 0.00, 7.0ms\n",
      "Speed: 8.3ms preprocess, 7.0ms inference, 0.1ms postprocess per image at shape (1, 3, 640, 640)\n",
      "\n",
      "image 1/1 C:\\Users\\User\\Desktop\\1Year\\Term2\\SuperEngi\\1PrepareFinalTest\\test_Image1\\test\\8ab3d898.jpg: 640x640 0 1.00, 1 0.00, 7.1ms\n",
      "Speed: 9.1ms preprocess, 7.1ms inference, 0.1ms postprocess per image at shape (1, 3, 640, 640)\n",
      "\n",
      "image 1/1 C:\\Users\\User\\Desktop\\1Year\\Term2\\SuperEngi\\1PrepareFinalTest\\test_Image1\\test\\8abeb5d0.jpg: 640x640 0 1.00, 1 0.00, 7.3ms\n",
      "Speed: 7.8ms preprocess, 7.3ms inference, 0.1ms postprocess per image at shape (1, 3, 640, 640)\n"
     ]
    },
    {
     "name": "stderr",
     "output_type": "stream",
     "text": [
      " 52%|█████▏    | 801/1550 [00:19<00:18, 40.47it/s]"
     ]
    },
    {
     "name": "stdout",
     "output_type": "stream",
     "text": [
      "\n",
      "image 1/1 C:\\Users\\User\\Desktop\\1Year\\Term2\\SuperEngi\\1PrepareFinalTest\\test_Image1\\test\\8adc0dc1.jpg: 640x640 1 1.00, 0 0.00, 9.6ms\n",
      "Speed: 8.9ms preprocess, 9.6ms inference, 0.2ms postprocess per image at shape (1, 3, 640, 640)\n",
      "\n",
      "image 1/1 C:\\Users\\User\\Desktop\\1Year\\Term2\\SuperEngi\\1PrepareFinalTest\\test_Image1\\test\\8adf335a.jpg: 640x640 1 0.92, 0 0.08, 6.4ms\n",
      "Speed: 7.1ms preprocess, 6.4ms inference, 0.1ms postprocess per image at shape (1, 3, 640, 640)\n",
      "\n",
      "image 1/1 C:\\Users\\User\\Desktop\\1Year\\Term2\\SuperEngi\\1PrepareFinalTest\\test_Image1\\test\\8b06b40f.jpg: 640x640 0 1.00, 1 0.00, 7.1ms\n",
      "Speed: 8.0ms preprocess, 7.1ms inference, 0.1ms postprocess per image at shape (1, 3, 640, 640)\n",
      "\n",
      "image 1/1 C:\\Users\\User\\Desktop\\1Year\\Term2\\SuperEngi\\1PrepareFinalTest\\test_Image1\\test\\8b1ce347.jpg: 640x640 0 1.00, 1 0.00, 7.0ms\n",
      "Speed: 7.9ms preprocess, 7.0ms inference, 0.1ms postprocess per image at shape (1, 3, 640, 640)\n",
      "\n",
      "image 1/1 C:\\Users\\User\\Desktop\\1Year\\Term2\\SuperEngi\\1PrepareFinalTest\\test_Image1\\test\\8b24d4fe.jpg: 640x640 0 1.00, 1 0.00, 6.7ms\n",
      "Speed: 7.5ms preprocess, 6.7ms inference, 0.1ms postprocess per image at shape (1, 3, 640, 640)\n"
     ]
    },
    {
     "name": "stderr",
     "output_type": "stream",
     "text": [
      " 52%|█████▏    | 806/1550 [00:19<00:18, 40.58it/s]"
     ]
    },
    {
     "name": "stdout",
     "output_type": "stream",
     "text": [
      "\n",
      "image 1/1 C:\\Users\\User\\Desktop\\1Year\\Term2\\SuperEngi\\1PrepareFinalTest\\test_Image1\\test\\8b2e783f.jpg: 640x640 0 1.00, 1 0.00, 7.2ms\n",
      "Speed: 7.2ms preprocess, 7.2ms inference, 0.1ms postprocess per image at shape (1, 3, 640, 640)\n",
      "\n",
      "image 1/1 C:\\Users\\User\\Desktop\\1Year\\Term2\\SuperEngi\\1PrepareFinalTest\\test_Image1\\test\\8b8ec6b7.jpg: 640x640 1 1.00, 0 0.00, 10.5ms\n",
      "Speed: 12.6ms preprocess, 10.5ms inference, 0.1ms postprocess per image at shape (1, 3, 640, 640)\n",
      "\n",
      "image 1/1 C:\\Users\\User\\Desktop\\1Year\\Term2\\SuperEngi\\1PrepareFinalTest\\test_Image1\\test\\8ba702ed.jpg: 640x640 1 1.00, 0 0.00, 10.4ms\n",
      "Speed: 8.9ms preprocess, 10.4ms inference, 0.1ms postprocess per image at shape (1, 3, 640, 640)\n",
      "\n",
      "image 1/1 C:\\Users\\User\\Desktop\\1Year\\Term2\\SuperEngi\\1PrepareFinalTest\\test_Image1\\test\\8bcfc0d2.jpg: 640x640 0 1.00, 1 0.00, 6.8ms\n",
      "Speed: 11.8ms preprocess, 6.8ms inference, 0.1ms postprocess per image at shape (1, 3, 640, 640)\n",
      "\n",
      "image 1/1 C:\\Users\\User\\Desktop\\1Year\\Term2\\SuperEngi\\1PrepareFinalTest\\test_Image1\\test\\8bd8fa96.jpg: 640x640 1 1.00, 0 0.00, 6.7ms\n",
      "Speed: 7.9ms preprocess, 6.7ms inference, 0.1ms postprocess per image at shape (1, 3, 640, 640)\n"
     ]
    },
    {
     "name": "stderr",
     "output_type": "stream",
     "text": [
      " 52%|█████▏    | 811/1550 [00:20<00:19, 38.59it/s]"
     ]
    },
    {
     "name": "stdout",
     "output_type": "stream",
     "text": [
      "\n",
      "image 1/1 C:\\Users\\User\\Desktop\\1Year\\Term2\\SuperEngi\\1PrepareFinalTest\\test_Image1\\test\\8c31d467.jpg: 640x640 0 1.00, 1 0.00, 7.0ms\n",
      "Speed: 9.4ms preprocess, 7.0ms inference, 0.1ms postprocess per image at shape (1, 3, 640, 640)\n",
      "\n",
      "image 1/1 C:\\Users\\User\\Desktop\\1Year\\Term2\\SuperEngi\\1PrepareFinalTest\\test_Image1\\test\\8c968c1c.jpg: 640x640 0 0.92, 1 0.08, 6.7ms\n",
      "Speed: 8.1ms preprocess, 6.7ms inference, 0.1ms postprocess per image at shape (1, 3, 640, 640)\n",
      "\n",
      "image 1/1 C:\\Users\\User\\Desktop\\1Year\\Term2\\SuperEngi\\1PrepareFinalTest\\test_Image1\\test\\8cc2d29c.jpg: 640x640 1 1.00, 0 0.00, 8.0ms\n",
      "Speed: 7.3ms preprocess, 8.0ms inference, 0.1ms postprocess per image at shape (1, 3, 640, 640)\n",
      "\n",
      "image 1/1 C:\\Users\\User\\Desktop\\1Year\\Term2\\SuperEngi\\1PrepareFinalTest\\test_Image1\\test\\8cd4979e.jpg: 640x640 0 0.95, 1 0.05, 6.7ms\n",
      "Speed: 7.4ms preprocess, 6.7ms inference, 0.1ms postprocess per image at shape (1, 3, 640, 640)\n"
     ]
    },
    {
     "name": "stderr",
     "output_type": "stream",
     "text": [
      " 53%|█████▎    | 815/1550 [00:20<00:19, 38.65it/s]"
     ]
    },
    {
     "name": "stdout",
     "output_type": "stream",
     "text": [
      "\n",
      "image 1/1 C:\\Users\\User\\Desktop\\1Year\\Term2\\SuperEngi\\1PrepareFinalTest\\test_Image1\\test\\8ce30277.jpg: 640x640 1 0.89, 0 0.11, 7.6ms\n",
      "Speed: 8.1ms preprocess, 7.6ms inference, 0.1ms postprocess per image at shape (1, 3, 640, 640)\n",
      "\n",
      "image 1/1 C:\\Users\\User\\Desktop\\1Year\\Term2\\SuperEngi\\1PrepareFinalTest\\test_Image1\\test\\8ce5fd60.jpg: 640x640 0 1.00, 1 0.00, 7.0ms\n",
      "Speed: 8.1ms preprocess, 7.0ms inference, 0.1ms postprocess per image at shape (1, 3, 640, 640)\n",
      "\n",
      "image 1/1 C:\\Users\\User\\Desktop\\1Year\\Term2\\SuperEngi\\1PrepareFinalTest\\test_Image1\\test\\8d1a2abc.jpg: 640x640 0 0.99, 1 0.01, 6.6ms\n",
      "Speed: 7.5ms preprocess, 6.6ms inference, 0.1ms postprocess per image at shape (1, 3, 640, 640)\n",
      "\n",
      "image 1/1 C:\\Users\\User\\Desktop\\1Year\\Term2\\SuperEngi\\1PrepareFinalTest\\test_Image1\\test\\8d3c183a.jpg: 640x640 1 1.00, 0 0.00, 9.4ms\n",
      "Speed: 9.1ms preprocess, 9.4ms inference, 0.1ms postprocess per image at shape (1, 3, 640, 640)\n",
      "\n",
      "image 1/1 C:\\Users\\User\\Desktop\\1Year\\Term2\\SuperEngi\\1PrepareFinalTest\\test_Image1\\test\\8d9eaa59.jpg: 640x640 0 0.99, 1 0.01, 9.6ms\n",
      "Speed: 9.6ms preprocess, 9.6ms inference, 0.1ms postprocess per image at shape (1, 3, 640, 640)\n"
     ]
    },
    {
     "name": "stderr",
     "output_type": "stream",
     "text": [
      " 53%|█████▎    | 820/1550 [00:20<00:18, 38.78it/s]"
     ]
    },
    {
     "name": "stdout",
     "output_type": "stream",
     "text": [
      "\n",
      "image 1/1 C:\\Users\\User\\Desktop\\1Year\\Term2\\SuperEngi\\1PrepareFinalTest\\test_Image1\\test\\8db8f8be.jpg: 640x640 0 1.00, 1 0.00, 9.4ms\n",
      "Speed: 8.8ms preprocess, 9.4ms inference, 0.1ms postprocess per image at shape (1, 3, 640, 640)\n",
      "\n",
      "image 1/1 C:\\Users\\User\\Desktop\\1Year\\Term2\\SuperEngi\\1PrepareFinalTest\\test_Image1\\test\\8dc1516a.jpg: 640x640 0 1.00, 1 0.00, 9.8ms\n",
      "Speed: 14.2ms preprocess, 9.8ms inference, 0.1ms postprocess per image at shape (1, 3, 640, 640)\n",
      "\n",
      "image 1/1 C:\\Users\\User\\Desktop\\1Year\\Term2\\SuperEngi\\1PrepareFinalTest\\test_Image1\\test\\8ddd81b8.jpg: 640x640 0 0.95, 1 0.05, 12.3ms\n",
      "Speed: 10.1ms preprocess, 12.3ms inference, 0.0ms postprocess per image at shape (1, 3, 640, 640)\n",
      "\n",
      "image 1/1 C:\\Users\\User\\Desktop\\1Year\\Term2\\SuperEngi\\1PrepareFinalTest\\test_Image1\\test\\8df7aec6.jpg: 640x640 1 1.00, 0 0.00, 10.1ms\n",
      "Speed: 9.8ms preprocess, 10.1ms inference, 0.1ms postprocess per image at shape (1, 3, 640, 640)\n"
     ]
    },
    {
     "name": "stderr",
     "output_type": "stream",
     "text": [
      " 53%|█████▎    | 824/1550 [00:20<00:20, 36.22it/s]"
     ]
    },
    {
     "name": "stdout",
     "output_type": "stream",
     "text": [
      "\n",
      "image 1/1 C:\\Users\\User\\Desktop\\1Year\\Term2\\SuperEngi\\1PrepareFinalTest\\test_Image1\\test\\8e379a63.jpg: 640x640 1 1.00, 0 0.00, 8.7ms\n",
      "Speed: 9.5ms preprocess, 8.7ms inference, 0.1ms postprocess per image at shape (1, 3, 640, 640)\n",
      "\n",
      "image 1/1 C:\\Users\\User\\Desktop\\1Year\\Term2\\SuperEngi\\1PrepareFinalTest\\test_Image1\\test\\8e3ae715.jpg: 640x640 1 1.00, 0 0.00, 10.2ms\n",
      "Speed: 10.3ms preprocess, 10.2ms inference, 0.1ms postprocess per image at shape (1, 3, 640, 640)\n",
      "\n",
      "image 1/1 C:\\Users\\User\\Desktop\\1Year\\Term2\\SuperEngi\\1PrepareFinalTest\\test_Image1\\test\\8e40c4be.jpg: 640x640 0 1.00, 1 0.00, 9.3ms\n",
      "Speed: 8.8ms preprocess, 9.3ms inference, 0.1ms postprocess per image at shape (1, 3, 640, 640)\n",
      "\n",
      "image 1/1 C:\\Users\\User\\Desktop\\1Year\\Term2\\SuperEngi\\1PrepareFinalTest\\test_Image1\\test\\8e8467e9.jpg: 640x640 0 1.00, 1 0.00, 9.1ms\n",
      "Speed: 8.9ms preprocess, 9.1ms inference, 0.1ms postprocess per image at shape (1, 3, 640, 640)\n"
     ]
    },
    {
     "name": "stderr",
     "output_type": "stream",
     "text": [
      " 53%|█████▎    | 828/1550 [00:20<00:19, 36.33it/s]"
     ]
    },
    {
     "name": "stdout",
     "output_type": "stream",
     "text": [
      "\n",
      "image 1/1 C:\\Users\\User\\Desktop\\1Year\\Term2\\SuperEngi\\1PrepareFinalTest\\test_Image1\\test\\8e999410.jpg: 640x640 0 1.00, 1 0.00, 9.1ms\n",
      "Speed: 9.2ms preprocess, 9.1ms inference, 0.1ms postprocess per image at shape (1, 3, 640, 640)\n",
      "\n",
      "image 1/1 C:\\Users\\User\\Desktop\\1Year\\Term2\\SuperEngi\\1PrepareFinalTest\\test_Image1\\test\\8eab133b.jpg: 640x640 0 1.00, 1 0.00, 9.0ms\n",
      "Speed: 8.9ms preprocess, 9.0ms inference, 0.1ms postprocess per image at shape (1, 3, 640, 640)\n",
      "\n",
      "image 1/1 C:\\Users\\User\\Desktop\\1Year\\Term2\\SuperEngi\\1PrepareFinalTest\\test_Image1\\test\\8ec0e07d.jpg: 640x640 0 1.00, 1 0.00, 9.4ms\n",
      "Speed: 9.5ms preprocess, 9.4ms inference, 0.1ms postprocess per image at shape (1, 3, 640, 640)\n",
      "\n",
      "image 1/1 C:\\Users\\User\\Desktop\\1Year\\Term2\\SuperEngi\\1PrepareFinalTest\\test_Image1\\test\\8ed6a7b5.jpg: 640x640 1 1.00, 0 0.00, 9.2ms\n",
      "Speed: 9.2ms preprocess, 9.2ms inference, 0.1ms postprocess per image at shape (1, 3, 640, 640)\n"
     ]
    },
    {
     "name": "stderr",
     "output_type": "stream",
     "text": [
      " 54%|█████▎    | 832/1550 [00:20<00:19, 36.70it/s]"
     ]
    },
    {
     "name": "stdout",
     "output_type": "stream",
     "text": [
      "\n",
      "image 1/1 C:\\Users\\User\\Desktop\\1Year\\Term2\\SuperEngi\\1PrepareFinalTest\\test_Image1\\test\\8edefb90.jpg: 640x640 1 1.00, 0 0.00, 7.1ms\n",
      "Speed: 7.3ms preprocess, 7.1ms inference, 0.1ms postprocess per image at shape (1, 3, 640, 640)\n",
      "\n",
      "image 1/1 C:\\Users\\User\\Desktop\\1Year\\Term2\\SuperEngi\\1PrepareFinalTest\\test_Image1\\test\\8ef5370d.jpg: 640x640 0 1.00, 1 0.00, 6.6ms\n",
      "Speed: 8.8ms preprocess, 6.6ms inference, 0.1ms postprocess per image at shape (1, 3, 640, 640)\n",
      "\n",
      "image 1/1 C:\\Users\\User\\Desktop\\1Year\\Term2\\SuperEngi\\1PrepareFinalTest\\test_Image1\\test\\8f23d547.jpg: 640x640 0 0.94, 1 0.06, 6.9ms\n",
      "Speed: 8.8ms preprocess, 6.9ms inference, 0.1ms postprocess per image at shape (1, 3, 640, 640)\n",
      "\n",
      "image 1/1 C:\\Users\\User\\Desktop\\1Year\\Term2\\SuperEngi\\1PrepareFinalTest\\test_Image1\\test\\8f81b246.jpg: 640x640 0 1.00, 1 0.00, 7.3ms\n",
      "Speed: 7.8ms preprocess, 7.3ms inference, 0.1ms postprocess per image at shape (1, 3, 640, 640)\n",
      "\n",
      "image 1/1 C:\\Users\\User\\Desktop\\1Year\\Term2\\SuperEngi\\1PrepareFinalTest\\test_Image1\\test\\8fce61a5.jpg: 640x640 1 0.99, 0 0.01, 7.2ms\n",
      "Speed: 7.9ms preprocess, 7.2ms inference, 0.0ms postprocess per image at shape (1, 3, 640, 640)\n"
     ]
    },
    {
     "name": "stderr",
     "output_type": "stream",
     "text": [
      " 54%|█████▍    | 837/1550 [00:20<00:18, 37.98it/s]"
     ]
    },
    {
     "name": "stdout",
     "output_type": "stream",
     "text": [
      "\n",
      "image 1/1 C:\\Users\\User\\Desktop\\1Year\\Term2\\SuperEngi\\1PrepareFinalTest\\test_Image1\\test\\8ff9dfd9.jpg: 640x640 1 1.00, 0 0.00, 7.7ms\n",
      "Speed: 8.3ms preprocess, 7.7ms inference, 0.2ms postprocess per image at shape (1, 3, 640, 640)\n",
      "\n",
      "image 1/1 C:\\Users\\User\\Desktop\\1Year\\Term2\\SuperEngi\\1PrepareFinalTest\\test_Image1\\test\\902e63d2.jpg: 640x640 0 1.00, 1 0.00, 7.0ms\n",
      "Speed: 7.7ms preprocess, 7.0ms inference, 0.1ms postprocess per image at shape (1, 3, 640, 640)\n",
      "\n",
      "image 1/1 C:\\Users\\User\\Desktop\\1Year\\Term2\\SuperEngi\\1PrepareFinalTest\\test_Image1\\test\\90371f9a.jpg: 640x640 1 1.00, 0 0.00, 8.5ms\n",
      "Speed: 8.1ms preprocess, 8.5ms inference, 0.1ms postprocess per image at shape (1, 3, 640, 640)\n",
      "\n",
      "image 1/1 C:\\Users\\User\\Desktop\\1Year\\Term2\\SuperEngi\\1PrepareFinalTest\\test_Image1\\test\\906ff37c.jpg: 640x640 1 1.00, 0 0.00, 7.1ms\n",
      "Speed: 8.0ms preprocess, 7.1ms inference, 0.1ms postprocess per image at shape (1, 3, 640, 640)\n"
     ]
    },
    {
     "name": "stderr",
     "output_type": "stream",
     "text": [
      " 54%|█████▍    | 841/1550 [00:20<00:18, 38.49it/s]"
     ]
    },
    {
     "name": "stdout",
     "output_type": "stream",
     "text": [
      "\n",
      "image 1/1 C:\\Users\\User\\Desktop\\1Year\\Term2\\SuperEngi\\1PrepareFinalTest\\test_Image1\\test\\9084e219.jpg: 640x640 1 0.91, 0 0.09, 7.2ms\n",
      "Speed: 8.2ms preprocess, 7.2ms inference, 0.1ms postprocess per image at shape (1, 3, 640, 640)\n",
      "\n",
      "image 1/1 C:\\Users\\User\\Desktop\\1Year\\Term2\\SuperEngi\\1PrepareFinalTest\\test_Image1\\test\\90b17e73.jpg: 640x640 0 1.00, 1 0.00, 12.9ms\n",
      "Speed: 12.4ms preprocess, 12.9ms inference, 0.1ms postprocess per image at shape (1, 3, 640, 640)\n",
      "\n",
      "image 1/1 C:\\Users\\User\\Desktop\\1Year\\Term2\\SuperEngi\\1PrepareFinalTest\\test_Image1\\test\\90b65aa6.jpg: 640x640 0 1.00, 1 0.00, 8.9ms\n",
      "Speed: 9.3ms preprocess, 8.9ms inference, 0.0ms postprocess per image at shape (1, 3, 640, 640)\n",
      "\n",
      "image 1/1 C:\\Users\\User\\Desktop\\1Year\\Term2\\SuperEngi\\1PrepareFinalTest\\test_Image1\\test\\90ea2194.jpg: 640x640 1 1.00, 0 0.00, 6.9ms\n",
      "Speed: 8.0ms preprocess, 6.9ms inference, 0.1ms postprocess per image at shape (1, 3, 640, 640)\n"
     ]
    },
    {
     "name": "stderr",
     "output_type": "stream",
     "text": [
      " 55%|█████▍    | 845/1550 [00:21<00:18, 37.60it/s]"
     ]
    },
    {
     "name": "stdout",
     "output_type": "stream",
     "text": [
      "\n",
      "image 1/1 C:\\Users\\User\\Desktop\\1Year\\Term2\\SuperEngi\\1PrepareFinalTest\\test_Image1\\test\\90f03941.jpg: 640x640 0 0.89, 1 0.11, 6.9ms\n",
      "Speed: 8.0ms preprocess, 6.9ms inference, 0.1ms postprocess per image at shape (1, 3, 640, 640)\n",
      "\n",
      "image 1/1 C:\\Users\\User\\Desktop\\1Year\\Term2\\SuperEngi\\1PrepareFinalTest\\test_Image1\\test\\914e0e23.jpg: 640x640 1 1.00, 0 0.00, 7.1ms\n",
      "Speed: 8.1ms preprocess, 7.1ms inference, 0.1ms postprocess per image at shape (1, 3, 640, 640)\n",
      "\n",
      "image 1/1 C:\\Users\\User\\Desktop\\1Year\\Term2\\SuperEngi\\1PrepareFinalTest\\test_Image1\\test\\917771ce.jpg: 640x640 0 1.00, 1 0.00, 7.2ms\n",
      "Speed: 7.9ms preprocess, 7.2ms inference, 0.1ms postprocess per image at shape (1, 3, 640, 640)\n",
      "\n",
      "image 1/1 C:\\Users\\User\\Desktop\\1Year\\Term2\\SuperEngi\\1PrepareFinalTest\\test_Image1\\test\\91a9eca6.jpg: 640x640 0 1.00, 1 0.00, 8.4ms\n",
      "Speed: 7.9ms preprocess, 8.4ms inference, 0.1ms postprocess per image at shape (1, 3, 640, 640)\n",
      "\n",
      "image 1/1 C:\\Users\\User\\Desktop\\1Year\\Term2\\SuperEngi\\1PrepareFinalTest\\test_Image1\\test\\91ea5755.jpg: 640x640 0 1.00, 1 0.00, 8.7ms\n",
      "Speed: 8.4ms preprocess, 8.7ms inference, 0.1ms postprocess per image at shape (1, 3, 640, 640)\n"
     ]
    },
    {
     "name": "stderr",
     "output_type": "stream",
     "text": [
      " 55%|█████▍    | 850/1550 [00:21<00:18, 38.49it/s]"
     ]
    },
    {
     "name": "stdout",
     "output_type": "stream",
     "text": [
      "\n",
      "image 1/1 C:\\Users\\User\\Desktop\\1Year\\Term2\\SuperEngi\\1PrepareFinalTest\\test_Image1\\test\\9214ae8f.jpg: 640x640 0 1.00, 1 0.00, 6.7ms\n",
      "Speed: 7.0ms preprocess, 6.7ms inference, 0.1ms postprocess per image at shape (1, 3, 640, 640)\n",
      "\n",
      "image 1/1 C:\\Users\\User\\Desktop\\1Year\\Term2\\SuperEngi\\1PrepareFinalTest\\test_Image1\\test\\922504b9.jpg: 640x640 1 1.00, 0 0.00, 7.1ms\n",
      "Speed: 8.2ms preprocess, 7.1ms inference, 0.1ms postprocess per image at shape (1, 3, 640, 640)\n",
      "\n",
      "image 1/1 C:\\Users\\User\\Desktop\\1Year\\Term2\\SuperEngi\\1PrepareFinalTest\\test_Image1\\test\\924a6a89.jpg: 640x640 1 1.00, 0 0.00, 7.1ms\n",
      "Speed: 7.7ms preprocess, 7.1ms inference, 0.1ms postprocess per image at shape (1, 3, 640, 640)\n",
      "\n",
      "image 1/1 C:\\Users\\User\\Desktop\\1Year\\Term2\\SuperEngi\\1PrepareFinalTest\\test_Image1\\test\\92caac42.jpg: 640x640 0 1.00, 1 0.00, 6.9ms\n",
      "Speed: 8.7ms preprocess, 6.9ms inference, 0.1ms postprocess per image at shape (1, 3, 640, 640)\n",
      "\n",
      "image 1/1 C:\\Users\\User\\Desktop\\1Year\\Term2\\SuperEngi\\1PrepareFinalTest\\test_Image1\\test\\92d1bc81.jpg: 640x640 1 1.00, 0 0.00, 7.3ms\n",
      "Speed: 8.1ms preprocess, 7.3ms inference, 0.1ms postprocess per image at shape (1, 3, 640, 640)\n"
     ]
    },
    {
     "name": "stderr",
     "output_type": "stream",
     "text": [
      " 55%|█████▌    | 855/1550 [00:21<00:17, 39.48it/s]"
     ]
    },
    {
     "name": "stdout",
     "output_type": "stream",
     "text": [
      "\n",
      "image 1/1 C:\\Users\\User\\Desktop\\1Year\\Term2\\SuperEngi\\1PrepareFinalTest\\test_Image1\\test\\92fdff7f.jpg: 640x640 1 1.00, 0 0.00, 6.9ms\n",
      "Speed: 7.9ms preprocess, 6.9ms inference, 0.0ms postprocess per image at shape (1, 3, 640, 640)\n",
      "\n",
      "image 1/1 C:\\Users\\User\\Desktop\\1Year\\Term2\\SuperEngi\\1PrepareFinalTest\\test_Image1\\test\\931726eb.jpg: 640x640 0 1.00, 1 0.00, 7.2ms\n",
      "Speed: 7.5ms preprocess, 7.2ms inference, 0.1ms postprocess per image at shape (1, 3, 640, 640)\n",
      "\n",
      "image 1/1 C:\\Users\\User\\Desktop\\1Year\\Term2\\SuperEngi\\1PrepareFinalTest\\test_Image1\\test\\93246b0d.jpg: 640x640 0 1.00, 1 0.00, 8.2ms\n",
      "Speed: 11.0ms preprocess, 8.2ms inference, 0.1ms postprocess per image at shape (1, 3, 640, 640)\n",
      "\n",
      "image 1/1 C:\\Users\\User\\Desktop\\1Year\\Term2\\SuperEngi\\1PrepareFinalTest\\test_Image1\\test\\9341c391.jpg: 640x640 1 1.00, 0 0.00, 7.1ms\n",
      "Speed: 11.2ms preprocess, 7.1ms inference, 0.0ms postprocess per image at shape (1, 3, 640, 640)\n"
     ]
    },
    {
     "name": "stderr",
     "output_type": "stream",
     "text": [
      " 55%|█████▌    | 859/1550 [00:21<00:17, 38.54it/s]"
     ]
    },
    {
     "name": "stdout",
     "output_type": "stream",
     "text": [
      "\n",
      "image 1/1 C:\\Users\\User\\Desktop\\1Year\\Term2\\SuperEngi\\1PrepareFinalTest\\test_Image1\\test\\9383fc3f.jpg: 640x640 1 1.00, 0 0.00, 10.0ms\n",
      "Speed: 9.0ms preprocess, 10.0ms inference, 0.1ms postprocess per image at shape (1, 3, 640, 640)\n",
      "\n",
      "image 1/1 C:\\Users\\User\\Desktop\\1Year\\Term2\\SuperEngi\\1PrepareFinalTest\\test_Image1\\test\\93c29594.jpg: 640x640 0 1.00, 1 0.00, 6.9ms\n",
      "Speed: 7.8ms preprocess, 6.9ms inference, 0.1ms postprocess per image at shape (1, 3, 640, 640)\n",
      "\n",
      "image 1/1 C:\\Users\\User\\Desktop\\1Year\\Term2\\SuperEngi\\1PrepareFinalTest\\test_Image1\\test\\93d9e78b.jpg: 640x640 1 0.98, 0 0.02, 7.1ms\n",
      "Speed: 7.7ms preprocess, 7.1ms inference, 0.0ms postprocess per image at shape (1, 3, 640, 640)\n",
      "\n",
      "image 1/1 C:\\Users\\User\\Desktop\\1Year\\Term2\\SuperEngi\\1PrepareFinalTest\\test_Image1\\test\\93e4715c.jpg: 640x640 0 1.00, 1 0.00, 7.1ms\n",
      "Speed: 8.5ms preprocess, 7.1ms inference, 0.0ms postprocess per image at shape (1, 3, 640, 640)\n",
      "\n",
      "image 1/1 C:\\Users\\User\\Desktop\\1Year\\Term2\\SuperEngi\\1PrepareFinalTest\\test_Image1\\test\\93e4e51b.jpg: 640x640 0 0.95, 1 0.05, 7.1ms\n",
      "Speed: 8.1ms preprocess, 7.1ms inference, 0.1ms postprocess per image at shape (1, 3, 640, 640)\n"
     ]
    },
    {
     "name": "stderr",
     "output_type": "stream",
     "text": [
      " 56%|█████▌    | 864/1550 [00:21<00:17, 39.30it/s]"
     ]
    },
    {
     "name": "stdout",
     "output_type": "stream",
     "text": [
      "\n",
      "image 1/1 C:\\Users\\User\\Desktop\\1Year\\Term2\\SuperEngi\\1PrepareFinalTest\\test_Image1\\test\\9404ac02.jpg: 640x640 1 1.00, 0 0.00, 8.9ms\n",
      "Speed: 7.7ms preprocess, 8.9ms inference, 0.1ms postprocess per image at shape (1, 3, 640, 640)\n",
      "\n",
      "image 1/1 C:\\Users\\User\\Desktop\\1Year\\Term2\\SuperEngi\\1PrepareFinalTest\\test_Image1\\test\\9435a1e5.jpg: 640x640 1 1.00, 0 0.00, 6.6ms\n",
      "Speed: 7.6ms preprocess, 6.6ms inference, 0.0ms postprocess per image at shape (1, 3, 640, 640)\n",
      "\n",
      "image 1/1 C:\\Users\\User\\Desktop\\1Year\\Term2\\SuperEngi\\1PrepareFinalTest\\test_Image1\\test\\9459a905.jpg: 640x640 1 0.77, 0 0.23, 6.6ms\n",
      "Speed: 6.6ms preprocess, 6.6ms inference, 0.1ms postprocess per image at shape (1, 3, 640, 640)\n",
      "\n",
      "image 1/1 C:\\Users\\User\\Desktop\\1Year\\Term2\\SuperEngi\\1PrepareFinalTest\\test_Image1\\test\\94c28072.jpg: 640x640 0 1.00, 1 0.00, 7.0ms\n",
      "Speed: 8.2ms preprocess, 7.0ms inference, 0.1ms postprocess per image at shape (1, 3, 640, 640)\n",
      "\n",
      "image 1/1 C:\\Users\\User\\Desktop\\1Year\\Term2\\SuperEngi\\1PrepareFinalTest\\test_Image1\\test\\94cdd6da.jpg: 640x640 0 0.98, 1 0.02, 7.2ms\n",
      "Speed: 7.8ms preprocess, 7.2ms inference, 0.0ms postprocess per image at shape (1, 3, 640, 640)\n"
     ]
    },
    {
     "name": "stderr",
     "output_type": "stream",
     "text": [
      " 56%|█████▌    | 869/1550 [00:21<00:16, 40.09it/s]"
     ]
    },
    {
     "name": "stdout",
     "output_type": "stream",
     "text": [
      "\n",
      "image 1/1 C:\\Users\\User\\Desktop\\1Year\\Term2\\SuperEngi\\1PrepareFinalTest\\test_Image1\\test\\94f545f1.jpg: 640x640 1 1.00, 0 0.00, 6.5ms\n",
      "Speed: 12.2ms preprocess, 6.5ms inference, 0.1ms postprocess per image at shape (1, 3, 640, 640)\n",
      "\n",
      "image 1/1 C:\\Users\\User\\Desktop\\1Year\\Term2\\SuperEngi\\1PrepareFinalTest\\test_Image1\\test\\954d962f.jpg: 640x640 1 1.00, 0 0.00, 7.1ms\n",
      "Speed: 9.1ms preprocess, 7.1ms inference, 0.0ms postprocess per image at shape (1, 3, 640, 640)\n",
      "\n",
      "image 1/1 C:\\Users\\User\\Desktop\\1Year\\Term2\\SuperEngi\\1PrepareFinalTest\\test_Image1\\test\\958314f5.jpg: 640x640 0 1.00, 1 0.00, 6.9ms\n",
      "Speed: 7.6ms preprocess, 6.9ms inference, 0.1ms postprocess per image at shape (1, 3, 640, 640)\n",
      "\n",
      "image 1/1 C:\\Users\\User\\Desktop\\1Year\\Term2\\SuperEngi\\1PrepareFinalTest\\test_Image1\\test\\959b3b84.jpg: 640x640 0 1.00, 1 0.00, 8.4ms\n",
      "Speed: 7.5ms preprocess, 8.4ms inference, 0.1ms postprocess per image at shape (1, 3, 640, 640)\n",
      "\n",
      "image 1/1 C:\\Users\\User\\Desktop\\1Year\\Term2\\SuperEngi\\1PrepareFinalTest\\test_Image1\\test\\95ee6fe9.jpg: 640x640 1 1.00, 0 0.00, 7.2ms\n",
      "Speed: 7.6ms preprocess, 7.2ms inference, 0.1ms postprocess per image at shape (1, 3, 640, 640)\n"
     ]
    },
    {
     "name": "stderr",
     "output_type": "stream",
     "text": [
      " 56%|█████▋    | 874/1550 [00:21<00:17, 39.63it/s]"
     ]
    },
    {
     "name": "stdout",
     "output_type": "stream",
     "text": [
      "\n",
      "image 1/1 C:\\Users\\User\\Desktop\\1Year\\Term2\\SuperEngi\\1PrepareFinalTest\\test_Image1\\test\\95fc1f77.jpg: 640x640 1 1.00, 0 0.00, 7.5ms\n",
      "Speed: 7.5ms preprocess, 7.5ms inference, 0.2ms postprocess per image at shape (1, 3, 640, 640)\n",
      "\n",
      "image 1/1 C:\\Users\\User\\Desktop\\1Year\\Term2\\SuperEngi\\1PrepareFinalTest\\test_Image1\\test\\95fea609.jpg: 640x640 1 1.00, 0 0.00, 7.6ms\n",
      "Speed: 7.3ms preprocess, 7.6ms inference, 0.1ms postprocess per image at shape (1, 3, 640, 640)\n",
      "\n",
      "image 1/1 C:\\Users\\User\\Desktop\\1Year\\Term2\\SuperEngi\\1PrepareFinalTest\\test_Image1\\test\\9635f696.jpg: 640x640 1 1.00, 0 0.00, 7.0ms\n",
      "Speed: 7.3ms preprocess, 7.0ms inference, 0.1ms postprocess per image at shape (1, 3, 640, 640)\n",
      "\n",
      "image 1/1 C:\\Users\\User\\Desktop\\1Year\\Term2\\SuperEngi\\1PrepareFinalTest\\test_Image1\\test\\96499ddf.jpg: 640x640 0 1.00, 1 0.00, 8.2ms\n",
      "Speed: 7.3ms preprocess, 8.2ms inference, 0.1ms postprocess per image at shape (1, 3, 640, 640)\n",
      "\n",
      "image 1/1 C:\\Users\\User\\Desktop\\1Year\\Term2\\SuperEngi\\1PrepareFinalTest\\test_Image1\\test\\96601579.jpg: 640x640 0 1.00, 1 0.00, 6.6ms\n",
      "Speed: 8.4ms preprocess, 6.6ms inference, 0.1ms postprocess per image at shape (1, 3, 640, 640)\n"
     ]
    },
    {
     "name": "stderr",
     "output_type": "stream",
     "text": [
      " 57%|█████▋    | 879/1550 [00:21<00:16, 40.49it/s]"
     ]
    },
    {
     "name": "stdout",
     "output_type": "stream",
     "text": [
      "\n",
      "image 1/1 C:\\Users\\User\\Desktop\\1Year\\Term2\\SuperEngi\\1PrepareFinalTest\\test_Image1\\test\\9696d4b0.jpg: 640x640 1 1.00, 0 0.00, 7.2ms\n",
      "Speed: 8.6ms preprocess, 7.2ms inference, 0.1ms postprocess per image at shape (1, 3, 640, 640)\n",
      "\n",
      "image 1/1 C:\\Users\\User\\Desktop\\1Year\\Term2\\SuperEngi\\1PrepareFinalTest\\test_Image1\\test\\969e4be8.jpg: 640x640 0 1.00, 1 0.00, 11.1ms\n",
      "Speed: 11.8ms preprocess, 11.1ms inference, 0.1ms postprocess per image at shape (1, 3, 640, 640)\n",
      "\n",
      "image 1/1 C:\\Users\\User\\Desktop\\1Year\\Term2\\SuperEngi\\1PrepareFinalTest\\test_Image1\\test\\96a3962a.jpg: 640x640 0 1.00, 1 0.00, 8.4ms\n",
      "Speed: 9.5ms preprocess, 8.4ms inference, 0.1ms postprocess per image at shape (1, 3, 640, 640)\n",
      "\n",
      "image 1/1 C:\\Users\\User\\Desktop\\1Year\\Term2\\SuperEngi\\1PrepareFinalTest\\test_Image1\\test\\96e0e062.jpg: 640x640 1 1.00, 0 0.00, 7.5ms\n",
      "Speed: 9.6ms preprocess, 7.5ms inference, 0.1ms postprocess per image at shape (1, 3, 640, 640)\n",
      "\n",
      "image 1/1 C:\\Users\\User\\Desktop\\1Year\\Term2\\SuperEngi\\1PrepareFinalTest\\test_Image1\\test\\96e72d26.jpg: 640x640 0 1.00, 1 0.00, 7.2ms\n",
      "Speed: 9.1ms preprocess, 7.2ms inference, 0.1ms postprocess per image at shape (1, 3, 640, 640)\n"
     ]
    },
    {
     "name": "stderr",
     "output_type": "stream",
     "text": [
      " 57%|█████▋    | 884/1550 [00:22<00:17, 38.18it/s]"
     ]
    },
    {
     "name": "stdout",
     "output_type": "stream",
     "text": [
      "\n",
      "image 1/1 C:\\Users\\User\\Desktop\\1Year\\Term2\\SuperEngi\\1PrepareFinalTest\\test_Image1\\test\\96e84245.jpg: 640x640 1 1.00, 0 0.00, 7.0ms\n",
      "Speed: 7.7ms preprocess, 7.0ms inference, 0.1ms postprocess per image at shape (1, 3, 640, 640)\n",
      "\n",
      "image 1/1 C:\\Users\\User\\Desktop\\1Year\\Term2\\SuperEngi\\1PrepareFinalTest\\test_Image1\\test\\97020557.jpg: 640x640 0 0.65, 1 0.35, 7.7ms\n",
      "Speed: 11.1ms preprocess, 7.7ms inference, 0.1ms postprocess per image at shape (1, 3, 640, 640)\n",
      "\n",
      "image 1/1 C:\\Users\\User\\Desktop\\1Year\\Term2\\SuperEngi\\1PrepareFinalTest\\test_Image1\\test\\970e7250.jpg: 640x640 0 1.00, 1 0.00, 6.8ms\n",
      "Speed: 8.4ms preprocess, 6.8ms inference, 0.0ms postprocess per image at shape (1, 3, 640, 640)\n",
      "\n",
      "image 1/1 C:\\Users\\User\\Desktop\\1Year\\Term2\\SuperEngi\\1PrepareFinalTest\\test_Image1\\test\\9736ac21.jpg: 640x640 1 1.00, 0 0.00, 6.8ms\n",
      "Speed: 8.4ms preprocess, 6.8ms inference, 0.1ms postprocess per image at shape (1, 3, 640, 640)\n"
     ]
    },
    {
     "name": "stderr",
     "output_type": "stream",
     "text": [
      " 57%|█████▋    | 888/1550 [00:22<00:17, 38.18it/s]"
     ]
    },
    {
     "name": "stdout",
     "output_type": "stream",
     "text": [
      "\n",
      "image 1/1 C:\\Users\\User\\Desktop\\1Year\\Term2\\SuperEngi\\1PrepareFinalTest\\test_Image1\\test\\973c3887.jpg: 640x640 0 1.00, 1 0.00, 8.8ms\n",
      "Speed: 7.8ms preprocess, 8.8ms inference, 0.0ms postprocess per image at shape (1, 3, 640, 640)\n",
      "\n",
      "image 1/1 C:\\Users\\User\\Desktop\\1Year\\Term2\\SuperEngi\\1PrepareFinalTest\\test_Image1\\test\\97946f3d.jpg: 640x640 1 1.00, 0 0.00, 6.9ms\n",
      "Speed: 7.2ms preprocess, 6.9ms inference, 0.1ms postprocess per image at shape (1, 3, 640, 640)\n",
      "\n",
      "image 1/1 C:\\Users\\User\\Desktop\\1Year\\Term2\\SuperEngi\\1PrepareFinalTest\\test_Image1\\test\\97e3d015.jpg: 640x640 1 1.00, 0 0.00, 7.1ms\n",
      "Speed: 8.8ms preprocess, 7.1ms inference, 0.1ms postprocess per image at shape (1, 3, 640, 640)\n",
      "\n",
      "image 1/1 C:\\Users\\User\\Desktop\\1Year\\Term2\\SuperEngi\\1PrepareFinalTest\\test_Image1\\test\\985ef8e8.jpg: 640x640 1 0.96, 0 0.04, 6.9ms\n",
      "Speed: 8.4ms preprocess, 6.9ms inference, 0.2ms postprocess per image at shape (1, 3, 640, 640)\n",
      "\n",
      "image 1/1 C:\\Users\\User\\Desktop\\1Year\\Term2\\SuperEngi\\1PrepareFinalTest\\test_Image1\\test\\98768d3f.jpg: 640x640 1 0.99, 0 0.01, 8.9ms\n",
      "Speed: 7.5ms preprocess, 8.9ms inference, 0.1ms postprocess per image at shape (1, 3, 640, 640)\n"
     ]
    },
    {
     "name": "stderr",
     "output_type": "stream",
     "text": [
      " 58%|█████▊    | 893/1550 [00:22<00:16, 38.79it/s]"
     ]
    },
    {
     "name": "stdout",
     "output_type": "stream",
     "text": [
      "\n",
      "image 1/1 C:\\Users\\User\\Desktop\\1Year\\Term2\\SuperEngi\\1PrepareFinalTest\\test_Image1\\test\\98873a6d.jpg: 640x640 0 1.00, 1 0.00, 7.1ms\n",
      "Speed: 7.9ms preprocess, 7.1ms inference, 0.1ms postprocess per image at shape (1, 3, 640, 640)\n",
      "\n",
      "image 1/1 C:\\Users\\User\\Desktop\\1Year\\Term2\\SuperEngi\\1PrepareFinalTest\\test_Image1\\test\\98bc7669.jpg: 640x640 1 1.00, 0 0.00, 6.9ms\n",
      "Speed: 7.8ms preprocess, 6.9ms inference, 0.1ms postprocess per image at shape (1, 3, 640, 640)\n",
      "\n",
      "image 1/1 C:\\Users\\User\\Desktop\\1Year\\Term2\\SuperEngi\\1PrepareFinalTest\\test_Image1\\test\\98bd060e.jpg: 640x640 0 1.00, 1 0.00, 6.9ms\n",
      "Speed: 8.8ms preprocess, 6.9ms inference, 0.1ms postprocess per image at shape (1, 3, 640, 640)\n",
      "\n",
      "image 1/1 C:\\Users\\User\\Desktop\\1Year\\Term2\\SuperEngi\\1PrepareFinalTest\\test_Image1\\test\\98df3c66.jpg: 640x640 1 1.00, 0 0.00, 7.1ms\n",
      "Speed: 8.0ms preprocess, 7.1ms inference, 0.1ms postprocess per image at shape (1, 3, 640, 640)\n"
     ]
    },
    {
     "name": "stderr",
     "output_type": "stream",
     "text": [
      " 58%|█████▊    | 897/1550 [00:22<00:16, 39.00it/s]"
     ]
    },
    {
     "name": "stdout",
     "output_type": "stream",
     "text": [
      "\n",
      "image 1/1 C:\\Users\\User\\Desktop\\1Year\\Term2\\SuperEngi\\1PrepareFinalTest\\test_Image1\\test\\98eb277a.jpg: 640x640 1 1.00, 0 0.00, 6.8ms\n",
      "Speed: 9.0ms preprocess, 6.8ms inference, 0.1ms postprocess per image at shape (1, 3, 640, 640)\n",
      "\n",
      "image 1/1 C:\\Users\\User\\Desktop\\1Year\\Term2\\SuperEngi\\1PrepareFinalTest\\test_Image1\\test\\9909c6b0.jpg: 640x640 0 0.97, 1 0.03, 7.3ms\n",
      "Speed: 10.2ms preprocess, 7.3ms inference, 0.1ms postprocess per image at shape (1, 3, 640, 640)\n",
      "\n",
      "image 1/1 C:\\Users\\User\\Desktop\\1Year\\Term2\\SuperEngi\\1PrepareFinalTest\\test_Image1\\test\\99fab84f.jpg: 640x640 0 1.00, 1 0.00, 6.6ms\n",
      "Speed: 7.9ms preprocess, 6.6ms inference, 0.1ms postprocess per image at shape (1, 3, 640, 640)\n",
      "\n",
      "image 1/1 C:\\Users\\User\\Desktop\\1Year\\Term2\\SuperEngi\\1PrepareFinalTest\\test_Image1\\test\\9a38df21.jpg: 640x640 0 1.00, 1 0.00, 7.2ms\n",
      "Speed: 8.4ms preprocess, 7.2ms inference, 0.2ms postprocess per image at shape (1, 3, 640, 640)\n"
     ]
    },
    {
     "name": "stderr",
     "output_type": "stream",
     "text": [
      " 58%|█████▊    | 901/1550 [00:22<00:16, 38.47it/s]"
     ]
    },
    {
     "name": "stdout",
     "output_type": "stream",
     "text": [
      "\n",
      "image 1/1 C:\\Users\\User\\Desktop\\1Year\\Term2\\SuperEngi\\1PrepareFinalTest\\test_Image1\\test\\9a3e6aff.jpg: 640x640 0 1.00, 1 0.00, 7.0ms\n",
      "Speed: 7.6ms preprocess, 7.0ms inference, 0.1ms postprocess per image at shape (1, 3, 640, 640)\n",
      "\n",
      "image 1/1 C:\\Users\\User\\Desktop\\1Year\\Term2\\SuperEngi\\1PrepareFinalTest\\test_Image1\\test\\9a51258c.jpg: 640x640 0 1.00, 1 0.00, 9.6ms\n",
      "Speed: 9.6ms preprocess, 9.6ms inference, 0.1ms postprocess per image at shape (1, 3, 640, 640)\n",
      "\n",
      "image 1/1 C:\\Users\\User\\Desktop\\1Year\\Term2\\SuperEngi\\1PrepareFinalTest\\test_Image1\\test\\9a658a4b.jpg: 640x640 0 0.95, 1 0.05, 9.9ms\n",
      "Speed: 10.8ms preprocess, 9.9ms inference, 0.1ms postprocess per image at shape (1, 3, 640, 640)\n",
      "\n",
      "image 1/1 C:\\Users\\User\\Desktop\\1Year\\Term2\\SuperEngi\\1PrepareFinalTest\\test_Image1\\test\\9a74f200.jpg: 640x640 1 1.00, 0 0.00, 9.2ms\n",
      "Speed: 10.9ms preprocess, 9.2ms inference, 0.1ms postprocess per image at shape (1, 3, 640, 640)\n"
     ]
    },
    {
     "name": "stderr",
     "output_type": "stream",
     "text": [
      " 58%|█████▊    | 905/1550 [00:22<00:17, 37.29it/s]"
     ]
    },
    {
     "name": "stdout",
     "output_type": "stream",
     "text": [
      "\n",
      "image 1/1 C:\\Users\\User\\Desktop\\1Year\\Term2\\SuperEngi\\1PrepareFinalTest\\test_Image1\\test\\9a7df9ec.jpg: 640x640 0 0.72, 1 0.28, 9.7ms\n",
      "Speed: 9.3ms preprocess, 9.7ms inference, 0.1ms postprocess per image at shape (1, 3, 640, 640)\n",
      "\n",
      "image 1/1 C:\\Users\\User\\Desktop\\1Year\\Term2\\SuperEngi\\1PrepareFinalTest\\test_Image1\\test\\9a918ce3.jpg: 640x640 0 1.00, 1 0.00, 9.2ms\n",
      "Speed: 9.2ms preprocess, 9.2ms inference, 0.1ms postprocess per image at shape (1, 3, 640, 640)\n",
      "\n",
      "image 1/1 C:\\Users\\User\\Desktop\\1Year\\Term2\\SuperEngi\\1PrepareFinalTest\\test_Image1\\test\\9a99e2e3.jpg: 640x640 1 0.95, 0 0.05, 9.7ms\n",
      "Speed: 8.2ms preprocess, 9.7ms inference, 0.0ms postprocess per image at shape (1, 3, 640, 640)\n",
      "\n",
      "image 1/1 C:\\Users\\User\\Desktop\\1Year\\Term2\\SuperEngi\\1PrepareFinalTest\\test_Image1\\test\\9a9f6c5e.jpg: 640x640 1 1.00, 0 0.00, 9.5ms\n",
      "Speed: 7.8ms preprocess, 9.5ms inference, 0.0ms postprocess per image at shape (1, 3, 640, 640)\n"
     ]
    },
    {
     "name": "stderr",
     "output_type": "stream",
     "text": [
      " 59%|█████▊    | 909/1550 [00:22<00:17, 37.60it/s]"
     ]
    },
    {
     "name": "stdout",
     "output_type": "stream",
     "text": [
      "\n",
      "image 1/1 C:\\Users\\User\\Desktop\\1Year\\Term2\\SuperEngi\\1PrepareFinalTest\\test_Image1\\test\\9ab47f11.jpg: 640x640 0 1.00, 1 0.00, 9.6ms\n",
      "Speed: 7.8ms preprocess, 9.6ms inference, 0.1ms postprocess per image at shape (1, 3, 640, 640)\n",
      "\n",
      "image 1/1 C:\\Users\\User\\Desktop\\1Year\\Term2\\SuperEngi\\1PrepareFinalTest\\test_Image1\\test\\9accf8a6.jpg: 640x640 0 1.00, 1 0.00, 6.9ms\n",
      "Speed: 6.7ms preprocess, 6.9ms inference, 0.1ms postprocess per image at shape (1, 3, 640, 640)\n",
      "\n",
      "image 1/1 C:\\Users\\User\\Desktop\\1Year\\Term2\\SuperEngi\\1PrepareFinalTest\\test_Image1\\test\\9ad71267.jpg: 640x640 1 1.00, 0 0.00, 7.8ms\n",
      "Speed: 5.9ms preprocess, 7.8ms inference, 0.0ms postprocess per image at shape (1, 3, 640, 640)\n",
      "\n",
      "image 1/1 C:\\Users\\User\\Desktop\\1Year\\Term2\\SuperEngi\\1PrepareFinalTest\\test_Image1\\test\\9b172082.jpg: 640x640 1 0.99, 0 0.01, 7.0ms\n",
      "Speed: 5.9ms preprocess, 7.0ms inference, 0.0ms postprocess per image at shape (1, 3, 640, 640)\n",
      "\n",
      "image 1/1 C:\\Users\\User\\Desktop\\1Year\\Term2\\SuperEngi\\1PrepareFinalTest\\test_Image1\\test\\9b25615e.jpg: 640x640 0 1.00, 1 0.00, 6.8ms\n",
      "Speed: 6.0ms preprocess, 6.8ms inference, 0.1ms postprocess per image at shape (1, 3, 640, 640)\n"
     ]
    },
    {
     "name": "stderr",
     "output_type": "stream",
     "text": [
      " 59%|█████▉    | 914/1550 [00:22<00:15, 40.37it/s]"
     ]
    },
    {
     "name": "stdout",
     "output_type": "stream",
     "text": [
      "\n",
      "image 1/1 C:\\Users\\User\\Desktop\\1Year\\Term2\\SuperEngi\\1PrepareFinalTest\\test_Image1\\test\\9b5854ae.jpg: 640x640 1 1.00, 0 0.00, 7.7ms\n",
      "Speed: 5.9ms preprocess, 7.7ms inference, 0.0ms postprocess per image at shape (1, 3, 640, 640)\n",
      "\n",
      "image 1/1 C:\\Users\\User\\Desktop\\1Year\\Term2\\SuperEngi\\1PrepareFinalTest\\test_Image1\\test\\9b764ff5.jpg: 640x640 0 1.00, 1 0.00, 7.9ms\n",
      "Speed: 6.3ms preprocess, 7.9ms inference, 0.0ms postprocess per image at shape (1, 3, 640, 640)\n",
      "\n",
      "image 1/1 C:\\Users\\User\\Desktop\\1Year\\Term2\\SuperEngi\\1PrepareFinalTest\\test_Image1\\test\\9b87ba4e.jpg: 640x640 1 1.00, 0 0.00, 7.4ms\n",
      "Speed: 7.4ms preprocess, 7.4ms inference, 0.0ms postprocess per image at shape (1, 3, 640, 640)\n",
      "\n",
      "image 1/1 C:\\Users\\User\\Desktop\\1Year\\Term2\\SuperEngi\\1PrepareFinalTest\\test_Image1\\test\\9b8b6867.jpg: 640x640 0 1.00, 1 0.00, 7.3ms\n",
      "Speed: 7.9ms preprocess, 7.3ms inference, 0.1ms postprocess per image at shape (1, 3, 640, 640)\n",
      "\n",
      "image 1/1 C:\\Users\\User\\Desktop\\1Year\\Term2\\SuperEngi\\1PrepareFinalTest\\test_Image1\\test\\9be0a6f9.jpg: 640x640 0 0.99, 1 0.01, 7.3ms\n",
      "Speed: 7.4ms preprocess, 7.3ms inference, 0.0ms postprocess per image at shape (1, 3, 640, 640)\n"
     ]
    },
    {
     "name": "stderr",
     "output_type": "stream",
     "text": [
      " 59%|█████▉    | 919/1550 [00:22<00:15, 41.49it/s]"
     ]
    },
    {
     "name": "stdout",
     "output_type": "stream",
     "text": [
      "\n",
      "image 1/1 C:\\Users\\User\\Desktop\\1Year\\Term2\\SuperEngi\\1PrepareFinalTest\\test_Image1\\test\\9bfc35a3.jpg: 640x640 1 0.99, 0 0.01, 7.0ms\n",
      "Speed: 7.5ms preprocess, 7.0ms inference, 0.1ms postprocess per image at shape (1, 3, 640, 640)\n",
      "\n",
      "image 1/1 C:\\Users\\User\\Desktop\\1Year\\Term2\\SuperEngi\\1PrepareFinalTest\\test_Image1\\test\\9c05fea1.jpg: 640x640 0 0.83, 1 0.17, 7.3ms\n",
      "Speed: 7.8ms preprocess, 7.3ms inference, 0.1ms postprocess per image at shape (1, 3, 640, 640)\n",
      "\n",
      "image 1/1 C:\\Users\\User\\Desktop\\1Year\\Term2\\SuperEngi\\1PrepareFinalTest\\test_Image1\\test\\9c45ddb2.jpg: 640x640 1 1.00, 0 0.00, 7.3ms\n",
      "Speed: 8.0ms preprocess, 7.3ms inference, 0.0ms postprocess per image at shape (1, 3, 640, 640)\n",
      "\n",
      "image 1/1 C:\\Users\\User\\Desktop\\1Year\\Term2\\SuperEngi\\1PrepareFinalTest\\test_Image1\\test\\9c4f6921.jpg: 640x640 1 1.00, 0 0.00, 7.4ms\n",
      "Speed: 7.6ms preprocess, 7.4ms inference, 0.0ms postprocess per image at shape (1, 3, 640, 640)\n",
      "\n",
      "image 1/1 C:\\Users\\User\\Desktop\\1Year\\Term2\\SuperEngi\\1PrepareFinalTest\\test_Image1\\test\\9cac80e7.jpg: 640x640 1 1.00, 0 0.00, 7.2ms\n",
      "Speed: 7.5ms preprocess, 7.2ms inference, 0.1ms postprocess per image at shape (1, 3, 640, 640)\n"
     ]
    },
    {
     "name": "stderr",
     "output_type": "stream",
     "text": [
      " 60%|█████▉    | 924/1550 [00:23<00:15, 41.63it/s]"
     ]
    },
    {
     "name": "stdout",
     "output_type": "stream",
     "text": [
      "\n",
      "image 1/1 C:\\Users\\User\\Desktop\\1Year\\Term2\\SuperEngi\\1PrepareFinalTest\\test_Image1\\test\\9cb7a124.jpg: 640x640 1 1.00, 0 0.00, 7.0ms\n",
      "Speed: 7.1ms preprocess, 7.0ms inference, 0.1ms postprocess per image at shape (1, 3, 640, 640)\n",
      "\n",
      "image 1/1 C:\\Users\\User\\Desktop\\1Year\\Term2\\SuperEngi\\1PrepareFinalTest\\test_Image1\\test\\9cc414e3.jpg: 640x640 1 1.00, 0 0.00, 8.5ms\n",
      "Speed: 7.5ms preprocess, 8.5ms inference, 0.1ms postprocess per image at shape (1, 3, 640, 640)\n",
      "\n",
      "image 1/1 C:\\Users\\User\\Desktop\\1Year\\Term2\\SuperEngi\\1PrepareFinalTest\\test_Image1\\test\\9d0c4473.jpg: 640x640 1 1.00, 0 0.00, 7.0ms\n",
      "Speed: 7.7ms preprocess, 7.0ms inference, 0.1ms postprocess per image at shape (1, 3, 640, 640)\n",
      "\n",
      "image 1/1 C:\\Users\\User\\Desktop\\1Year\\Term2\\SuperEngi\\1PrepareFinalTest\\test_Image1\\test\\9d167923.jpg: 640x640 0 1.00, 1 0.00, 7.2ms\n",
      "Speed: 7.1ms preprocess, 7.2ms inference, 0.1ms postprocess per image at shape (1, 3, 640, 640)\n",
      "\n",
      "image 1/1 C:\\Users\\User\\Desktop\\1Year\\Term2\\SuperEngi\\1PrepareFinalTest\\test_Image1\\test\\9d2d06c1.jpg: 640x640 0 1.00, 1 0.00, 7.3ms\n",
      "Speed: 6.9ms preprocess, 7.3ms inference, 0.1ms postprocess per image at shape (1, 3, 640, 640)\n"
     ]
    },
    {
     "name": "stderr",
     "output_type": "stream",
     "text": [
      " 60%|█████▉    | 929/1550 [00:23<00:14, 42.02it/s]"
     ]
    },
    {
     "name": "stdout",
     "output_type": "stream",
     "text": [
      "\n",
      "image 1/1 C:\\Users\\User\\Desktop\\1Year\\Term2\\SuperEngi\\1PrepareFinalTest\\test_Image1\\test\\9d30bc51.jpg: 640x640 1 1.00, 0 0.00, 7.1ms\n",
      "Speed: 8.8ms preprocess, 7.1ms inference, 0.1ms postprocess per image at shape (1, 3, 640, 640)\n",
      "\n",
      "image 1/1 C:\\Users\\User\\Desktop\\1Year\\Term2\\SuperEngi\\1PrepareFinalTest\\test_Image1\\test\\9d779855.jpg: 640x640 1 1.00, 0 0.00, 7.0ms\n",
      "Speed: 9.7ms preprocess, 7.0ms inference, 0.0ms postprocess per image at shape (1, 3, 640, 640)\n",
      "\n",
      "image 1/1 C:\\Users\\User\\Desktop\\1Year\\Term2\\SuperEngi\\1PrepareFinalTest\\test_Image1\\test\\9d90310f.jpg: 640x640 1 1.00, 0 0.00, 7.0ms\n",
      "Speed: 6.9ms preprocess, 7.0ms inference, 0.0ms postprocess per image at shape (1, 3, 640, 640)\n",
      "\n",
      "image 1/1 C:\\Users\\User\\Desktop\\1Year\\Term2\\SuperEngi\\1PrepareFinalTest\\test_Image1\\test\\9d9b2036.jpg: 640x640 1 1.00, 0 0.00, 7.3ms\n",
      "Speed: 7.2ms preprocess, 7.3ms inference, 0.0ms postprocess per image at shape (1, 3, 640, 640)\n",
      "\n",
      "image 1/1 C:\\Users\\User\\Desktop\\1Year\\Term2\\SuperEngi\\1PrepareFinalTest\\test_Image1\\test\\9db2bde8.jpg: 640x640 1 1.00, 0 0.00, 7.2ms\n",
      "Speed: 7.0ms preprocess, 7.2ms inference, 0.0ms postprocess per image at shape (1, 3, 640, 640)\n"
     ]
    },
    {
     "name": "stderr",
     "output_type": "stream",
     "text": [
      " 60%|██████    | 934/1550 [00:23<00:14, 42.02it/s]"
     ]
    },
    {
     "name": "stdout",
     "output_type": "stream",
     "text": [
      "\n",
      "image 1/1 C:\\Users\\User\\Desktop\\1Year\\Term2\\SuperEngi\\1PrepareFinalTest\\test_Image1\\test\\9dce64a6.jpg: 640x640 1 0.99, 0 0.01, 7.3ms\n",
      "Speed: 6.5ms preprocess, 7.3ms inference, 0.0ms postprocess per image at shape (1, 3, 640, 640)\n",
      "\n",
      "image 1/1 C:\\Users\\User\\Desktop\\1Year\\Term2\\SuperEngi\\1PrepareFinalTest\\test_Image1\\test\\9de1dc40.jpg: 640x640 1 1.00, 0 0.00, 6.9ms\n",
      "Speed: 5.9ms preprocess, 6.9ms inference, 0.1ms postprocess per image at shape (1, 3, 640, 640)\n",
      "\n",
      "image 1/1 C:\\Users\\User\\Desktop\\1Year\\Term2\\SuperEngi\\1PrepareFinalTest\\test_Image1\\test\\9dec333f.jpg: 640x640 0 1.00, 1 0.00, 6.8ms\n",
      "Speed: 5.8ms preprocess, 6.8ms inference, 0.0ms postprocess per image at shape (1, 3, 640, 640)\n",
      "\n",
      "image 1/1 C:\\Users\\User\\Desktop\\1Year\\Term2\\SuperEngi\\1PrepareFinalTest\\test_Image1\\test\\9e1de42c.jpg: 640x640 0 1.00, 1 0.00, 6.6ms\n",
      "Speed: 6.0ms preprocess, 6.6ms inference, 0.0ms postprocess per image at shape (1, 3, 640, 640)\n",
      "\n",
      "image 1/1 C:\\Users\\User\\Desktop\\1Year\\Term2\\SuperEngi\\1PrepareFinalTest\\test_Image1\\test\\9e4334b4.jpg: 640x640 0 1.00, 1 0.00, 7.1ms\n",
      "Speed: 6.3ms preprocess, 7.1ms inference, 0.0ms postprocess per image at shape (1, 3, 640, 640)\n"
     ]
    },
    {
     "name": "stderr",
     "output_type": "stream",
     "text": [
      " 61%|██████    | 939/1550 [00:23<00:13, 44.07it/s]"
     ]
    },
    {
     "name": "stdout",
     "output_type": "stream",
     "text": [
      "\n",
      "image 1/1 C:\\Users\\User\\Desktop\\1Year\\Term2\\SuperEngi\\1PrepareFinalTest\\test_Image1\\test\\9e7b98ed.jpg: 640x640 0 1.00, 1 0.00, 6.6ms\n",
      "Speed: 5.8ms preprocess, 6.6ms inference, 0.0ms postprocess per image at shape (1, 3, 640, 640)\n",
      "\n",
      "image 1/1 C:\\Users\\User\\Desktop\\1Year\\Term2\\SuperEngi\\1PrepareFinalTest\\test_Image1\\test\\9e836a3c.jpg: 640x640 1 1.00, 0 0.00, 6.7ms\n",
      "Speed: 6.2ms preprocess, 6.7ms inference, 0.1ms postprocess per image at shape (1, 3, 640, 640)\n",
      "\n",
      "image 1/1 C:\\Users\\User\\Desktop\\1Year\\Term2\\SuperEngi\\1PrepareFinalTest\\test_Image1\\test\\9ea71b8b.jpg: 640x640 1 1.00, 0 0.00, 6.9ms\n",
      "Speed: 5.6ms preprocess, 6.9ms inference, 0.0ms postprocess per image at shape (1, 3, 640, 640)\n",
      "\n",
      "image 1/1 C:\\Users\\User\\Desktop\\1Year\\Term2\\SuperEngi\\1PrepareFinalTest\\test_Image1\\test\\9ee9161f.jpg: 640x640 1 1.00, 0 0.00, 7.0ms\n",
      "Speed: 6.0ms preprocess, 7.0ms inference, 0.0ms postprocess per image at shape (1, 3, 640, 640)\n",
      "\n",
      "image 1/1 C:\\Users\\User\\Desktop\\1Year\\Term2\\SuperEngi\\1PrepareFinalTest\\test_Image1\\test\\9efd3e9d.jpg: 640x640 1 1.00, 0 0.00, 6.9ms\n",
      "Speed: 6.4ms preprocess, 6.9ms inference, 0.0ms postprocess per image at shape (1, 3, 640, 640)\n",
      "\n",
      "image 1/1 C:\\Users\\User\\Desktop\\1Year\\Term2\\SuperEngi\\1PrepareFinalTest\\test_Image1\\test\\9f253045.jpg: 640x640 0 1.00, 1 0.00, 6.9ms\n",
      "Speed: 5.6ms preprocess, 6.9ms inference, 0.0ms postprocess per image at shape (1, 3, 640, 640)\n"
     ]
    },
    {
     "name": "stderr",
     "output_type": "stream",
     "text": [
      " 61%|██████    | 945/1550 [00:23<00:13, 46.13it/s]"
     ]
    },
    {
     "name": "stdout",
     "output_type": "stream",
     "text": [
      "\n",
      "image 1/1 C:\\Users\\User\\Desktop\\1Year\\Term2\\SuperEngi\\1PrepareFinalTest\\test_Image1\\test\\9f266a65.jpg: 640x640 1 1.00, 0 0.00, 7.0ms\n",
      "Speed: 5.9ms preprocess, 7.0ms inference, 0.0ms postprocess per image at shape (1, 3, 640, 640)\n",
      "\n",
      "image 1/1 C:\\Users\\User\\Desktop\\1Year\\Term2\\SuperEngi\\1PrepareFinalTest\\test_Image1\\test\\9f37ecb6.jpg: 640x640 0 1.00, 1 0.00, 6.6ms\n",
      "Speed: 6.3ms preprocess, 6.6ms inference, 0.0ms postprocess per image at shape (1, 3, 640, 640)\n",
      "\n",
      "image 1/1 C:\\Users\\User\\Desktop\\1Year\\Term2\\SuperEngi\\1PrepareFinalTest\\test_Image1\\test\\9f60d126.jpg: 640x640 0 1.00, 1 0.00, 6.4ms\n",
      "Speed: 6.3ms preprocess, 6.4ms inference, 0.0ms postprocess per image at shape (1, 3, 640, 640)\n",
      "\n",
      "image 1/1 C:\\Users\\User\\Desktop\\1Year\\Term2\\SuperEngi\\1PrepareFinalTest\\test_Image1\\test\\9f6d8757.jpg: 640x640 0 0.85, 1 0.15, 6.6ms\n",
      "Speed: 5.8ms preprocess, 6.6ms inference, 0.0ms postprocess per image at shape (1, 3, 640, 640)\n",
      "\n",
      "image 1/1 C:\\Users\\User\\Desktop\\1Year\\Term2\\SuperEngi\\1PrepareFinalTest\\test_Image1\\test\\9f72698b.jpg: 640x640 1 1.00, 0 0.00, 6.6ms\n",
      "Speed: 5.7ms preprocess, 6.6ms inference, 0.0ms postprocess per image at shape (1, 3, 640, 640)\n",
      "\n",
      "image 1/1 C:\\Users\\User\\Desktop\\1Year\\Term2\\SuperEngi\\1PrepareFinalTest\\test_Image1\\test\\9f8950de.jpg: 640x640 0 1.00, 1 0.00, 6.6ms\n",
      "Speed: 5.9ms preprocess, 6.6ms inference, 0.0ms postprocess per image at shape (1, 3, 640, 640)\n"
     ]
    },
    {
     "name": "stderr",
     "output_type": "stream",
     "text": [
      " 61%|██████▏   | 951/1550 [00:23<00:12, 47.49it/s]"
     ]
    },
    {
     "name": "stdout",
     "output_type": "stream",
     "text": [
      "\n",
      "image 1/1 C:\\Users\\User\\Desktop\\1Year\\Term2\\SuperEngi\\1PrepareFinalTest\\test_Image1\\test\\9fa1ecd6.jpg: 640x640 1 1.00, 0 0.00, 6.3ms\n",
      "Speed: 5.7ms preprocess, 6.3ms inference, 0.0ms postprocess per image at shape (1, 3, 640, 640)\n",
      "\n",
      "image 1/1 C:\\Users\\User\\Desktop\\1Year\\Term2\\SuperEngi\\1PrepareFinalTest\\test_Image1\\test\\9fa6c971.jpg: 640x640 1 1.00, 0 0.00, 6.3ms\n",
      "Speed: 6.2ms preprocess, 6.3ms inference, 0.0ms postprocess per image at shape (1, 3, 640, 640)\n",
      "\n",
      "image 1/1 C:\\Users\\User\\Desktop\\1Year\\Term2\\SuperEngi\\1PrepareFinalTest\\test_Image1\\test\\9faef6d1.jpg: 640x640 1 1.00, 0 0.00, 6.4ms\n",
      "Speed: 6.5ms preprocess, 6.4ms inference, 0.0ms postprocess per image at shape (1, 3, 640, 640)\n",
      "\n",
      "image 1/1 C:\\Users\\User\\Desktop\\1Year\\Term2\\SuperEngi\\1PrepareFinalTest\\test_Image1\\test\\a0178506.jpg: 640x640 0 1.00, 1 0.00, 6.5ms\n",
      "Speed: 6.6ms preprocess, 6.5ms inference, 0.0ms postprocess per image at shape (1, 3, 640, 640)\n",
      "\n",
      "image 1/1 C:\\Users\\User\\Desktop\\1Year\\Term2\\SuperEngi\\1PrepareFinalTest\\test_Image1\\test\\a0301211.jpg: 640x640 1 1.00, 0 0.00, 8.2ms\n",
      "Speed: 6.1ms preprocess, 8.2ms inference, 0.0ms postprocess per image at shape (1, 3, 640, 640)\n"
     ]
    },
    {
     "name": "stderr",
     "output_type": "stream",
     "text": [
      " 62%|██████▏   | 956/1550 [00:23<00:12, 48.04it/s]"
     ]
    },
    {
     "name": "stdout",
     "output_type": "stream",
     "text": [
      "\n",
      "image 1/1 C:\\Users\\User\\Desktop\\1Year\\Term2\\SuperEngi\\1PrepareFinalTest\\test_Image1\\test\\a0d1d53a.jpg: 640x640 0 0.81, 1 0.19, 6.4ms\n",
      "Speed: 5.8ms preprocess, 6.4ms inference, 0.0ms postprocess per image at shape (1, 3, 640, 640)\n",
      "\n",
      "image 1/1 C:\\Users\\User\\Desktop\\1Year\\Term2\\SuperEngi\\1PrepareFinalTest\\test_Image1\\test\\a0faaf76.jpg: 640x640 1 1.00, 0 0.00, 6.6ms\n",
      "Speed: 7.6ms preprocess, 6.6ms inference, 0.2ms postprocess per image at shape (1, 3, 640, 640)\n",
      "\n",
      "image 1/1 C:\\Users\\User\\Desktop\\1Year\\Term2\\SuperEngi\\1PrepareFinalTest\\test_Image1\\test\\a140c4ef.jpg: 640x640 0 1.00, 1 0.00, 6.5ms\n",
      "Speed: 6.5ms preprocess, 6.5ms inference, 0.0ms postprocess per image at shape (1, 3, 640, 640)\n",
      "\n",
      "image 1/1 C:\\Users\\User\\Desktop\\1Year\\Term2\\SuperEngi\\1PrepareFinalTest\\test_Image1\\test\\a1873278.jpg: 640x640 1 1.00, 0 0.00, 6.6ms\n",
      "Speed: 5.9ms preprocess, 6.6ms inference, 0.0ms postprocess per image at shape (1, 3, 640, 640)\n",
      "\n",
      "image 1/1 C:\\Users\\User\\Desktop\\1Year\\Term2\\SuperEngi\\1PrepareFinalTest\\test_Image1\\test\\a1b86d28.jpg: 640x640 1 0.98, 0 0.02, 12.2ms\n",
      "Speed: 10.1ms preprocess, 12.2ms inference, 0.1ms postprocess per image at shape (1, 3, 640, 640)\n"
     ]
    },
    {
     "name": "stderr",
     "output_type": "stream",
     "text": [
      " 62%|██████▏   | 961/1550 [00:23<00:12, 45.41it/s]"
     ]
    },
    {
     "name": "stdout",
     "output_type": "stream",
     "text": [
      "\n",
      "image 1/1 C:\\Users\\User\\Desktop\\1Year\\Term2\\SuperEngi\\1PrepareFinalTest\\test_Image1\\test\\a1bb6c6f.jpg: 640x640 1 1.00, 0 0.00, 9.1ms\n",
      "Speed: 10.4ms preprocess, 9.1ms inference, 0.1ms postprocess per image at shape (1, 3, 640, 640)\n",
      "\n",
      "image 1/1 C:\\Users\\User\\Desktop\\1Year\\Term2\\SuperEngi\\1PrepareFinalTest\\test_Image1\\test\\a2067109.jpg: 640x640 0 0.57, 1 0.43, 6.7ms\n",
      "Speed: 8.2ms preprocess, 6.7ms inference, 0.0ms postprocess per image at shape (1, 3, 640, 640)\n",
      "\n",
      "image 1/1 C:\\Users\\User\\Desktop\\1Year\\Term2\\SuperEngi\\1PrepareFinalTest\\test_Image1\\test\\a232de2f.jpg: 640x640 0 0.99, 1 0.01, 6.6ms\n",
      "Speed: 7.5ms preprocess, 6.6ms inference, 0.0ms postprocess per image at shape (1, 3, 640, 640)\n",
      "\n",
      "image 1/1 C:\\Users\\User\\Desktop\\1Year\\Term2\\SuperEngi\\1PrepareFinalTest\\test_Image1\\test\\a255ac7f.jpg: 640x640 0 0.97, 1 0.03, 6.7ms\n",
      "Speed: 6.8ms preprocess, 6.7ms inference, 0.1ms postprocess per image at shape (1, 3, 640, 640)\n",
      "\n",
      "image 1/1 C:\\Users\\User\\Desktop\\1Year\\Term2\\SuperEngi\\1PrepareFinalTest\\test_Image1\\test\\a27243d6.jpg: 640x640 1 1.00, 0 0.00, 7.0ms\n",
      "Speed: 7.6ms preprocess, 7.0ms inference, 0.0ms postprocess per image at shape (1, 3, 640, 640)\n"
     ]
    },
    {
     "name": "stderr",
     "output_type": "stream",
     "text": [
      " 62%|██████▏   | 966/1550 [00:23<00:13, 43.66it/s]"
     ]
    },
    {
     "name": "stdout",
     "output_type": "stream",
     "text": [
      "\n",
      "image 1/1 C:\\Users\\User\\Desktop\\1Year\\Term2\\SuperEngi\\1PrepareFinalTest\\test_Image1\\test\\a2e57b4d.jpg: 640x640 1 1.00, 0 0.00, 6.7ms\n",
      "Speed: 7.3ms preprocess, 6.7ms inference, 0.0ms postprocess per image at shape (1, 3, 640, 640)\n",
      "\n",
      "image 1/1 C:\\Users\\User\\Desktop\\1Year\\Term2\\SuperEngi\\1PrepareFinalTest\\test_Image1\\test\\a31ca645.jpg: 640x640 0 1.00, 1 0.00, 6.5ms\n",
      "Speed: 6.3ms preprocess, 6.5ms inference, 0.1ms postprocess per image at shape (1, 3, 640, 640)\n",
      "\n",
      "image 1/1 C:\\Users\\User\\Desktop\\1Year\\Term2\\SuperEngi\\1PrepareFinalTest\\test_Image1\\test\\a32d2442.jpg: 640x640 0 1.00, 1 0.00, 6.6ms\n",
      "Speed: 6.0ms preprocess, 6.6ms inference, 0.0ms postprocess per image at shape (1, 3, 640, 640)\n",
      "\n",
      "image 1/1 C:\\Users\\User\\Desktop\\1Year\\Term2\\SuperEngi\\1PrepareFinalTest\\test_Image1\\test\\a34abea0.jpg: 640x640 0 1.00, 1 0.00, 6.6ms\n",
      "Speed: 5.7ms preprocess, 6.6ms inference, 0.0ms postprocess per image at shape (1, 3, 640, 640)\n",
      "\n",
      "image 1/1 C:\\Users\\User\\Desktop\\1Year\\Term2\\SuperEngi\\1PrepareFinalTest\\test_Image1\\test\\a352d477.jpg: 640x640 1 0.54, 0 0.46, 9.1ms\n",
      "Speed: 7.8ms preprocess, 9.1ms inference, 0.0ms postprocess per image at shape (1, 3, 640, 640)\n"
     ]
    },
    {
     "name": "stderr",
     "output_type": "stream",
     "text": [
      " 63%|██████▎   | 971/1550 [00:24<00:12, 44.67it/s]"
     ]
    },
    {
     "name": "stdout",
     "output_type": "stream",
     "text": [
      "\n",
      "image 1/1 C:\\Users\\User\\Desktop\\1Year\\Term2\\SuperEngi\\1PrepareFinalTest\\test_Image1\\test\\a359c9de.jpg: 640x640 0 1.00, 1 0.00, 6.8ms\n",
      "Speed: 9.8ms preprocess, 6.8ms inference, 0.1ms postprocess per image at shape (1, 3, 640, 640)\n",
      "\n",
      "image 1/1 C:\\Users\\User\\Desktop\\1Year\\Term2\\SuperEngi\\1PrepareFinalTest\\test_Image1\\test\\a3859909.jpg: 640x640 1 1.00, 0 0.00, 6.6ms\n",
      "Speed: 7.4ms preprocess, 6.6ms inference, 0.1ms postprocess per image at shape (1, 3, 640, 640)\n",
      "\n",
      "image 1/1 C:\\Users\\User\\Desktop\\1Year\\Term2\\SuperEngi\\1PrepareFinalTest\\test_Image1\\test\\a38718f4.jpg: 640x640 1 1.00, 0 0.00, 6.9ms\n",
      "Speed: 7.4ms preprocess, 6.9ms inference, 0.1ms postprocess per image at shape (1, 3, 640, 640)\n",
      "\n",
      "image 1/1 C:\\Users\\User\\Desktop\\1Year\\Term2\\SuperEngi\\1PrepareFinalTest\\test_Image1\\test\\a3a5b050.jpg: 640x640 0 1.00, 1 0.00, 6.7ms\n",
      "Speed: 7.5ms preprocess, 6.7ms inference, 0.0ms postprocess per image at shape (1, 3, 640, 640)\n",
      "\n",
      "image 1/1 C:\\Users\\User\\Desktop\\1Year\\Term2\\SuperEngi\\1PrepareFinalTest\\test_Image1\\test\\a3b49613.jpg: 640x640 0 1.00, 1 0.00, 6.7ms\n",
      "Speed: 6.8ms preprocess, 6.7ms inference, 0.0ms postprocess per image at shape (1, 3, 640, 640)\n"
     ]
    },
    {
     "name": "stderr",
     "output_type": "stream",
     "text": [
      " 63%|██████▎   | 976/1550 [00:24<00:12, 44.55it/s]"
     ]
    },
    {
     "name": "stdout",
     "output_type": "stream",
     "text": [
      "\n",
      "image 1/1 C:\\Users\\User\\Desktop\\1Year\\Term2\\SuperEngi\\1PrepareFinalTest\\test_Image1\\test\\a3bf7654.jpg: 640x640 0 1.00, 1 0.00, 6.9ms\n",
      "Speed: 7.4ms preprocess, 6.9ms inference, 0.1ms postprocess per image at shape (1, 3, 640, 640)\n",
      "\n",
      "image 1/1 C:\\Users\\User\\Desktop\\1Year\\Term2\\SuperEngi\\1PrepareFinalTest\\test_Image1\\test\\a3c844f1.jpg: 640x640 0 1.00, 1 0.00, 7.0ms\n",
      "Speed: 6.8ms preprocess, 7.0ms inference, 0.1ms postprocess per image at shape (1, 3, 640, 640)\n",
      "\n",
      "image 1/1 C:\\Users\\User\\Desktop\\1Year\\Term2\\SuperEngi\\1PrepareFinalTest\\test_Image1\\test\\a3f61e9f.jpg: 640x640 1 1.00, 0 0.00, 6.8ms\n",
      "Speed: 7.2ms preprocess, 6.8ms inference, 0.1ms postprocess per image at shape (1, 3, 640, 640)\n",
      "\n",
      "image 1/1 C:\\Users\\User\\Desktop\\1Year\\Term2\\SuperEngi\\1PrepareFinalTest\\test_Image1\\test\\a4418dbf.jpg: 640x640 0 1.00, 1 0.00, 9.8ms\n",
      "Speed: 6.3ms preprocess, 9.8ms inference, 0.1ms postprocess per image at shape (1, 3, 640, 640)\n",
      "\n",
      "image 1/1 C:\\Users\\User\\Desktop\\1Year\\Term2\\SuperEngi\\1PrepareFinalTest\\test_Image1\\test\\a453349b.jpg: 640x640 1 0.85, 0 0.15, 7.0ms\n",
      "Speed: 8.0ms preprocess, 7.0ms inference, 0.1ms postprocess per image at shape (1, 3, 640, 640)\n"
     ]
    },
    {
     "name": "stderr",
     "output_type": "stream",
     "text": [
      " 63%|██████▎   | 981/1550 [00:24<00:12, 44.46it/s]"
     ]
    },
    {
     "name": "stdout",
     "output_type": "stream",
     "text": [
      "\n",
      "image 1/1 C:\\Users\\User\\Desktop\\1Year\\Term2\\SuperEngi\\1PrepareFinalTest\\test_Image1\\test\\a49061cd.jpg: 640x640 1 1.00, 0 0.00, 6.6ms\n",
      "Speed: 7.0ms preprocess, 6.6ms inference, 0.1ms postprocess per image at shape (1, 3, 640, 640)\n",
      "\n",
      "image 1/1 C:\\Users\\User\\Desktop\\1Year\\Term2\\SuperEngi\\1PrepareFinalTest\\test_Image1\\test\\a50c7f58.jpg: 640x640 1 1.00, 0 0.00, 7.0ms\n",
      "Speed: 7.6ms preprocess, 7.0ms inference, 0.1ms postprocess per image at shape (1, 3, 640, 640)\n",
      "\n",
      "image 1/1 C:\\Users\\User\\Desktop\\1Year\\Term2\\SuperEngi\\1PrepareFinalTest\\test_Image1\\test\\a51d7182.jpg: 640x640 0 1.00, 1 0.00, 6.9ms\n",
      "Speed: 9.0ms preprocess, 6.9ms inference, 0.1ms postprocess per image at shape (1, 3, 640, 640)\n",
      "\n",
      "image 1/1 C:\\Users\\User\\Desktop\\1Year\\Term2\\SuperEngi\\1PrepareFinalTest\\test_Image1\\test\\a5261896.jpg: 640x640 0 1.00, 1 0.00, 8.9ms\n",
      "Speed: 10.3ms preprocess, 8.9ms inference, 0.0ms postprocess per image at shape (1, 3, 640, 640)\n",
      "\n",
      "image 1/1 C:\\Users\\User\\Desktop\\1Year\\Term2\\SuperEngi\\1PrepareFinalTest\\test_Image1\\test\\a54ba1a5.jpg: 640x640 0 1.00, 1 0.00, 6.4ms\n",
      "Speed: 6.9ms preprocess, 6.4ms inference, 0.0ms postprocess per image at shape (1, 3, 640, 640)\n"
     ]
    },
    {
     "name": "stderr",
     "output_type": "stream",
     "text": [
      " 64%|██████▎   | 986/1550 [00:24<00:12, 43.66it/s]"
     ]
    },
    {
     "name": "stdout",
     "output_type": "stream",
     "text": [
      "\n",
      "image 1/1 C:\\Users\\User\\Desktop\\1Year\\Term2\\SuperEngi\\1PrepareFinalTest\\test_Image1\\test\\a55e9e83.jpg: 640x640 1 1.00, 0 0.00, 7.9ms\n",
      "Speed: 13.1ms preprocess, 7.9ms inference, 0.1ms postprocess per image at shape (1, 3, 640, 640)\n",
      "\n",
      "image 1/1 C:\\Users\\User\\Desktop\\1Year\\Term2\\SuperEngi\\1PrepareFinalTest\\test_Image1\\test\\a58bd0db.jpg: 640x640 1 0.94, 0 0.06, 7.1ms\n",
      "Speed: 9.8ms preprocess, 7.1ms inference, 0.1ms postprocess per image at shape (1, 3, 640, 640)\n",
      "\n",
      "image 1/1 C:\\Users\\User\\Desktop\\1Year\\Term2\\SuperEngi\\1PrepareFinalTest\\test_Image1\\test\\a58ef785.jpg: 640x640 1 1.00, 0 0.00, 7.9ms\n",
      "Speed: 9.3ms preprocess, 7.9ms inference, 0.0ms postprocess per image at shape (1, 3, 640, 640)\n",
      "\n",
      "image 1/1 C:\\Users\\User\\Desktop\\1Year\\Term2\\SuperEngi\\1PrepareFinalTest\\test_Image1\\test\\a5b8517e.jpg: 640x640 0 1.00, 1 0.00, 6.7ms\n",
      "Speed: 7.6ms preprocess, 6.7ms inference, 0.1ms postprocess per image at shape (1, 3, 640, 640)\n",
      "\n",
      "image 1/1 C:\\Users\\User\\Desktop\\1Year\\Term2\\SuperEngi\\1PrepareFinalTest\\test_Image1\\test\\a5c3e10d.jpg: 640x640 0 1.00, 1 0.00, 9.8ms\n",
      "Speed: 6.9ms preprocess, 9.8ms inference, 0.1ms postprocess per image at shape (1, 3, 640, 640)\n"
     ]
    },
    {
     "name": "stderr",
     "output_type": "stream",
     "text": [
      " 64%|██████▍   | 991/1550 [00:24<00:13, 41.46it/s]"
     ]
    },
    {
     "name": "stdout",
     "output_type": "stream",
     "text": [
      "\n",
      "image 1/1 C:\\Users\\User\\Desktop\\1Year\\Term2\\SuperEngi\\1PrepareFinalTest\\test_Image1\\test\\a5d83395.jpg: 640x640 1 0.76, 0 0.24, 6.6ms\n",
      "Speed: 7.2ms preprocess, 6.6ms inference, 0.1ms postprocess per image at shape (1, 3, 640, 640)\n",
      "\n",
      "image 1/1 C:\\Users\\User\\Desktop\\1Year\\Term2\\SuperEngi\\1PrepareFinalTest\\test_Image1\\test\\a5df00e4.jpg: 640x640 0 1.00, 1 0.00, 8.3ms\n",
      "Speed: 7.7ms preprocess, 8.3ms inference, 0.1ms postprocess per image at shape (1, 3, 640, 640)\n",
      "\n",
      "image 1/1 C:\\Users\\User\\Desktop\\1Year\\Term2\\SuperEngi\\1PrepareFinalTest\\test_Image1\\test\\a60d6c41.jpg: 640x640 0 1.00, 1 0.00, 6.6ms\n",
      "Speed: 6.5ms preprocess, 6.6ms inference, 0.1ms postprocess per image at shape (1, 3, 640, 640)\n",
      "\n",
      "image 1/1 C:\\Users\\User\\Desktop\\1Year\\Term2\\SuperEngi\\1PrepareFinalTest\\test_Image1\\test\\a6154645.jpg: 640x640 0 1.00, 1 0.00, 7.1ms\n",
      "Speed: 6.4ms preprocess, 7.1ms inference, 0.0ms postprocess per image at shape (1, 3, 640, 640)\n",
      "\n",
      "image 1/1 C:\\Users\\User\\Desktop\\1Year\\Term2\\SuperEngi\\1PrepareFinalTest\\test_Image1\\test\\a65eebe3.jpg: 640x640 0 1.00, 1 0.00, 7.0ms\n",
      "Speed: 5.9ms preprocess, 7.0ms inference, 0.1ms postprocess per image at shape (1, 3, 640, 640)\n"
     ]
    },
    {
     "name": "stderr",
     "output_type": "stream",
     "text": [
      " 64%|██████▍   | 996/1550 [00:24<00:12, 42.99it/s]"
     ]
    },
    {
     "name": "stdout",
     "output_type": "stream",
     "text": [
      "\n",
      "image 1/1 C:\\Users\\User\\Desktop\\1Year\\Term2\\SuperEngi\\1PrepareFinalTest\\test_Image1\\test\\a660e78e.jpg: 640x640 1 0.73, 0 0.27, 6.9ms\n",
      "Speed: 6.9ms preprocess, 6.9ms inference, 0.1ms postprocess per image at shape (1, 3, 640, 640)\n",
      "\n",
      "image 1/1 C:\\Users\\User\\Desktop\\1Year\\Term2\\SuperEngi\\1PrepareFinalTest\\test_Image1\\test\\a69b32bc.jpg: 640x640 0 1.00, 1 0.00, 6.9ms\n",
      "Speed: 7.1ms preprocess, 6.9ms inference, 0.1ms postprocess per image at shape (1, 3, 640, 640)\n",
      "\n",
      "image 1/1 C:\\Users\\User\\Desktop\\1Year\\Term2\\SuperEngi\\1PrepareFinalTest\\test_Image1\\test\\a7398164.jpg: 640x640 1 0.98, 0 0.02, 7.1ms\n",
      "Speed: 8.0ms preprocess, 7.1ms inference, 0.1ms postprocess per image at shape (1, 3, 640, 640)\n",
      "\n",
      "image 1/1 C:\\Users\\User\\Desktop\\1Year\\Term2\\SuperEngi\\1PrepareFinalTest\\test_Image1\\test\\a7402128.jpg: 640x640 0 0.99, 1 0.01, 6.7ms\n",
      "Speed: 7.6ms preprocess, 6.7ms inference, 0.0ms postprocess per image at shape (1, 3, 640, 640)\n",
      "\n",
      "image 1/1 C:\\Users\\User\\Desktop\\1Year\\Term2\\SuperEngi\\1PrepareFinalTest\\test_Image1\\test\\a799221f.jpg: 640x640 1 1.00, 0 0.00, 6.9ms\n",
      "Speed: 7.2ms preprocess, 6.9ms inference, 0.1ms postprocess per image at shape (1, 3, 640, 640)\n"
     ]
    },
    {
     "name": "stderr",
     "output_type": "stream",
     "text": [
      " 65%|██████▍   | 1001/1550 [00:24<00:12, 43.66it/s]"
     ]
    },
    {
     "name": "stdout",
     "output_type": "stream",
     "text": [
      "\n",
      "image 1/1 C:\\Users\\User\\Desktop\\1Year\\Term2\\SuperEngi\\1PrepareFinalTest\\test_Image1\\test\\a7eb55a2.jpg: 640x640 1 0.67, 0 0.33, 7.5ms\n",
      "Speed: 7.7ms preprocess, 7.5ms inference, 0.1ms postprocess per image at shape (1, 3, 640, 640)\n",
      "\n",
      "image 1/1 C:\\Users\\User\\Desktop\\1Year\\Term2\\SuperEngi\\1PrepareFinalTest\\test_Image1\\test\\a7fe5e6e.jpg: 640x640 0 1.00, 1 0.00, 6.6ms\n",
      "Speed: 7.6ms preprocess, 6.6ms inference, 0.1ms postprocess per image at shape (1, 3, 640, 640)\n",
      "\n",
      "image 1/1 C:\\Users\\User\\Desktop\\1Year\\Term2\\SuperEngi\\1PrepareFinalTest\\test_Image1\\test\\a8261e6a.jpg: 640x640 0 1.00, 1 0.00, 7.1ms\n",
      "Speed: 8.0ms preprocess, 7.1ms inference, 0.1ms postprocess per image at shape (1, 3, 640, 640)\n",
      "\n",
      "image 1/1 C:\\Users\\User\\Desktop\\1Year\\Term2\\SuperEngi\\1PrepareFinalTest\\test_Image1\\test\\a86bd98b.jpg: 640x640 0 1.00, 1 0.00, 6.7ms\n",
      "Speed: 10.1ms preprocess, 6.7ms inference, 0.1ms postprocess per image at shape (1, 3, 640, 640)\n",
      "\n",
      "image 1/1 C:\\Users\\User\\Desktop\\1Year\\Term2\\SuperEngi\\1PrepareFinalTest\\test_Image1\\test\\a8d4d78b.jpg: 640x640 1 1.00, 0 0.00, 8.6ms\n",
      "Speed: 8.4ms preprocess, 8.6ms inference, 0.1ms postprocess per image at shape (1, 3, 640, 640)\n"
     ]
    },
    {
     "name": "stderr",
     "output_type": "stream",
     "text": [
      " 65%|██████▍   | 1006/1550 [00:24<00:12, 42.40it/s]"
     ]
    },
    {
     "name": "stdout",
     "output_type": "stream",
     "text": [
      "\n",
      "image 1/1 C:\\Users\\User\\Desktop\\1Year\\Term2\\SuperEngi\\1PrepareFinalTest\\test_Image1\\test\\a8d6a155.jpg: 640x640 0 1.00, 1 0.00, 7.2ms\n",
      "Speed: 9.1ms preprocess, 7.2ms inference, 0.1ms postprocess per image at shape (1, 3, 640, 640)\n",
      "\n",
      "image 1/1 C:\\Users\\User\\Desktop\\1Year\\Term2\\SuperEngi\\1PrepareFinalTest\\test_Image1\\test\\a8dbcd52.jpg: 640x640 1 1.00, 0 0.00, 12.4ms\n",
      "Speed: 12.9ms preprocess, 12.4ms inference, 0.1ms postprocess per image at shape (1, 3, 640, 640)\n",
      "\n",
      "image 1/1 C:\\Users\\User\\Desktop\\1Year\\Term2\\SuperEngi\\1PrepareFinalTest\\test_Image1\\test\\a8eca0fd.jpg: 640x640 0 1.00, 1 0.00, 7.3ms\n",
      "Speed: 9.0ms preprocess, 7.3ms inference, 0.0ms postprocess per image at shape (1, 3, 640, 640)\n",
      "\n",
      "image 1/1 C:\\Users\\User\\Desktop\\1Year\\Term2\\SuperEngi\\1PrepareFinalTest\\test_Image1\\test\\a944fbf8.jpg: 640x640 1 1.00, 0 0.00, 7.1ms\n",
      "Speed: 8.1ms preprocess, 7.1ms inference, 0.1ms postprocess per image at shape (1, 3, 640, 640)\n",
      "\n",
      "image 1/1 C:\\Users\\User\\Desktop\\1Year\\Term2\\SuperEngi\\1PrepareFinalTest\\test_Image1\\test\\a956fc6f.jpg: 640x640 0 1.00, 1 0.00, 8.0ms\n",
      "Speed: 8.2ms preprocess, 8.0ms inference, 0.0ms postprocess per image at shape (1, 3, 640, 640)\n"
     ]
    },
    {
     "name": "stderr",
     "output_type": "stream",
     "text": [
      " 65%|██████▌   | 1011/1550 [00:25<00:13, 39.65it/s]"
     ]
    },
    {
     "name": "stdout",
     "output_type": "stream",
     "text": [
      "\n",
      "image 1/1 C:\\Users\\User\\Desktop\\1Year\\Term2\\SuperEngi\\1PrepareFinalTest\\test_Image1\\test\\a96918d4.jpg: 640x640 0 1.00, 1 0.00, 6.9ms\n",
      "Speed: 7.9ms preprocess, 6.9ms inference, 0.1ms postprocess per image at shape (1, 3, 640, 640)\n",
      "\n",
      "image 1/1 C:\\Users\\User\\Desktop\\1Year\\Term2\\SuperEngi\\1PrepareFinalTest\\test_Image1\\test\\a971f9db.jpg: 640x640 1 1.00, 0 0.00, 6.7ms\n",
      "Speed: 8.2ms preprocess, 6.7ms inference, 0.1ms postprocess per image at shape (1, 3, 640, 640)\n",
      "\n",
      "image 1/1 C:\\Users\\User\\Desktop\\1Year\\Term2\\SuperEngi\\1PrepareFinalTest\\test_Image1\\test\\a9e9d863.jpg: 640x640 1 1.00, 0 0.00, 9.0ms\n",
      "Speed: 8.6ms preprocess, 9.0ms inference, 0.1ms postprocess per image at shape (1, 3, 640, 640)\n",
      "\n",
      "image 1/1 C:\\Users\\User\\Desktop\\1Year\\Term2\\SuperEngi\\1PrepareFinalTest\\test_Image1\\test\\a9fbdd28.jpg: 640x640 1 0.69, 0 0.31, 6.9ms\n",
      "Speed: 7.9ms preprocess, 6.9ms inference, 0.1ms postprocess per image at shape (1, 3, 640, 640)\n",
      "\n",
      "image 1/1 C:\\Users\\User\\Desktop\\1Year\\Term2\\SuperEngi\\1PrepareFinalTest\\test_Image1\\test\\aa00a70f.jpg: 640x640 1 1.00, 0 0.00, 7.0ms\n",
      "Speed: 7.3ms preprocess, 7.0ms inference, 0.1ms postprocess per image at shape (1, 3, 640, 640)\n"
     ]
    },
    {
     "name": "stderr",
     "output_type": "stream",
     "text": [
      " 66%|██████▌   | 1016/1550 [00:25<00:13, 39.99it/s]"
     ]
    },
    {
     "name": "stdout",
     "output_type": "stream",
     "text": [
      "\n",
      "image 1/1 C:\\Users\\User\\Desktop\\1Year\\Term2\\SuperEngi\\1PrepareFinalTest\\test_Image1\\test\\aa0e011b.jpg: 640x640 1 1.00, 0 0.00, 7.0ms\n",
      "Speed: 7.8ms preprocess, 7.0ms inference, 0.1ms postprocess per image at shape (1, 3, 640, 640)\n",
      "\n",
      "image 1/1 C:\\Users\\User\\Desktop\\1Year\\Term2\\SuperEngi\\1PrepareFinalTest\\test_Image1\\test\\aa1631d7.jpg: 640x640 0 1.00, 1 0.00, 7.6ms\n",
      "Speed: 7.7ms preprocess, 7.6ms inference, 0.1ms postprocess per image at shape (1, 3, 640, 640)\n",
      "\n",
      "image 1/1 C:\\Users\\User\\Desktop\\1Year\\Term2\\SuperEngi\\1PrepareFinalTest\\test_Image1\\test\\aa9d5db0.jpg: 640x640 0 1.00, 1 0.00, 7.2ms\n",
      "Speed: 7.4ms preprocess, 7.2ms inference, 0.1ms postprocess per image at shape (1, 3, 640, 640)\n",
      "\n",
      "image 1/1 C:\\Users\\User\\Desktop\\1Year\\Term2\\SuperEngi\\1PrepareFinalTest\\test_Image1\\test\\aaa91779.jpg: 640x640 1 1.00, 0 0.00, 6.7ms\n",
      "Speed: 7.7ms preprocess, 6.7ms inference, 0.1ms postprocess per image at shape (1, 3, 640, 640)\n",
      "\n",
      "image 1/1 C:\\Users\\User\\Desktop\\1Year\\Term2\\SuperEngi\\1PrepareFinalTest\\test_Image1\\test\\aaea811c.jpg: 640x640 0 1.00, 1 0.00, 7.7ms\n",
      "Speed: 7.7ms preprocess, 7.7ms inference, 0.1ms postprocess per image at shape (1, 3, 640, 640)\n"
     ]
    },
    {
     "name": "stderr",
     "output_type": "stream",
     "text": [
      " 66%|██████▌   | 1021/1550 [00:25<00:13, 40.68it/s]"
     ]
    },
    {
     "name": "stdout",
     "output_type": "stream",
     "text": [
      "\n",
      "image 1/1 C:\\Users\\User\\Desktop\\1Year\\Term2\\SuperEngi\\1PrepareFinalTest\\test_Image1\\test\\aaf94ab7.jpg: 640x640 0 1.00, 1 0.00, 10.7ms\n",
      "Speed: 11.1ms preprocess, 10.7ms inference, 0.1ms postprocess per image at shape (1, 3, 640, 640)\n",
      "\n",
      "image 1/1 C:\\Users\\User\\Desktop\\1Year\\Term2\\SuperEngi\\1PrepareFinalTest\\test_Image1\\test\\ab14b28a.jpg: 640x640 0 0.70, 1 0.30, 11.0ms\n",
      "Speed: 10.8ms preprocess, 11.0ms inference, 0.1ms postprocess per image at shape (1, 3, 640, 640)\n",
      "\n",
      "image 1/1 C:\\Users\\User\\Desktop\\1Year\\Term2\\SuperEngi\\1PrepareFinalTest\\test_Image1\\test\\ab1d372e.jpg: 640x640 1 1.00, 0 0.00, 8.6ms\n",
      "Speed: 8.6ms preprocess, 8.6ms inference, 0.1ms postprocess per image at shape (1, 3, 640, 640)\n",
      "\n",
      "image 1/1 C:\\Users\\User\\Desktop\\1Year\\Term2\\SuperEngi\\1PrepareFinalTest\\test_Image1\\test\\ab1e40b9.jpg: 640x640 0 1.00, 1 0.00, 7.0ms\n",
      "Speed: 8.1ms preprocess, 7.0ms inference, 0.1ms postprocess per image at shape (1, 3, 640, 640)\n",
      "\n",
      "image 1/1 C:\\Users\\User\\Desktop\\1Year\\Term2\\SuperEngi\\1PrepareFinalTest\\test_Image1\\test\\ab1ed995.jpg: 640x640 0 0.99, 1 0.01, 7.1ms\n",
      "Speed: 8.3ms preprocess, 7.1ms inference, 0.1ms postprocess per image at shape (1, 3, 640, 640)\n"
     ]
    },
    {
     "name": "stderr",
     "output_type": "stream",
     "text": [
      " 66%|██████▌   | 1026/1550 [00:25<00:13, 38.76it/s]"
     ]
    },
    {
     "name": "stdout",
     "output_type": "stream",
     "text": [
      "\n",
      "image 1/1 C:\\Users\\User\\Desktop\\1Year\\Term2\\SuperEngi\\1PrepareFinalTest\\test_Image1\\test\\ab45730f.jpg: 640x640 0 1.00, 1 0.00, 6.9ms\n",
      "Speed: 8.2ms preprocess, 6.9ms inference, 0.1ms postprocess per image at shape (1, 3, 640, 640)\n",
      "\n",
      "image 1/1 C:\\Users\\User\\Desktop\\1Year\\Term2\\SuperEngi\\1PrepareFinalTest\\test_Image1\\test\\abfa2a8f.jpg: 640x640 0 1.00, 1 0.00, 7.6ms\n",
      "Speed: 7.3ms preprocess, 7.6ms inference, 0.1ms postprocess per image at shape (1, 3, 640, 640)\n",
      "\n",
      "image 1/1 C:\\Users\\User\\Desktop\\1Year\\Term2\\SuperEngi\\1PrepareFinalTest\\test_Image1\\test\\ac02f2ab.jpg: 640x640 1 1.00, 0 0.00, 6.7ms\n",
      "Speed: 7.6ms preprocess, 6.7ms inference, 0.0ms postprocess per image at shape (1, 3, 640, 640)\n",
      "\n",
      "image 1/1 C:\\Users\\User\\Desktop\\1Year\\Term2\\SuperEngi\\1PrepareFinalTest\\test_Image1\\test\\ac13f8aa.jpg: 640x640 0 1.00, 1 0.00, 7.5ms\n",
      "Speed: 8.2ms preprocess, 7.5ms inference, 0.1ms postprocess per image at shape (1, 3, 640, 640)\n",
      "\n",
      "image 1/1 C:\\Users\\User\\Desktop\\1Year\\Term2\\SuperEngi\\1PrepareFinalTest\\test_Image1\\test\\acb89d9c.jpg: 640x640 0 1.00, 1 0.00, 9.3ms\n",
      "Speed: 9.3ms preprocess, 9.3ms inference, 0.1ms postprocess per image at shape (1, 3, 640, 640)\n"
     ]
    },
    {
     "name": "stderr",
     "output_type": "stream",
     "text": [
      " 67%|██████▋   | 1031/1550 [00:25<00:13, 39.43it/s]"
     ]
    },
    {
     "name": "stdout",
     "output_type": "stream",
     "text": [
      "\n",
      "image 1/1 C:\\Users\\User\\Desktop\\1Year\\Term2\\SuperEngi\\1PrepareFinalTest\\test_Image1\\test\\acce0323.jpg: 640x640 0 0.89, 1 0.11, 11.7ms\n",
      "Speed: 9.2ms preprocess, 11.7ms inference, 0.1ms postprocess per image at shape (1, 3, 640, 640)\n",
      "\n",
      "image 1/1 C:\\Users\\User\\Desktop\\1Year\\Term2\\SuperEngi\\1PrepareFinalTest\\test_Image1\\test\\acd08c44.jpg: 640x640 0 1.00, 1 0.00, 9.4ms\n",
      "Speed: 8.6ms preprocess, 9.4ms inference, 0.1ms postprocess per image at shape (1, 3, 640, 640)\n",
      "\n",
      "image 1/1 C:\\Users\\User\\Desktop\\1Year\\Term2\\SuperEngi\\1PrepareFinalTest\\test_Image1\\test\\acf323a5.jpg: 640x640 1 1.00, 0 0.00, 10.4ms\n",
      "Speed: 9.0ms preprocess, 10.4ms inference, 0.1ms postprocess per image at shape (1, 3, 640, 640)\n",
      "\n",
      "image 1/1 C:\\Users\\User\\Desktop\\1Year\\Term2\\SuperEngi\\1PrepareFinalTest\\test_Image1\\test\\acfb394d.jpg: 640x640 1 1.00, 0 0.00, 9.0ms\n",
      "Speed: 8.9ms preprocess, 9.0ms inference, 0.1ms postprocess per image at shape (1, 3, 640, 640)\n"
     ]
    },
    {
     "name": "stderr",
     "output_type": "stream",
     "text": [
      " 67%|██████▋   | 1035/1550 [00:25<00:13, 38.32it/s]"
     ]
    },
    {
     "name": "stdout",
     "output_type": "stream",
     "text": [
      "\n",
      "image 1/1 C:\\Users\\User\\Desktop\\1Year\\Term2\\SuperEngi\\1PrepareFinalTest\\test_Image1\\test\\ad6a7967.jpg: 640x640 1 1.00, 0 0.00, 9.3ms\n",
      "Speed: 9.0ms preprocess, 9.3ms inference, 0.1ms postprocess per image at shape (1, 3, 640, 640)\n",
      "\n",
      "image 1/1 C:\\Users\\User\\Desktop\\1Year\\Term2\\SuperEngi\\1PrepareFinalTest\\test_Image1\\test\\ad987cbe.jpg: 640x640 1 1.00, 0 0.00, 9.7ms\n",
      "Speed: 8.8ms preprocess, 9.7ms inference, 0.1ms postprocess per image at shape (1, 3, 640, 640)\n",
      "\n",
      "image 1/1 C:\\Users\\User\\Desktop\\1Year\\Term2\\SuperEngi\\1PrepareFinalTest\\test_Image1\\test\\adacf01e.jpg: 640x640 0 1.00, 1 0.00, 6.7ms\n",
      "Speed: 8.2ms preprocess, 6.7ms inference, 0.1ms postprocess per image at shape (1, 3, 640, 640)\n",
      "\n",
      "image 1/1 C:\\Users\\User\\Desktop\\1Year\\Term2\\SuperEngi\\1PrepareFinalTest\\test_Image1\\test\\adb7e97b.jpg: 640x640 1 1.00, 0 0.00, 7.4ms\n",
      "Speed: 7.7ms preprocess, 7.4ms inference, 0.1ms postprocess per image at shape (1, 3, 640, 640)\n"
     ]
    },
    {
     "name": "stderr",
     "output_type": "stream",
     "text": [
      " 67%|██████▋   | 1039/1550 [00:25<00:13, 38.68it/s]"
     ]
    },
    {
     "name": "stdout",
     "output_type": "stream",
     "text": [
      "\n",
      "image 1/1 C:\\Users\\User\\Desktop\\1Year\\Term2\\SuperEngi\\1PrepareFinalTest\\test_Image1\\test\\ae089c2f.jpg: 640x640 0 0.94, 1 0.06, 6.9ms\n",
      "Speed: 7.6ms preprocess, 6.9ms inference, 0.1ms postprocess per image at shape (1, 3, 640, 640)\n",
      "\n",
      "image 1/1 C:\\Users\\User\\Desktop\\1Year\\Term2\\SuperEngi\\1PrepareFinalTest\\test_Image1\\test\\ae174749.jpg: 640x640 1 0.85, 0 0.15, 7.1ms\n",
      "Speed: 7.9ms preprocess, 7.1ms inference, 0.1ms postprocess per image at shape (1, 3, 640, 640)\n",
      "\n",
      "image 1/1 C:\\Users\\User\\Desktop\\1Year\\Term2\\SuperEngi\\1PrepareFinalTest\\test_Image1\\test\\ae53a6a5.jpg: 640x640 1 1.00, 0 0.00, 6.8ms\n",
      "Speed: 9.5ms preprocess, 6.8ms inference, 0.1ms postprocess per image at shape (1, 3, 640, 640)\n",
      "\n",
      "image 1/1 C:\\Users\\User\\Desktop\\1Year\\Term2\\SuperEngi\\1PrepareFinalTest\\test_Image1\\test\\ae71ea5b.jpg: 640x640 0 1.00, 1 0.00, 7.6ms\n",
      "Speed: 6.8ms preprocess, 7.6ms inference, 0.1ms postprocess per image at shape (1, 3, 640, 640)\n",
      "\n",
      "image 1/1 C:\\Users\\User\\Desktop\\1Year\\Term2\\SuperEngi\\1PrepareFinalTest\\test_Image1\\test\\aea50419.jpg: 640x640 1 1.00, 0 0.00, 6.4ms\n",
      "Speed: 7.3ms preprocess, 6.4ms inference, 0.1ms postprocess per image at shape (1, 3, 640, 640)\n"
     ]
    },
    {
     "name": "stderr",
     "output_type": "stream",
     "text": [
      " 67%|██████▋   | 1044/1550 [00:25<00:12, 39.94it/s]"
     ]
    },
    {
     "name": "stdout",
     "output_type": "stream",
     "text": [
      "\n",
      "image 1/1 C:\\Users\\User\\Desktop\\1Year\\Term2\\SuperEngi\\1PrepareFinalTest\\test_Image1\\test\\aea73d4c.jpg: 640x640 1 1.00, 0 0.00, 7.0ms\n",
      "Speed: 8.1ms preprocess, 7.0ms inference, 0.1ms postprocess per image at shape (1, 3, 640, 640)\n",
      "\n",
      "image 1/1 C:\\Users\\User\\Desktop\\1Year\\Term2\\SuperEngi\\1PrepareFinalTest\\test_Image1\\test\\aeee6018.jpg: 640x640 1 1.00, 0 0.00, 6.7ms\n",
      "Speed: 7.8ms preprocess, 6.7ms inference, 0.1ms postprocess per image at shape (1, 3, 640, 640)\n",
      "\n",
      "image 1/1 C:\\Users\\User\\Desktop\\1Year\\Term2\\SuperEngi\\1PrepareFinalTest\\test_Image1\\test\\af1d2c47.jpg: 640x640 1 0.99, 0 0.01, 7.0ms\n",
      "Speed: 7.4ms preprocess, 7.0ms inference, 0.1ms postprocess per image at shape (1, 3, 640, 640)\n",
      "\n",
      "image 1/1 C:\\Users\\User\\Desktop\\1Year\\Term2\\SuperEngi\\1PrepareFinalTest\\test_Image1\\test\\af393f0c.jpg: 640x640 1 1.00, 0 0.00, 6.7ms\n",
      "Speed: 8.4ms preprocess, 6.7ms inference, 0.1ms postprocess per image at shape (1, 3, 640, 640)\n",
      "\n",
      "image 1/1 C:\\Users\\User\\Desktop\\1Year\\Term2\\SuperEngi\\1PrepareFinalTest\\test_Image1\\test\\af3c50f6.jpg: 640x640 0 1.00, 1 0.00, 6.7ms\n",
      "Speed: 7.9ms preprocess, 6.7ms inference, 0.1ms postprocess per image at shape (1, 3, 640, 640)\n"
     ]
    },
    {
     "name": "stderr",
     "output_type": "stream",
     "text": [
      " 68%|██████▊   | 1049/1550 [00:25<00:12, 40.83it/s]"
     ]
    },
    {
     "name": "stdout",
     "output_type": "stream",
     "text": [
      "\n",
      "image 1/1 C:\\Users\\User\\Desktop\\1Year\\Term2\\SuperEngi\\1PrepareFinalTest\\test_Image1\\test\\af5cdbe2.jpg: 640x640 1 1.00, 0 0.00, 7.1ms\n",
      "Speed: 12.3ms preprocess, 7.1ms inference, 0.0ms postprocess per image at shape (1, 3, 640, 640)\n",
      "\n",
      "image 1/1 C:\\Users\\User\\Desktop\\1Year\\Term2\\SuperEngi\\1PrepareFinalTest\\test_Image1\\test\\af72bace.jpg: 640x640 0 1.00, 1 0.00, 7.2ms\n",
      "Speed: 8.2ms preprocess, 7.2ms inference, 0.1ms postprocess per image at shape (1, 3, 640, 640)\n",
      "\n",
      "image 1/1 C:\\Users\\User\\Desktop\\1Year\\Term2\\SuperEngi\\1PrepareFinalTest\\test_Image1\\test\\afab7a60.jpg: 640x640 0 1.00, 1 0.00, 7.6ms\n",
      "Speed: 7.6ms preprocess, 7.6ms inference, 0.1ms postprocess per image at shape (1, 3, 640, 640)\n",
      "\n",
      "image 1/1 C:\\Users\\User\\Desktop\\1Year\\Term2\\SuperEngi\\1PrepareFinalTest\\test_Image1\\test\\afe3bb15.jpg: 640x640 1 0.90, 0 0.10, 6.7ms\n",
      "Speed: 7.3ms preprocess, 6.7ms inference, 0.0ms postprocess per image at shape (1, 3, 640, 640)\n",
      "\n",
      "image 1/1 C:\\Users\\User\\Desktop\\1Year\\Term2\\SuperEngi\\1PrepareFinalTest\\test_Image1\\test\\afeb1f4a.jpg: 640x640 0 1.00, 1 0.00, 6.7ms\n",
      "Speed: 7.8ms preprocess, 6.7ms inference, 0.1ms postprocess per image at shape (1, 3, 640, 640)\n"
     ]
    },
    {
     "name": "stderr",
     "output_type": "stream",
     "text": [
      " 68%|██████▊   | 1054/1550 [00:26<00:12, 40.74it/s]"
     ]
    },
    {
     "name": "stdout",
     "output_type": "stream",
     "text": [
      "\n",
      "image 1/1 C:\\Users\\User\\Desktop\\1Year\\Term2\\SuperEngi\\1PrepareFinalTest\\test_Image1\\test\\b002487d.jpg: 640x640 0 0.77, 1 0.23, 7.2ms\n",
      "Speed: 8.8ms preprocess, 7.2ms inference, 0.1ms postprocess per image at shape (1, 3, 640, 640)\n",
      "\n",
      "image 1/1 C:\\Users\\User\\Desktop\\1Year\\Term2\\SuperEngi\\1PrepareFinalTest\\test_Image1\\test\\b0428960.jpg: 640x640 1 1.00, 0 0.00, 6.8ms\n",
      "Speed: 7.2ms preprocess, 6.8ms inference, 0.1ms postprocess per image at shape (1, 3, 640, 640)\n",
      "\n",
      "image 1/1 C:\\Users\\User\\Desktop\\1Year\\Term2\\SuperEngi\\1PrepareFinalTest\\test_Image1\\test\\b04e2a06.jpg: 640x640 0 1.00, 1 0.00, 10.2ms\n",
      "Speed: 9.4ms preprocess, 10.2ms inference, 0.1ms postprocess per image at shape (1, 3, 640, 640)\n",
      "\n",
      "image 1/1 C:\\Users\\User\\Desktop\\1Year\\Term2\\SuperEngi\\1PrepareFinalTest\\test_Image1\\test\\b079fd05.jpg: 640x640 1 0.98, 0 0.02, 7.6ms\n",
      "Speed: 9.3ms preprocess, 7.6ms inference, 0.0ms postprocess per image at shape (1, 3, 640, 640)\n",
      "\n",
      "image 1/1 C:\\Users\\User\\Desktop\\1Year\\Term2\\SuperEngi\\1PrepareFinalTest\\test_Image1\\test\\b09ecc46.jpg: 640x640 0 1.00, 1 0.00, 7.0ms\n",
      "Speed: 9.5ms preprocess, 7.0ms inference, 0.1ms postprocess per image at shape (1, 3, 640, 640)\n"
     ]
    },
    {
     "name": "stderr",
     "output_type": "stream",
     "text": [
      " 68%|██████▊   | 1059/1550 [00:26<00:12, 39.49it/s]"
     ]
    },
    {
     "name": "stdout",
     "output_type": "stream",
     "text": [
      "\n",
      "image 1/1 C:\\Users\\User\\Desktop\\1Year\\Term2\\SuperEngi\\1PrepareFinalTest\\test_Image1\\test\\b0b8958e.jpg: 640x640 0 1.00, 1 0.00, 6.9ms\n",
      "Speed: 8.2ms preprocess, 6.9ms inference, 0.1ms postprocess per image at shape (1, 3, 640, 640)\n",
      "\n",
      "image 1/1 C:\\Users\\User\\Desktop\\1Year\\Term2\\SuperEngi\\1PrepareFinalTest\\test_Image1\\test\\b0c149d4.jpg: 640x640 0 1.00, 1 0.00, 7.1ms\n",
      "Speed: 7.6ms preprocess, 7.1ms inference, 0.1ms postprocess per image at shape (1, 3, 640, 640)\n",
      "\n",
      "image 1/1 C:\\Users\\User\\Desktop\\1Year\\Term2\\SuperEngi\\1PrepareFinalTest\\test_Image1\\test\\b0c5d90a.jpg: 640x640 1 1.00, 0 0.00, 6.7ms\n",
      "Speed: 7.2ms preprocess, 6.7ms inference, 0.1ms postprocess per image at shape (1, 3, 640, 640)\n",
      "\n",
      "image 1/1 C:\\Users\\User\\Desktop\\1Year\\Term2\\SuperEngi\\1PrepareFinalTest\\test_Image1\\test\\b0c973c3.jpg: 640x640 0 1.00, 1 0.00, 7.2ms\n",
      "Speed: 9.1ms preprocess, 7.2ms inference, 0.1ms postprocess per image at shape (1, 3, 640, 640)\n",
      "\n",
      "image 1/1 C:\\Users\\User\\Desktop\\1Year\\Term2\\SuperEngi\\1PrepareFinalTest\\test_Image1\\test\\b0cfa983.jpg: 640x640 1 1.00, 0 0.00, 7.0ms\n",
      "Speed: 8.3ms preprocess, 7.0ms inference, 0.1ms postprocess per image at shape (1, 3, 640, 640)\n"
     ]
    },
    {
     "name": "stderr",
     "output_type": "stream",
     "text": [
      " 69%|██████▊   | 1064/1550 [00:26<00:12, 40.00it/s]"
     ]
    },
    {
     "name": "stdout",
     "output_type": "stream",
     "text": [
      "\n",
      "image 1/1 C:\\Users\\User\\Desktop\\1Year\\Term2\\SuperEngi\\1PrepareFinalTest\\test_Image1\\test\\b1027137.jpg: 640x640 1 1.00, 0 0.00, 7.1ms\n",
      "Speed: 8.4ms preprocess, 7.1ms inference, 0.1ms postprocess per image at shape (1, 3, 640, 640)\n",
      "\n",
      "image 1/1 C:\\Users\\User\\Desktop\\1Year\\Term2\\SuperEngi\\1PrepareFinalTest\\test_Image1\\test\\b14a2f05.jpg: 640x640 0 1.00, 1 0.00, 9.5ms\n",
      "Speed: 8.0ms preprocess, 9.5ms inference, 0.1ms postprocess per image at shape (1, 3, 640, 640)\n",
      "\n",
      "image 1/1 C:\\Users\\User\\Desktop\\1Year\\Term2\\SuperEngi\\1PrepareFinalTest\\test_Image1\\test\\b17c8bfe.jpg: 640x640 0 0.99, 1 0.01, 6.8ms\n",
      "Speed: 8.0ms preprocess, 6.8ms inference, 0.1ms postprocess per image at shape (1, 3, 640, 640)\n",
      "\n",
      "image 1/1 C:\\Users\\User\\Desktop\\1Year\\Term2\\SuperEngi\\1PrepareFinalTest\\test_Image1\\test\\b17ced93.jpg: 640x640 0 1.00, 1 0.00, 7.3ms\n",
      "Speed: 7.4ms preprocess, 7.3ms inference, 0.1ms postprocess per image at shape (1, 3, 640, 640)\n",
      "\n",
      "image 1/1 C:\\Users\\User\\Desktop\\1Year\\Term2\\SuperEngi\\1PrepareFinalTest\\test_Image1\\test\\b1aafe51.jpg: 640x640 0 1.00, 1 0.00, 7.1ms\n",
      "Speed: 7.3ms preprocess, 7.1ms inference, 0.2ms postprocess per image at shape (1, 3, 640, 640)\n"
     ]
    },
    {
     "name": "stderr",
     "output_type": "stream",
     "text": [
      " 69%|██████▉   | 1069/1550 [00:26<00:12, 40.05it/s]"
     ]
    },
    {
     "name": "stdout",
     "output_type": "stream",
     "text": [
      "\n",
      "image 1/1 C:\\Users\\User\\Desktop\\1Year\\Term2\\SuperEngi\\1PrepareFinalTest\\test_Image1\\test\\b1b16817.jpg: 640x640 0 1.00, 1 0.00, 9.0ms\n",
      "Speed: 8.7ms preprocess, 9.0ms inference, 0.1ms postprocess per image at shape (1, 3, 640, 640)\n",
      "\n",
      "image 1/1 C:\\Users\\User\\Desktop\\1Year\\Term2\\SuperEngi\\1PrepareFinalTest\\test_Image1\\test\\b1c0df24.jpg: 640x640 1 1.00, 0 0.00, 6.8ms\n",
      "Speed: 7.5ms preprocess, 6.8ms inference, 0.1ms postprocess per image at shape (1, 3, 640, 640)\n",
      "\n",
      "image 1/1 C:\\Users\\User\\Desktop\\1Year\\Term2\\SuperEngi\\1PrepareFinalTest\\test_Image1\\test\\b1c66306.jpg: 640x640 0 1.00, 1 0.00, 7.9ms\n",
      "Speed: 11.8ms preprocess, 7.9ms inference, 0.0ms postprocess per image at shape (1, 3, 640, 640)\n",
      "\n",
      "image 1/1 C:\\Users\\User\\Desktop\\1Year\\Term2\\SuperEngi\\1PrepareFinalTest\\test_Image1\\test\\b1c67ce9.jpg: 640x640 1 1.00, 0 0.00, 6.9ms\n",
      "Speed: 8.5ms preprocess, 6.9ms inference, 0.1ms postprocess per image at shape (1, 3, 640, 640)\n",
      "\n",
      "image 1/1 C:\\Users\\User\\Desktop\\1Year\\Term2\\SuperEngi\\1PrepareFinalTest\\test_Image1\\test\\b21aaede.jpg: 640x640 0 1.00, 1 0.00, 7.0ms\n",
      "Speed: 7.6ms preprocess, 7.0ms inference, 0.0ms postprocess per image at shape (1, 3, 640, 640)\n"
     ]
    },
    {
     "name": "stderr",
     "output_type": "stream",
     "text": [
      " 69%|██████▉   | 1074/1550 [00:26<00:12, 38.83it/s]"
     ]
    },
    {
     "name": "stdout",
     "output_type": "stream",
     "text": [
      "\n",
      "image 1/1 C:\\Users\\User\\Desktop\\1Year\\Term2\\SuperEngi\\1PrepareFinalTest\\test_Image1\\test\\b233ede2.jpg: 640x640 0 1.00, 1 0.00, 7.0ms\n",
      "Speed: 8.0ms preprocess, 7.0ms inference, 0.1ms postprocess per image at shape (1, 3, 640, 640)\n",
      "\n",
      "image 1/1 C:\\Users\\User\\Desktop\\1Year\\Term2\\SuperEngi\\1PrepareFinalTest\\test_Image1\\test\\b26f3fa8.jpg: 640x640 1 1.00, 0 0.00, 8.4ms\n",
      "Speed: 7.4ms preprocess, 8.4ms inference, 0.1ms postprocess per image at shape (1, 3, 640, 640)\n",
      "\n",
      "image 1/1 C:\\Users\\User\\Desktop\\1Year\\Term2\\SuperEngi\\1PrepareFinalTest\\test_Image1\\test\\b2864a5f.jpg: 640x640 0 1.00, 1 0.00, 6.7ms\n",
      "Speed: 7.4ms preprocess, 6.7ms inference, 0.1ms postprocess per image at shape (1, 3, 640, 640)\n",
      "\n",
      "image 1/1 C:\\Users\\User\\Desktop\\1Year\\Term2\\SuperEngi\\1PrepareFinalTest\\test_Image1\\test\\b38a84f6.jpg: 640x640 1 0.98, 0 0.02, 7.0ms\n",
      "Speed: 8.0ms preprocess, 7.0ms inference, 0.1ms postprocess per image at shape (1, 3, 640, 640)\n",
      "\n",
      "image 1/1 C:\\Users\\User\\Desktop\\1Year\\Term2\\SuperEngi\\1PrepareFinalTest\\test_Image1\\test\\b3b9a47b.jpg: 640x640 0 1.00, 1 0.00, 7.0ms\n",
      "Speed: 7.7ms preprocess, 7.0ms inference, 0.0ms postprocess per image at shape (1, 3, 640, 640)\n"
     ]
    },
    {
     "name": "stderr",
     "output_type": "stream",
     "text": [
      " 70%|██████▉   | 1079/1550 [00:26<00:11, 39.80it/s]"
     ]
    },
    {
     "name": "stdout",
     "output_type": "stream",
     "text": [
      "\n",
      "image 1/1 C:\\Users\\User\\Desktop\\1Year\\Term2\\SuperEngi\\1PrepareFinalTest\\test_Image1\\test\\b3df6371.jpg: 640x640 1 1.00, 0 0.00, 7.0ms\n",
      "Speed: 8.6ms preprocess, 7.0ms inference, 0.1ms postprocess per image at shape (1, 3, 640, 640)\n",
      "\n",
      "image 1/1 C:\\Users\\User\\Desktop\\1Year\\Term2\\SuperEngi\\1PrepareFinalTest\\test_Image1\\test\\b3f0f04b.jpg: 640x640 0 0.65, 1 0.35, 7.0ms\n",
      "Speed: 9.7ms preprocess, 7.0ms inference, 0.1ms postprocess per image at shape (1, 3, 640, 640)\n",
      "\n",
      "image 1/1 C:\\Users\\User\\Desktop\\1Year\\Term2\\SuperEngi\\1PrepareFinalTest\\test_Image1\\test\\b41adb8e.jpg: 640x640 1 1.00, 0 0.00, 7.0ms\n",
      "Speed: 8.0ms preprocess, 7.0ms inference, 0.1ms postprocess per image at shape (1, 3, 640, 640)\n",
      "\n",
      "image 1/1 C:\\Users\\User\\Desktop\\1Year\\Term2\\SuperEngi\\1PrepareFinalTest\\test_Image1\\test\\b510aaf0.jpg: 640x640 1 1.00, 0 0.00, 7.2ms\n",
      "Speed: 7.4ms preprocess, 7.2ms inference, 0.1ms postprocess per image at shape (1, 3, 640, 640)\n"
     ]
    },
    {
     "name": "stderr",
     "output_type": "stream",
     "text": [
      " 70%|██████▉   | 1083/1550 [00:26<00:11, 39.59it/s]"
     ]
    },
    {
     "name": "stdout",
     "output_type": "stream",
     "text": [
      "\n",
      "image 1/1 C:\\Users\\User\\Desktop\\1Year\\Term2\\SuperEngi\\1PrepareFinalTest\\test_Image1\\test\\b55338e0.jpg: 640x640 1 1.00, 0 0.00, 6.7ms\n",
      "Speed: 8.0ms preprocess, 6.7ms inference, 0.1ms postprocess per image at shape (1, 3, 640, 640)\n",
      "\n",
      "image 1/1 C:\\Users\\User\\Desktop\\1Year\\Term2\\SuperEngi\\1PrepareFinalTest\\test_Image1\\test\\b55400a2.jpg: 640x640 0 1.00, 1 0.00, 7.4ms\n",
      "Speed: 7.3ms preprocess, 7.4ms inference, 0.0ms postprocess per image at shape (1, 3, 640, 640)\n",
      "\n",
      "image 1/1 C:\\Users\\User\\Desktop\\1Year\\Term2\\SuperEngi\\1PrepareFinalTest\\test_Image1\\test\\b5a13387.jpg: 640x640 0 1.00, 1 0.00, 7.1ms\n",
      "Speed: 7.3ms preprocess, 7.1ms inference, 0.1ms postprocess per image at shape (1, 3, 640, 640)\n",
      "\n",
      "image 1/1 C:\\Users\\User\\Desktop\\1Year\\Term2\\SuperEngi\\1PrepareFinalTest\\test_Image1\\test\\b625bbf8.jpg: 640x640 1 1.00, 0 0.00, 6.4ms\n",
      "Speed: 8.5ms preprocess, 6.4ms inference, 0.0ms postprocess per image at shape (1, 3, 640, 640)\n",
      "\n",
      "image 1/1 C:\\Users\\User\\Desktop\\1Year\\Term2\\SuperEngi\\1PrepareFinalTest\\test_Image1\\test\\b6399423.jpg: 640x640 0 1.00, 1 0.00, 7.0ms\n",
      "Speed: 8.0ms preprocess, 7.0ms inference, 0.0ms postprocess per image at shape (1, 3, 640, 640)\n"
     ]
    },
    {
     "name": "stderr",
     "output_type": "stream",
     "text": [
      " 70%|███████   | 1088/1550 [00:26<00:11, 40.85it/s]"
     ]
    },
    {
     "name": "stdout",
     "output_type": "stream",
     "text": [
      "\n",
      "image 1/1 C:\\Users\\User\\Desktop\\1Year\\Term2\\SuperEngi\\1PrepareFinalTest\\test_Image1\\test\\b6474da2.jpg: 640x640 0 1.00, 1 0.00, 7.1ms\n",
      "Speed: 7.6ms preprocess, 7.1ms inference, 0.1ms postprocess per image at shape (1, 3, 640, 640)\n",
      "\n",
      "image 1/1 C:\\Users\\User\\Desktop\\1Year\\Term2\\SuperEngi\\1PrepareFinalTest\\test_Image1\\test\\b69f38f2.jpg: 640x640 0 1.00, 1 0.00, 7.0ms\n",
      "Speed: 8.4ms preprocess, 7.0ms inference, 0.1ms postprocess per image at shape (1, 3, 640, 640)\n",
      "\n",
      "image 1/1 C:\\Users\\User\\Desktop\\1Year\\Term2\\SuperEngi\\1PrepareFinalTest\\test_Image1\\test\\b6c39fe7.jpg: 640x640 1 0.87, 0 0.13, 6.7ms\n",
      "Speed: 8.1ms preprocess, 6.7ms inference, 0.1ms postprocess per image at shape (1, 3, 640, 640)\n",
      "\n",
      "image 1/1 C:\\Users\\User\\Desktop\\1Year\\Term2\\SuperEngi\\1PrepareFinalTest\\test_Image1\\test\\b6d0e5d0.jpg: 640x640 0 1.00, 1 0.00, 9.8ms\n",
      "Speed: 7.2ms preprocess, 9.8ms inference, 0.1ms postprocess per image at shape (1, 3, 640, 640)\n",
      "\n",
      "image 1/1 C:\\Users\\User\\Desktop\\1Year\\Term2\\SuperEngi\\1PrepareFinalTest\\test_Image1\\test\\b6eee896.jpg: 640x640 0 1.00, 1 0.00, 7.0ms\n",
      "Speed: 8.1ms preprocess, 7.0ms inference, 0.1ms postprocess per image at shape (1, 3, 640, 640)\n"
     ]
    },
    {
     "name": "stderr",
     "output_type": "stream",
     "text": [
      " 71%|███████   | 1093/1550 [00:27<00:11, 41.07it/s]"
     ]
    },
    {
     "name": "stdout",
     "output_type": "stream",
     "text": [
      "\n",
      "image 1/1 C:\\Users\\User\\Desktop\\1Year\\Term2\\SuperEngi\\1PrepareFinalTest\\test_Image1\\test\\b6f685c7.jpg: 640x640 1 0.99, 0 0.01, 6.8ms\n",
      "Speed: 6.9ms preprocess, 6.8ms inference, 0.2ms postprocess per image at shape (1, 3, 640, 640)\n",
      "\n",
      "image 1/1 C:\\Users\\User\\Desktop\\1Year\\Term2\\SuperEngi\\1PrepareFinalTest\\test_Image1\\test\\b70954f3.jpg: 640x640 0 1.00, 1 0.00, 7.0ms\n",
      "Speed: 8.3ms preprocess, 7.0ms inference, 0.1ms postprocess per image at shape (1, 3, 640, 640)\n",
      "\n",
      "image 1/1 C:\\Users\\User\\Desktop\\1Year\\Term2\\SuperEngi\\1PrepareFinalTest\\test_Image1\\test\\b76786bd.jpg: 640x640 0 1.00, 1 0.00, 7.0ms\n",
      "Speed: 8.7ms preprocess, 7.0ms inference, 0.1ms postprocess per image at shape (1, 3, 640, 640)\n",
      "\n",
      "image 1/1 C:\\Users\\User\\Desktop\\1Year\\Term2\\SuperEngi\\1PrepareFinalTest\\test_Image1\\test\\b7a684e3.jpg: 640x640 0 1.00, 1 0.00, 6.5ms\n",
      "Speed: 9.4ms preprocess, 6.5ms inference, 0.0ms postprocess per image at shape (1, 3, 640, 640)\n",
      "\n",
      "image 1/1 C:\\Users\\User\\Desktop\\1Year\\Term2\\SuperEngi\\1PrepareFinalTest\\test_Image1\\test\\b7aeafc6.jpg: 640x640 0 1.00, 1 0.00, 7.1ms\n",
      "Speed: 9.2ms preprocess, 7.1ms inference, 0.1ms postprocess per image at shape (1, 3, 640, 640)\n"
     ]
    },
    {
     "name": "stderr",
     "output_type": "stream",
     "text": [
      " 71%|███████   | 1098/1550 [00:27<00:11, 40.37it/s]"
     ]
    },
    {
     "name": "stdout",
     "output_type": "stream",
     "text": [
      "\n",
      "image 1/1 C:\\Users\\User\\Desktop\\1Year\\Term2\\SuperEngi\\1PrepareFinalTest\\test_Image1\\test\\b8c128fc.jpg: 640x640 0 1.00, 1 0.00, 8.6ms\n",
      "Speed: 7.7ms preprocess, 8.6ms inference, 0.1ms postprocess per image at shape (1, 3, 640, 640)\n",
      "\n",
      "image 1/1 C:\\Users\\User\\Desktop\\1Year\\Term2\\SuperEngi\\1PrepareFinalTest\\test_Image1\\test\\b8f7b417.jpg: 640x640 1 1.00, 0 0.00, 6.9ms\n",
      "Speed: 7.7ms preprocess, 6.9ms inference, 0.1ms postprocess per image at shape (1, 3, 640, 640)\n",
      "\n",
      "image 1/1 C:\\Users\\User\\Desktop\\1Year\\Term2\\SuperEngi\\1PrepareFinalTest\\test_Image1\\test\\b90c1985.jpg: 640x640 0 1.00, 1 0.00, 9.6ms\n",
      "Speed: 7.5ms preprocess, 9.6ms inference, 0.1ms postprocess per image at shape (1, 3, 640, 640)\n",
      "\n",
      "image 1/1 C:\\Users\\User\\Desktop\\1Year\\Term2\\SuperEngi\\1PrepareFinalTest\\test_Image1\\test\\b93b7823.jpg: 640x640 1 0.98, 0 0.02, 6.8ms\n",
      "Speed: 10.4ms preprocess, 6.8ms inference, 0.1ms postprocess per image at shape (1, 3, 640, 640)\n",
      "\n",
      "image 1/1 C:\\Users\\User\\Desktop\\1Year\\Term2\\SuperEngi\\1PrepareFinalTest\\test_Image1\\test\\b95928d0.jpg: 640x640 1 1.00, 0 0.00, 8.7ms\n",
      "Speed: 8.5ms preprocess, 8.7ms inference, 0.1ms postprocess per image at shape (1, 3, 640, 640)\n"
     ]
    },
    {
     "name": "stderr",
     "output_type": "stream",
     "text": [
      " 71%|███████   | 1103/1550 [00:27<00:11, 39.26it/s]"
     ]
    },
    {
     "name": "stdout",
     "output_type": "stream",
     "text": [
      "\n",
      "image 1/1 C:\\Users\\User\\Desktop\\1Year\\Term2\\SuperEngi\\1PrepareFinalTest\\test_Image1\\test\\b95f62ba.jpg: 640x640 1 1.00, 0 0.00, 6.7ms\n",
      "Speed: 8.1ms preprocess, 6.7ms inference, 0.0ms postprocess per image at shape (1, 3, 640, 640)\n",
      "\n",
      "image 1/1 C:\\Users\\User\\Desktop\\1Year\\Term2\\SuperEngi\\1PrepareFinalTest\\test_Image1\\test\\b965e3aa.jpg: 640x640 1 0.99, 0 0.01, 9.6ms\n",
      "Speed: 6.7ms preprocess, 9.6ms inference, 0.1ms postprocess per image at shape (1, 3, 640, 640)\n",
      "\n",
      "image 1/1 C:\\Users\\User\\Desktop\\1Year\\Term2\\SuperEngi\\1PrepareFinalTest\\test_Image1\\test\\b9a97231.jpg: 640x640 1 1.00, 0 0.00, 6.6ms\n",
      "Speed: 6.7ms preprocess, 6.6ms inference, 0.0ms postprocess per image at shape (1, 3, 640, 640)\n",
      "\n",
      "image 1/1 C:\\Users\\User\\Desktop\\1Year\\Term2\\SuperEngi\\1PrepareFinalTest\\test_Image1\\test\\b9db66f8.jpg: 640x640 0 1.00, 1 0.00, 6.6ms\n",
      "Speed: 6.2ms preprocess, 6.6ms inference, 0.0ms postprocess per image at shape (1, 3, 640, 640)\n",
      "\n",
      "image 1/1 C:\\Users\\User\\Desktop\\1Year\\Term2\\SuperEngi\\1PrepareFinalTest\\test_Image1\\test\\ba58e2a0.jpg: 640x640 0 1.00, 1 0.00, 6.7ms\n",
      "Speed: 5.9ms preprocess, 6.7ms inference, 0.0ms postprocess per image at shape (1, 3, 640, 640)\n"
     ]
    },
    {
     "name": "stderr",
     "output_type": "stream",
     "text": [
      " 71%|███████▏  | 1108/1550 [00:27<00:10, 40.90it/s]"
     ]
    },
    {
     "name": "stdout",
     "output_type": "stream",
     "text": [
      "\n",
      "image 1/1 C:\\Users\\User\\Desktop\\1Year\\Term2\\SuperEngi\\1PrepareFinalTest\\test_Image1\\test\\ba962f6b.jpg: 640x640 0 1.00, 1 0.00, 6.3ms\n",
      "Speed: 6.5ms preprocess, 6.3ms inference, 0.0ms postprocess per image at shape (1, 3, 640, 640)\n",
      "\n",
      "image 1/1 C:\\Users\\User\\Desktop\\1Year\\Term2\\SuperEngi\\1PrepareFinalTest\\test_Image1\\test\\bab459be.jpg: 640x640 0 1.00, 1 0.00, 6.6ms\n",
      "Speed: 6.0ms preprocess, 6.6ms inference, 0.0ms postprocess per image at shape (1, 3, 640, 640)\n",
      "\n",
      "image 1/1 C:\\Users\\User\\Desktop\\1Year\\Term2\\SuperEngi\\1PrepareFinalTest\\test_Image1\\test\\bac653b4.jpg: 640x640 0 1.00, 1 0.00, 7.2ms\n",
      "Speed: 6.0ms preprocess, 7.2ms inference, 0.1ms postprocess per image at shape (1, 3, 640, 640)\n",
      "\n",
      "image 1/1 C:\\Users\\User\\Desktop\\1Year\\Term2\\SuperEngi\\1PrepareFinalTest\\test_Image1\\test\\baf16c49.jpg: 640x640 0 0.99, 1 0.01, 7.2ms\n",
      "Speed: 7.0ms preprocess, 7.2ms inference, 0.0ms postprocess per image at shape (1, 3, 640, 640)\n",
      "\n",
      "image 1/1 C:\\Users\\User\\Desktop\\1Year\\Term2\\SuperEngi\\1PrepareFinalTest\\test_Image1\\test\\bb13f35d.jpg: 640x640 0 1.00, 1 0.00, 7.0ms\n",
      "Speed: 6.7ms preprocess, 7.0ms inference, 0.1ms postprocess per image at shape (1, 3, 640, 640)\n"
     ]
    },
    {
     "name": "stderr",
     "output_type": "stream",
     "text": [
      " 72%|███████▏  | 1113/1550 [00:27<00:10, 42.40it/s]"
     ]
    },
    {
     "name": "stdout",
     "output_type": "stream",
     "text": [
      "\n",
      "image 1/1 C:\\Users\\User\\Desktop\\1Year\\Term2\\SuperEngi\\1PrepareFinalTest\\test_Image1\\test\\bb87f203.jpg: 640x640 1 0.64, 0 0.36, 7.3ms\n",
      "Speed: 6.5ms preprocess, 7.3ms inference, 0.0ms postprocess per image at shape (1, 3, 640, 640)\n",
      "\n",
      "image 1/1 C:\\Users\\User\\Desktop\\1Year\\Term2\\SuperEngi\\1PrepareFinalTest\\test_Image1\\test\\bb943f28.jpg: 640x640 0 1.00, 1 0.00, 9.8ms\n",
      "Speed: 8.2ms preprocess, 9.8ms inference, 0.1ms postprocess per image at shape (1, 3, 640, 640)\n",
      "\n",
      "image 1/1 C:\\Users\\User\\Desktop\\1Year\\Term2\\SuperEngi\\1PrepareFinalTest\\test_Image1\\test\\bb9cc8c9.jpg: 640x640 0 1.00, 1 0.00, 8.0ms\n",
      "Speed: 8.8ms preprocess, 8.0ms inference, 0.0ms postprocess per image at shape (1, 3, 640, 640)\n",
      "\n",
      "image 1/1 C:\\Users\\User\\Desktop\\1Year\\Term2\\SuperEngi\\1PrepareFinalTest\\test_Image1\\test\\bbb92d47.jpg: 640x640 0 0.99, 1 0.01, 7.3ms\n",
      "Speed: 8.5ms preprocess, 7.3ms inference, 0.1ms postprocess per image at shape (1, 3, 640, 640)\n",
      "\n",
      "image 1/1 C:\\Users\\User\\Desktop\\1Year\\Term2\\SuperEngi\\1PrepareFinalTest\\test_Image1\\test\\bbda390f.jpg: 640x640 1 0.93, 0 0.07, 9.2ms\n",
      "Speed: 11.1ms preprocess, 9.2ms inference, 0.1ms postprocess per image at shape (1, 3, 640, 640)\n"
     ]
    },
    {
     "name": "stderr",
     "output_type": "stream",
     "text": [
      " 72%|███████▏  | 1118/1550 [00:27<00:10, 41.07it/s]"
     ]
    },
    {
     "name": "stdout",
     "output_type": "stream",
     "text": [
      "\n",
      "image 1/1 C:\\Users\\User\\Desktop\\1Year\\Term2\\SuperEngi\\1PrepareFinalTest\\test_Image1\\test\\bbda60e4.jpg: 640x640 1 1.00, 0 0.00, 9.4ms\n",
      "Speed: 9.8ms preprocess, 9.4ms inference, 0.1ms postprocess per image at shape (1, 3, 640, 640)\n",
      "\n",
      "image 1/1 C:\\Users\\User\\Desktop\\1Year\\Term2\\SuperEngi\\1PrepareFinalTest\\test_Image1\\test\\bc0e5b55.jpg: 640x640 0 0.98, 1 0.02, 11.3ms\n",
      "Speed: 10.0ms preprocess, 11.3ms inference, 0.1ms postprocess per image at shape (1, 3, 640, 640)\n",
      "\n",
      "image 1/1 C:\\Users\\User\\Desktop\\1Year\\Term2\\SuperEngi\\1PrepareFinalTest\\test_Image1\\test\\bc12540b.jpg: 640x640 1 1.00, 0 0.00, 8.9ms\n",
      "Speed: 9.2ms preprocess, 8.9ms inference, 0.1ms postprocess per image at shape (1, 3, 640, 640)\n",
      "\n",
      "image 1/1 C:\\Users\\User\\Desktop\\1Year\\Term2\\SuperEngi\\1PrepareFinalTest\\test_Image1\\test\\bc2ed46a.jpg: 640x640 1 1.00, 0 0.00, 9.1ms\n",
      "Speed: 8.4ms preprocess, 9.1ms inference, 0.0ms postprocess per image at shape (1, 3, 640, 640)\n",
      "\n",
      "image 1/1 C:\\Users\\User\\Desktop\\1Year\\Term2\\SuperEngi\\1PrepareFinalTest\\test_Image1\\test\\bc5aae3a.jpg: 640x640 1 1.00, 0 0.00, 9.2ms\n",
      "Speed: 8.7ms preprocess, 9.2ms inference, 0.0ms postprocess per image at shape (1, 3, 640, 640)\n"
     ]
    },
    {
     "name": "stderr",
     "output_type": "stream",
     "text": [
      " 72%|███████▏  | 1123/1550 [00:27<00:10, 39.32it/s]"
     ]
    },
    {
     "name": "stdout",
     "output_type": "stream",
     "text": [
      "\n",
      "image 1/1 C:\\Users\\User\\Desktop\\1Year\\Term2\\SuperEngi\\1PrepareFinalTest\\test_Image1\\test\\bd64800e.jpg: 640x640 0 1.00, 1 0.00, 8.7ms\n",
      "Speed: 7.8ms preprocess, 8.7ms inference, 0.1ms postprocess per image at shape (1, 3, 640, 640)\n",
      "\n",
      "image 1/1 C:\\Users\\User\\Desktop\\1Year\\Term2\\SuperEngi\\1PrepareFinalTest\\test_Image1\\test\\bdf217f5.jpg: 640x640 1 1.00, 0 0.00, 8.9ms\n",
      "Speed: 7.9ms preprocess, 8.9ms inference, 0.0ms postprocess per image at shape (1, 3, 640, 640)\n",
      "\n",
      "image 1/1 C:\\Users\\User\\Desktop\\1Year\\Term2\\SuperEngi\\1PrepareFinalTest\\test_Image1\\test\\be593352.jpg: 640x640 1 1.00, 0 0.00, 9.0ms\n",
      "Speed: 7.3ms preprocess, 9.0ms inference, 0.0ms postprocess per image at shape (1, 3, 640, 640)\n",
      "\n",
      "image 1/1 C:\\Users\\User\\Desktop\\1Year\\Term2\\SuperEngi\\1PrepareFinalTest\\test_Image1\\test\\be60a90d.jpg: 640x640 0 1.00, 1 0.00, 6.9ms\n",
      "Speed: 6.1ms preprocess, 6.9ms inference, 0.1ms postprocess per image at shape (1, 3, 640, 640)\n",
      "\n",
      "image 1/1 C:\\Users\\User\\Desktop\\1Year\\Term2\\SuperEngi\\1PrepareFinalTest\\test_Image1\\test\\be6b83c5.jpg: 640x640 1 1.00, 0 0.00, 7.2ms\n",
      "Speed: 6.9ms preprocess, 7.2ms inference, 0.1ms postprocess per image at shape (1, 3, 640, 640)\n"
     ]
    },
    {
     "name": "stderr",
     "output_type": "stream",
     "text": [
      " 73%|███████▎  | 1128/1550 [00:27<00:10, 40.38it/s]"
     ]
    },
    {
     "name": "stdout",
     "output_type": "stream",
     "text": [
      "\n",
      "image 1/1 C:\\Users\\User\\Desktop\\1Year\\Term2\\SuperEngi\\1PrepareFinalTest\\test_Image1\\test\\beac498c.jpg: 640x640 0 0.99, 1 0.01, 6.8ms\n",
      "Speed: 6.9ms preprocess, 6.8ms inference, 0.1ms postprocess per image at shape (1, 3, 640, 640)\n",
      "\n",
      "image 1/1 C:\\Users\\User\\Desktop\\1Year\\Term2\\SuperEngi\\1PrepareFinalTest\\test_Image1\\test\\beb7d70b.jpg: 640x640 0 1.00, 1 0.00, 6.8ms\n",
      "Speed: 7.5ms preprocess, 6.8ms inference, 0.0ms postprocess per image at shape (1, 3, 640, 640)\n",
      "\n",
      "image 1/1 C:\\Users\\User\\Desktop\\1Year\\Term2\\SuperEngi\\1PrepareFinalTest\\test_Image1\\test\\bec1ce70.jpg: 640x640 0 1.00, 1 0.00, 6.7ms\n",
      "Speed: 6.5ms preprocess, 6.7ms inference, 0.0ms postprocess per image at shape (1, 3, 640, 640)\n",
      "\n",
      "image 1/1 C:\\Users\\User\\Desktop\\1Year\\Term2\\SuperEngi\\1PrepareFinalTest\\test_Image1\\test\\beefc26e.jpg: 640x640 1 1.00, 0 0.00, 6.5ms\n",
      "Speed: 6.5ms preprocess, 6.5ms inference, 0.0ms postprocess per image at shape (1, 3, 640, 640)\n",
      "\n",
      "image 1/1 C:\\Users\\User\\Desktop\\1Year\\Term2\\SuperEngi\\1PrepareFinalTest\\test_Image1\\test\\befe8c5c.jpg: 640x640 0 1.00, 1 0.00, 6.7ms\n",
      "Speed: 6.2ms preprocess, 6.7ms inference, 0.0ms postprocess per image at shape (1, 3, 640, 640)\n"
     ]
    },
    {
     "name": "stderr",
     "output_type": "stream",
     "text": [
      " 73%|███████▎  | 1133/1550 [00:28<00:09, 42.54it/s]"
     ]
    },
    {
     "name": "stdout",
     "output_type": "stream",
     "text": [
      "\n",
      "image 1/1 C:\\Users\\User\\Desktop\\1Year\\Term2\\SuperEngi\\1PrepareFinalTest\\test_Image1\\test\\bf17d933.jpg: 640x640 0 1.00, 1 0.00, 7.1ms\n",
      "Speed: 6.7ms preprocess, 7.1ms inference, 0.1ms postprocess per image at shape (1, 3, 640, 640)\n",
      "\n",
      "image 1/1 C:\\Users\\User\\Desktop\\1Year\\Term2\\SuperEngi\\1PrepareFinalTest\\test_Image1\\test\\bfaf7b24.jpg: 640x640 1 1.00, 0 0.00, 6.9ms\n",
      "Speed: 6.5ms preprocess, 6.9ms inference, 0.0ms postprocess per image at shape (1, 3, 640, 640)\n",
      "\n",
      "image 1/1 C:\\Users\\User\\Desktop\\1Year\\Term2\\SuperEngi\\1PrepareFinalTest\\test_Image1\\test\\c055fbb7.jpg: 640x640 0 1.00, 1 0.00, 6.6ms\n",
      "Speed: 6.2ms preprocess, 6.6ms inference, 0.1ms postprocess per image at shape (1, 3, 640, 640)\n",
      "\n",
      "image 1/1 C:\\Users\\User\\Desktop\\1Year\\Term2\\SuperEngi\\1PrepareFinalTest\\test_Image1\\test\\c0691d58.jpg: 640x640 1 1.00, 0 0.00, 6.7ms\n",
      "Speed: 5.8ms preprocess, 6.7ms inference, 0.0ms postprocess per image at shape (1, 3, 640, 640)\n",
      "\n",
      "image 1/1 C:\\Users\\User\\Desktop\\1Year\\Term2\\SuperEngi\\1PrepareFinalTest\\test_Image1\\test\\c099a9a0.jpg: 640x640 0 1.00, 1 0.00, 6.3ms\n",
      "Speed: 6.0ms preprocess, 6.3ms inference, 0.0ms postprocess per image at shape (1, 3, 640, 640)\n"
     ]
    },
    {
     "name": "stderr",
     "output_type": "stream",
     "text": [
      " 73%|███████▎  | 1138/1550 [00:28<00:09, 44.38it/s]"
     ]
    },
    {
     "name": "stdout",
     "output_type": "stream",
     "text": [
      "\n",
      "image 1/1 C:\\Users\\User\\Desktop\\1Year\\Term2\\SuperEngi\\1PrepareFinalTest\\test_Image1\\test\\c0f23990.jpg: 640x640 0 1.00, 1 0.00, 6.5ms\n",
      "Speed: 5.6ms preprocess, 6.5ms inference, 0.0ms postprocess per image at shape (1, 3, 640, 640)\n",
      "\n",
      "image 1/1 C:\\Users\\User\\Desktop\\1Year\\Term2\\SuperEngi\\1PrepareFinalTest\\test_Image1\\test\\c1284296.jpg: 640x640 1 0.80, 0 0.20, 6.6ms\n",
      "Speed: 6.0ms preprocess, 6.6ms inference, 0.0ms postprocess per image at shape (1, 3, 640, 640)\n",
      "\n",
      "image 1/1 C:\\Users\\User\\Desktop\\1Year\\Term2\\SuperEngi\\1PrepareFinalTest\\test_Image1\\test\\c181d1ec.jpg: 640x640 0 1.00, 1 0.00, 6.4ms\n",
      "Speed: 5.9ms preprocess, 6.4ms inference, 0.0ms postprocess per image at shape (1, 3, 640, 640)\n",
      "\n",
      "image 1/1 C:\\Users\\User\\Desktop\\1Year\\Term2\\SuperEngi\\1PrepareFinalTest\\test_Image1\\test\\c195428b.jpg: 640x640 1 0.99, 0 0.01, 6.3ms\n",
      "Speed: 6.0ms preprocess, 6.3ms inference, 0.1ms postprocess per image at shape (1, 3, 640, 640)\n",
      "\n",
      "image 1/1 C:\\Users\\User\\Desktop\\1Year\\Term2\\SuperEngi\\1PrepareFinalTest\\test_Image1\\test\\c1bfc81f.jpg: 640x640 0 0.98, 1 0.02, 6.9ms\n",
      "Speed: 6.0ms preprocess, 6.9ms inference, 0.1ms postprocess per image at shape (1, 3, 640, 640)\n",
      "\n",
      "image 1/1 C:\\Users\\User\\Desktop\\1Year\\Term2\\SuperEngi\\1PrepareFinalTest\\test_Image1\\test\\c1e03c85.jpg: 640x640 0 1.00, 1 0.00, 6.3ms\n",
      "Speed: 6.9ms preprocess, 6.3ms inference, 0.0ms postprocess per image at shape (1, 3, 640, 640)\n"
     ]
    },
    {
     "name": "stderr",
     "output_type": "stream",
     "text": [
      " 74%|███████▍  | 1144/1550 [00:28<00:08, 46.61it/s]"
     ]
    },
    {
     "name": "stdout",
     "output_type": "stream",
     "text": [
      "\n",
      "image 1/1 C:\\Users\\User\\Desktop\\1Year\\Term2\\SuperEngi\\1PrepareFinalTest\\test_Image1\\test\\c1eb81b4.jpg: 640x640 0 1.00, 1 0.00, 6.5ms\n",
      "Speed: 6.5ms preprocess, 6.5ms inference, 0.0ms postprocess per image at shape (1, 3, 640, 640)\n",
      "\n",
      "image 1/1 C:\\Users\\User\\Desktop\\1Year\\Term2\\SuperEngi\\1PrepareFinalTest\\test_Image1\\test\\c1f7b4f6.jpg: 640x640 1 1.00, 0 0.00, 6.2ms\n",
      "Speed: 6.4ms preprocess, 6.2ms inference, 0.1ms postprocess per image at shape (1, 3, 640, 640)\n",
      "\n",
      "image 1/1 C:\\Users\\User\\Desktop\\1Year\\Term2\\SuperEngi\\1PrepareFinalTest\\test_Image1\\test\\c2064729.jpg: 640x640 1 1.00, 0 0.00, 6.6ms\n",
      "Speed: 6.1ms preprocess, 6.6ms inference, 0.1ms postprocess per image at shape (1, 3, 640, 640)\n",
      "\n",
      "image 1/1 C:\\Users\\User\\Desktop\\1Year\\Term2\\SuperEngi\\1PrepareFinalTest\\test_Image1\\test\\c2269bf0.jpg: 640x640 0 1.00, 1 0.00, 6.6ms\n",
      "Speed: 6.1ms preprocess, 6.6ms inference, 0.0ms postprocess per image at shape (1, 3, 640, 640)\n",
      "\n",
      "image 1/1 C:\\Users\\User\\Desktop\\1Year\\Term2\\SuperEngi\\1PrepareFinalTest\\test_Image1\\test\\c24fd556.jpg: 640x640 0 1.00, 1 0.00, 6.5ms\n",
      "Speed: 7.1ms preprocess, 6.5ms inference, 0.1ms postprocess per image at shape (1, 3, 640, 640)\n"
     ]
    },
    {
     "name": "stderr",
     "output_type": "stream",
     "text": [
      " 74%|███████▍  | 1149/1550 [00:28<00:08, 47.38it/s]"
     ]
    },
    {
     "name": "stdout",
     "output_type": "stream",
     "text": [
      "\n",
      "image 1/1 C:\\Users\\User\\Desktop\\1Year\\Term2\\SuperEngi\\1PrepareFinalTest\\test_Image1\\test\\c25c7fbf.jpg: 640x640 0 1.00, 1 0.00, 8.3ms\n",
      "Speed: 6.1ms preprocess, 8.3ms inference, 0.1ms postprocess per image at shape (1, 3, 640, 640)\n",
      "\n",
      "image 1/1 C:\\Users\\User\\Desktop\\1Year\\Term2\\SuperEngi\\1PrepareFinalTest\\test_Image1\\test\\c2827204.jpg: 640x640 0 1.00, 1 0.00, 7.5ms\n",
      "Speed: 9.7ms preprocess, 7.5ms inference, 0.1ms postprocess per image at shape (1, 3, 640, 640)\n",
      "\n",
      "image 1/1 C:\\Users\\User\\Desktop\\1Year\\Term2\\SuperEngi\\1PrepareFinalTest\\test_Image1\\test\\c2ccbdad.jpg: 640x640 1 0.99, 0 0.01, 6.2ms\n",
      "Speed: 7.4ms preprocess, 6.2ms inference, 0.0ms postprocess per image at shape (1, 3, 640, 640)\n",
      "\n",
      "image 1/1 C:\\Users\\User\\Desktop\\1Year\\Term2\\SuperEngi\\1PrepareFinalTest\\test_Image1\\test\\c2d3de3c.jpg: 640x640 1 0.77, 0 0.23, 6.4ms\n",
      "Speed: 7.0ms preprocess, 6.4ms inference, 0.0ms postprocess per image at shape (1, 3, 640, 640)\n",
      "\n",
      "image 1/1 C:\\Users\\User\\Desktop\\1Year\\Term2\\SuperEngi\\1PrepareFinalTest\\test_Image1\\test\\c2ee6643.jpg: 640x640 1 1.00, 0 0.00, 6.4ms\n",
      "Speed: 7.0ms preprocess, 6.4ms inference, 0.0ms postprocess per image at shape (1, 3, 640, 640)\n"
     ]
    },
    {
     "name": "stderr",
     "output_type": "stream",
     "text": [
      " 74%|███████▍  | 1154/1550 [00:28<00:08, 46.08it/s]"
     ]
    },
    {
     "name": "stdout",
     "output_type": "stream",
     "text": [
      "\n",
      "image 1/1 C:\\Users\\User\\Desktop\\1Year\\Term2\\SuperEngi\\1PrepareFinalTest\\test_Image1\\test\\c336ce30.jpg: 640x640 1 1.00, 0 0.00, 6.4ms\n",
      "Speed: 7.3ms preprocess, 6.4ms inference, 0.0ms postprocess per image at shape (1, 3, 640, 640)\n",
      "\n",
      "image 1/1 C:\\Users\\User\\Desktop\\1Year\\Term2\\SuperEngi\\1PrepareFinalTest\\test_Image1\\test\\c33c19b1.jpg: 640x640 0 1.00, 1 0.00, 6.6ms\n",
      "Speed: 6.8ms preprocess, 6.6ms inference, 0.1ms postprocess per image at shape (1, 3, 640, 640)\n",
      "\n",
      "image 1/1 C:\\Users\\User\\Desktop\\1Year\\Term2\\SuperEngi\\1PrepareFinalTest\\test_Image1\\test\\c346950c.jpg: 640x640 1 1.00, 0 0.00, 6.5ms\n",
      "Speed: 6.3ms preprocess, 6.5ms inference, 0.0ms postprocess per image at shape (1, 3, 640, 640)\n",
      "\n",
      "image 1/1 C:\\Users\\User\\Desktop\\1Year\\Term2\\SuperEngi\\1PrepareFinalTest\\test_Image1\\test\\c348b82b.jpg: 640x640 0 1.00, 1 0.00, 6.5ms\n",
      "Speed: 6.0ms preprocess, 6.5ms inference, 0.0ms postprocess per image at shape (1, 3, 640, 640)\n",
      "\n",
      "image 1/1 C:\\Users\\User\\Desktop\\1Year\\Term2\\SuperEngi\\1PrepareFinalTest\\test_Image1\\test\\c358badf.jpg: 640x640 0 1.00, 1 0.00, 6.8ms\n",
      "Speed: 6.2ms preprocess, 6.8ms inference, 0.0ms postprocess per image at shape (1, 3, 640, 640)\n"
     ]
    },
    {
     "name": "stderr",
     "output_type": "stream",
     "text": [
      " 75%|███████▍  | 1159/1550 [00:28<00:08, 47.16it/s]"
     ]
    },
    {
     "name": "stdout",
     "output_type": "stream",
     "text": [
      "\n",
      "image 1/1 C:\\Users\\User\\Desktop\\1Year\\Term2\\SuperEngi\\1PrepareFinalTest\\test_Image1\\test\\c367f6ff.jpg: 640x640 0 1.00, 1 0.00, 6.3ms\n",
      "Speed: 5.8ms preprocess, 6.3ms inference, 0.0ms postprocess per image at shape (1, 3, 640, 640)\n",
      "\n",
      "image 1/1 C:\\Users\\User\\Desktop\\1Year\\Term2\\SuperEngi\\1PrepareFinalTest\\test_Image1\\test\\c3726bb5.jpg: 640x640 0 0.56, 1 0.44, 6.3ms\n",
      "Speed: 6.4ms preprocess, 6.3ms inference, 0.0ms postprocess per image at shape (1, 3, 640, 640)\n",
      "\n",
      "image 1/1 C:\\Users\\User\\Desktop\\1Year\\Term2\\SuperEngi\\1PrepareFinalTest\\test_Image1\\test\\c37dbcf4.jpg: 640x640 0 0.64, 1 0.36, 7.4ms\n",
      "Speed: 5.8ms preprocess, 7.4ms inference, 0.0ms postprocess per image at shape (1, 3, 640, 640)\n",
      "\n",
      "image 1/1 C:\\Users\\User\\Desktop\\1Year\\Term2\\SuperEngi\\1PrepareFinalTest\\test_Image1\\test\\c3ebcae5.jpg: 640x640 0 1.00, 1 0.00, 6.5ms\n",
      "Speed: 5.9ms preprocess, 6.5ms inference, 0.0ms postprocess per image at shape (1, 3, 640, 640)\n",
      "\n",
      "image 1/1 C:\\Users\\User\\Desktop\\1Year\\Term2\\SuperEngi\\1PrepareFinalTest\\test_Image1\\test\\c480551d.jpg: 640x640 1 1.00, 0 0.00, 6.2ms\n",
      "Speed: 6.1ms preprocess, 6.2ms inference, 0.0ms postprocess per image at shape (1, 3, 640, 640)\n"
     ]
    },
    {
     "name": "stderr",
     "output_type": "stream",
     "text": [
      " 75%|███████▌  | 1164/1550 [00:28<00:08, 47.75it/s]"
     ]
    },
    {
     "name": "stdout",
     "output_type": "stream",
     "text": [
      "\n",
      "image 1/1 C:\\Users\\User\\Desktop\\1Year\\Term2\\SuperEngi\\1PrepareFinalTest\\test_Image1\\test\\c4d536d5.jpg: 640x640 1 1.00, 0 0.00, 6.6ms\n",
      "Speed: 6.4ms preprocess, 6.6ms inference, 0.1ms postprocess per image at shape (1, 3, 640, 640)\n",
      "\n",
      "image 1/1 C:\\Users\\User\\Desktop\\1Year\\Term2\\SuperEngi\\1PrepareFinalTest\\test_Image1\\test\\c4e0b2d3.jpg: 640x640 1 1.00, 0 0.00, 6.8ms\n",
      "Speed: 6.3ms preprocess, 6.8ms inference, 0.1ms postprocess per image at shape (1, 3, 640, 640)\n",
      "\n",
      "image 1/1 C:\\Users\\User\\Desktop\\1Year\\Term2\\SuperEngi\\1PrepareFinalTest\\test_Image1\\test\\c4fb5b5c.jpg: 640x640 1 1.00, 0 0.00, 6.6ms\n",
      "Speed: 6.6ms preprocess, 6.6ms inference, 0.0ms postprocess per image at shape (1, 3, 640, 640)\n",
      "\n",
      "image 1/1 C:\\Users\\User\\Desktop\\1Year\\Term2\\SuperEngi\\1PrepareFinalTest\\test_Image1\\test\\c526a97f.jpg: 640x640 1 0.82, 0 0.18, 6.4ms\n",
      "Speed: 6.5ms preprocess, 6.4ms inference, 0.1ms postprocess per image at shape (1, 3, 640, 640)\n",
      "\n",
      "image 1/1 C:\\Users\\User\\Desktop\\1Year\\Term2\\SuperEngi\\1PrepareFinalTest\\test_Image1\\test\\c56de6f6.jpg: 640x640 0 1.00, 1 0.00, 6.3ms\n",
      "Speed: 5.6ms preprocess, 6.3ms inference, 0.0ms postprocess per image at shape (1, 3, 640, 640)\n"
     ]
    },
    {
     "name": "stderr",
     "output_type": "stream",
     "text": [
      " 75%|███████▌  | 1169/1550 [00:28<00:07, 48.18it/s]"
     ]
    },
    {
     "name": "stdout",
     "output_type": "stream",
     "text": [
      "\n",
      "image 1/1 C:\\Users\\User\\Desktop\\1Year\\Term2\\SuperEngi\\1PrepareFinalTest\\test_Image1\\test\\c596c93c.jpg: 640x640 1 1.00, 0 0.00, 6.6ms\n",
      "Speed: 5.7ms preprocess, 6.6ms inference, 0.1ms postprocess per image at shape (1, 3, 640, 640)\n",
      "\n",
      "image 1/1 C:\\Users\\User\\Desktop\\1Year\\Term2\\SuperEngi\\1PrepareFinalTest\\test_Image1\\test\\c59e259c.jpg: 640x640 0 1.00, 1 0.00, 6.9ms\n",
      "Speed: 5.9ms preprocess, 6.9ms inference, 0.0ms postprocess per image at shape (1, 3, 640, 640)\n",
      "\n",
      "image 1/1 C:\\Users\\User\\Desktop\\1Year\\Term2\\SuperEngi\\1PrepareFinalTest\\test_Image1\\test\\c6047c76.jpg: 640x640 0 1.00, 1 0.00, 6.3ms\n",
      "Speed: 7.4ms preprocess, 6.3ms inference, 0.1ms postprocess per image at shape (1, 3, 640, 640)\n",
      "\n",
      "image 1/1 C:\\Users\\User\\Desktop\\1Year\\Term2\\SuperEngi\\1PrepareFinalTest\\test_Image1\\test\\c606c2f6.jpg: 640x640 0 1.00, 1 0.00, 6.4ms\n",
      "Speed: 6.3ms preprocess, 6.4ms inference, 0.1ms postprocess per image at shape (1, 3, 640, 640)\n",
      "\n",
      "image 1/1 C:\\Users\\User\\Desktop\\1Year\\Term2\\SuperEngi\\1PrepareFinalTest\\test_Image1\\test\\c642ef75.jpg: 640x640 0 1.00, 1 0.00, 9.7ms\n",
      "Speed: 12.2ms preprocess, 9.7ms inference, 0.1ms postprocess per image at shape (1, 3, 640, 640)\n"
     ]
    },
    {
     "name": "stderr",
     "output_type": "stream",
     "text": [
      " 76%|███████▌  | 1174/1550 [00:28<00:08, 46.38it/s]"
     ]
    },
    {
     "name": "stdout",
     "output_type": "stream",
     "text": [
      "\n",
      "image 1/1 C:\\Users\\User\\Desktop\\1Year\\Term2\\SuperEngi\\1PrepareFinalTest\\test_Image1\\test\\c64c2fc2.jpg: 640x640 1 1.00, 0 0.00, 6.6ms\n",
      "Speed: 8.4ms preprocess, 6.6ms inference, 0.1ms postprocess per image at shape (1, 3, 640, 640)\n",
      "\n",
      "image 1/1 C:\\Users\\User\\Desktop\\1Year\\Term2\\SuperEngi\\1PrepareFinalTest\\test_Image1\\test\\c6589006.jpg: 640x640 0 1.00, 1 0.00, 6.5ms\n",
      "Speed: 7.4ms preprocess, 6.5ms inference, 0.0ms postprocess per image at shape (1, 3, 640, 640)\n",
      "\n",
      "image 1/1 C:\\Users\\User\\Desktop\\1Year\\Term2\\SuperEngi\\1PrepareFinalTest\\test_Image1\\test\\c6a0e52f.jpg: 640x640 1 1.00, 0 0.00, 6.6ms\n",
      "Speed: 7.2ms preprocess, 6.6ms inference, 0.0ms postprocess per image at shape (1, 3, 640, 640)\n",
      "\n",
      "image 1/1 C:\\Users\\User\\Desktop\\1Year\\Term2\\SuperEngi\\1PrepareFinalTest\\test_Image1\\test\\c6d44ae2.jpg: 640x640 0 1.00, 1 0.00, 6.6ms\n",
      "Speed: 6.8ms preprocess, 6.6ms inference, 0.0ms postprocess per image at shape (1, 3, 640, 640)\n",
      "\n",
      "image 1/1 C:\\Users\\User\\Desktop\\1Year\\Term2\\SuperEngi\\1PrepareFinalTest\\test_Image1\\test\\c6d98a5a.jpg: 640x640 0 0.99, 1 0.01, 6.8ms\n",
      "Speed: 6.7ms preprocess, 6.8ms inference, 0.0ms postprocess per image at shape (1, 3, 640, 640)\n"
     ]
    },
    {
     "name": "stderr",
     "output_type": "stream",
     "text": [
      " 76%|███████▌  | 1179/1550 [00:29<00:07, 46.61it/s]"
     ]
    },
    {
     "name": "stdout",
     "output_type": "stream",
     "text": [
      "\n",
      "image 1/1 C:\\Users\\User\\Desktop\\1Year\\Term2\\SuperEngi\\1PrepareFinalTest\\test_Image1\\test\\c74652c2.jpg: 640x640 0 1.00, 1 0.00, 6.4ms\n",
      "Speed: 6.6ms preprocess, 6.4ms inference, 0.0ms postprocess per image at shape (1, 3, 640, 640)\n",
      "\n",
      "image 1/1 C:\\Users\\User\\Desktop\\1Year\\Term2\\SuperEngi\\1PrepareFinalTest\\test_Image1\\test\\c776a31e.jpg: 640x640 0 1.00, 1 0.00, 6.5ms\n",
      "Speed: 7.4ms preprocess, 6.5ms inference, 0.0ms postprocess per image at shape (1, 3, 640, 640)\n",
      "\n",
      "image 1/1 C:\\Users\\User\\Desktop\\1Year\\Term2\\SuperEngi\\1PrepareFinalTest\\test_Image1\\test\\c7a6635a.jpg: 640x640 0 1.00, 1 0.00, 6.8ms\n",
      "Speed: 6.9ms preprocess, 6.8ms inference, 0.0ms postprocess per image at shape (1, 3, 640, 640)\n",
      "\n",
      "image 1/1 C:\\Users\\User\\Desktop\\1Year\\Term2\\SuperEngi\\1PrepareFinalTest\\test_Image1\\test\\c7ad91c5.jpg: 640x640 0 1.00, 1 0.00, 7.3ms\n",
      "Speed: 6.3ms preprocess, 7.3ms inference, 0.0ms postprocess per image at shape (1, 3, 640, 640)\n",
      "\n",
      "image 1/1 C:\\Users\\User\\Desktop\\1Year\\Term2\\SuperEngi\\1PrepareFinalTest\\test_Image1\\test\\c7b64e77.jpg: 640x640 0 1.00, 1 0.00, 6.5ms\n",
      "Speed: 6.0ms preprocess, 6.5ms inference, 0.0ms postprocess per image at shape (1, 3, 640, 640)\n"
     ]
    },
    {
     "name": "stderr",
     "output_type": "stream",
     "text": [
      " 76%|███████▋  | 1184/1550 [00:29<00:07, 47.12it/s]"
     ]
    },
    {
     "name": "stdout",
     "output_type": "stream",
     "text": [
      "\n",
      "image 1/1 C:\\Users\\User\\Desktop\\1Year\\Term2\\SuperEngi\\1PrepareFinalTest\\test_Image1\\test\\c7d7c486.jpg: 640x640 1 1.00, 0 0.00, 6.6ms\n",
      "Speed: 5.9ms preprocess, 6.6ms inference, 0.0ms postprocess per image at shape (1, 3, 640, 640)\n",
      "\n",
      "image 1/1 C:\\Users\\User\\Desktop\\1Year\\Term2\\SuperEngi\\1PrepareFinalTest\\test_Image1\\test\\c833cd61.jpg: 640x640 0 1.00, 1 0.00, 6.5ms\n",
      "Speed: 6.0ms preprocess, 6.5ms inference, 0.0ms postprocess per image at shape (1, 3, 640, 640)\n",
      "\n",
      "image 1/1 C:\\Users\\User\\Desktop\\1Year\\Term2\\SuperEngi\\1PrepareFinalTest\\test_Image1\\test\\c83bf3b8.jpg: 640x640 1 1.00, 0 0.00, 6.6ms\n",
      "Speed: 6.5ms preprocess, 6.6ms inference, 0.0ms postprocess per image at shape (1, 3, 640, 640)\n",
      "\n",
      "image 1/1 C:\\Users\\User\\Desktop\\1Year\\Term2\\SuperEngi\\1PrepareFinalTest\\test_Image1\\test\\c8448a94.jpg: 640x640 0 1.00, 1 0.00, 6.6ms\n",
      "Speed: 5.9ms preprocess, 6.6ms inference, 0.0ms postprocess per image at shape (1, 3, 640, 640)\n",
      "\n",
      "image 1/1 C:\\Users\\User\\Desktop\\1Year\\Term2\\SuperEngi\\1PrepareFinalTest\\test_Image1\\test\\c85c039f.jpg: 640x640 1 1.00, 0 0.00, 6.8ms\n",
      "Speed: 6.1ms preprocess, 6.8ms inference, 0.0ms postprocess per image at shape (1, 3, 640, 640)\n",
      "\n",
      "image 1/1 C:\\Users\\User\\Desktop\\1Year\\Term2\\SuperEngi\\1PrepareFinalTest\\test_Image1\\test\\c8633b3b.jpg: 640x640 1 1.00, 0 0.00, 6.6ms\n",
      "Speed: 5.7ms preprocess, 6.6ms inference, 0.0ms postprocess per image at shape (1, 3, 640, 640)\n"
     ]
    },
    {
     "name": "stderr",
     "output_type": "stream",
     "text": [
      " 77%|███████▋  | 1190/1550 [00:29<00:07, 48.31it/s]"
     ]
    },
    {
     "name": "stdout",
     "output_type": "stream",
     "text": [
      "\n",
      "image 1/1 C:\\Users\\User\\Desktop\\1Year\\Term2\\SuperEngi\\1PrepareFinalTest\\test_Image1\\test\\c8658c7f.jpg: 640x640 0 1.00, 1 0.00, 6.5ms\n",
      "Speed: 6.4ms preprocess, 6.5ms inference, 0.1ms postprocess per image at shape (1, 3, 640, 640)\n",
      "\n",
      "image 1/1 C:\\Users\\User\\Desktop\\1Year\\Term2\\SuperEngi\\1PrepareFinalTest\\test_Image1\\test\\c87aa242.jpg: 640x640 0 0.87, 1 0.13, 6.5ms\n",
      "Speed: 7.0ms preprocess, 6.5ms inference, 0.1ms postprocess per image at shape (1, 3, 640, 640)\n",
      "\n",
      "image 1/1 C:\\Users\\User\\Desktop\\1Year\\Term2\\SuperEngi\\1PrepareFinalTest\\test_Image1\\test\\c87b2c94.jpg: 640x640 0 1.00, 1 0.00, 6.5ms\n",
      "Speed: 6.5ms preprocess, 6.5ms inference, 0.1ms postprocess per image at shape (1, 3, 640, 640)\n",
      "\n",
      "image 1/1 C:\\Users\\User\\Desktop\\1Year\\Term2\\SuperEngi\\1PrepareFinalTest\\test_Image1\\test\\c8cbf440.jpg: 640x640 1 1.00, 0 0.00, 6.9ms\n",
      "Speed: 13.0ms preprocess, 6.9ms inference, 0.0ms postprocess per image at shape (1, 3, 640, 640)\n",
      "\n",
      "image 1/1 C:\\Users\\User\\Desktop\\1Year\\Term2\\SuperEngi\\1PrepareFinalTest\\test_Image1\\test\\c8fd841f.jpg: 640x640 1 1.00, 0 0.00, 9.2ms\n",
      "Speed: 9.7ms preprocess, 9.2ms inference, 0.0ms postprocess per image at shape (1, 3, 640, 640)\n"
     ]
    },
    {
     "name": "stderr",
     "output_type": "stream",
     "text": [
      " 77%|███████▋  | 1195/1550 [00:29<00:07, 46.04it/s]"
     ]
    },
    {
     "name": "stdout",
     "output_type": "stream",
     "text": [
      "\n",
      "image 1/1 C:\\Users\\User\\Desktop\\1Year\\Term2\\SuperEngi\\1PrepareFinalTest\\test_Image1\\test\\c91f2dde.jpg: 640x640 0 1.00, 1 0.00, 6.5ms\n",
      "Speed: 8.3ms preprocess, 6.5ms inference, 0.1ms postprocess per image at shape (1, 3, 640, 640)\n",
      "\n",
      "image 1/1 C:\\Users\\User\\Desktop\\1Year\\Term2\\SuperEngi\\1PrepareFinalTest\\test_Image1\\test\\c95e1a8a.jpg: 640x640 0 0.94, 1 0.06, 6.4ms\n",
      "Speed: 8.2ms preprocess, 6.4ms inference, 0.0ms postprocess per image at shape (1, 3, 640, 640)\n",
      "\n",
      "image 1/1 C:\\Users\\User\\Desktop\\1Year\\Term2\\SuperEngi\\1PrepareFinalTest\\test_Image1\\test\\c96b78f5.jpg: 640x640 1 0.97, 0 0.03, 6.9ms\n",
      "Speed: 7.7ms preprocess, 6.9ms inference, 0.0ms postprocess per image at shape (1, 3, 640, 640)\n",
      "\n",
      "image 1/1 C:\\Users\\User\\Desktop\\1Year\\Term2\\SuperEngi\\1PrepareFinalTest\\test_Image1\\test\\c9d1a911.jpg: 640x640 0 1.00, 1 0.00, 6.8ms\n",
      "Speed: 7.9ms preprocess, 6.8ms inference, 0.1ms postprocess per image at shape (1, 3, 640, 640)\n",
      "\n",
      "image 1/1 C:\\Users\\User\\Desktop\\1Year\\Term2\\SuperEngi\\1PrepareFinalTest\\test_Image1\\test\\ca32b8c8.jpg: 640x640 0 1.00, 1 0.00, 6.6ms\n",
      "Speed: 7.6ms preprocess, 6.6ms inference, 0.0ms postprocess per image at shape (1, 3, 640, 640)\n"
     ]
    },
    {
     "name": "stderr",
     "output_type": "stream",
     "text": [
      " 77%|███████▋  | 1200/1550 [00:29<00:07, 44.77it/s]"
     ]
    },
    {
     "name": "stdout",
     "output_type": "stream",
     "text": [
      "\n",
      "image 1/1 C:\\Users\\User\\Desktop\\1Year\\Term2\\SuperEngi\\1PrepareFinalTest\\test_Image1\\test\\ca4be818.jpg: 640x640 1 1.00, 0 0.00, 7.7ms\n",
      "Speed: 8.2ms preprocess, 7.7ms inference, 0.1ms postprocess per image at shape (1, 3, 640, 640)\n",
      "\n",
      "image 1/1 C:\\Users\\User\\Desktop\\1Year\\Term2\\SuperEngi\\1PrepareFinalTest\\test_Image1\\test\\ca503ddb.jpg: 640x640 0 1.00, 1 0.00, 6.2ms\n",
      "Speed: 7.6ms preprocess, 6.2ms inference, 0.1ms postprocess per image at shape (1, 3, 640, 640)\n",
      "\n",
      "image 1/1 C:\\Users\\User\\Desktop\\1Year\\Term2\\SuperEngi\\1PrepareFinalTest\\test_Image1\\test\\ca6dd7cf.jpg: 640x640 0 0.95, 1 0.05, 6.8ms\n",
      "Speed: 7.9ms preprocess, 6.8ms inference, 0.0ms postprocess per image at shape (1, 3, 640, 640)\n",
      "\n",
      "image 1/1 C:\\Users\\User\\Desktop\\1Year\\Term2\\SuperEngi\\1PrepareFinalTest\\test_Image1\\test\\ca941aa3.jpg: 640x640 1 0.98, 0 0.02, 6.9ms\n",
      "Speed: 6.6ms preprocess, 6.9ms inference, 0.1ms postprocess per image at shape (1, 3, 640, 640)\n",
      "\n",
      "image 1/1 C:\\Users\\User\\Desktop\\1Year\\Term2\\SuperEngi\\1PrepareFinalTest\\test_Image1\\test\\cac72316.jpg: 640x640 1 1.00, 0 0.00, 7.0ms\n",
      "Speed: 7.8ms preprocess, 7.0ms inference, 0.0ms postprocess per image at shape (1, 3, 640, 640)\n"
     ]
    },
    {
     "name": "stderr",
     "output_type": "stream",
     "text": [
      " 78%|███████▊  | 1205/1550 [00:29<00:07, 44.76it/s]"
     ]
    },
    {
     "name": "stdout",
     "output_type": "stream",
     "text": [
      "\n",
      "image 1/1 C:\\Users\\User\\Desktop\\1Year\\Term2\\SuperEngi\\1PrepareFinalTest\\test_Image1\\test\\cae5ce56.jpg: 640x640 1 1.00, 0 0.00, 6.4ms\n",
      "Speed: 6.6ms preprocess, 6.4ms inference, 0.0ms postprocess per image at shape (1, 3, 640, 640)\n",
      "\n",
      "image 1/1 C:\\Users\\User\\Desktop\\1Year\\Term2\\SuperEngi\\1PrepareFinalTest\\test_Image1\\test\\caf03c44.jpg: 640x640 1 1.00, 0 0.00, 6.6ms\n",
      "Speed: 6.5ms preprocess, 6.6ms inference, 0.0ms postprocess per image at shape (1, 3, 640, 640)\n",
      "\n",
      "image 1/1 C:\\Users\\User\\Desktop\\1Year\\Term2\\SuperEngi\\1PrepareFinalTest\\test_Image1\\test\\caf9eec7.jpg: 640x640 1 0.98, 0 0.02, 6.7ms\n",
      "Speed: 6.2ms preprocess, 6.7ms inference, 0.0ms postprocess per image at shape (1, 3, 640, 640)\n",
      "\n",
      "image 1/1 C:\\Users\\User\\Desktop\\1Year\\Term2\\SuperEngi\\1PrepareFinalTest\\test_Image1\\test\\cb0877d2.jpg: 640x640 0 1.00, 1 0.00, 6.4ms\n",
      "Speed: 6.1ms preprocess, 6.4ms inference, 0.0ms postprocess per image at shape (1, 3, 640, 640)\n",
      "\n",
      "image 1/1 C:\\Users\\User\\Desktop\\1Year\\Term2\\SuperEngi\\1PrepareFinalTest\\test_Image1\\test\\cb41bd82.jpg: 640x640 0 1.00, 1 0.00, 6.6ms\n",
      "Speed: 6.1ms preprocess, 6.6ms inference, 0.0ms postprocess per image at shape (1, 3, 640, 640)\n"
     ]
    },
    {
     "name": "stderr",
     "output_type": "stream",
     "text": [
      " 78%|███████▊  | 1210/1550 [00:29<00:07, 45.99it/s]"
     ]
    },
    {
     "name": "stdout",
     "output_type": "stream",
     "text": [
      "\n",
      "image 1/1 C:\\Users\\User\\Desktop\\1Year\\Term2\\SuperEngi\\1PrepareFinalTest\\test_Image1\\test\\cb508be0.jpg: 640x640 1 1.00, 0 0.00, 6.6ms\n",
      "Speed: 5.5ms preprocess, 6.6ms inference, 0.1ms postprocess per image at shape (1, 3, 640, 640)\n",
      "\n",
      "image 1/1 C:\\Users\\User\\Desktop\\1Year\\Term2\\SuperEngi\\1PrepareFinalTest\\test_Image1\\test\\cba2af51.jpg: 640x640 0 1.00, 1 0.00, 8.5ms\n",
      "Speed: 8.8ms preprocess, 8.5ms inference, 0.1ms postprocess per image at shape (1, 3, 640, 640)\n",
      "\n",
      "image 1/1 C:\\Users\\User\\Desktop\\1Year\\Term2\\SuperEngi\\1PrepareFinalTest\\test_Image1\\test\\cbce8726.jpg: 640x640 0 0.99, 1 0.01, 7.4ms\n",
      "Speed: 8.2ms preprocess, 7.4ms inference, 0.0ms postprocess per image at shape (1, 3, 640, 640)\n",
      "\n",
      "image 1/1 C:\\Users\\User\\Desktop\\1Year\\Term2\\SuperEngi\\1PrepareFinalTest\\test_Image1\\test\\cbdf3524.jpg: 640x640 1 1.00, 0 0.00, 6.8ms\n",
      "Speed: 8.5ms preprocess, 6.8ms inference, 0.1ms postprocess per image at shape (1, 3, 640, 640)\n",
      "\n",
      "image 1/1 C:\\Users\\User\\Desktop\\1Year\\Term2\\SuperEngi\\1PrepareFinalTest\\test_Image1\\test\\cbe2448a.jpg: 640x640 1 0.68, 0 0.32, 6.5ms\n",
      "Speed: 7.2ms preprocess, 6.5ms inference, 0.1ms postprocess per image at shape (1, 3, 640, 640)\n"
     ]
    },
    {
     "name": "stderr",
     "output_type": "stream",
     "text": [
      " 78%|███████▊  | 1215/1550 [00:29<00:07, 44.18it/s]"
     ]
    },
    {
     "name": "stdout",
     "output_type": "stream",
     "text": [
      "\n",
      "image 1/1 C:\\Users\\User\\Desktop\\1Year\\Term2\\SuperEngi\\1PrepareFinalTest\\test_Image1\\test\\cc13f6f4.jpg: 640x640 1 1.00, 0 0.00, 7.3ms\n",
      "Speed: 9.2ms preprocess, 7.3ms inference, 0.0ms postprocess per image at shape (1, 3, 640, 640)\n",
      "\n",
      "image 1/1 C:\\Users\\User\\Desktop\\1Year\\Term2\\SuperEngi\\1PrepareFinalTest\\test_Image1\\test\\cc7ab727.jpg: 640x640 1 1.00, 0 0.00, 6.2ms\n",
      "Speed: 6.7ms preprocess, 6.2ms inference, 0.0ms postprocess per image at shape (1, 3, 640, 640)\n",
      "\n",
      "image 1/1 C:\\Users\\User\\Desktop\\1Year\\Term2\\SuperEngi\\1PrepareFinalTest\\test_Image1\\test\\cc826479.jpg: 640x640 0 0.99, 1 0.01, 6.7ms\n",
      "Speed: 7.6ms preprocess, 6.7ms inference, 0.1ms postprocess per image at shape (1, 3, 640, 640)\n",
      "\n",
      "image 1/1 C:\\Users\\User\\Desktop\\1Year\\Term2\\SuperEngi\\1PrepareFinalTest\\test_Image1\\test\\cc8e914d.jpg: 640x640 0 1.00, 1 0.00, 6.5ms\n",
      "Speed: 7.5ms preprocess, 6.5ms inference, 0.0ms postprocess per image at shape (1, 3, 640, 640)\n",
      "\n",
      "image 1/1 C:\\Users\\User\\Desktop\\1Year\\Term2\\SuperEngi\\1PrepareFinalTest\\test_Image1\\test\\cca5ae46.jpg: 640x640 0 1.00, 1 0.00, 6.5ms\n",
      "Speed: 6.8ms preprocess, 6.5ms inference, 0.0ms postprocess per image at shape (1, 3, 640, 640)\n"
     ]
    },
    {
     "name": "stderr",
     "output_type": "stream",
     "text": [
      " 79%|███████▊  | 1220/1550 [00:29<00:07, 44.16it/s]"
     ]
    },
    {
     "name": "stdout",
     "output_type": "stream",
     "text": [
      "\n",
      "image 1/1 C:\\Users\\User\\Desktop\\1Year\\Term2\\SuperEngi\\1PrepareFinalTest\\test_Image1\\test\\ccc59b72.jpg: 640x640 1 1.00, 0 0.00, 6.8ms\n",
      "Speed: 6.6ms preprocess, 6.8ms inference, 0.0ms postprocess per image at shape (1, 3, 640, 640)\n",
      "\n",
      "image 1/1 C:\\Users\\User\\Desktop\\1Year\\Term2\\SuperEngi\\1PrepareFinalTest\\test_Image1\\test\\ccc87a03.jpg: 640x640 0 0.99, 1 0.01, 6.5ms\n",
      "Speed: 6.5ms preprocess, 6.5ms inference, 0.0ms postprocess per image at shape (1, 3, 640, 640)\n",
      "\n",
      "image 1/1 C:\\Users\\User\\Desktop\\1Year\\Term2\\SuperEngi\\1PrepareFinalTest\\test_Image1\\test\\ccd2b014.jpg: 640x640 1 1.00, 0 0.00, 6.7ms\n",
      "Speed: 6.5ms preprocess, 6.7ms inference, 0.1ms postprocess per image at shape (1, 3, 640, 640)\n",
      "\n",
      "image 1/1 C:\\Users\\User\\Desktop\\1Year\\Term2\\SuperEngi\\1PrepareFinalTest\\test_Image1\\test\\cd6227a6.jpg: 640x640 1 1.00, 0 0.00, 6.5ms\n",
      "Speed: 7.0ms preprocess, 6.5ms inference, 0.0ms postprocess per image at shape (1, 3, 640, 640)\n",
      "\n",
      "image 1/1 C:\\Users\\User\\Desktop\\1Year\\Term2\\SuperEngi\\1PrepareFinalTest\\test_Image1\\test\\cddbcc07.jpg: 640x640 1 1.00, 0 0.00, 6.8ms\n",
      "Speed: 7.0ms preprocess, 6.8ms inference, 0.3ms postprocess per image at shape (1, 3, 640, 640)\n"
     ]
    },
    {
     "name": "stderr",
     "output_type": "stream",
     "text": [
      " 79%|███████▉  | 1225/1550 [00:30<00:07, 45.12it/s]"
     ]
    },
    {
     "name": "stdout",
     "output_type": "stream",
     "text": [
      "\n",
      "image 1/1 C:\\Users\\User\\Desktop\\1Year\\Term2\\SuperEngi\\1PrepareFinalTest\\test_Image1\\test\\cde587dd.jpg: 640x640 1 1.00, 0 0.00, 6.5ms\n",
      "Speed: 7.7ms preprocess, 6.5ms inference, 0.1ms postprocess per image at shape (1, 3, 640, 640)\n",
      "\n",
      "image 1/1 C:\\Users\\User\\Desktop\\1Year\\Term2\\SuperEngi\\1PrepareFinalTest\\test_Image1\\test\\ce27fd73.jpg: 640x640 0 1.00, 1 0.00, 6.5ms\n",
      "Speed: 7.0ms preprocess, 6.5ms inference, 0.0ms postprocess per image at shape (1, 3, 640, 640)\n",
      "\n",
      "image 1/1 C:\\Users\\User\\Desktop\\1Year\\Term2\\SuperEngi\\1PrepareFinalTest\\test_Image1\\test\\ce327b46.jpg: 640x640 0 1.00, 1 0.00, 6.7ms\n",
      "Speed: 7.0ms preprocess, 6.7ms inference, 0.1ms postprocess per image at shape (1, 3, 640, 640)\n",
      "\n",
      "image 1/1 C:\\Users\\User\\Desktop\\1Year\\Term2\\SuperEngi\\1PrepareFinalTest\\test_Image1\\test\\ce937c2f.jpg: 640x640 0 1.00, 1 0.00, 7.6ms\n",
      "Speed: 7.5ms preprocess, 7.6ms inference, 0.2ms postprocess per image at shape (1, 3, 640, 640)\n",
      "\n",
      "image 1/1 C:\\Users\\User\\Desktop\\1Year\\Term2\\SuperEngi\\1PrepareFinalTest\\test_Image1\\test\\cea39bd5.jpg: 640x640 1 1.00, 0 0.00, 6.7ms\n",
      "Speed: 6.6ms preprocess, 6.7ms inference, 0.0ms postprocess per image at shape (1, 3, 640, 640)\n"
     ]
    },
    {
     "name": "stderr",
     "output_type": "stream",
     "text": [
      " 79%|███████▉  | 1230/1550 [00:30<00:07, 44.97it/s]"
     ]
    },
    {
     "name": "stdout",
     "output_type": "stream",
     "text": [
      "\n",
      "image 1/1 C:\\Users\\User\\Desktop\\1Year\\Term2\\SuperEngi\\1PrepareFinalTest\\test_Image1\\test\\cee7a0b2.jpg: 640x640 1 1.00, 0 0.00, 6.9ms\n",
      "Speed: 7.4ms preprocess, 6.9ms inference, 0.1ms postprocess per image at shape (1, 3, 640, 640)\n",
      "\n",
      "image 1/1 C:\\Users\\User\\Desktop\\1Year\\Term2\\SuperEngi\\1PrepareFinalTest\\test_Image1\\test\\cf035aba.jpg: 640x640 1 1.00, 0 0.00, 7.1ms\n",
      "Speed: 10.7ms preprocess, 7.1ms inference, 0.1ms postprocess per image at shape (1, 3, 640, 640)\n",
      "\n",
      "image 1/1 C:\\Users\\User\\Desktop\\1Year\\Term2\\SuperEngi\\1PrepareFinalTest\\test_Image1\\test\\cf65954e.jpg: 640x640 0 1.00, 1 0.00, 6.4ms\n",
      "Speed: 8.9ms preprocess, 6.4ms inference, 0.0ms postprocess per image at shape (1, 3, 640, 640)\n",
      "\n",
      "image 1/1 C:\\Users\\User\\Desktop\\1Year\\Term2\\SuperEngi\\1PrepareFinalTest\\test_Image1\\test\\cf90a416.jpg: 640x640 0 1.00, 1 0.00, 7.0ms\n",
      "Speed: 7.9ms preprocess, 7.0ms inference, 0.1ms postprocess per image at shape (1, 3, 640, 640)\n",
      "\n",
      "image 1/1 C:\\Users\\User\\Desktop\\1Year\\Term2\\SuperEngi\\1PrepareFinalTest\\test_Image1\\test\\cfa90c60.jpg: 640x640 1 1.00, 0 0.00, 7.0ms\n",
      "Speed: 6.8ms preprocess, 7.0ms inference, 0.0ms postprocess per image at shape (1, 3, 640, 640)\n"
     ]
    },
    {
     "name": "stderr",
     "output_type": "stream",
     "text": [
      " 80%|███████▉  | 1235/1550 [00:30<00:07, 43.31it/s]"
     ]
    },
    {
     "name": "stdout",
     "output_type": "stream",
     "text": [
      "\n",
      "image 1/1 C:\\Users\\User\\Desktop\\1Year\\Term2\\SuperEngi\\1PrepareFinalTest\\test_Image1\\test\\d011d8c4.jpg: 640x640 1 1.00, 0 0.00, 6.7ms\n",
      "Speed: 6.5ms preprocess, 6.7ms inference, 0.0ms postprocess per image at shape (1, 3, 640, 640)\n",
      "\n",
      "image 1/1 C:\\Users\\User\\Desktop\\1Year\\Term2\\SuperEngi\\1PrepareFinalTest\\test_Image1\\test\\d0176e1d.jpg: 640x640 0 1.00, 1 0.00, 6.6ms\n",
      "Speed: 6.1ms preprocess, 6.6ms inference, 0.1ms postprocess per image at shape (1, 3, 640, 640)\n",
      "\n",
      "image 1/1 C:\\Users\\User\\Desktop\\1Year\\Term2\\SuperEngi\\1PrepareFinalTest\\test_Image1\\test\\d049139f.jpg: 640x640 1 1.00, 0 0.00, 6.7ms\n",
      "Speed: 6.3ms preprocess, 6.7ms inference, 0.0ms postprocess per image at shape (1, 3, 640, 640)\n",
      "\n",
      "image 1/1 C:\\Users\\User\\Desktop\\1Year\\Term2\\SuperEngi\\1PrepareFinalTest\\test_Image1\\test\\d05f85bb.jpg: 640x640 1 0.99, 0 0.01, 7.0ms\n",
      "Speed: 6.1ms preprocess, 7.0ms inference, 0.0ms postprocess per image at shape (1, 3, 640, 640)\n",
      "\n",
      "image 1/1 C:\\Users\\User\\Desktop\\1Year\\Term2\\SuperEngi\\1PrepareFinalTest\\test_Image1\\test\\d0647635.jpg: 640x640 1 1.00, 0 0.00, 7.0ms\n",
      "Speed: 6.4ms preprocess, 7.0ms inference, 0.1ms postprocess per image at shape (1, 3, 640, 640)\n"
     ]
    },
    {
     "name": "stderr",
     "output_type": "stream",
     "text": [
      " 80%|████████  | 1240/1550 [00:30<00:06, 44.72it/s]"
     ]
    },
    {
     "name": "stdout",
     "output_type": "stream",
     "text": [
      "\n",
      "image 1/1 C:\\Users\\User\\Desktop\\1Year\\Term2\\SuperEngi\\1PrepareFinalTest\\test_Image1\\test\\d0b790b8.jpg: 640x640 1 1.00, 0 0.00, 6.9ms\n",
      "Speed: 7.2ms preprocess, 6.9ms inference, 0.1ms postprocess per image at shape (1, 3, 640, 640)\n",
      "\n",
      "image 1/1 C:\\Users\\User\\Desktop\\1Year\\Term2\\SuperEngi\\1PrepareFinalTest\\test_Image1\\test\\d0c3811c.jpg: 640x640 1 1.00, 0 0.00, 6.8ms\n",
      "Speed: 6.6ms preprocess, 6.8ms inference, 0.0ms postprocess per image at shape (1, 3, 640, 640)\n",
      "\n",
      "image 1/1 C:\\Users\\User\\Desktop\\1Year\\Term2\\SuperEngi\\1PrepareFinalTest\\test_Image1\\test\\d0e41ccf.jpg: 640x640 1 1.00, 0 0.00, 7.7ms\n",
      "Speed: 8.0ms preprocess, 7.7ms inference, 0.0ms postprocess per image at shape (1, 3, 640, 640)\n",
      "\n",
      "image 1/1 C:\\Users\\User\\Desktop\\1Year\\Term2\\SuperEngi\\1PrepareFinalTest\\test_Image1\\test\\d0f7b2f9.jpg: 640x640 1 1.00, 0 0.00, 6.5ms\n",
      "Speed: 7.3ms preprocess, 6.5ms inference, 0.0ms postprocess per image at shape (1, 3, 640, 640)\n",
      "\n",
      "image 1/1 C:\\Users\\User\\Desktop\\1Year\\Term2\\SuperEngi\\1PrepareFinalTest\\test_Image1\\test\\d0f88734.jpg: 640x640 1 1.00, 0 0.00, 6.8ms\n",
      "Speed: 6.6ms preprocess, 6.8ms inference, 0.0ms postprocess per image at shape (1, 3, 640, 640)\n"
     ]
    },
    {
     "name": "stderr",
     "output_type": "stream",
     "text": [
      " 80%|████████  | 1245/1550 [00:30<00:06, 44.88it/s]"
     ]
    },
    {
     "name": "stdout",
     "output_type": "stream",
     "text": [
      "\n",
      "image 1/1 C:\\Users\\User\\Desktop\\1Year\\Term2\\SuperEngi\\1PrepareFinalTest\\test_Image1\\test\\d11bcf44.jpg: 640x640 1 1.00, 0 0.00, 7.1ms\n",
      "Speed: 6.2ms preprocess, 7.1ms inference, 0.2ms postprocess per image at shape (1, 3, 640, 640)\n",
      "\n",
      "image 1/1 C:\\Users\\User\\Desktop\\1Year\\Term2\\SuperEngi\\1PrepareFinalTest\\test_Image1\\test\\d1777610.jpg: 640x640 0 1.00, 1 0.00, 6.7ms\n",
      "Speed: 5.8ms preprocess, 6.7ms inference, 0.0ms postprocess per image at shape (1, 3, 640, 640)\n",
      "\n",
      "image 1/1 C:\\Users\\User\\Desktop\\1Year\\Term2\\SuperEngi\\1PrepareFinalTest\\test_Image1\\test\\d17a09eb.jpg: 640x640 0 1.00, 1 0.00, 6.7ms\n",
      "Speed: 5.5ms preprocess, 6.7ms inference, 0.0ms postprocess per image at shape (1, 3, 640, 640)\n",
      "\n",
      "image 1/1 C:\\Users\\User\\Desktop\\1Year\\Term2\\SuperEngi\\1PrepareFinalTest\\test_Image1\\test\\d18836ca.jpg: 640x640 1 1.00, 0 0.00, 7.0ms\n",
      "Speed: 6.1ms preprocess, 7.0ms inference, 0.0ms postprocess per image at shape (1, 3, 640, 640)\n",
      "\n",
      "image 1/1 C:\\Users\\User\\Desktop\\1Year\\Term2\\SuperEngi\\1PrepareFinalTest\\test_Image1\\test\\d19b4740.jpg: 640x640 1 1.00, 0 0.00, 6.7ms\n",
      "Speed: 5.7ms preprocess, 6.7ms inference, 0.0ms postprocess per image at shape (1, 3, 640, 640)\n",
      "\n",
      "image 1/1 C:\\Users\\User\\Desktop\\1Year\\Term2\\SuperEngi\\1PrepareFinalTest\\test_Image1\\test\\d1b21893.jpg: 640x640 1 1.00, 0 0.00, 6.9ms\n",
      "Speed: 6.2ms preprocess, 6.9ms inference, 0.1ms postprocess per image at shape (1, 3, 640, 640)\n"
     ]
    },
    {
     "name": "stderr",
     "output_type": "stream",
     "text": [
      " 81%|████████  | 1251/1550 [00:30<00:06, 46.64it/s]"
     ]
    },
    {
     "name": "stdout",
     "output_type": "stream",
     "text": [
      "\n",
      "image 1/1 C:\\Users\\User\\Desktop\\1Year\\Term2\\SuperEngi\\1PrepareFinalTest\\test_Image1\\test\\d1c2658f.jpg: 640x640 0 1.00, 1 0.00, 6.8ms\n",
      "Speed: 5.7ms preprocess, 6.8ms inference, 0.0ms postprocess per image at shape (1, 3, 640, 640)\n",
      "\n",
      "image 1/1 C:\\Users\\User\\Desktop\\1Year\\Term2\\SuperEngi\\1PrepareFinalTest\\test_Image1\\test\\d1d12715.jpg: 640x640 1 1.00, 0 0.00, 6.8ms\n",
      "Speed: 5.9ms preprocess, 6.8ms inference, 0.0ms postprocess per image at shape (1, 3, 640, 640)\n",
      "\n",
      "image 1/1 C:\\Users\\User\\Desktop\\1Year\\Term2\\SuperEngi\\1PrepareFinalTest\\test_Image1\\test\\d1e2bf36.jpg: 640x640 1 1.00, 0 0.00, 6.7ms\n",
      "Speed: 5.9ms preprocess, 6.7ms inference, 0.0ms postprocess per image at shape (1, 3, 640, 640)\n",
      "\n",
      "image 1/1 C:\\Users\\User\\Desktop\\1Year\\Term2\\SuperEngi\\1PrepareFinalTest\\test_Image1\\test\\d1f89f72.jpg: 640x640 1 1.00, 0 0.00, 6.6ms\n",
      "Speed: 5.7ms preprocess, 6.6ms inference, 0.0ms postprocess per image at shape (1, 3, 640, 640)\n",
      "\n",
      "image 1/1 C:\\Users\\User\\Desktop\\1Year\\Term2\\SuperEngi\\1PrepareFinalTest\\test_Image1\\test\\d20acd55.jpg: 640x640 1 1.00, 0 0.00, 6.7ms\n",
      "Speed: 5.8ms preprocess, 6.7ms inference, 0.0ms postprocess per image at shape (1, 3, 640, 640)\n",
      "\n",
      "image 1/1 C:\\Users\\User\\Desktop\\1Year\\Term2\\SuperEngi\\1PrepareFinalTest\\test_Image1\\test\\d24d8e4b.jpg: 640x640 0 0.95, 1 0.05, 6.6ms\n",
      "Speed: 6.3ms preprocess, 6.6ms inference, 0.0ms postprocess per image at shape (1, 3, 640, 640)\n"
     ]
    },
    {
     "name": "stderr",
     "output_type": "stream",
     "text": [
      " 81%|████████  | 1257/1550 [00:30<00:06, 47.81it/s]"
     ]
    },
    {
     "name": "stdout",
     "output_type": "stream",
     "text": [
      "\n",
      "image 1/1 C:\\Users\\User\\Desktop\\1Year\\Term2\\SuperEngi\\1PrepareFinalTest\\test_Image1\\test\\d2971830.jpg: 640x640 0 1.00, 1 0.00, 6.5ms\n",
      "Speed: 6.6ms preprocess, 6.5ms inference, 0.0ms postprocess per image at shape (1, 3, 640, 640)\n",
      "\n",
      "image 1/1 C:\\Users\\User\\Desktop\\1Year\\Term2\\SuperEngi\\1PrepareFinalTest\\test_Image1\\test\\d29a3551.jpg: 640x640 0 0.95, 1 0.05, 6.5ms\n",
      "Speed: 5.7ms preprocess, 6.5ms inference, 0.0ms postprocess per image at shape (1, 3, 640, 640)\n",
      "\n",
      "image 1/1 C:\\Users\\User\\Desktop\\1Year\\Term2\\SuperEngi\\1PrepareFinalTest\\test_Image1\\test\\d2ac9ddf.jpg: 640x640 1 0.75, 0 0.25, 6.6ms\n",
      "Speed: 5.7ms preprocess, 6.6ms inference, 0.0ms postprocess per image at shape (1, 3, 640, 640)\n",
      "\n",
      "image 1/1 C:\\Users\\User\\Desktop\\1Year\\Term2\\SuperEngi\\1PrepareFinalTest\\test_Image1\\test\\d2b0ed0f.jpg: 640x640 0 1.00, 1 0.00, 6.6ms\n",
      "Speed: 6.4ms preprocess, 6.6ms inference, 0.0ms postprocess per image at shape (1, 3, 640, 640)\n",
      "\n",
      "image 1/1 C:\\Users\\User\\Desktop\\1Year\\Term2\\SuperEngi\\1PrepareFinalTest\\test_Image1\\test\\d2c5df8a.jpg: 640x640 1 1.00, 0 0.00, 7.1ms\n",
      "Speed: 5.9ms preprocess, 7.1ms inference, 0.0ms postprocess per image at shape (1, 3, 640, 640)\n",
      "\n",
      "image 1/1 C:\\Users\\User\\Desktop\\1Year\\Term2\\SuperEngi\\1PrepareFinalTest\\test_Image1\\test\\d30d00ed.jpg: 640x640 1 1.00, 0 0.00, 8.0ms\n",
      "Speed: 5.7ms preprocess, 8.0ms inference, 0.0ms postprocess per image at shape (1, 3, 640, 640)\n"
     ]
    },
    {
     "name": "stderr",
     "output_type": "stream",
     "text": [
      " 81%|████████▏ | 1263/1550 [00:30<00:05, 48.58it/s]"
     ]
    },
    {
     "name": "stdout",
     "output_type": "stream",
     "text": [
      "\n",
      "image 1/1 C:\\Users\\User\\Desktop\\1Year\\Term2\\SuperEngi\\1PrepareFinalTest\\test_Image1\\test\\d31b429d.jpg: 640x640 0 0.99, 1 0.01, 6.7ms\n",
      "Speed: 5.7ms preprocess, 6.7ms inference, 0.0ms postprocess per image at shape (1, 3, 640, 640)\n",
      "\n",
      "image 1/1 C:\\Users\\User\\Desktop\\1Year\\Term2\\SuperEngi\\1PrepareFinalTest\\test_Image1\\test\\d33b6c1c.jpg: 640x640 1 1.00, 0 0.00, 7.6ms\n",
      "Speed: 5.9ms preprocess, 7.6ms inference, 0.0ms postprocess per image at shape (1, 3, 640, 640)\n",
      "\n",
      "image 1/1 C:\\Users\\User\\Desktop\\1Year\\Term2\\SuperEngi\\1PrepareFinalTest\\test_Image1\\test\\d3b5ea13.jpg: 640x640 0 1.00, 1 0.00, 7.3ms\n",
      "Speed: 5.8ms preprocess, 7.3ms inference, 0.0ms postprocess per image at shape (1, 3, 640, 640)\n",
      "\n",
      "image 1/1 C:\\Users\\User\\Desktop\\1Year\\Term2\\SuperEngi\\1PrepareFinalTest\\test_Image1\\test\\d3c57931.jpg: 640x640 0 0.99, 1 0.01, 8.2ms\n",
      "Speed: 5.7ms preprocess, 8.2ms inference, 0.0ms postprocess per image at shape (1, 3, 640, 640)\n",
      "\n",
      "image 1/1 C:\\Users\\User\\Desktop\\1Year\\Term2\\SuperEngi\\1PrepareFinalTest\\test_Image1\\test\\d3f19bd2.jpg: 640x640 1 0.94, 0 0.06, 6.6ms\n",
      "Speed: 6.2ms preprocess, 6.6ms inference, 0.0ms postprocess per image at shape (1, 3, 640, 640)\n",
      "\n",
      "image 1/1 C:\\Users\\User\\Desktop\\1Year\\Term2\\SuperEngi\\1PrepareFinalTest\\test_Image1\\test\\d41d2a8b.jpg: 640x640 1 1.00, 0 0.00, 6.2ms\n",
      "Speed: 7.8ms preprocess, 6.2ms inference, 0.0ms postprocess per image at shape (1, 3, 640, 640)\n"
     ]
    },
    {
     "name": "stderr",
     "output_type": "stream",
     "text": [
      " 82%|████████▏ | 1269/1550 [00:30<00:05, 48.90it/s]"
     ]
    },
    {
     "name": "stdout",
     "output_type": "stream",
     "text": [
      "\n",
      "image 1/1 C:\\Users\\User\\Desktop\\1Year\\Term2\\SuperEngi\\1PrepareFinalTest\\test_Image1\\test\\d4663719.jpg: 640x640 1 1.00, 0 0.00, 6.6ms\n",
      "Speed: 6.5ms preprocess, 6.6ms inference, 0.0ms postprocess per image at shape (1, 3, 640, 640)\n",
      "\n",
      "image 1/1 C:\\Users\\User\\Desktop\\1Year\\Term2\\SuperEngi\\1PrepareFinalTest\\test_Image1\\test\\d4a735b7.jpg: 640x640 1 1.00, 0 0.00, 6.4ms\n",
      "Speed: 6.4ms preprocess, 6.4ms inference, 0.0ms postprocess per image at shape (1, 3, 640, 640)\n",
      "\n",
      "image 1/1 C:\\Users\\User\\Desktop\\1Year\\Term2\\SuperEngi\\1PrepareFinalTest\\test_Image1\\test\\d4b16499.jpg: 640x640 0 1.00, 1 0.00, 6.4ms\n",
      "Speed: 6.0ms preprocess, 6.4ms inference, 0.0ms postprocess per image at shape (1, 3, 640, 640)\n",
      "\n",
      "image 1/1 C:\\Users\\User\\Desktop\\1Year\\Term2\\SuperEngi\\1PrepareFinalTest\\test_Image1\\test\\d4b83208.jpg: 640x640 1 1.00, 0 0.00, 6.4ms\n",
      "Speed: 6.9ms preprocess, 6.4ms inference, 0.0ms postprocess per image at shape (1, 3, 640, 640)\n",
      "\n",
      "image 1/1 C:\\Users\\User\\Desktop\\1Year\\Term2\\SuperEngi\\1PrepareFinalTest\\test_Image1\\test\\d4d23a5d.jpg: 640x640 1 1.00, 0 0.00, 6.3ms\n",
      "Speed: 5.7ms preprocess, 6.3ms inference, 0.0ms postprocess per image at shape (1, 3, 640, 640)\n",
      "\n",
      "image 1/1 C:\\Users\\User\\Desktop\\1Year\\Term2\\SuperEngi\\1PrepareFinalTest\\test_Image1\\test\\d4d5efbe.jpg: 640x640 1 1.00, 0 0.00, 6.7ms\n",
      "Speed: 6.0ms preprocess, 6.7ms inference, 0.0ms postprocess per image at shape (1, 3, 640, 640)\n"
     ]
    },
    {
     "name": "stderr",
     "output_type": "stream",
     "text": [
      " 82%|████████▏ | 1275/1550 [00:31<00:05, 49.39it/s]"
     ]
    },
    {
     "name": "stdout",
     "output_type": "stream",
     "text": [
      "\n",
      "image 1/1 C:\\Users\\User\\Desktop\\1Year\\Term2\\SuperEngi\\1PrepareFinalTest\\test_Image1\\test\\d5098447.jpg: 640x640 0 1.00, 1 0.00, 6.4ms\n",
      "Speed: 6.0ms preprocess, 6.4ms inference, 0.0ms postprocess per image at shape (1, 3, 640, 640)\n",
      "\n",
      "image 1/1 C:\\Users\\User\\Desktop\\1Year\\Term2\\SuperEngi\\1PrepareFinalTest\\test_Image1\\test\\d5461e01.jpg: 640x640 1 0.99, 0 0.01, 6.6ms\n",
      "Speed: 6.1ms preprocess, 6.6ms inference, 0.0ms postprocess per image at shape (1, 3, 640, 640)\n",
      "\n",
      "image 1/1 C:\\Users\\User\\Desktop\\1Year\\Term2\\SuperEngi\\1PrepareFinalTest\\test_Image1\\test\\d54b10db.jpg: 640x640 0 1.00, 1 0.00, 6.7ms\n",
      "Speed: 5.6ms preprocess, 6.7ms inference, 0.0ms postprocess per image at shape (1, 3, 640, 640)\n",
      "\n",
      "image 1/1 C:\\Users\\User\\Desktop\\1Year\\Term2\\SuperEngi\\1PrepareFinalTest\\test_Image1\\test\\d54e3433.jpg: 640x640 0 0.97, 1 0.03, 7.9ms\n",
      "Speed: 5.7ms preprocess, 7.9ms inference, 0.0ms postprocess per image at shape (1, 3, 640, 640)\n",
      "\n",
      "image 1/1 C:\\Users\\User\\Desktop\\1Year\\Term2\\SuperEngi\\1PrepareFinalTest\\test_Image1\\test\\d5766643.jpg: 640x640 1 1.00, 0 0.00, 6.9ms\n",
      "Speed: 5.7ms preprocess, 6.9ms inference, 0.1ms postprocess per image at shape (1, 3, 640, 640)\n",
      "\n",
      "image 1/1 C:\\Users\\User\\Desktop\\1Year\\Term2\\SuperEngi\\1PrepareFinalTest\\test_Image1\\test\\d587bf83.jpg: 640x640 1 1.00, 0 0.00, 6.5ms\n",
      "Speed: 5.4ms preprocess, 6.5ms inference, 0.0ms postprocess per image at shape (1, 3, 640, 640)\n"
     ]
    },
    {
     "name": "stderr",
     "output_type": "stream",
     "text": [
      " 83%|████████▎ | 1281/1550 [00:31<00:05, 49.97it/s]"
     ]
    },
    {
     "name": "stdout",
     "output_type": "stream",
     "text": [
      "\n",
      "image 1/1 C:\\Users\\User\\Desktop\\1Year\\Term2\\SuperEngi\\1PrepareFinalTest\\test_Image1\\test\\d5a75c58.jpg: 640x640 1 1.00, 0 0.00, 9.0ms\n",
      "Speed: 5.6ms preprocess, 9.0ms inference, 0.0ms postprocess per image at shape (1, 3, 640, 640)\n",
      "\n",
      "image 1/1 C:\\Users\\User\\Desktop\\1Year\\Term2\\SuperEngi\\1PrepareFinalTest\\test_Image1\\test\\d5e7c454.jpg: 640x640 0 0.76, 1 0.24, 7.3ms\n",
      "Speed: 6.1ms preprocess, 7.3ms inference, 0.0ms postprocess per image at shape (1, 3, 640, 640)\n",
      "\n",
      "image 1/1 C:\\Users\\User\\Desktop\\1Year\\Term2\\SuperEngi\\1PrepareFinalTest\\test_Image1\\test\\d5fc6628.jpg: 640x640 0 1.00, 1 0.00, 6.6ms\n",
      "Speed: 5.5ms preprocess, 6.6ms inference, 0.0ms postprocess per image at shape (1, 3, 640, 640)\n",
      "\n",
      "image 1/1 C:\\Users\\User\\Desktop\\1Year\\Term2\\SuperEngi\\1PrepareFinalTest\\test_Image1\\test\\d60c17a1.jpg: 640x640 0 0.90, 1 0.10, 7.5ms\n",
      "Speed: 5.8ms preprocess, 7.5ms inference, 0.0ms postprocess per image at shape (1, 3, 640, 640)\n",
      "\n",
      "image 1/1 C:\\Users\\User\\Desktop\\1Year\\Term2\\SuperEngi\\1PrepareFinalTest\\test_Image1\\test\\d6207ea6.jpg: 640x640 0 1.00, 1 0.00, 6.4ms\n",
      "Speed: 6.6ms preprocess, 6.4ms inference, 0.0ms postprocess per image at shape (1, 3, 640, 640)\n"
     ]
    },
    {
     "name": "stderr",
     "output_type": "stream",
     "text": [
      " 83%|████████▎ | 1286/1550 [00:31<00:05, 49.76it/s]"
     ]
    },
    {
     "name": "stdout",
     "output_type": "stream",
     "text": [
      "\n",
      "image 1/1 C:\\Users\\User\\Desktop\\1Year\\Term2\\SuperEngi\\1PrepareFinalTest\\test_Image1\\test\\d62ac512.jpg: 640x640 0 1.00, 1 0.00, 7.5ms\n",
      "Speed: 5.8ms preprocess, 7.5ms inference, 0.0ms postprocess per image at shape (1, 3, 640, 640)\n",
      "\n",
      "image 1/1 C:\\Users\\User\\Desktop\\1Year\\Term2\\SuperEngi\\1PrepareFinalTest\\test_Image1\\test\\d664aa29.jpg: 640x640 0 0.98, 1 0.02, 6.5ms\n",
      "Speed: 5.9ms preprocess, 6.5ms inference, 0.0ms postprocess per image at shape (1, 3, 640, 640)\n",
      "\n",
      "image 1/1 C:\\Users\\User\\Desktop\\1Year\\Term2\\SuperEngi\\1PrepareFinalTest\\test_Image1\\test\\d6c951a0.jpg: 640x640 0 0.99, 1 0.01, 6.5ms\n",
      "Speed: 6.4ms preprocess, 6.5ms inference, 0.0ms postprocess per image at shape (1, 3, 640, 640)\n",
      "\n",
      "image 1/1 C:\\Users\\User\\Desktop\\1Year\\Term2\\SuperEngi\\1PrepareFinalTest\\test_Image1\\test\\d6dd6ec9.jpg: 640x640 1 1.00, 0 0.00, 7.4ms\n",
      "Speed: 6.6ms preprocess, 7.4ms inference, 0.1ms postprocess per image at shape (1, 3, 640, 640)\n",
      "\n",
      "image 1/1 C:\\Users\\User\\Desktop\\1Year\\Term2\\SuperEngi\\1PrepareFinalTest\\test_Image1\\test\\d6f7f529.jpg: 640x640 0 0.81, 1 0.19, 7.1ms\n",
      "Speed: 5.6ms preprocess, 7.1ms inference, 0.0ms postprocess per image at shape (1, 3, 640, 640)\n"
     ]
    },
    {
     "name": "stderr",
     "output_type": "stream",
     "text": [
      " 83%|████████▎ | 1291/1550 [00:31<00:05, 49.74it/s]"
     ]
    },
    {
     "name": "stdout",
     "output_type": "stream",
     "text": [
      "\n",
      "image 1/1 C:\\Users\\User\\Desktop\\1Year\\Term2\\SuperEngi\\1PrepareFinalTest\\test_Image1\\test\\d706d008.jpg: 640x640 0 1.00, 1 0.00, 6.2ms\n",
      "Speed: 8.0ms preprocess, 6.2ms inference, 0.0ms postprocess per image at shape (1, 3, 640, 640)\n",
      "\n",
      "image 1/1 C:\\Users\\User\\Desktop\\1Year\\Term2\\SuperEngi\\1PrepareFinalTest\\test_Image1\\test\\d73c28f1.jpg: 640x640 0 1.00, 1 0.00, 6.4ms\n",
      "Speed: 6.2ms preprocess, 6.4ms inference, 0.0ms postprocess per image at shape (1, 3, 640, 640)\n",
      "\n",
      "image 1/1 C:\\Users\\User\\Desktop\\1Year\\Term2\\SuperEngi\\1PrepareFinalTest\\test_Image1\\test\\d7564109.jpg: 640x640 0 1.00, 1 0.00, 6.3ms\n",
      "Speed: 6.4ms preprocess, 6.3ms inference, 0.0ms postprocess per image at shape (1, 3, 640, 640)\n",
      "\n",
      "image 1/1 C:\\Users\\User\\Desktop\\1Year\\Term2\\SuperEngi\\1PrepareFinalTest\\test_Image1\\test\\d75fb466.jpg: 640x640 1 0.52, 0 0.48, 6.3ms\n",
      "Speed: 5.9ms preprocess, 6.3ms inference, 0.0ms postprocess per image at shape (1, 3, 640, 640)\n",
      "\n",
      "image 1/1 C:\\Users\\User\\Desktop\\1Year\\Term2\\SuperEngi\\1PrepareFinalTest\\test_Image1\\test\\d7678327.jpg: 640x640 0 1.00, 1 0.00, 6.4ms\n",
      "Speed: 6.6ms preprocess, 6.4ms inference, 0.0ms postprocess per image at shape (1, 3, 640, 640)\n"
     ]
    },
    {
     "name": "stderr",
     "output_type": "stream",
     "text": [
      " 84%|████████▎ | 1296/1550 [00:31<00:05, 49.66it/s]"
     ]
    },
    {
     "name": "stdout",
     "output_type": "stream",
     "text": [
      "\n",
      "image 1/1 C:\\Users\\User\\Desktop\\1Year\\Term2\\SuperEngi\\1PrepareFinalTest\\test_Image1\\test\\d77b0d99.jpg: 640x640 0 1.00, 1 0.00, 6.3ms\n",
      "Speed: 5.9ms preprocess, 6.3ms inference, 0.1ms postprocess per image at shape (1, 3, 640, 640)\n",
      "\n",
      "image 1/1 C:\\Users\\User\\Desktop\\1Year\\Term2\\SuperEngi\\1PrepareFinalTest\\test_Image1\\test\\d77c03a3.jpg: 640x640 1 1.00, 0 0.00, 6.4ms\n",
      "Speed: 5.9ms preprocess, 6.4ms inference, 0.1ms postprocess per image at shape (1, 3, 640, 640)\n",
      "\n",
      "image 1/1 C:\\Users\\User\\Desktop\\1Year\\Term2\\SuperEngi\\1PrepareFinalTest\\test_Image1\\test\\d7afe91d.jpg: 640x640 1 1.00, 0 0.00, 6.8ms\n",
      "Speed: 6.0ms preprocess, 6.8ms inference, 0.0ms postprocess per image at shape (1, 3, 640, 640)\n",
      "\n",
      "image 1/1 C:\\Users\\User\\Desktop\\1Year\\Term2\\SuperEngi\\1PrepareFinalTest\\test_Image1\\test\\d7b36593.jpg: 640x640 0 1.00, 1 0.00, 6.2ms\n",
      "Speed: 5.6ms preprocess, 6.2ms inference, 0.0ms postprocess per image at shape (1, 3, 640, 640)\n",
      "\n",
      "image 1/1 C:\\Users\\User\\Desktop\\1Year\\Term2\\SuperEngi\\1PrepareFinalTest\\test_Image1\\test\\d7b45b59.jpg: 640x640 0 1.00, 1 0.00, 6.6ms\n",
      "Speed: 5.7ms preprocess, 6.6ms inference, 0.0ms postprocess per image at shape (1, 3, 640, 640)\n",
      "\n",
      "image 1/1 C:\\Users\\User\\Desktop\\1Year\\Term2\\SuperEngi\\1PrepareFinalTest\\test_Image1\\test\\d7ed4d8e.jpg: 640x640 0 1.00, 1 0.00, 6.4ms\n",
      "Speed: 6.4ms preprocess, 6.4ms inference, 0.1ms postprocess per image at shape (1, 3, 640, 640)\n"
     ]
    },
    {
     "name": "stderr",
     "output_type": "stream",
     "text": [
      " 84%|████████▍ | 1302/1550 [00:31<00:04, 50.08it/s]"
     ]
    },
    {
     "name": "stdout",
     "output_type": "stream",
     "text": [
      "\n",
      "image 1/1 C:\\Users\\User\\Desktop\\1Year\\Term2\\SuperEngi\\1PrepareFinalTest\\test_Image1\\test\\d7f73903.jpg: 640x640 0 1.00, 1 0.00, 6.8ms\n",
      "Speed: 5.6ms preprocess, 6.8ms inference, 0.0ms postprocess per image at shape (1, 3, 640, 640)\n",
      "\n",
      "image 1/1 C:\\Users\\User\\Desktop\\1Year\\Term2\\SuperEngi\\1PrepareFinalTest\\test_Image1\\test\\d8418bcc.jpg: 640x640 1 0.92, 0 0.08, 8.1ms\n",
      "Speed: 5.6ms preprocess, 8.1ms inference, 0.0ms postprocess per image at shape (1, 3, 640, 640)\n",
      "\n",
      "image 1/1 C:\\Users\\User\\Desktop\\1Year\\Term2\\SuperEngi\\1PrepareFinalTest\\test_Image1\\test\\d875b6d9.jpg: 640x640 0 1.00, 1 0.00, 8.7ms\n",
      "Speed: 5.5ms preprocess, 8.7ms inference, 0.1ms postprocess per image at shape (1, 3, 640, 640)\n",
      "\n",
      "image 1/1 C:\\Users\\User\\Desktop\\1Year\\Term2\\SuperEngi\\1PrepareFinalTest\\test_Image1\\test\\d8824652.jpg: 640x640 0 0.92, 1 0.08, 6.5ms\n",
      "Speed: 6.2ms preprocess, 6.5ms inference, 0.0ms postprocess per image at shape (1, 3, 640, 640)\n",
      "\n",
      "image 1/1 C:\\Users\\User\\Desktop\\1Year\\Term2\\SuperEngi\\1PrepareFinalTest\\test_Image1\\test\\d884d1a7.jpg: 640x640 1 1.00, 0 0.00, 7.0ms\n",
      "Speed: 6.0ms preprocess, 7.0ms inference, 0.0ms postprocess per image at shape (1, 3, 640, 640)\n",
      "\n",
      "image 1/1 C:\\Users\\User\\Desktop\\1Year\\Term2\\SuperEngi\\1PrepareFinalTest\\test_Image1\\test\\d89f1b97.jpg: 640x640 1 1.00, 0 0.00, 6.2ms\n",
      "Speed: 6.6ms preprocess, 6.2ms inference, 0.0ms postprocess per image at shape (1, 3, 640, 640)\n"
     ]
    },
    {
     "name": "stderr",
     "output_type": "stream",
     "text": [
      " 84%|████████▍ | 1308/1550 [00:31<00:04, 50.19it/s]"
     ]
    },
    {
     "name": "stdout",
     "output_type": "stream",
     "text": [
      "\n",
      "image 1/1 C:\\Users\\User\\Desktop\\1Year\\Term2\\SuperEngi\\1PrepareFinalTest\\test_Image1\\test\\d8b5d37a.jpg: 640x640 0 1.00, 1 0.00, 6.9ms\n",
      "Speed: 5.9ms preprocess, 6.9ms inference, 0.1ms postprocess per image at shape (1, 3, 640, 640)\n",
      "\n",
      "image 1/1 C:\\Users\\User\\Desktop\\1Year\\Term2\\SuperEngi\\1PrepareFinalTest\\test_Image1\\test\\d8d67dcf.jpg: 640x640 1 1.00, 0 0.00, 8.4ms\n",
      "Speed: 5.8ms preprocess, 8.4ms inference, 0.1ms postprocess per image at shape (1, 3, 640, 640)\n",
      "\n",
      "image 1/1 C:\\Users\\User\\Desktop\\1Year\\Term2\\SuperEngi\\1PrepareFinalTest\\test_Image1\\test\\d8f2f823.jpg: 640x640 0 1.00, 1 0.00, 6.4ms\n",
      "Speed: 6.4ms preprocess, 6.4ms inference, 0.0ms postprocess per image at shape (1, 3, 640, 640)\n",
      "\n",
      "image 1/1 C:\\Users\\User\\Desktop\\1Year\\Term2\\SuperEngi\\1PrepareFinalTest\\test_Image1\\test\\d90dbf37.jpg: 640x640 0 1.00, 1 0.00, 7.2ms\n",
      "Speed: 5.9ms preprocess, 7.2ms inference, 0.0ms postprocess per image at shape (1, 3, 640, 640)\n",
      "\n",
      "image 1/1 C:\\Users\\User\\Desktop\\1Year\\Term2\\SuperEngi\\1PrepareFinalTest\\test_Image1\\test\\d90faa29.jpg: 640x640 1 0.96, 0 0.04, 8.7ms\n",
      "Speed: 5.6ms preprocess, 8.7ms inference, 0.1ms postprocess per image at shape (1, 3, 640, 640)\n",
      "\n",
      "image 1/1 C:\\Users\\User\\Desktop\\1Year\\Term2\\SuperEngi\\1PrepareFinalTest\\test_Image1\\test\\d92834e8.jpg: 640x640 1 1.00, 0 0.00, 6.3ms\n",
      "Speed: 6.4ms preprocess, 6.3ms inference, 0.0ms postprocess per image at shape (1, 3, 640, 640)\n"
     ]
    },
    {
     "name": "stderr",
     "output_type": "stream",
     "text": [
      " 85%|████████▍ | 1314/1550 [00:31<00:04, 49.99it/s]"
     ]
    },
    {
     "name": "stdout",
     "output_type": "stream",
     "text": [
      "\n",
      "image 1/1 C:\\Users\\User\\Desktop\\1Year\\Term2\\SuperEngi\\1PrepareFinalTest\\test_Image1\\test\\d933e0f5.jpg: 640x640 1 0.90, 0 0.10, 6.1ms\n",
      "Speed: 6.0ms preprocess, 6.1ms inference, 0.0ms postprocess per image at shape (1, 3, 640, 640)\n",
      "\n",
      "image 1/1 C:\\Users\\User\\Desktop\\1Year\\Term2\\SuperEngi\\1PrepareFinalTest\\test_Image1\\test\\d943e0c8.jpg: 640x640 0 1.00, 1 0.00, 6.3ms\n",
      "Speed: 6.3ms preprocess, 6.3ms inference, 0.0ms postprocess per image at shape (1, 3, 640, 640)\n",
      "\n",
      "image 1/1 C:\\Users\\User\\Desktop\\1Year\\Term2\\SuperEngi\\1PrepareFinalTest\\test_Image1\\test\\d9619031.jpg: 640x640 1 1.00, 0 0.00, 6.5ms\n",
      "Speed: 5.8ms preprocess, 6.5ms inference, 0.0ms postprocess per image at shape (1, 3, 640, 640)\n",
      "\n",
      "image 1/1 C:\\Users\\User\\Desktop\\1Year\\Term2\\SuperEngi\\1PrepareFinalTest\\test_Image1\\test\\d97916a0.jpg: 640x640 1 1.00, 0 0.00, 6.4ms\n",
      "Speed: 5.8ms preprocess, 6.4ms inference, 0.0ms postprocess per image at shape (1, 3, 640, 640)\n",
      "\n",
      "image 1/1 C:\\Users\\User\\Desktop\\1Year\\Term2\\SuperEngi\\1PrepareFinalTest\\test_Image1\\test\\d9900014.jpg: 640x640 0 1.00, 1 0.00, 6.5ms\n",
      "Speed: 5.8ms preprocess, 6.5ms inference, 0.0ms postprocess per image at shape (1, 3, 640, 640)\n",
      "\n",
      "image 1/1 C:\\Users\\User\\Desktop\\1Year\\Term2\\SuperEngi\\1PrepareFinalTest\\test_Image1\\test\\d993e17a.jpg: 640x640 1 1.00, 0 0.00, 9.7ms\n",
      "Speed: 7.0ms preprocess, 9.7ms inference, 0.1ms postprocess per image at shape (1, 3, 640, 640)\n"
     ]
    },
    {
     "name": "stderr",
     "output_type": "stream",
     "text": [
      " 85%|████████▌ | 1320/1550 [00:31<00:04, 49.65it/s]"
     ]
    },
    {
     "name": "stdout",
     "output_type": "stream",
     "text": [
      "\n",
      "image 1/1 C:\\Users\\User\\Desktop\\1Year\\Term2\\SuperEngi\\1PrepareFinalTest\\test_Image1\\test\\d9bdf5a8.jpg: 640x640 0 0.86, 1 0.14, 6.3ms\n",
      "Speed: 6.5ms preprocess, 6.3ms inference, 0.0ms postprocess per image at shape (1, 3, 640, 640)\n",
      "\n",
      "image 1/1 C:\\Users\\User\\Desktop\\1Year\\Term2\\SuperEngi\\1PrepareFinalTest\\test_Image1\\test\\d9ca5d5f.jpg: 640x640 1 1.00, 0 0.00, 6.3ms\n",
      "Speed: 7.0ms preprocess, 6.3ms inference, 0.0ms postprocess per image at shape (1, 3, 640, 640)\n",
      "\n",
      "image 1/1 C:\\Users\\User\\Desktop\\1Year\\Term2\\SuperEngi\\1PrepareFinalTest\\test_Image1\\test\\d9d7736c.jpg: 640x640 0 1.00, 1 0.00, 6.7ms\n",
      "Speed: 7.1ms preprocess, 6.7ms inference, 0.0ms postprocess per image at shape (1, 3, 640, 640)\n",
      "\n",
      "image 1/1 C:\\Users\\User\\Desktop\\1Year\\Term2\\SuperEngi\\1PrepareFinalTest\\test_Image1\\test\\d9e0accd.jpg: 640x640 1 1.00, 0 0.00, 6.6ms\n",
      "Speed: 7.6ms preprocess, 6.6ms inference, 0.0ms postprocess per image at shape (1, 3, 640, 640)\n",
      "\n",
      "image 1/1 C:\\Users\\User\\Desktop\\1Year\\Term2\\SuperEngi\\1PrepareFinalTest\\test_Image1\\test\\da030043.jpg: 640x640 0 1.00, 1 0.00, 6.9ms\n",
      "Speed: 6.6ms preprocess, 6.9ms inference, 0.0ms postprocess per image at shape (1, 3, 640, 640)\n"
     ]
    },
    {
     "name": "stderr",
     "output_type": "stream",
     "text": [
      " 85%|████████▌ | 1325/1550 [00:32<00:04, 48.77it/s]"
     ]
    },
    {
     "name": "stdout",
     "output_type": "stream",
     "text": [
      "\n",
      "image 1/1 C:\\Users\\User\\Desktop\\1Year\\Term2\\SuperEngi\\1PrepareFinalTest\\test_Image1\\test\\da258189.jpg: 640x640 0 1.00, 1 0.00, 6.5ms\n",
      "Speed: 7.3ms preprocess, 6.5ms inference, 0.1ms postprocess per image at shape (1, 3, 640, 640)\n",
      "\n",
      "image 1/1 C:\\Users\\User\\Desktop\\1Year\\Term2\\SuperEngi\\1PrepareFinalTest\\test_Image1\\test\\da357006.jpg: 640x640 1 1.00, 0 0.00, 7.6ms\n",
      "Speed: 6.8ms preprocess, 7.6ms inference, 0.0ms postprocess per image at shape (1, 3, 640, 640)\n",
      "\n",
      "image 1/1 C:\\Users\\User\\Desktop\\1Year\\Term2\\SuperEngi\\1PrepareFinalTest\\test_Image1\\test\\da5ee16b.jpg: 640x640 1 1.00, 0 0.00, 7.2ms\n",
      "Speed: 8.0ms preprocess, 7.2ms inference, 0.0ms postprocess per image at shape (1, 3, 640, 640)\n",
      "\n",
      "image 1/1 C:\\Users\\User\\Desktop\\1Year\\Term2\\SuperEngi\\1PrepareFinalTest\\test_Image1\\test\\db02e30d.jpg: 640x640 0 1.00, 1 0.00, 6.4ms\n",
      "Speed: 6.6ms preprocess, 6.4ms inference, 0.0ms postprocess per image at shape (1, 3, 640, 640)\n",
      "\n",
      "image 1/1 C:\\Users\\User\\Desktop\\1Year\\Term2\\SuperEngi\\1PrepareFinalTest\\test_Image1\\test\\db1587fb.jpg: 640x640 1 1.00, 0 0.00, 6.6ms\n",
      "Speed: 7.2ms preprocess, 6.6ms inference, 0.0ms postprocess per image at shape (1, 3, 640, 640)\n"
     ]
    },
    {
     "name": "stderr",
     "output_type": "stream",
     "text": [
      " 86%|████████▌ | 1330/1550 [00:32<00:04, 47.53it/s]"
     ]
    },
    {
     "name": "stdout",
     "output_type": "stream",
     "text": [
      "\n",
      "image 1/1 C:\\Users\\User\\Desktop\\1Year\\Term2\\SuperEngi\\1PrepareFinalTest\\test_Image1\\test\\db1725e2.jpg: 640x640 0 1.00, 1 0.00, 6.2ms\n",
      "Speed: 7.7ms preprocess, 6.2ms inference, 0.0ms postprocess per image at shape (1, 3, 640, 640)\n",
      "\n",
      "image 1/1 C:\\Users\\User\\Desktop\\1Year\\Term2\\SuperEngi\\1PrepareFinalTest\\test_Image1\\test\\db935849.jpg: 640x640 1 1.00, 0 0.00, 6.3ms\n",
      "Speed: 7.4ms preprocess, 6.3ms inference, 0.0ms postprocess per image at shape (1, 3, 640, 640)\n",
      "\n",
      "image 1/1 C:\\Users\\User\\Desktop\\1Year\\Term2\\SuperEngi\\1PrepareFinalTest\\test_Image1\\test\\dbcacd86.jpg: 640x640 1 1.00, 0 0.00, 6.8ms\n",
      "Speed: 7.6ms preprocess, 6.8ms inference, 0.0ms postprocess per image at shape (1, 3, 640, 640)\n",
      "\n",
      "image 1/1 C:\\Users\\User\\Desktop\\1Year\\Term2\\SuperEngi\\1PrepareFinalTest\\test_Image1\\test\\dbe7b45d.jpg: 640x640 0 0.99, 1 0.01, 6.7ms\n",
      "Speed: 6.9ms preprocess, 6.7ms inference, 0.1ms postprocess per image at shape (1, 3, 640, 640)\n",
      "\n",
      "image 1/1 C:\\Users\\User\\Desktop\\1Year\\Term2\\SuperEngi\\1PrepareFinalTest\\test_Image1\\test\\dc1fad40.jpg: 640x640 0 1.00, 1 0.00, 6.2ms\n",
      "Speed: 7.4ms preprocess, 6.2ms inference, 0.0ms postprocess per image at shape (1, 3, 640, 640)\n"
     ]
    },
    {
     "name": "stderr",
     "output_type": "stream",
     "text": [
      " 86%|████████▌ | 1335/1550 [00:32<00:04, 46.95it/s]"
     ]
    },
    {
     "name": "stdout",
     "output_type": "stream",
     "text": [
      "\n",
      "image 1/1 C:\\Users\\User\\Desktop\\1Year\\Term2\\SuperEngi\\1PrepareFinalTest\\test_Image1\\test\\dc648f14.jpg: 640x640 1 1.00, 0 0.00, 6.9ms\n",
      "Speed: 6.6ms preprocess, 6.9ms inference, 0.1ms postprocess per image at shape (1, 3, 640, 640)\n",
      "\n",
      "image 1/1 C:\\Users\\User\\Desktop\\1Year\\Term2\\SuperEngi\\1PrepareFinalTest\\test_Image1\\test\\dce07da8.jpg: 640x640 0 1.00, 1 0.00, 6.6ms\n",
      "Speed: 6.7ms preprocess, 6.6ms inference, 0.0ms postprocess per image at shape (1, 3, 640, 640)\n",
      "\n",
      "image 1/1 C:\\Users\\User\\Desktop\\1Year\\Term2\\SuperEngi\\1PrepareFinalTest\\test_Image1\\test\\dce236ac.jpg: 640x640 1 1.00, 0 0.00, 6.6ms\n",
      "Speed: 7.2ms preprocess, 6.6ms inference, 0.0ms postprocess per image at shape (1, 3, 640, 640)\n",
      "\n",
      "image 1/1 C:\\Users\\User\\Desktop\\1Year\\Term2\\SuperEngi\\1PrepareFinalTest\\test_Image1\\test\\dcf84e2c.jpg: 640x640 1 1.00, 0 0.00, 6.4ms\n",
      "Speed: 7.1ms preprocess, 6.4ms inference, 0.0ms postprocess per image at shape (1, 3, 640, 640)\n",
      "\n",
      "image 1/1 C:\\Users\\User\\Desktop\\1Year\\Term2\\SuperEngi\\1PrepareFinalTest\\test_Image1\\test\\dd40c31b.jpg: 640x640 0 1.00, 1 0.00, 6.5ms\n",
      "Speed: 6.5ms preprocess, 6.5ms inference, 0.1ms postprocess per image at shape (1, 3, 640, 640)\n"
     ]
    },
    {
     "name": "stderr",
     "output_type": "stream",
     "text": [
      " 86%|████████▋ | 1340/1550 [00:32<00:04, 47.15it/s]"
     ]
    },
    {
     "name": "stdout",
     "output_type": "stream",
     "text": [
      "\n",
      "image 1/1 C:\\Users\\User\\Desktop\\1Year\\Term2\\SuperEngi\\1PrepareFinalTest\\test_Image1\\test\\dd58859b.jpg: 640x640 0 1.00, 1 0.00, 6.3ms\n",
      "Speed: 7.5ms preprocess, 6.3ms inference, 0.1ms postprocess per image at shape (1, 3, 640, 640)\n",
      "\n",
      "image 1/1 C:\\Users\\User\\Desktop\\1Year\\Term2\\SuperEngi\\1PrepareFinalTest\\test_Image1\\test\\de2a2b5c.jpg: 640x640 1 1.00, 0 0.00, 7.5ms\n",
      "Speed: 6.7ms preprocess, 7.5ms inference, 0.0ms postprocess per image at shape (1, 3, 640, 640)\n",
      "\n",
      "image 1/1 C:\\Users\\User\\Desktop\\1Year\\Term2\\SuperEngi\\1PrepareFinalTest\\test_Image1\\test\\de46dae2.jpg: 640x640 1 1.00, 0 0.00, 6.3ms\n",
      "Speed: 7.9ms preprocess, 6.3ms inference, 0.1ms postprocess per image at shape (1, 3, 640, 640)\n",
      "\n",
      "image 1/1 C:\\Users\\User\\Desktop\\1Year\\Term2\\SuperEngi\\1PrepareFinalTest\\test_Image1\\test\\de5ae127.jpg: 640x640 1 1.00, 0 0.00, 6.4ms\n",
      "Speed: 6.4ms preprocess, 6.4ms inference, 0.0ms postprocess per image at shape (1, 3, 640, 640)\n",
      "\n",
      "image 1/1 C:\\Users\\User\\Desktop\\1Year\\Term2\\SuperEngi\\1PrepareFinalTest\\test_Image1\\test\\de64afe0.jpg: 640x640 0 1.00, 1 0.00, 6.6ms\n",
      "Speed: 8.0ms preprocess, 6.6ms inference, 0.0ms postprocess per image at shape (1, 3, 640, 640)\n"
     ]
    },
    {
     "name": "stderr",
     "output_type": "stream",
     "text": [
      " 87%|████████▋ | 1345/1550 [00:32<00:04, 46.37it/s]"
     ]
    },
    {
     "name": "stdout",
     "output_type": "stream",
     "text": [
      "\n",
      "image 1/1 C:\\Users\\User\\Desktop\\1Year\\Term2\\SuperEngi\\1PrepareFinalTest\\test_Image1\\test\\de9788ab.jpg: 640x640 1 1.00, 0 0.00, 6.3ms\n",
      "Speed: 6.8ms preprocess, 6.3ms inference, 0.1ms postprocess per image at shape (1, 3, 640, 640)\n",
      "\n",
      "image 1/1 C:\\Users\\User\\Desktop\\1Year\\Term2\\SuperEngi\\1PrepareFinalTest\\test_Image1\\test\\de97e1a9.jpg: 640x640 1 1.00, 0 0.00, 6.5ms\n",
      "Speed: 6.7ms preprocess, 6.5ms inference, 0.0ms postprocess per image at shape (1, 3, 640, 640)\n",
      "\n",
      "image 1/1 C:\\Users\\User\\Desktop\\1Year\\Term2\\SuperEngi\\1PrepareFinalTest\\test_Image1\\test\\de9e2b6e.jpg: 640x640 1 1.00, 0 0.00, 6.4ms\n",
      "Speed: 7.3ms preprocess, 6.4ms inference, 0.1ms postprocess per image at shape (1, 3, 640, 640)\n",
      "\n",
      "image 1/1 C:\\Users\\User\\Desktop\\1Year\\Term2\\SuperEngi\\1PrepareFinalTest\\test_Image1\\test\\dec0f1e2.jpg: 640x640 0 0.97, 1 0.03, 6.9ms\n",
      "Speed: 7.7ms preprocess, 6.9ms inference, 0.0ms postprocess per image at shape (1, 3, 640, 640)\n",
      "\n",
      "image 1/1 C:\\Users\\User\\Desktop\\1Year\\Term2\\SuperEngi\\1PrepareFinalTest\\test_Image1\\test\\dee9804e.jpg: 640x640 0 1.00, 1 0.00, 6.4ms\n",
      "Speed: 6.7ms preprocess, 6.4ms inference, 0.1ms postprocess per image at shape (1, 3, 640, 640)\n"
     ]
    },
    {
     "name": "stderr",
     "output_type": "stream",
     "text": [
      " 87%|████████▋ | 1350/1550 [00:32<00:04, 46.27it/s]"
     ]
    },
    {
     "name": "stdout",
     "output_type": "stream",
     "text": [
      "\n",
      "image 1/1 C:\\Users\\User\\Desktop\\1Year\\Term2\\SuperEngi\\1PrepareFinalTest\\test_Image1\\test\\defe8dfd.jpg: 640x640 0 1.00, 1 0.00, 6.7ms\n",
      "Speed: 7.3ms preprocess, 6.7ms inference, 0.1ms postprocess per image at shape (1, 3, 640, 640)\n",
      "\n",
      "image 1/1 C:\\Users\\User\\Desktop\\1Year\\Term2\\SuperEngi\\1PrepareFinalTest\\test_Image1\\test\\df12288f.jpg: 640x640 0 0.88, 1 0.12, 6.7ms\n",
      "Speed: 7.2ms preprocess, 6.7ms inference, 0.1ms postprocess per image at shape (1, 3, 640, 640)\n",
      "\n",
      "image 1/1 C:\\Users\\User\\Desktop\\1Year\\Term2\\SuperEngi\\1PrepareFinalTest\\test_Image1\\test\\df36b626.jpg: 640x640 0 1.00, 1 0.00, 7.0ms\n",
      "Speed: 7.8ms preprocess, 7.0ms inference, 0.1ms postprocess per image at shape (1, 3, 640, 640)\n",
      "\n",
      "image 1/1 C:\\Users\\User\\Desktop\\1Year\\Term2\\SuperEngi\\1PrepareFinalTest\\test_Image1\\test\\df8062b8.jpg: 640x640 0 1.00, 1 0.00, 6.4ms\n",
      "Speed: 8.5ms preprocess, 6.4ms inference, 0.1ms postprocess per image at shape (1, 3, 640, 640)\n",
      "\n",
      "image 1/1 C:\\Users\\User\\Desktop\\1Year\\Term2\\SuperEngi\\1PrepareFinalTest\\test_Image1\\test\\dfcba56a.jpg: 640x640 1 1.00, 0 0.00, 10.1ms\n",
      "Speed: 7.6ms preprocess, 10.1ms inference, 0.0ms postprocess per image at shape (1, 3, 640, 640)\n"
     ]
    },
    {
     "name": "stderr",
     "output_type": "stream",
     "text": [
      " 87%|████████▋ | 1355/1550 [00:32<00:04, 44.43it/s]"
     ]
    },
    {
     "name": "stdout",
     "output_type": "stream",
     "text": [
      "\n",
      "image 1/1 C:\\Users\\User\\Desktop\\1Year\\Term2\\SuperEngi\\1PrepareFinalTest\\test_Image1\\test\\dfd0876d.jpg: 640x640 0 1.00, 1 0.00, 6.7ms\n",
      "Speed: 8.7ms preprocess, 6.7ms inference, 0.1ms postprocess per image at shape (1, 3, 640, 640)\n",
      "\n",
      "image 1/1 C:\\Users\\User\\Desktop\\1Year\\Term2\\SuperEngi\\1PrepareFinalTest\\test_Image1\\test\\e026753e.jpg: 640x640 1 1.00, 0 0.00, 6.5ms\n",
      "Speed: 8.6ms preprocess, 6.5ms inference, 0.1ms postprocess per image at shape (1, 3, 640, 640)\n",
      "\n",
      "image 1/1 C:\\Users\\User\\Desktop\\1Year\\Term2\\SuperEngi\\1PrepareFinalTest\\test_Image1\\test\\e035ad5b.jpg: 640x640 1 1.00, 0 0.00, 7.6ms\n",
      "Speed: 7.9ms preprocess, 7.6ms inference, 0.0ms postprocess per image at shape (1, 3, 640, 640)\n",
      "\n",
      "image 1/1 C:\\Users\\User\\Desktop\\1Year\\Term2\\SuperEngi\\1PrepareFinalTest\\test_Image1\\test\\e0370240.jpg: 640x640 1 1.00, 0 0.00, 6.7ms\n",
      "Speed: 11.3ms preprocess, 6.7ms inference, 0.1ms postprocess per image at shape (1, 3, 640, 640)\n",
      "\n",
      "image 1/1 C:\\Users\\User\\Desktop\\1Year\\Term2\\SuperEngi\\1PrepareFinalTest\\test_Image1\\test\\e03acd80.jpg: 640x640 1 1.00, 0 0.00, 6.6ms\n",
      "Speed: 8.0ms preprocess, 6.6ms inference, 0.0ms postprocess per image at shape (1, 3, 640, 640)\n"
     ]
    },
    {
     "name": "stderr",
     "output_type": "stream",
     "text": [
      " 88%|████████▊ | 1360/1550 [00:32<00:04, 42.89it/s]"
     ]
    },
    {
     "name": "stdout",
     "output_type": "stream",
     "text": [
      "\n",
      "image 1/1 C:\\Users\\User\\Desktop\\1Year\\Term2\\SuperEngi\\1PrepareFinalTest\\test_Image1\\test\\e0462caa.jpg: 640x640 0 0.73, 1 0.27, 6.7ms\n",
      "Speed: 6.8ms preprocess, 6.7ms inference, 0.0ms postprocess per image at shape (1, 3, 640, 640)\n",
      "\n",
      "image 1/1 C:\\Users\\User\\Desktop\\1Year\\Term2\\SuperEngi\\1PrepareFinalTest\\test_Image1\\test\\e056f1f9.jpg: 640x640 1 1.00, 0 0.00, 6.7ms\n",
      "Speed: 6.9ms preprocess, 6.7ms inference, 0.0ms postprocess per image at shape (1, 3, 640, 640)\n",
      "\n",
      "image 1/1 C:\\Users\\User\\Desktop\\1Year\\Term2\\SuperEngi\\1PrepareFinalTest\\test_Image1\\test\\e082c75d.jpg: 640x640 0 1.00, 1 0.00, 6.3ms\n",
      "Speed: 6.7ms preprocess, 6.3ms inference, 0.0ms postprocess per image at shape (1, 3, 640, 640)\n",
      "\n",
      "image 1/1 C:\\Users\\User\\Desktop\\1Year\\Term2\\SuperEngi\\1PrepareFinalTest\\test_Image1\\test\\e0d17db9.jpg: 640x640 0 0.63, 1 0.37, 6.3ms\n",
      "Speed: 6.0ms preprocess, 6.3ms inference, 0.1ms postprocess per image at shape (1, 3, 640, 640)\n",
      "\n",
      "image 1/1 C:\\Users\\User\\Desktop\\1Year\\Term2\\SuperEngi\\1PrepareFinalTest\\test_Image1\\test\\e0e92023.jpg: 640x640 0 0.65, 1 0.35, 6.4ms\n",
      "Speed: 6.0ms preprocess, 6.4ms inference, 0.0ms postprocess per image at shape (1, 3, 640, 640)\n"
     ]
    },
    {
     "name": "stderr",
     "output_type": "stream",
     "text": [
      " 88%|████████▊ | 1365/1550 [00:32<00:04, 44.69it/s]"
     ]
    },
    {
     "name": "stdout",
     "output_type": "stream",
     "text": [
      "\n",
      "image 1/1 C:\\Users\\User\\Desktop\\1Year\\Term2\\SuperEngi\\1PrepareFinalTest\\test_Image1\\test\\e0eb1696.jpg: 640x640 0 0.98, 1 0.02, 6.7ms\n",
      "Speed: 7.8ms preprocess, 6.7ms inference, 0.1ms postprocess per image at shape (1, 3, 640, 640)\n",
      "\n",
      "image 1/1 C:\\Users\\User\\Desktop\\1Year\\Term2\\SuperEngi\\1PrepareFinalTest\\test_Image1\\test\\e0f8b602.jpg: 640x640 1 1.00, 0 0.00, 6.3ms\n",
      "Speed: 6.2ms preprocess, 6.3ms inference, 0.0ms postprocess per image at shape (1, 3, 640, 640)\n",
      "\n",
      "image 1/1 C:\\Users\\User\\Desktop\\1Year\\Term2\\SuperEngi\\1PrepareFinalTest\\test_Image1\\test\\e1122f3e.jpg: 640x640 1 1.00, 0 0.00, 6.5ms\n",
      "Speed: 5.8ms preprocess, 6.5ms inference, 0.0ms postprocess per image at shape (1, 3, 640, 640)\n",
      "\n",
      "image 1/1 C:\\Users\\User\\Desktop\\1Year\\Term2\\SuperEngi\\1PrepareFinalTest\\test_Image1\\test\\e122901f.jpg: 640x640 1 1.00, 0 0.00, 6.6ms\n",
      "Speed: 7.0ms preprocess, 6.6ms inference, 0.0ms postprocess per image at shape (1, 3, 640, 640)\n",
      "\n",
      "image 1/1 C:\\Users\\User\\Desktop\\1Year\\Term2\\SuperEngi\\1PrepareFinalTest\\test_Image1\\test\\e1252655.jpg: 640x640 0 1.00, 1 0.00, 6.4ms\n",
      "Speed: 6.4ms preprocess, 6.4ms inference, 0.0ms postprocess per image at shape (1, 3, 640, 640)\n",
      "\n",
      "image 1/1 C:\\Users\\User\\Desktop\\1Year\\Term2\\SuperEngi\\1PrepareFinalTest\\test_Image1\\test\\e1484aff.jpg: 640x640 0 1.00, 1 0.00, 6.4ms\n",
      "Speed: 6.9ms preprocess, 6.4ms inference, 0.0ms postprocess per image at shape (1, 3, 640, 640)\n"
     ]
    },
    {
     "name": "stderr",
     "output_type": "stream",
     "text": [
      " 88%|████████▊ | 1371/1550 [00:33<00:03, 46.50it/s]"
     ]
    },
    {
     "name": "stdout",
     "output_type": "stream",
     "text": [
      "\n",
      "image 1/1 C:\\Users\\User\\Desktop\\1Year\\Term2\\SuperEngi\\1PrepareFinalTest\\test_Image1\\test\\e16354aa.jpg: 640x640 1 1.00, 0 0.00, 6.5ms\n",
      "Speed: 6.1ms preprocess, 6.5ms inference, 0.0ms postprocess per image at shape (1, 3, 640, 640)\n",
      "\n",
      "image 1/1 C:\\Users\\User\\Desktop\\1Year\\Term2\\SuperEngi\\1PrepareFinalTest\\test_Image1\\test\\e16b3be5.jpg: 640x640 1 1.00, 0 0.00, 6.7ms\n",
      "Speed: 7.1ms preprocess, 6.7ms inference, 0.0ms postprocess per image at shape (1, 3, 640, 640)\n",
      "\n",
      "image 1/1 C:\\Users\\User\\Desktop\\1Year\\Term2\\SuperEngi\\1PrepareFinalTest\\test_Image1\\test\\e1eb277e.jpg: 640x640 1 0.70, 0 0.30, 6.4ms\n",
      "Speed: 6.4ms preprocess, 6.4ms inference, 0.0ms postprocess per image at shape (1, 3, 640, 640)\n",
      "\n",
      "image 1/1 C:\\Users\\User\\Desktop\\1Year\\Term2\\SuperEngi\\1PrepareFinalTest\\test_Image1\\test\\e217629c.jpg: 640x640 0 1.00, 1 0.00, 7.8ms\n",
      "Speed: 12.8ms preprocess, 7.8ms inference, 0.0ms postprocess per image at shape (1, 3, 640, 640)\n",
      "\n",
      "image 1/1 C:\\Users\\User\\Desktop\\1Year\\Term2\\SuperEngi\\1PrepareFinalTest\\test_Image1\\test\\e23c247a.jpg: 640x640 1 1.00, 0 0.00, 6.7ms\n",
      "Speed: 8.9ms preprocess, 6.7ms inference, 0.1ms postprocess per image at shape (1, 3, 640, 640)\n"
     ]
    },
    {
     "name": "stderr",
     "output_type": "stream",
     "text": [
      " 89%|████████▉ | 1376/1550 [00:33<00:03, 45.45it/s]"
     ]
    },
    {
     "name": "stdout",
     "output_type": "stream",
     "text": [
      "\n",
      "image 1/1 C:\\Users\\User\\Desktop\\1Year\\Term2\\SuperEngi\\1PrepareFinalTest\\test_Image1\\test\\e2401aa6.jpg: 640x640 0 1.00, 1 0.00, 6.3ms\n",
      "Speed: 7.9ms preprocess, 6.3ms inference, 0.0ms postprocess per image at shape (1, 3, 640, 640)\n",
      "\n",
      "image 1/1 C:\\Users\\User\\Desktop\\1Year\\Term2\\SuperEngi\\1PrepareFinalTest\\test_Image1\\test\\e24420c1.jpg: 640x640 0 1.00, 1 0.00, 6.7ms\n",
      "Speed: 7.5ms preprocess, 6.7ms inference, 0.0ms postprocess per image at shape (1, 3, 640, 640)\n",
      "\n",
      "image 1/1 C:\\Users\\User\\Desktop\\1Year\\Term2\\SuperEngi\\1PrepareFinalTest\\test_Image1\\test\\e2607cb9.jpg: 640x640 1 1.00, 0 0.00, 6.3ms\n",
      "Speed: 6.8ms preprocess, 6.3ms inference, 0.0ms postprocess per image at shape (1, 3, 640, 640)\n",
      "\n",
      "image 1/1 C:\\Users\\User\\Desktop\\1Year\\Term2\\SuperEngi\\1PrepareFinalTest\\test_Image1\\test\\e2a8da09.jpg: 640x640 0 1.00, 1 0.00, 6.3ms\n",
      "Speed: 6.7ms preprocess, 6.3ms inference, 0.0ms postprocess per image at shape (1, 3, 640, 640)\n",
      "\n",
      "image 1/1 C:\\Users\\User\\Desktop\\1Year\\Term2\\SuperEngi\\1PrepareFinalTest\\test_Image1\\test\\e3b43ab8.jpg: 640x640 0 0.99, 1 0.01, 6.4ms\n",
      "Speed: 6.9ms preprocess, 6.4ms inference, 0.0ms postprocess per image at shape (1, 3, 640, 640)\n"
     ]
    },
    {
     "name": "stderr",
     "output_type": "stream",
     "text": [
      " 89%|████████▉ | 1381/1550 [00:33<00:03, 46.06it/s]"
     ]
    },
    {
     "name": "stdout",
     "output_type": "stream",
     "text": [
      "\n",
      "image 1/1 C:\\Users\\User\\Desktop\\1Year\\Term2\\SuperEngi\\1PrepareFinalTest\\test_Image1\\test\\e4267abb.jpg: 640x640 0 1.00, 1 0.00, 7.1ms\n",
      "Speed: 7.0ms preprocess, 7.1ms inference, 0.1ms postprocess per image at shape (1, 3, 640, 640)\n",
      "\n",
      "image 1/1 C:\\Users\\User\\Desktop\\1Year\\Term2\\SuperEngi\\1PrepareFinalTest\\test_Image1\\test\\e464e9f0.jpg: 640x640 1 1.00, 0 0.00, 6.4ms\n",
      "Speed: 6.6ms preprocess, 6.4ms inference, 0.0ms postprocess per image at shape (1, 3, 640, 640)\n",
      "\n",
      "image 1/1 C:\\Users\\User\\Desktop\\1Year\\Term2\\SuperEngi\\1PrepareFinalTest\\test_Image1\\test\\e471125e.jpg: 640x640 0 1.00, 1 0.00, 6.3ms\n",
      "Speed: 6.3ms preprocess, 6.3ms inference, 0.0ms postprocess per image at shape (1, 3, 640, 640)\n",
      "\n",
      "image 1/1 C:\\Users\\User\\Desktop\\1Year\\Term2\\SuperEngi\\1PrepareFinalTest\\test_Image1\\test\\e48208b3.jpg: 640x640 0 1.00, 1 0.00, 9.1ms\n",
      "Speed: 8.3ms preprocess, 9.1ms inference, 0.1ms postprocess per image at shape (1, 3, 640, 640)\n",
      "\n",
      "image 1/1 C:\\Users\\User\\Desktop\\1Year\\Term2\\SuperEngi\\1PrepareFinalTest\\test_Image1\\test\\e4b420b0.jpg: 640x640 0 1.00, 1 0.00, 7.7ms\n",
      "Speed: 5.8ms preprocess, 7.7ms inference, 0.1ms postprocess per image at shape (1, 3, 640, 640)\n"
     ]
    },
    {
     "name": "stderr",
     "output_type": "stream",
     "text": [
      " 89%|████████▉ | 1386/1550 [00:33<00:03, 46.20it/s]"
     ]
    },
    {
     "name": "stdout",
     "output_type": "stream",
     "text": [
      "\n",
      "image 1/1 C:\\Users\\User\\Desktop\\1Year\\Term2\\SuperEngi\\1PrepareFinalTest\\test_Image1\\test\\e4c2cc22.jpg: 640x640 0 1.00, 1 0.00, 6.3ms\n",
      "Speed: 6.9ms preprocess, 6.3ms inference, 0.0ms postprocess per image at shape (1, 3, 640, 640)\n",
      "\n",
      "image 1/1 C:\\Users\\User\\Desktop\\1Year\\Term2\\SuperEngi\\1PrepareFinalTest\\test_Image1\\test\\e5190015.jpg: 640x640 0 0.98, 1 0.02, 6.3ms\n",
      "Speed: 5.8ms preprocess, 6.3ms inference, 0.0ms postprocess per image at shape (1, 3, 640, 640)\n",
      "\n",
      "image 1/1 C:\\Users\\User\\Desktop\\1Year\\Term2\\SuperEngi\\1PrepareFinalTest\\test_Image1\\test\\e57009e7.jpg: 640x640 1 1.00, 0 0.00, 7.0ms\n",
      "Speed: 6.0ms preprocess, 7.0ms inference, 0.1ms postprocess per image at shape (1, 3, 640, 640)\n",
      "\n",
      "image 1/1 C:\\Users\\User\\Desktop\\1Year\\Term2\\SuperEngi\\1PrepareFinalTest\\test_Image1\\test\\e585c5ef.jpg: 640x640 0 0.98, 1 0.02, 7.9ms\n",
      "Speed: 7.0ms preprocess, 7.9ms inference, 0.0ms postprocess per image at shape (1, 3, 640, 640)\n",
      "\n",
      "image 1/1 C:\\Users\\User\\Desktop\\1Year\\Term2\\SuperEngi\\1PrepareFinalTest\\test_Image1\\test\\e5b574e3.jpg: 640x640 1 1.00, 0 0.00, 6.5ms\n",
      "Speed: 6.6ms preprocess, 6.5ms inference, 0.0ms postprocess per image at shape (1, 3, 640, 640)\n"
     ]
    },
    {
     "name": "stderr",
     "output_type": "stream",
     "text": [
      " 90%|████████▉ | 1391/1550 [00:33<00:03, 47.07it/s]"
     ]
    },
    {
     "name": "stdout",
     "output_type": "stream",
     "text": [
      "\n",
      "image 1/1 C:\\Users\\User\\Desktop\\1Year\\Term2\\SuperEngi\\1PrepareFinalTest\\test_Image1\\test\\e5bb9358.jpg: 640x640 1 1.00, 0 0.00, 6.5ms\n",
      "Speed: 6.0ms preprocess, 6.5ms inference, 0.0ms postprocess per image at shape (1, 3, 640, 640)\n",
      "\n",
      "image 1/1 C:\\Users\\User\\Desktop\\1Year\\Term2\\SuperEngi\\1PrepareFinalTest\\test_Image1\\test\\e61c46aa.jpg: 640x640 0 1.00, 1 0.00, 6.8ms\n",
      "Speed: 9.8ms preprocess, 6.8ms inference, 0.1ms postprocess per image at shape (1, 3, 640, 640)\n",
      "\n",
      "image 1/1 C:\\Users\\User\\Desktop\\1Year\\Term2\\SuperEngi\\1PrepareFinalTest\\test_Image1\\test\\e6246fb6.jpg: 640x640 0 1.00, 1 0.00, 6.9ms\n",
      "Speed: 9.5ms preprocess, 6.9ms inference, 0.0ms postprocess per image at shape (1, 3, 640, 640)\n",
      "\n",
      "image 1/1 C:\\Users\\User\\Desktop\\1Year\\Term2\\SuperEngi\\1PrepareFinalTest\\test_Image1\\test\\e628fac1.jpg: 640x640 0 1.00, 1 0.00, 6.6ms\n",
      "Speed: 7.4ms preprocess, 6.6ms inference, 0.0ms postprocess per image at shape (1, 3, 640, 640)\n",
      "\n",
      "image 1/1 C:\\Users\\User\\Desktop\\1Year\\Term2\\SuperEngi\\1PrepareFinalTest\\test_Image1\\test\\e660220c.jpg: 640x640 1 1.00, 0 0.00, 6.6ms\n",
      "Speed: 6.8ms preprocess, 6.6ms inference, 0.0ms postprocess per image at shape (1, 3, 640, 640)\n"
     ]
    },
    {
     "name": "stderr",
     "output_type": "stream",
     "text": [
      " 90%|█████████ | 1396/1550 [00:33<00:03, 46.00it/s]"
     ]
    },
    {
     "name": "stdout",
     "output_type": "stream",
     "text": [
      "\n",
      "image 1/1 C:\\Users\\User\\Desktop\\1Year\\Term2\\SuperEngi\\1PrepareFinalTest\\test_Image1\\test\\e67c9fc4.jpg: 640x640 0 1.00, 1 0.00, 6.6ms\n",
      "Speed: 6.7ms preprocess, 6.6ms inference, 0.0ms postprocess per image at shape (1, 3, 640, 640)\n",
      "\n",
      "image 1/1 C:\\Users\\User\\Desktop\\1Year\\Term2\\SuperEngi\\1PrepareFinalTest\\test_Image1\\test\\e69c40e0.jpg: 640x640 0 1.00, 1 0.00, 6.8ms\n",
      "Speed: 7.2ms preprocess, 6.8ms inference, 0.0ms postprocess per image at shape (1, 3, 640, 640)\n",
      "\n",
      "image 1/1 C:\\Users\\User\\Desktop\\1Year\\Term2\\SuperEngi\\1PrepareFinalTest\\test_Image1\\test\\e6fddf67.jpg: 640x640 1 1.00, 0 0.00, 6.5ms\n",
      "Speed: 6.0ms preprocess, 6.5ms inference, 0.0ms postprocess per image at shape (1, 3, 640, 640)\n",
      "\n",
      "image 1/1 C:\\Users\\User\\Desktop\\1Year\\Term2\\SuperEngi\\1PrepareFinalTest\\test_Image1\\test\\e71090be.jpg: 640x640 1 1.00, 0 0.00, 6.6ms\n",
      "Speed: 6.5ms preprocess, 6.6ms inference, 0.0ms postprocess per image at shape (1, 3, 640, 640)\n",
      "\n",
      "image 1/1 C:\\Users\\User\\Desktop\\1Year\\Term2\\SuperEngi\\1PrepareFinalTest\\test_Image1\\test\\e73d2481.jpg: 640x640 0 0.99, 1 0.01, 6.8ms\n",
      "Speed: 6.2ms preprocess, 6.8ms inference, 0.0ms postprocess per image at shape (1, 3, 640, 640)\n",
      "\n",
      "image 1/1 C:\\Users\\User\\Desktop\\1Year\\Term2\\SuperEngi\\1PrepareFinalTest\\test_Image1\\test\\e754a4df.jpg: 640x640 0 1.00, 1 0.00, 6.6ms\n",
      "Speed: 7.0ms preprocess, 6.6ms inference, 0.1ms postprocess per image at shape (1, 3, 640, 640)\n"
     ]
    },
    {
     "name": "stderr",
     "output_type": "stream",
     "text": [
      " 90%|█████████ | 1402/1550 [00:33<00:03, 47.34it/s]"
     ]
    },
    {
     "name": "stdout",
     "output_type": "stream",
     "text": [
      "\n",
      "image 1/1 C:\\Users\\User\\Desktop\\1Year\\Term2\\SuperEngi\\1PrepareFinalTest\\test_Image1\\test\\e763db87.jpg: 640x640 0 1.00, 1 0.00, 6.8ms\n",
      "Speed: 6.1ms preprocess, 6.8ms inference, 0.1ms postprocess per image at shape (1, 3, 640, 640)\n",
      "\n",
      "image 1/1 C:\\Users\\User\\Desktop\\1Year\\Term2\\SuperEngi\\1PrepareFinalTest\\test_Image1\\test\\e790c694.jpg: 640x640 1 1.00, 0 0.00, 6.9ms\n",
      "Speed: 6.3ms preprocess, 6.9ms inference, 0.0ms postprocess per image at shape (1, 3, 640, 640)\n",
      "\n",
      "image 1/1 C:\\Users\\User\\Desktop\\1Year\\Term2\\SuperEngi\\1PrepareFinalTest\\test_Image1\\test\\e798a501.jpg: 640x640 1 1.00, 0 0.00, 6.8ms\n",
      "Speed: 6.7ms preprocess, 6.8ms inference, 0.0ms postprocess per image at shape (1, 3, 640, 640)\n",
      "\n",
      "image 1/1 C:\\Users\\User\\Desktop\\1Year\\Term2\\SuperEngi\\1PrepareFinalTest\\test_Image1\\test\\e79dea50.jpg: 640x640 0 1.00, 1 0.00, 6.6ms\n",
      "Speed: 6.4ms preprocess, 6.6ms inference, 0.0ms postprocess per image at shape (1, 3, 640, 640)\n",
      "\n",
      "image 1/1 C:\\Users\\User\\Desktop\\1Year\\Term2\\SuperEngi\\1PrepareFinalTest\\test_Image1\\test\\e7a6955d.jpg: 640x640 1 1.00, 0 0.00, 6.5ms\n",
      "Speed: 6.2ms preprocess, 6.5ms inference, 0.0ms postprocess per image at shape (1, 3, 640, 640)\n",
      "\n",
      "image 1/1 C:\\Users\\User\\Desktop\\1Year\\Term2\\SuperEngi\\1PrepareFinalTest\\test_Image1\\test\\e7b16a85.jpg: 640x640 1 1.00, 0 0.00, 6.5ms\n",
      "Speed: 7.0ms preprocess, 6.5ms inference, 0.0ms postprocess per image at shape (1, 3, 640, 640)\n"
     ]
    },
    {
     "name": "stderr",
     "output_type": "stream",
     "text": [
      " 91%|█████████ | 1408/1550 [00:33<00:02, 48.15it/s]"
     ]
    },
    {
     "name": "stdout",
     "output_type": "stream",
     "text": [
      "\n",
      "image 1/1 C:\\Users\\User\\Desktop\\1Year\\Term2\\SuperEngi\\1PrepareFinalTest\\test_Image1\\test\\e7c48842.jpg: 640x640 0 0.61, 1 0.39, 6.4ms\n",
      "Speed: 6.4ms preprocess, 6.4ms inference, 0.1ms postprocess per image at shape (1, 3, 640, 640)\n",
      "\n",
      "image 1/1 C:\\Users\\User\\Desktop\\1Year\\Term2\\SuperEngi\\1PrepareFinalTest\\test_Image1\\test\\e7e40569.jpg: 640x640 1 1.00, 0 0.00, 6.5ms\n",
      "Speed: 6.4ms preprocess, 6.5ms inference, 0.1ms postprocess per image at shape (1, 3, 640, 640)\n",
      "\n",
      "image 1/1 C:\\Users\\User\\Desktop\\1Year\\Term2\\SuperEngi\\1PrepareFinalTest\\test_Image1\\test\\e7f13c3d.jpg: 640x640 1 1.00, 0 0.00, 6.5ms\n",
      "Speed: 6.5ms preprocess, 6.5ms inference, 0.0ms postprocess per image at shape (1, 3, 640, 640)\n",
      "\n",
      "image 1/1 C:\\Users\\User\\Desktop\\1Year\\Term2\\SuperEngi\\1PrepareFinalTest\\test_Image1\\test\\e7fb7d17.jpg: 640x640 1 1.00, 0 0.00, 9.2ms\n",
      "Speed: 6.1ms preprocess, 9.2ms inference, 0.1ms postprocess per image at shape (1, 3, 640, 640)\n",
      "\n",
      "image 1/1 C:\\Users\\User\\Desktop\\1Year\\Term2\\SuperEngi\\1PrepareFinalTest\\test_Image1\\test\\e8156faf.jpg: 640x640 0 1.00, 1 0.00, 7.0ms\n",
      "Speed: 6.5ms preprocess, 7.0ms inference, 0.1ms postprocess per image at shape (1, 3, 640, 640)\n"
     ]
    },
    {
     "name": "stderr",
     "output_type": "stream",
     "text": [
      " 91%|█████████ | 1413/1550 [00:33<00:02, 48.10it/s]"
     ]
    },
    {
     "name": "stdout",
     "output_type": "stream",
     "text": [
      "\n",
      "image 1/1 C:\\Users\\User\\Desktop\\1Year\\Term2\\SuperEngi\\1PrepareFinalTest\\test_Image1\\test\\e8433345.jpg: 640x640 1 1.00, 0 0.00, 6.6ms\n",
      "Speed: 6.2ms preprocess, 6.6ms inference, 0.1ms postprocess per image at shape (1, 3, 640, 640)\n",
      "\n",
      "image 1/1 C:\\Users\\User\\Desktop\\1Year\\Term2\\SuperEngi\\1PrepareFinalTest\\test_Image1\\test\\e8482e4d.jpg: 640x640 1 1.00, 0 0.00, 6.4ms\n",
      "Speed: 6.8ms preprocess, 6.4ms inference, 0.0ms postprocess per image at shape (1, 3, 640, 640)\n",
      "\n",
      "image 1/1 C:\\Users\\User\\Desktop\\1Year\\Term2\\SuperEngi\\1PrepareFinalTest\\test_Image1\\test\\e851fb72.jpg: 640x640 0 1.00, 1 0.00, 6.6ms\n",
      "Speed: 6.7ms preprocess, 6.6ms inference, 0.0ms postprocess per image at shape (1, 3, 640, 640)\n",
      "\n",
      "image 1/1 C:\\Users\\User\\Desktop\\1Year\\Term2\\SuperEngi\\1PrepareFinalTest\\test_Image1\\test\\e85f01f4.jpg: 640x640 1 0.99, 0 0.01, 6.2ms\n",
      "Speed: 5.9ms preprocess, 6.2ms inference, 0.0ms postprocess per image at shape (1, 3, 640, 640)\n",
      "\n",
      "image 1/1 C:\\Users\\User\\Desktop\\1Year\\Term2\\SuperEngi\\1PrepareFinalTest\\test_Image1\\test\\e89ee007.jpg: 640x640 1 1.00, 0 0.00, 6.4ms\n",
      "Speed: 5.7ms preprocess, 6.4ms inference, 0.0ms postprocess per image at shape (1, 3, 640, 640)\n",
      "\n",
      "image 1/1 C:\\Users\\User\\Desktop\\1Year\\Term2\\SuperEngi\\1PrepareFinalTest\\test_Image1\\test\\e91bb2b8.jpg: 640x640 1 1.00, 0 0.00, 6.5ms\n",
      "Speed: 6.2ms preprocess, 6.5ms inference, 0.0ms postprocess per image at shape (1, 3, 640, 640)\n"
     ]
    },
    {
     "name": "stderr",
     "output_type": "stream",
     "text": [
      " 92%|█████████▏| 1419/1550 [00:34<00:02, 48.95it/s]"
     ]
    },
    {
     "name": "stdout",
     "output_type": "stream",
     "text": [
      "\n",
      "image 1/1 C:\\Users\\User\\Desktop\\1Year\\Term2\\SuperEngi\\1PrepareFinalTest\\test_Image1\\test\\e927a0e2.jpg: 640x640 1 1.00, 0 0.00, 6.4ms\n",
      "Speed: 6.4ms preprocess, 6.4ms inference, 0.1ms postprocess per image at shape (1, 3, 640, 640)\n",
      "\n",
      "image 1/1 C:\\Users\\User\\Desktop\\1Year\\Term2\\SuperEngi\\1PrepareFinalTest\\test_Image1\\test\\e96cef2b.jpg: 640x640 1 1.00, 0 0.00, 6.4ms\n",
      "Speed: 6.9ms preprocess, 6.4ms inference, 0.0ms postprocess per image at shape (1, 3, 640, 640)\n",
      "\n",
      "image 1/1 C:\\Users\\User\\Desktop\\1Year\\Term2\\SuperEngi\\1PrepareFinalTest\\test_Image1\\test\\e96dcb75.jpg: 640x640 0 1.00, 1 0.00, 6.5ms\n",
      "Speed: 6.3ms preprocess, 6.5ms inference, 0.0ms postprocess per image at shape (1, 3, 640, 640)\n",
      "\n",
      "image 1/1 C:\\Users\\User\\Desktop\\1Year\\Term2\\SuperEngi\\1PrepareFinalTest\\test_Image1\\test\\e9bfa151.jpg: 640x640 1 1.00, 0 0.00, 6.2ms\n",
      "Speed: 5.8ms preprocess, 6.2ms inference, 0.0ms postprocess per image at shape (1, 3, 640, 640)\n",
      "\n",
      "image 1/1 C:\\Users\\User\\Desktop\\1Year\\Term2\\SuperEngi\\1PrepareFinalTest\\test_Image1\\test\\e9d3a97d.jpg: 640x640 0 1.00, 1 0.00, 6.3ms\n",
      "Speed: 5.8ms preprocess, 6.3ms inference, 0.1ms postprocess per image at shape (1, 3, 640, 640)\n",
      "\n",
      "image 1/1 C:\\Users\\User\\Desktop\\1Year\\Term2\\SuperEngi\\1PrepareFinalTest\\test_Image1\\test\\ea0fca13.jpg: 640x640 0 1.00, 1 0.00, 6.2ms\n",
      "Speed: 6.1ms preprocess, 6.2ms inference, 0.0ms postprocess per image at shape (1, 3, 640, 640)\n"
     ]
    },
    {
     "name": "stderr",
     "output_type": "stream",
     "text": [
      " 92%|█████████▏| 1425/1550 [00:34<00:02, 49.53it/s]"
     ]
    },
    {
     "name": "stdout",
     "output_type": "stream",
     "text": [
      "\n",
      "image 1/1 C:\\Users\\User\\Desktop\\1Year\\Term2\\SuperEngi\\1PrepareFinalTest\\test_Image1\\test\\ea1b867d.jpg: 640x640 1 1.00, 0 0.00, 6.7ms\n",
      "Speed: 7.0ms preprocess, 6.7ms inference, 0.1ms postprocess per image at shape (1, 3, 640, 640)\n",
      "\n",
      "image 1/1 C:\\Users\\User\\Desktop\\1Year\\Term2\\SuperEngi\\1PrepareFinalTest\\test_Image1\\test\\ea3d1db5.jpg: 640x640 1 1.00, 0 0.00, 6.3ms\n",
      "Speed: 6.3ms preprocess, 6.3ms inference, 0.0ms postprocess per image at shape (1, 3, 640, 640)\n",
      "\n",
      "image 1/1 C:\\Users\\User\\Desktop\\1Year\\Term2\\SuperEngi\\1PrepareFinalTest\\test_Image1\\test\\eaca09f4.jpg: 640x640 1 1.00, 0 0.00, 6.2ms\n",
      "Speed: 6.2ms preprocess, 6.2ms inference, 0.1ms postprocess per image at shape (1, 3, 640, 640)\n",
      "\n",
      "image 1/1 C:\\Users\\User\\Desktop\\1Year\\Term2\\SuperEngi\\1PrepareFinalTest\\test_Image1\\test\\eae0945a.jpg: 640x640 1 0.92, 0 0.08, 6.2ms\n",
      "Speed: 6.3ms preprocess, 6.2ms inference, 0.0ms postprocess per image at shape (1, 3, 640, 640)\n",
      "\n",
      "image 1/1 C:\\Users\\User\\Desktop\\1Year\\Term2\\SuperEngi\\1PrepareFinalTest\\test_Image1\\test\\eb14acdb.jpg: 640x640 1 1.00, 0 0.00, 6.5ms\n",
      "Speed: 7.2ms preprocess, 6.5ms inference, 0.1ms postprocess per image at shape (1, 3, 640, 640)\n"
     ]
    },
    {
     "name": "stderr",
     "output_type": "stream",
     "text": [
      " 92%|█████████▏| 1430/1550 [00:34<00:02, 49.32it/s]"
     ]
    },
    {
     "name": "stdout",
     "output_type": "stream",
     "text": [
      "\n",
      "image 1/1 C:\\Users\\User\\Desktop\\1Year\\Term2\\SuperEngi\\1PrepareFinalTest\\test_Image1\\test\\eb8d55bb.jpg: 640x640 0 0.95, 1 0.05, 6.6ms\n",
      "Speed: 7.2ms preprocess, 6.6ms inference, 0.1ms postprocess per image at shape (1, 3, 640, 640)\n",
      "\n",
      "image 1/1 C:\\Users\\User\\Desktop\\1Year\\Term2\\SuperEngi\\1PrepareFinalTest\\test_Image1\\test\\ebbe548e.jpg: 640x640 0 1.00, 1 0.00, 6.8ms\n",
      "Speed: 7.4ms preprocess, 6.8ms inference, 0.0ms postprocess per image at shape (1, 3, 640, 640)\n",
      "\n",
      "image 1/1 C:\\Users\\User\\Desktop\\1Year\\Term2\\SuperEngi\\1PrepareFinalTest\\test_Image1\\test\\ec045077.jpg: 640x640 0 1.00, 1 0.00, 6.5ms\n",
      "Speed: 7.0ms preprocess, 6.5ms inference, 0.1ms postprocess per image at shape (1, 3, 640, 640)\n",
      "\n",
      "image 1/1 C:\\Users\\User\\Desktop\\1Year\\Term2\\SuperEngi\\1PrepareFinalTest\\test_Image1\\test\\ec0aba1e.jpg: 640x640 1 1.00, 0 0.00, 6.8ms\n",
      "Speed: 8.5ms preprocess, 6.8ms inference, 0.1ms postprocess per image at shape (1, 3, 640, 640)\n",
      "\n",
      "image 1/1 C:\\Users\\User\\Desktop\\1Year\\Term2\\SuperEngi\\1PrepareFinalTest\\test_Image1\\test\\ec174460.jpg: 640x640 0 1.00, 1 0.00, 6.8ms\n",
      "Speed: 7.0ms preprocess, 6.8ms inference, 0.1ms postprocess per image at shape (1, 3, 640, 640)\n"
     ]
    },
    {
     "name": "stderr",
     "output_type": "stream",
     "text": [
      " 93%|█████████▎| 1435/1550 [00:34<00:02, 48.05it/s]"
     ]
    },
    {
     "name": "stdout",
     "output_type": "stream",
     "text": [
      "\n",
      "image 1/1 C:\\Users\\User\\Desktop\\1Year\\Term2\\SuperEngi\\1PrepareFinalTest\\test_Image1\\test\\ec200664.jpg: 640x640 0 0.52, 1 0.48, 6.8ms\n",
      "Speed: 6.5ms preprocess, 6.8ms inference, 0.1ms postprocess per image at shape (1, 3, 640, 640)\n",
      "\n",
      "image 1/1 C:\\Users\\User\\Desktop\\1Year\\Term2\\SuperEngi\\1PrepareFinalTest\\test_Image1\\test\\ec908e75.jpg: 640x640 1 1.00, 0 0.00, 9.3ms\n",
      "Speed: 6.5ms preprocess, 9.3ms inference, 0.1ms postprocess per image at shape (1, 3, 640, 640)\n",
      "\n",
      "image 1/1 C:\\Users\\User\\Desktop\\1Year\\Term2\\SuperEngi\\1PrepareFinalTest\\test_Image1\\test\\ecc33630.jpg: 640x640 1 0.98, 0 0.02, 6.2ms\n",
      "Speed: 6.4ms preprocess, 6.2ms inference, 0.0ms postprocess per image at shape (1, 3, 640, 640)\n",
      "\n",
      "image 1/1 C:\\Users\\User\\Desktop\\1Year\\Term2\\SuperEngi\\1PrepareFinalTest\\test_Image1\\test\\ed3719a5.jpg: 640x640 1 1.00, 0 0.00, 6.2ms\n",
      "Speed: 6.8ms preprocess, 6.2ms inference, 0.0ms postprocess per image at shape (1, 3, 640, 640)\n",
      "\n",
      "image 1/1 C:\\Users\\User\\Desktop\\1Year\\Term2\\SuperEngi\\1PrepareFinalTest\\test_Image1\\test\\ed44ac4d.jpg: 640x640 1 1.00, 0 0.00, 6.6ms\n",
      "Speed: 5.9ms preprocess, 6.6ms inference, 0.0ms postprocess per image at shape (1, 3, 640, 640)\n"
     ]
    },
    {
     "name": "stderr",
     "output_type": "stream",
     "text": [
      " 93%|█████████▎| 1440/1550 [00:34<00:02, 47.58it/s]"
     ]
    },
    {
     "name": "stdout",
     "output_type": "stream",
     "text": [
      "\n",
      "image 1/1 C:\\Users\\User\\Desktop\\1Year\\Term2\\SuperEngi\\1PrepareFinalTest\\test_Image1\\test\\ed4a00c7.jpg: 640x640 1 1.00, 0 0.00, 6.2ms\n",
      "Speed: 5.9ms preprocess, 6.2ms inference, 0.0ms postprocess per image at shape (1, 3, 640, 640)\n",
      "\n",
      "image 1/1 C:\\Users\\User\\Desktop\\1Year\\Term2\\SuperEngi\\1PrepareFinalTest\\test_Image1\\test\\ed4e0661.jpg: 640x640 0 1.00, 1 0.00, 6.2ms\n",
      "Speed: 6.1ms preprocess, 6.2ms inference, 0.0ms postprocess per image at shape (1, 3, 640, 640)\n",
      "\n",
      "image 1/1 C:\\Users\\User\\Desktop\\1Year\\Term2\\SuperEngi\\1PrepareFinalTest\\test_Image1\\test\\ed6097ae.jpg: 640x640 0 1.00, 1 0.00, 6.7ms\n",
      "Speed: 5.7ms preprocess, 6.7ms inference, 0.0ms postprocess per image at shape (1, 3, 640, 640)\n",
      "\n",
      "image 1/1 C:\\Users\\User\\Desktop\\1Year\\Term2\\SuperEngi\\1PrepareFinalTest\\test_Image1\\test\\ed6248a0.jpg: 640x640 0 0.97, 1 0.03, 6.4ms\n",
      "Speed: 6.2ms preprocess, 6.4ms inference, 0.1ms postprocess per image at shape (1, 3, 640, 640)\n",
      "\n",
      "image 1/1 C:\\Users\\User\\Desktop\\1Year\\Term2\\SuperEngi\\1PrepareFinalTest\\test_Image1\\test\\ed72fd6c.jpg: 640x640 1 1.00, 0 0.00, 7.3ms\n",
      "Speed: 5.5ms preprocess, 7.3ms inference, 0.0ms postprocess per image at shape (1, 3, 640, 640)\n",
      "\n",
      "image 1/1 C:\\Users\\User\\Desktop\\1Year\\Term2\\SuperEngi\\1PrepareFinalTest\\test_Image1\\test\\eda32fb6.jpg: 640x640 0 1.00, 1 0.00, 7.9ms\n",
      "Speed: 5.9ms preprocess, 7.9ms inference, 0.0ms postprocess per image at shape (1, 3, 640, 640)\n"
     ]
    },
    {
     "name": "stderr",
     "output_type": "stream",
     "text": [
      " 93%|█████████▎| 1446/1550 [00:34<00:02, 48.71it/s]"
     ]
    },
    {
     "name": "stdout",
     "output_type": "stream",
     "text": [
      "\n",
      "image 1/1 C:\\Users\\User\\Desktop\\1Year\\Term2\\SuperEngi\\1PrepareFinalTest\\test_Image1\\test\\eda99fd4.jpg: 640x640 0 1.00, 1 0.00, 7.0ms\n",
      "Speed: 5.9ms preprocess, 7.0ms inference, 0.0ms postprocess per image at shape (1, 3, 640, 640)\n",
      "\n",
      "image 1/1 C:\\Users\\User\\Desktop\\1Year\\Term2\\SuperEngi\\1PrepareFinalTest\\test_Image1\\test\\ede3d40a.jpg: 640x640 0 0.94, 1 0.06, 6.9ms\n",
      "Speed: 6.4ms preprocess, 6.9ms inference, 0.1ms postprocess per image at shape (1, 3, 640, 640)\n",
      "\n",
      "image 1/1 C:\\Users\\User\\Desktop\\1Year\\Term2\\SuperEngi\\1PrepareFinalTest\\test_Image1\\test\\edee4add.jpg: 640x640 1 1.00, 0 0.00, 6.6ms\n",
      "Speed: 6.3ms preprocess, 6.6ms inference, 0.0ms postprocess per image at shape (1, 3, 640, 640)\n",
      "\n",
      "image 1/1 C:\\Users\\User\\Desktop\\1Year\\Term2\\SuperEngi\\1PrepareFinalTest\\test_Image1\\test\\edf66b63.jpg: 640x640 0 1.00, 1 0.00, 6.9ms\n",
      "Speed: 9.7ms preprocess, 6.9ms inference, 0.1ms postprocess per image at shape (1, 3, 640, 640)\n",
      "\n",
      "image 1/1 C:\\Users\\User\\Desktop\\1Year\\Term2\\SuperEngi\\1PrepareFinalTest\\test_Image1\\test\\ee1e2c20.jpg: 640x640 0 0.98, 1 0.02, 6.7ms\n",
      "Speed: 8.4ms preprocess, 6.7ms inference, 0.0ms postprocess per image at shape (1, 3, 640, 640)\n"
     ]
    },
    {
     "name": "stderr",
     "output_type": "stream",
     "text": [
      " 94%|█████████▎| 1451/1550 [00:34<00:02, 47.05it/s]"
     ]
    },
    {
     "name": "stdout",
     "output_type": "stream",
     "text": [
      "\n",
      "image 1/1 C:\\Users\\User\\Desktop\\1Year\\Term2\\SuperEngi\\1PrepareFinalTest\\test_Image1\\test\\ee411bf6.jpg: 640x640 1 1.00, 0 0.00, 9.7ms\n",
      "Speed: 7.1ms preprocess, 9.7ms inference, 0.1ms postprocess per image at shape (1, 3, 640, 640)\n",
      "\n",
      "image 1/1 C:\\Users\\User\\Desktop\\1Year\\Term2\\SuperEngi\\1PrepareFinalTest\\test_Image1\\test\\ee75902b.jpg: 640x640 0 1.00, 1 0.00, 6.2ms\n",
      "Speed: 6.9ms preprocess, 6.2ms inference, 0.0ms postprocess per image at shape (1, 3, 640, 640)\n",
      "\n",
      "image 1/1 C:\\Users\\User\\Desktop\\1Year\\Term2\\SuperEngi\\1PrepareFinalTest\\test_Image1\\test\\ee8b7229.jpg: 640x640 1 1.00, 0 0.00, 6.4ms\n",
      "Speed: 5.7ms preprocess, 6.4ms inference, 0.0ms postprocess per image at shape (1, 3, 640, 640)\n",
      "\n",
      "image 1/1 C:\\Users\\User\\Desktop\\1Year\\Term2\\SuperEngi\\1PrepareFinalTest\\test_Image1\\test\\ee9b427f.jpg: 640x640 1 1.00, 0 0.00, 6.2ms\n",
      "Speed: 5.9ms preprocess, 6.2ms inference, 0.0ms postprocess per image at shape (1, 3, 640, 640)\n",
      "\n",
      "image 1/1 C:\\Users\\User\\Desktop\\1Year\\Term2\\SuperEngi\\1PrepareFinalTest\\test_Image1\\test\\eeee94cf.jpg: 640x640 1 1.00, 0 0.00, 6.2ms\n",
      "Speed: 6.4ms preprocess, 6.2ms inference, 0.1ms postprocess per image at shape (1, 3, 640, 640)\n"
     ]
    },
    {
     "name": "stderr",
     "output_type": "stream",
     "text": [
      " 94%|█████████▍| 1456/1550 [00:34<00:01, 47.11it/s]"
     ]
    },
    {
     "name": "stdout",
     "output_type": "stream",
     "text": [
      "\n",
      "image 1/1 C:\\Users\\User\\Desktop\\1Year\\Term2\\SuperEngi\\1PrepareFinalTest\\test_Image1\\test\\ef82fea8.jpg: 640x640 0 1.00, 1 0.00, 6.2ms\n",
      "Speed: 6.0ms preprocess, 6.2ms inference, 0.1ms postprocess per image at shape (1, 3, 640, 640)\n",
      "\n",
      "image 1/1 C:\\Users\\User\\Desktop\\1Year\\Term2\\SuperEngi\\1PrepareFinalTest\\test_Image1\\test\\f060bc41.jpg: 640x640 1 1.00, 0 0.00, 6.5ms\n",
      "Speed: 5.9ms preprocess, 6.5ms inference, 0.1ms postprocess per image at shape (1, 3, 640, 640)\n",
      "\n",
      "image 1/1 C:\\Users\\User\\Desktop\\1Year\\Term2\\SuperEngi\\1PrepareFinalTest\\test_Image1\\test\\f084bb31.jpg: 640x640 0 1.00, 1 0.00, 6.5ms\n",
      "Speed: 6.6ms preprocess, 6.5ms inference, 0.0ms postprocess per image at shape (1, 3, 640, 640)\n",
      "\n",
      "image 1/1 C:\\Users\\User\\Desktop\\1Year\\Term2\\SuperEngi\\1PrepareFinalTest\\test_Image1\\test\\f0949a41.jpg: 640x640 1 1.00, 0 0.00, 6.2ms\n",
      "Speed: 5.8ms preprocess, 6.2ms inference, 0.0ms postprocess per image at shape (1, 3, 640, 640)\n",
      "\n",
      "image 1/1 C:\\Users\\User\\Desktop\\1Year\\Term2\\SuperEngi\\1PrepareFinalTest\\test_Image1\\test\\f0cc66f6.jpg: 640x640 1 1.00, 0 0.00, 6.4ms\n",
      "Speed: 5.6ms preprocess, 6.4ms inference, 0.0ms postprocess per image at shape (1, 3, 640, 640)\n",
      "\n",
      "image 1/1 C:\\Users\\User\\Desktop\\1Year\\Term2\\SuperEngi\\1PrepareFinalTest\\test_Image1\\test\\f0d58c23.jpg: 640x640 1 1.00, 0 0.00, 6.5ms\n",
      "Speed: 5.7ms preprocess, 6.5ms inference, 0.0ms postprocess per image at shape (1, 3, 640, 640)\n"
     ]
    },
    {
     "name": "stderr",
     "output_type": "stream",
     "text": [
      " 94%|█████████▍| 1462/1550 [00:35<00:01, 48.13it/s]"
     ]
    },
    {
     "name": "stdout",
     "output_type": "stream",
     "text": [
      "\n",
      "image 1/1 C:\\Users\\User\\Desktop\\1Year\\Term2\\SuperEngi\\1PrepareFinalTest\\test_Image1\\test\\f0ea0a13.jpg: 640x640 1 0.79, 0 0.21, 6.9ms\n",
      "Speed: 6.4ms preprocess, 6.9ms inference, 0.0ms postprocess per image at shape (1, 3, 640, 640)\n",
      "\n",
      "image 1/1 C:\\Users\\User\\Desktop\\1Year\\Term2\\SuperEngi\\1PrepareFinalTest\\test_Image1\\test\\f10554ef.jpg: 640x640 0 1.00, 1 0.00, 6.7ms\n",
      "Speed: 6.8ms preprocess, 6.7ms inference, 0.1ms postprocess per image at shape (1, 3, 640, 640)\n",
      "\n",
      "image 1/1 C:\\Users\\User\\Desktop\\1Year\\Term2\\SuperEngi\\1PrepareFinalTest\\test_Image1\\test\\f119b9ad.jpg: 640x640 1 1.00, 0 0.00, 6.6ms\n",
      "Speed: 6.2ms preprocess, 6.6ms inference, 0.1ms postprocess per image at shape (1, 3, 640, 640)\n",
      "\n",
      "image 1/1 C:\\Users\\User\\Desktop\\1Year\\Term2\\SuperEngi\\1PrepareFinalTest\\test_Image1\\test\\f1288f71.jpg: 640x640 1 1.00, 0 0.00, 6.3ms\n",
      "Speed: 6.1ms preprocess, 6.3ms inference, 0.0ms postprocess per image at shape (1, 3, 640, 640)\n",
      "\n",
      "image 1/1 C:\\Users\\User\\Desktop\\1Year\\Term2\\SuperEngi\\1PrepareFinalTest\\test_Image1\\test\\f157aa5d.jpg: 640x640 1 0.76, 0 0.24, 6.5ms\n",
      "Speed: 7.4ms preprocess, 6.5ms inference, 0.0ms postprocess per image at shape (1, 3, 640, 640)\n"
     ]
    },
    {
     "name": "stderr",
     "output_type": "stream",
     "text": [
      " 95%|█████████▍| 1467/1550 [00:35<00:01, 48.52it/s]"
     ]
    },
    {
     "name": "stdout",
     "output_type": "stream",
     "text": [
      "\n",
      "image 1/1 C:\\Users\\User\\Desktop\\1Year\\Term2\\SuperEngi\\1PrepareFinalTest\\test_Image1\\test\\f169dcd4.jpg: 640x640 1 1.00, 0 0.00, 6.5ms\n",
      "Speed: 5.6ms preprocess, 6.5ms inference, 0.0ms postprocess per image at shape (1, 3, 640, 640)\n",
      "\n",
      "image 1/1 C:\\Users\\User\\Desktop\\1Year\\Term2\\SuperEngi\\1PrepareFinalTest\\test_Image1\\test\\f17567da.jpg: 640x640 1 1.00, 0 0.00, 6.9ms\n",
      "Speed: 9.1ms preprocess, 6.9ms inference, 0.1ms postprocess per image at shape (1, 3, 640, 640)\n",
      "\n",
      "image 1/1 C:\\Users\\User\\Desktop\\1Year\\Term2\\SuperEngi\\1PrepareFinalTest\\test_Image1\\test\\f19a558f.jpg: 640x640 1 1.00, 0 0.00, 6.5ms\n",
      "Speed: 8.9ms preprocess, 6.5ms inference, 0.0ms postprocess per image at shape (1, 3, 640, 640)\n",
      "\n",
      "image 1/1 C:\\Users\\User\\Desktop\\1Year\\Term2\\SuperEngi\\1PrepareFinalTest\\test_Image1\\test\\f19fc697.jpg: 640x640 0 0.99, 1 0.01, 6.4ms\n",
      "Speed: 6.8ms preprocess, 6.4ms inference, 0.0ms postprocess per image at shape (1, 3, 640, 640)\n",
      "\n",
      "image 1/1 C:\\Users\\User\\Desktop\\1Year\\Term2\\SuperEngi\\1PrepareFinalTest\\test_Image1\\test\\f19feb2c.jpg: 640x640 0 1.00, 1 0.00, 6.8ms\n",
      "Speed: 7.5ms preprocess, 6.8ms inference, 0.1ms postprocess per image at shape (1, 3, 640, 640)\n"
     ]
    },
    {
     "name": "stderr",
     "output_type": "stream",
     "text": [
      " 95%|█████████▍| 1472/1550 [00:35<00:01, 47.21it/s]"
     ]
    },
    {
     "name": "stdout",
     "output_type": "stream",
     "text": [
      "\n",
      "image 1/1 C:\\Users\\User\\Desktop\\1Year\\Term2\\SuperEngi\\1PrepareFinalTest\\test_Image1\\test\\f1cdbcff.jpg: 640x640 0 1.00, 1 0.00, 6.8ms\n",
      "Speed: 7.5ms preprocess, 6.8ms inference, 0.1ms postprocess per image at shape (1, 3, 640, 640)\n",
      "\n",
      "image 1/1 C:\\Users\\User\\Desktop\\1Year\\Term2\\SuperEngi\\1PrepareFinalTest\\test_Image1\\test\\f1e17810.jpg: 640x640 1 1.00, 0 0.00, 6.4ms\n",
      "Speed: 7.2ms preprocess, 6.4ms inference, 0.0ms postprocess per image at shape (1, 3, 640, 640)\n",
      "\n",
      "image 1/1 C:\\Users\\User\\Desktop\\1Year\\Term2\\SuperEngi\\1PrepareFinalTest\\test_Image1\\test\\f1e5d780.jpg: 640x640 0 1.00, 1 0.00, 6.2ms\n",
      "Speed: 7.0ms preprocess, 6.2ms inference, 0.0ms postprocess per image at shape (1, 3, 640, 640)\n",
      "\n",
      "image 1/1 C:\\Users\\User\\Desktop\\1Year\\Term2\\SuperEngi\\1PrepareFinalTest\\test_Image1\\test\\f2045e14.jpg: 640x640 0 1.00, 1 0.00, 6.2ms\n",
      "Speed: 6.4ms preprocess, 6.2ms inference, 0.0ms postprocess per image at shape (1, 3, 640, 640)\n",
      "\n",
      "image 1/1 C:\\Users\\User\\Desktop\\1Year\\Term2\\SuperEngi\\1PrepareFinalTest\\test_Image1\\test\\f2394534.jpg: 640x640 1 1.00, 0 0.00, 6.4ms\n",
      "Speed: 6.2ms preprocess, 6.4ms inference, 0.0ms postprocess per image at shape (1, 3, 640, 640)\n"
     ]
    },
    {
     "name": "stderr",
     "output_type": "stream",
     "text": [
      " 95%|█████████▌| 1477/1550 [00:35<00:01, 47.18it/s]"
     ]
    },
    {
     "name": "stdout",
     "output_type": "stream",
     "text": [
      "\n",
      "image 1/1 C:\\Users\\User\\Desktop\\1Year\\Term2\\SuperEngi\\1PrepareFinalTest\\test_Image1\\test\\f27e8116.jpg: 640x640 0 1.00, 1 0.00, 6.5ms\n",
      "Speed: 6.4ms preprocess, 6.5ms inference, 0.0ms postprocess per image at shape (1, 3, 640, 640)\n",
      "\n",
      "image 1/1 C:\\Users\\User\\Desktop\\1Year\\Term2\\SuperEngi\\1PrepareFinalTest\\test_Image1\\test\\f291c68a.jpg: 640x640 1 1.00, 0 0.00, 6.6ms\n",
      "Speed: 7.0ms preprocess, 6.6ms inference, 0.0ms postprocess per image at shape (1, 3, 640, 640)\n",
      "\n",
      "image 1/1 C:\\Users\\User\\Desktop\\1Year\\Term2\\SuperEngi\\1PrepareFinalTest\\test_Image1\\test\\f2a3e355.jpg: 640x640 1 1.00, 0 0.00, 6.4ms\n",
      "Speed: 6.2ms preprocess, 6.4ms inference, 0.0ms postprocess per image at shape (1, 3, 640, 640)\n",
      "\n",
      "image 1/1 C:\\Users\\User\\Desktop\\1Year\\Term2\\SuperEngi\\1PrepareFinalTest\\test_Image1\\test\\f2a47542.jpg: 640x640 1 1.00, 0 0.00, 6.5ms\n",
      "Speed: 5.9ms preprocess, 6.5ms inference, 0.1ms postprocess per image at shape (1, 3, 640, 640)\n",
      "\n",
      "image 1/1 C:\\Users\\User\\Desktop\\1Year\\Term2\\SuperEngi\\1PrepareFinalTest\\test_Image1\\test\\f2add62d.jpg: 640x640 1 1.00, 0 0.00, 6.5ms\n",
      "Speed: 7.4ms preprocess, 6.5ms inference, 0.0ms postprocess per image at shape (1, 3, 640, 640)\n"
     ]
    },
    {
     "name": "stderr",
     "output_type": "stream",
     "text": [
      " 96%|█████████▌| 1482/1550 [00:35<00:01, 47.47it/s]"
     ]
    },
    {
     "name": "stdout",
     "output_type": "stream",
     "text": [
      "\n",
      "image 1/1 C:\\Users\\User\\Desktop\\1Year\\Term2\\SuperEngi\\1PrepareFinalTest\\test_Image1\\test\\f2bb197d.jpg: 640x640 0 0.93, 1 0.07, 6.4ms\n",
      "Speed: 6.1ms preprocess, 6.4ms inference, 0.0ms postprocess per image at shape (1, 3, 640, 640)\n",
      "\n",
      "image 1/1 C:\\Users\\User\\Desktop\\1Year\\Term2\\SuperEngi\\1PrepareFinalTest\\test_Image1\\test\\f2d757f0.jpg: 640x640 1 1.00, 0 0.00, 6.5ms\n",
      "Speed: 6.3ms preprocess, 6.5ms inference, 0.1ms postprocess per image at shape (1, 3, 640, 640)\n",
      "\n",
      "image 1/1 C:\\Users\\User\\Desktop\\1Year\\Term2\\SuperEngi\\1PrepareFinalTest\\test_Image1\\test\\f2e465b5.jpg: 640x640 1 1.00, 0 0.00, 6.4ms\n",
      "Speed: 6.0ms preprocess, 6.4ms inference, 0.1ms postprocess per image at shape (1, 3, 640, 640)\n",
      "\n",
      "image 1/1 C:\\Users\\User\\Desktop\\1Year\\Term2\\SuperEngi\\1PrepareFinalTest\\test_Image1\\test\\f2f311f0.jpg: 640x640 0 0.74, 1 0.26, 6.4ms\n",
      "Speed: 5.9ms preprocess, 6.4ms inference, 0.0ms postprocess per image at shape (1, 3, 640, 640)\n",
      "\n",
      "image 1/1 C:\\Users\\User\\Desktop\\1Year\\Term2\\SuperEngi\\1PrepareFinalTest\\test_Image1\\test\\f31a3abc.jpg: 640x640 1 1.00, 0 0.00, 6.4ms\n",
      "Speed: 6.7ms preprocess, 6.4ms inference, 0.0ms postprocess per image at shape (1, 3, 640, 640)\n"
     ]
    },
    {
     "name": "stderr",
     "output_type": "stream",
     "text": [
      " 96%|█████████▌| 1487/1550 [00:35<00:01, 48.15it/s]"
     ]
    },
    {
     "name": "stdout",
     "output_type": "stream",
     "text": [
      "\n",
      "image 1/1 C:\\Users\\User\\Desktop\\1Year\\Term2\\SuperEngi\\1PrepareFinalTest\\test_Image1\\test\\f33d6a9a.jpg: 640x640 1 1.00, 0 0.00, 9.0ms\n",
      "Speed: 12.9ms preprocess, 9.0ms inference, 0.1ms postprocess per image at shape (1, 3, 640, 640)\n",
      "\n",
      "image 1/1 C:\\Users\\User\\Desktop\\1Year\\Term2\\SuperEngi\\1PrepareFinalTest\\test_Image1\\test\\f374a94a.jpg: 640x640 0 1.00, 1 0.00, 8.0ms\n",
      "Speed: 9.5ms preprocess, 8.0ms inference, 0.0ms postprocess per image at shape (1, 3, 640, 640)\n",
      "\n",
      "image 1/1 C:\\Users\\User\\Desktop\\1Year\\Term2\\SuperEngi\\1PrepareFinalTest\\test_Image1\\test\\f398e789.jpg: 640x640 0 0.94, 1 0.06, 6.6ms\n",
      "Speed: 7.7ms preprocess, 6.6ms inference, 0.1ms postprocess per image at shape (1, 3, 640, 640)\n",
      "\n",
      "image 1/1 C:\\Users\\User\\Desktop\\1Year\\Term2\\SuperEngi\\1PrepareFinalTest\\test_Image1\\test\\f3fdb57c.jpg: 640x640 0 0.96, 1 0.04, 6.6ms\n",
      "Speed: 7.3ms preprocess, 6.6ms inference, 0.0ms postprocess per image at shape (1, 3, 640, 640)\n",
      "\n",
      "image 1/1 C:\\Users\\User\\Desktop\\1Year\\Term2\\SuperEngi\\1PrepareFinalTest\\test_Image1\\test\\f4c92a8d.jpg: 640x640 0 1.00, 1 0.00, 6.6ms\n",
      "Speed: 7.6ms preprocess, 6.6ms inference, 0.0ms postprocess per image at shape (1, 3, 640, 640)\n"
     ]
    },
    {
     "name": "stderr",
     "output_type": "stream",
     "text": [
      " 96%|█████████▋| 1492/1550 [00:35<00:01, 45.94it/s]"
     ]
    },
    {
     "name": "stdout",
     "output_type": "stream",
     "text": [
      "\n",
      "image 1/1 C:\\Users\\User\\Desktop\\1Year\\Term2\\SuperEngi\\1PrepareFinalTest\\test_Image1\\test\\f4d75b21.jpg: 640x640 0 0.99, 1 0.01, 6.5ms\n",
      "Speed: 6.8ms preprocess, 6.5ms inference, 0.0ms postprocess per image at shape (1, 3, 640, 640)\n",
      "\n",
      "image 1/1 C:\\Users\\User\\Desktop\\1Year\\Term2\\SuperEngi\\1PrepareFinalTest\\test_Image1\\test\\f4e69142.jpg: 640x640 1 1.00, 0 0.00, 6.4ms\n",
      "Speed: 6.9ms preprocess, 6.4ms inference, 0.0ms postprocess per image at shape (1, 3, 640, 640)\n",
      "\n",
      "image 1/1 C:\\Users\\User\\Desktop\\1Year\\Term2\\SuperEngi\\1PrepareFinalTest\\test_Image1\\test\\f4e8e62c.jpg: 640x640 1 1.00, 0 0.00, 6.4ms\n",
      "Speed: 7.0ms preprocess, 6.4ms inference, 0.0ms postprocess per image at shape (1, 3, 640, 640)\n",
      "\n",
      "image 1/1 C:\\Users\\User\\Desktop\\1Year\\Term2\\SuperEngi\\1PrepareFinalTest\\test_Image1\\test\\f58c057f.jpg: 640x640 0 1.00, 1 0.00, 7.4ms\n",
      "Speed: 5.8ms preprocess, 7.4ms inference, 0.1ms postprocess per image at shape (1, 3, 640, 640)\n",
      "\n",
      "image 1/1 C:\\Users\\User\\Desktop\\1Year\\Term2\\SuperEngi\\1PrepareFinalTest\\test_Image1\\test\\f5a0059c.jpg: 640x640 0 1.00, 1 0.00, 6.5ms\n",
      "Speed: 6.9ms preprocess, 6.5ms inference, 0.0ms postprocess per image at shape (1, 3, 640, 640)\n"
     ]
    },
    {
     "name": "stderr",
     "output_type": "stream",
     "text": [
      " 97%|█████████▋| 1497/1550 [00:35<00:01, 46.95it/s]"
     ]
    },
    {
     "name": "stdout",
     "output_type": "stream",
     "text": [
      "\n",
      "image 1/1 C:\\Users\\User\\Desktop\\1Year\\Term2\\SuperEngi\\1PrepareFinalTest\\test_Image1\\test\\f5a603e1.jpg: 640x640 1 1.00, 0 0.00, 6.8ms\n",
      "Speed: 6.3ms preprocess, 6.8ms inference, 0.0ms postprocess per image at shape (1, 3, 640, 640)\n",
      "\n",
      "image 1/1 C:\\Users\\User\\Desktop\\1Year\\Term2\\SuperEngi\\1PrepareFinalTest\\test_Image1\\test\\f5b02c60.jpg: 640x640 0 1.00, 1 0.00, 6.6ms\n",
      "Speed: 6.5ms preprocess, 6.6ms inference, 0.0ms postprocess per image at shape (1, 3, 640, 640)\n",
      "\n",
      "image 1/1 C:\\Users\\User\\Desktop\\1Year\\Term2\\SuperEngi\\1PrepareFinalTest\\test_Image1\\test\\f5b0b1c2.jpg: 640x640 1 1.00, 0 0.00, 6.4ms\n",
      "Speed: 5.9ms preprocess, 6.4ms inference, 0.0ms postprocess per image at shape (1, 3, 640, 640)\n",
      "\n",
      "image 1/1 C:\\Users\\User\\Desktop\\1Year\\Term2\\SuperEngi\\1PrepareFinalTest\\test_Image1\\test\\f5c8ea3c.jpg: 640x640 0 1.00, 1 0.00, 6.6ms\n",
      "Speed: 7.0ms preprocess, 6.6ms inference, 0.0ms postprocess per image at shape (1, 3, 640, 640)\n",
      "\n",
      "image 1/1 C:\\Users\\User\\Desktop\\1Year\\Term2\\SuperEngi\\1PrepareFinalTest\\test_Image1\\test\\f5f5e913.jpg: 640x640 1 0.99, 0 0.01, 6.8ms\n",
      "Speed: 6.0ms preprocess, 6.8ms inference, 0.0ms postprocess per image at shape (1, 3, 640, 640)\n",
      "\n",
      "image 1/1 C:\\Users\\User\\Desktop\\1Year\\Term2\\SuperEngi\\1PrepareFinalTest\\test_Image1\\test\\f604674e.jpg: 640x640 0 1.00, 1 0.00, 6.6ms\n",
      "Speed: 5.8ms preprocess, 6.6ms inference, 0.0ms postprocess per image at shape (1, 3, 640, 640)\n"
     ]
    },
    {
     "name": "stderr",
     "output_type": "stream",
     "text": [
      " 97%|█████████▋| 1503/1550 [00:35<00:00, 48.21it/s]"
     ]
    },
    {
     "name": "stdout",
     "output_type": "stream",
     "text": [
      "\n",
      "image 1/1 C:\\Users\\User\\Desktop\\1Year\\Term2\\SuperEngi\\1PrepareFinalTest\\test_Image1\\test\\f60c0635.jpg: 640x640 0 1.00, 1 0.00, 6.4ms\n",
      "Speed: 6.0ms preprocess, 6.4ms inference, 0.0ms postprocess per image at shape (1, 3, 640, 640)\n",
      "\n",
      "image 1/1 C:\\Users\\User\\Desktop\\1Year\\Term2\\SuperEngi\\1PrepareFinalTest\\test_Image1\\test\\f6338ea8.jpg: 640x640 1 1.00, 0 0.00, 6.4ms\n",
      "Speed: 6.1ms preprocess, 6.4ms inference, 0.0ms postprocess per image at shape (1, 3, 640, 640)\n",
      "\n",
      "image 1/1 C:\\Users\\User\\Desktop\\1Year\\Term2\\SuperEngi\\1PrepareFinalTest\\test_Image1\\test\\f6443e6c.jpg: 640x640 0 0.99, 1 0.01, 6.6ms\n",
      "Speed: 6.0ms preprocess, 6.6ms inference, 0.1ms postprocess per image at shape (1, 3, 640, 640)\n",
      "\n",
      "image 1/1 C:\\Users\\User\\Desktop\\1Year\\Term2\\SuperEngi\\1PrepareFinalTest\\test_Image1\\test\\f6795928.jpg: 640x640 1 1.00, 0 0.00, 6.6ms\n",
      "Speed: 6.8ms preprocess, 6.6ms inference, 0.0ms postprocess per image at shape (1, 3, 640, 640)\n",
      "\n",
      "image 1/1 C:\\Users\\User\\Desktop\\1Year\\Term2\\SuperEngi\\1PrepareFinalTest\\test_Image1\\test\\f6aec00a.jpg: 640x640 0 0.99, 1 0.01, 6.8ms\n",
      "Speed: 10.2ms preprocess, 6.8ms inference, 0.0ms postprocess per image at shape (1, 3, 640, 640)\n"
     ]
    },
    {
     "name": "stderr",
     "output_type": "stream",
     "text": [
      " 97%|█████████▋| 1508/1550 [00:35<00:00, 47.32it/s]"
     ]
    },
    {
     "name": "stdout",
     "output_type": "stream",
     "text": [
      "\n",
      "image 1/1 C:\\Users\\User\\Desktop\\1Year\\Term2\\SuperEngi\\1PrepareFinalTest\\test_Image1\\test\\f6b18ffd.jpg: 640x640 1 0.75, 0 0.25, 6.2ms\n",
      "Speed: 7.8ms preprocess, 6.2ms inference, 0.1ms postprocess per image at shape (1, 3, 640, 640)\n",
      "\n",
      "image 1/1 C:\\Users\\User\\Desktop\\1Year\\Term2\\SuperEngi\\1PrepareFinalTest\\test_Image1\\test\\f6c9c731.jpg: 640x640 0 1.00, 1 0.00, 6.9ms\n",
      "Speed: 7.1ms preprocess, 6.9ms inference, 0.0ms postprocess per image at shape (1, 3, 640, 640)\n",
      "\n",
      "image 1/1 C:\\Users\\User\\Desktop\\1Year\\Term2\\SuperEngi\\1PrepareFinalTest\\test_Image1\\test\\f711c1fb.jpg: 640x640 0 1.00, 1 0.00, 6.5ms\n",
      "Speed: 7.1ms preprocess, 6.5ms inference, 0.0ms postprocess per image at shape (1, 3, 640, 640)\n",
      "\n",
      "image 1/1 C:\\Users\\User\\Desktop\\1Year\\Term2\\SuperEngi\\1PrepareFinalTest\\test_Image1\\test\\f79a5538.jpg: 640x640 0 1.00, 1 0.00, 7.0ms\n",
      "Speed: 6.8ms preprocess, 7.0ms inference, 0.0ms postprocess per image at shape (1, 3, 640, 640)\n",
      "\n",
      "image 1/1 C:\\Users\\User\\Desktop\\1Year\\Term2\\SuperEngi\\1PrepareFinalTest\\test_Image1\\test\\f7fb7b15.jpg: 640x640 0 0.94, 1 0.06, 6.9ms\n",
      "Speed: 6.7ms preprocess, 6.9ms inference, 0.0ms postprocess per image at shape (1, 3, 640, 640)\n"
     ]
    },
    {
     "name": "stderr",
     "output_type": "stream",
     "text": [
      " 98%|█████████▊| 1513/1550 [00:36<00:00, 47.34it/s]"
     ]
    },
    {
     "name": "stdout",
     "output_type": "stream",
     "text": [
      "\n",
      "image 1/1 C:\\Users\\User\\Desktop\\1Year\\Term2\\SuperEngi\\1PrepareFinalTest\\test_Image1\\test\\f7fd4685.jpg: 640x640 0 1.00, 1 0.00, 6.9ms\n",
      "Speed: 6.0ms preprocess, 6.9ms inference, 0.1ms postprocess per image at shape (1, 3, 640, 640)\n",
      "\n",
      "image 1/1 C:\\Users\\User\\Desktop\\1Year\\Term2\\SuperEngi\\1PrepareFinalTest\\test_Image1\\test\\f89230f6.jpg: 640x640 1 1.00, 0 0.00, 6.4ms\n",
      "Speed: 6.5ms preprocess, 6.4ms inference, 0.0ms postprocess per image at shape (1, 3, 640, 640)\n",
      "\n",
      "image 1/1 C:\\Users\\User\\Desktop\\1Year\\Term2\\SuperEngi\\1PrepareFinalTest\\test_Image1\\test\\f8c3609c.jpg: 640x640 1 1.00, 0 0.00, 6.5ms\n",
      "Speed: 6.4ms preprocess, 6.5ms inference, 0.0ms postprocess per image at shape (1, 3, 640, 640)\n",
      "\n",
      "image 1/1 C:\\Users\\User\\Desktop\\1Year\\Term2\\SuperEngi\\1PrepareFinalTest\\test_Image1\\test\\f9175d84.jpg: 640x640 0 1.00, 1 0.00, 6.6ms\n",
      "Speed: 6.3ms preprocess, 6.6ms inference, 0.1ms postprocess per image at shape (1, 3, 640, 640)\n",
      "\n",
      "image 1/1 C:\\Users\\User\\Desktop\\1Year\\Term2\\SuperEngi\\1PrepareFinalTest\\test_Image1\\test\\f96bd02a.jpg: 640x640 0 1.00, 1 0.00, 6.8ms\n",
      "Speed: 6.5ms preprocess, 6.8ms inference, 0.0ms postprocess per image at shape (1, 3, 640, 640)\n"
     ]
    },
    {
     "name": "stderr",
     "output_type": "stream",
     "text": [
      " 98%|█████████▊| 1518/1550 [00:36<00:00, 47.77it/s]"
     ]
    },
    {
     "name": "stdout",
     "output_type": "stream",
     "text": [
      "\n",
      "image 1/1 C:\\Users\\User\\Desktop\\1Year\\Term2\\SuperEngi\\1PrepareFinalTest\\test_Image1\\test\\f9984b05.jpg: 640x640 1 1.00, 0 0.00, 6.5ms\n",
      "Speed: 6.4ms preprocess, 6.5ms inference, 0.0ms postprocess per image at shape (1, 3, 640, 640)\n",
      "\n",
      "image 1/1 C:\\Users\\User\\Desktop\\1Year\\Term2\\SuperEngi\\1PrepareFinalTest\\test_Image1\\test\\f9a2a0c6.jpg: 640x640 1 1.00, 0 0.00, 6.5ms\n",
      "Speed: 7.0ms preprocess, 6.5ms inference, 0.1ms postprocess per image at shape (1, 3, 640, 640)\n",
      "\n",
      "image 1/1 C:\\Users\\User\\Desktop\\1Year\\Term2\\SuperEngi\\1PrepareFinalTest\\test_Image1\\test\\fa08f26f.jpg: 640x640 1 1.00, 0 0.00, 6.6ms\n",
      "Speed: 8.2ms preprocess, 6.6ms inference, 0.0ms postprocess per image at shape (1, 3, 640, 640)\n",
      "\n",
      "image 1/1 C:\\Users\\User\\Desktop\\1Year\\Term2\\SuperEngi\\1PrepareFinalTest\\test_Image1\\test\\fa1c92f7.jpg: 640x640 0 1.00, 1 0.00, 7.0ms\n",
      "Speed: 7.8ms preprocess, 7.0ms inference, 0.0ms postprocess per image at shape (1, 3, 640, 640)\n",
      "\n",
      "image 1/1 C:\\Users\\User\\Desktop\\1Year\\Term2\\SuperEngi\\1PrepareFinalTest\\test_Image1\\test\\fa1cf631.jpg: 640x640 1 1.00, 0 0.00, 6.6ms\n",
      "Speed: 8.0ms preprocess, 6.6ms inference, 0.0ms postprocess per image at shape (1, 3, 640, 640)\n"
     ]
    },
    {
     "name": "stderr",
     "output_type": "stream",
     "text": [
      " 98%|█████████▊| 1523/1550 [00:36<00:00, 47.05it/s]"
     ]
    },
    {
     "name": "stdout",
     "output_type": "stream",
     "text": [
      "\n",
      "image 1/1 C:\\Users\\User\\Desktop\\1Year\\Term2\\SuperEngi\\1PrepareFinalTest\\test_Image1\\test\\fa2b940f.jpg: 640x640 0 1.00, 1 0.00, 7.8ms\n",
      "Speed: 7.8ms preprocess, 7.8ms inference, 0.1ms postprocess per image at shape (1, 3, 640, 640)\n",
      "\n",
      "image 1/1 C:\\Users\\User\\Desktop\\1Year\\Term2\\SuperEngi\\1PrepareFinalTest\\test_Image1\\test\\fa5946bc.jpg: 640x640 0 1.00, 1 0.00, 7.2ms\n",
      "Speed: 9.4ms preprocess, 7.2ms inference, 0.1ms postprocess per image at shape (1, 3, 640, 640)\n",
      "\n",
      "image 1/1 C:\\Users\\User\\Desktop\\1Year\\Term2\\SuperEngi\\1PrepareFinalTest\\test_Image1\\test\\fa7cd05d.jpg: 640x640 0 1.00, 1 0.00, 7.4ms\n",
      "Speed: 7.2ms preprocess, 7.4ms inference, 0.0ms postprocess per image at shape (1, 3, 640, 640)\n",
      "\n",
      "image 1/1 C:\\Users\\User\\Desktop\\1Year\\Term2\\SuperEngi\\1PrepareFinalTest\\test_Image1\\test\\faf63eef.jpg: 640x640 1 0.90, 0 0.10, 6.5ms\n",
      "Speed: 6.9ms preprocess, 6.5ms inference, 0.0ms postprocess per image at shape (1, 3, 640, 640)\n",
      "\n",
      "image 1/1 C:\\Users\\User\\Desktop\\1Year\\Term2\\SuperEngi\\1PrepareFinalTest\\test_Image1\\test\\fb45b847.jpg: 640x640 1 0.92, 0 0.08, 6.5ms\n",
      "Speed: 6.8ms preprocess, 6.5ms inference, 0.0ms postprocess per image at shape (1, 3, 640, 640)\n"
     ]
    },
    {
     "name": "stderr",
     "output_type": "stream",
     "text": [
      " 99%|█████████▊| 1528/1550 [00:36<00:00, 45.12it/s]"
     ]
    },
    {
     "name": "stdout",
     "output_type": "stream",
     "text": [
      "\n",
      "image 1/1 C:\\Users\\User\\Desktop\\1Year\\Term2\\SuperEngi\\1PrepareFinalTest\\test_Image1\\test\\fb6fe557.jpg: 640x640 0 1.00, 1 0.00, 6.4ms\n",
      "Speed: 6.3ms preprocess, 6.4ms inference, 0.0ms postprocess per image at shape (1, 3, 640, 640)\n",
      "\n",
      "image 1/1 C:\\Users\\User\\Desktop\\1Year\\Term2\\SuperEngi\\1PrepareFinalTest\\test_Image1\\test\\fbb813d0.jpg: 640x640 1 1.00, 0 0.00, 6.6ms\n",
      "Speed: 7.2ms preprocess, 6.6ms inference, 0.0ms postprocess per image at shape (1, 3, 640, 640)\n",
      "\n",
      "image 1/1 C:\\Users\\User\\Desktop\\1Year\\Term2\\SuperEngi\\1PrepareFinalTest\\test_Image1\\test\\fc32f09c.jpg: 640x640 1 1.00, 0 0.00, 6.4ms\n",
      "Speed: 6.3ms preprocess, 6.4ms inference, 0.1ms postprocess per image at shape (1, 3, 640, 640)\n",
      "\n",
      "image 1/1 C:\\Users\\User\\Desktop\\1Year\\Term2\\SuperEngi\\1PrepareFinalTest\\test_Image1\\test\\fc392185.jpg: 640x640 1 1.00, 0 0.00, 6.6ms\n",
      "Speed: 6.8ms preprocess, 6.6ms inference, 0.0ms postprocess per image at shape (1, 3, 640, 640)\n",
      "\n",
      "image 1/1 C:\\Users\\User\\Desktop\\1Year\\Term2\\SuperEngi\\1PrepareFinalTest\\test_Image1\\test\\fc51a3cb.jpg: 640x640 1 1.00, 0 0.00, 6.3ms\n",
      "Speed: 6.4ms preprocess, 6.3ms inference, 0.0ms postprocess per image at shape (1, 3, 640, 640)\n",
      "\n",
      "image 1/1 C:\\Users\\User\\Desktop\\1Year\\Term2\\SuperEngi\\1PrepareFinalTest\\test_Image1\\test\\fc6a7fec.jpg: 640x640 0 1.00, 1 0.00, 6.9ms\n",
      "Speed: 6.5ms preprocess, 6.9ms inference, 0.0ms postprocess per image at shape (1, 3, 640, 640)\n"
     ]
    },
    {
     "name": "stderr",
     "output_type": "stream",
     "text": [
      " 99%|█████████▉| 1534/1550 [00:36<00:00, 46.48it/s]"
     ]
    },
    {
     "name": "stdout",
     "output_type": "stream",
     "text": [
      "\n",
      "image 1/1 C:\\Users\\User\\Desktop\\1Year\\Term2\\SuperEngi\\1PrepareFinalTest\\test_Image1\\test\\fc7b9927.jpg: 640x640 1 0.99, 0 0.01, 6.7ms\n",
      "Speed: 6.4ms preprocess, 6.7ms inference, 0.1ms postprocess per image at shape (1, 3, 640, 640)\n",
      "\n",
      "image 1/1 C:\\Users\\User\\Desktop\\1Year\\Term2\\SuperEngi\\1PrepareFinalTest\\test_Image1\\test\\fcad7500.jpg: 640x640 0 1.00, 1 0.00, 6.6ms\n",
      "Speed: 6.6ms preprocess, 6.6ms inference, 0.0ms postprocess per image at shape (1, 3, 640, 640)\n",
      "\n",
      "image 1/1 C:\\Users\\User\\Desktop\\1Year\\Term2\\SuperEngi\\1PrepareFinalTest\\test_Image1\\test\\fcbc316e.jpg: 640x640 0 1.00, 1 0.00, 6.6ms\n",
      "Speed: 6.8ms preprocess, 6.6ms inference, 0.0ms postprocess per image at shape (1, 3, 640, 640)\n",
      "\n",
      "image 1/1 C:\\Users\\User\\Desktop\\1Year\\Term2\\SuperEngi\\1PrepareFinalTest\\test_Image1\\test\\fcdadbf3.jpg: 640x640 0 1.00, 1 0.00, 7.1ms\n",
      "Speed: 6.2ms preprocess, 7.1ms inference, 0.0ms postprocess per image at shape (1, 3, 640, 640)\n",
      "\n",
      "image 1/1 C:\\Users\\User\\Desktop\\1Year\\Term2\\SuperEngi\\1PrepareFinalTest\\test_Image1\\test\\fd0900c0.jpg: 640x640 1 1.00, 0 0.00, 7.0ms\n",
      "Speed: 6.7ms preprocess, 7.0ms inference, 0.1ms postprocess per image at shape (1, 3, 640, 640)\n"
     ]
    },
    {
     "name": "stderr",
     "output_type": "stream",
     "text": [
      " 99%|█████████▉| 1539/1550 [00:36<00:00, 46.80it/s]"
     ]
    },
    {
     "name": "stdout",
     "output_type": "stream",
     "text": [
      "\n",
      "image 1/1 C:\\Users\\User\\Desktop\\1Year\\Term2\\SuperEngi\\1PrepareFinalTest\\test_Image1\\test\\fd6a752a.jpg: 640x640 1 1.00, 0 0.00, 6.6ms\n",
      "Speed: 6.9ms preprocess, 6.6ms inference, 0.0ms postprocess per image at shape (1, 3, 640, 640)\n",
      "\n",
      "image 1/1 C:\\Users\\User\\Desktop\\1Year\\Term2\\SuperEngi\\1PrepareFinalTest\\test_Image1\\test\\fdd34996.jpg: 640x640 1 0.99, 0 0.01, 6.5ms\n",
      "Speed: 7.4ms preprocess, 6.5ms inference, 0.0ms postprocess per image at shape (1, 3, 640, 640)\n",
      "\n",
      "image 1/1 C:\\Users\\User\\Desktop\\1Year\\Term2\\SuperEngi\\1PrepareFinalTest\\test_Image1\\test\\fdfa58fe.jpg: 640x640 0 1.00, 1 0.00, 6.5ms\n",
      "Speed: 6.9ms preprocess, 6.5ms inference, 0.0ms postprocess per image at shape (1, 3, 640, 640)\n",
      "\n",
      "image 1/1 C:\\Users\\User\\Desktop\\1Year\\Term2\\SuperEngi\\1PrepareFinalTest\\test_Image1\\test\\fe0b78cb.jpg: 640x640 0 1.00, 1 0.00, 6.7ms\n",
      "Speed: 5.8ms preprocess, 6.7ms inference, 0.1ms postprocess per image at shape (1, 3, 640, 640)\n",
      "\n",
      "image 1/1 C:\\Users\\User\\Desktop\\1Year\\Term2\\SuperEngi\\1PrepareFinalTest\\test_Image1\\test\\fe1d659b.jpg: 640x640 1 1.00, 0 0.00, 6.9ms\n",
      "Speed: 6.3ms preprocess, 6.9ms inference, 0.0ms postprocess per image at shape (1, 3, 640, 640)\n"
     ]
    },
    {
     "name": "stderr",
     "output_type": "stream",
     "text": [
      "100%|█████████▉| 1544/1550 [00:36<00:00, 47.46it/s]"
     ]
    },
    {
     "name": "stdout",
     "output_type": "stream",
     "text": [
      "\n",
      "image 1/1 C:\\Users\\User\\Desktop\\1Year\\Term2\\SuperEngi\\1PrepareFinalTest\\test_Image1\\test\\fe652827.jpg: 640x640 0 1.00, 1 0.00, 6.6ms\n",
      "Speed: 6.5ms preprocess, 6.6ms inference, 0.0ms postprocess per image at shape (1, 3, 640, 640)\n",
      "\n",
      "image 1/1 C:\\Users\\User\\Desktop\\1Year\\Term2\\SuperEngi\\1PrepareFinalTest\\test_Image1\\test\\fecae8a3.jpg: 640x640 1 0.99, 0 0.01, 6.8ms\n",
      "Speed: 10.7ms preprocess, 6.8ms inference, 0.1ms postprocess per image at shape (1, 3, 640, 640)\n",
      "\n",
      "image 1/1 C:\\Users\\User\\Desktop\\1Year\\Term2\\SuperEngi\\1PrepareFinalTest\\test_Image1\\test\\fef13ad7.jpg: 640x640 1 0.99, 0 0.01, 6.7ms\n",
      "Speed: 8.6ms preprocess, 6.7ms inference, 0.0ms postprocess per image at shape (1, 3, 640, 640)\n",
      "\n",
      "image 1/1 C:\\Users\\User\\Desktop\\1Year\\Term2\\SuperEngi\\1PrepareFinalTest\\test_Image1\\test\\ff614c14.jpg: 640x640 1 0.86, 0 0.14, 6.7ms\n",
      "Speed: 6.9ms preprocess, 6.7ms inference, 0.0ms postprocess per image at shape (1, 3, 640, 640)\n",
      "\n",
      "image 1/1 C:\\Users\\User\\Desktop\\1Year\\Term2\\SuperEngi\\1PrepareFinalTest\\test_Image1\\test\\ffb161a0.jpg: 640x640 0 1.00, 1 0.00, 7.0ms\n",
      "Speed: 6.6ms preprocess, 7.0ms inference, 0.0ms postprocess per image at shape (1, 3, 640, 640)\n"
     ]
    },
    {
     "name": "stderr",
     "output_type": "stream",
     "text": [
      "100%|█████████▉| 1549/1550 [00:36<00:00, 46.09it/s]"
     ]
    },
    {
     "name": "stdout",
     "output_type": "stream",
     "text": [
      "\n",
      "image 1/1 C:\\Users\\User\\Desktop\\1Year\\Term2\\SuperEngi\\1PrepareFinalTest\\test_Image1\\test\\ffd0a9aa.jpg: 640x640 1 1.00, 0 0.00, 7.0ms\n",
      "Speed: 7.3ms preprocess, 7.0ms inference, 0.1ms postprocess per image at shape (1, 3, 640, 640)\n"
     ]
    },
    {
     "name": "stderr",
     "output_type": "stream",
     "text": [
      "100%|██████████| 1550/1550 [00:36<00:00, 42.02it/s]"
     ]
    },
    {
     "name": "stdout",
     "output_type": "stream",
     "text": [
      "บันทึกผลเรียบร้อยที่: C:\\Users\\User\\Desktop\\1Year\\Term2\\SuperEngi\\1PrepareFinalTest\\test_predictions.csv\n"
     ]
    },
    {
     "name": "stderr",
     "output_type": "stream",
     "text": [
      "\n"
     ]
    }
   ],
   "source": [
    "from ultralytics import YOLO\n",
    "import cv2\n",
    "import os\n",
    "import pandas as pd\n",
    "from tqdm import tqdm\n",
    "import matplotlib.pyplot as plt\n",
    "\n",
    "model_path = r\"C:\\Users\\User\\Desktop\\1Year\\Term2\\SuperEngi\\1PrepareFinalTest\\test_Image1\\runs\\classify\\train5\\weights\\best.pt\"\n",
    "image_folder = r\"C:\\Users\\User\\Desktop\\1Year\\Term2\\SuperEngi\\1PrepareFinalTest\\test_Image1\\test\"\n",
    "output_csv = r\"C:\\Users\\User\\Desktop\\1Year\\Term2\\SuperEngi\\1PrepareFinalTest\\test_predictions.csv\"\n",
    "\n",
    "model = YOLO(model_path)\n",
    "\n",
    "results_list = []\n",
    "for filename in tqdm(os.listdir(image_folder)):\n",
    "    if filename.lower().endswith(('.jpg', '.jpeg', '.png')):\n",
    "        img_path = os.path.join(image_folder, filename)\n",
    "        results = model(img_path)\n",
    "\n",
    "        pred_class = results[0].probs.top1\n",
    "        confidence = results[0].probs.top1conf.item()\n",
    "        class_name = model.names[pred_class] if model.names else pred_class\n",
    "\n",
    "        results_list.append({\n",
    "            'id': filename,\n",
    "            'answer': class_name,\n",
    "        })\n",
    "\n",
    "df = pd.DataFrame(results_list)\n",
    "df.to_csv(output_csv, index=False)\n",
    "print(f\"บันทึกผลเรียบร้อยที่: {output_csv}\")\n"
   ]
  },
  {
   "cell_type": "code",
   "execution_count": 5,
   "id": "0b713d48",
   "metadata": {},
   "outputs": [
    {
     "data": {
      "text/plain": [
       "<Figure size 600x600 with 1 Axes>"
      ]
     },
     "metadata": {},
     "output_type": "display_data"
    }
   ],
   "source": [
    "# แสดงภาพแรกที่ predict พร้อม label\n",
    "if results_list:\n",
    "    first_img = os.path.join(image_folder, results_list[0]['id'])\n",
    "    img = cv2.imread(first_img)\n",
    "    img = cv2.cvtColor(img, cv2.COLOR_BGR2RGB)\n",
    "\n",
    "    label_text = f\"{results_list[0]['answer']}\"\n",
    "    cv2.putText(img, label_text, (10, 30), cv2.FONT_HERSHEY_SIMPLEX, 1, (255, 0, 0), 2)\n",
    "\n",
    "    plt.figure(figsize=(6, 6))\n",
    "    plt.imshow(img)\n",
    "    plt.axis('off')\n",
    "    plt.title(\"Example Prediction\")\n",
    "    plt.show()\n"
   ]
  },
  {
   "cell_type": "code",
   "execution_count": 7,
   "id": "05dd6b7b",
   "metadata": {},
   "outputs": [],
   "source": [
    "csv_path = r'C:\\Users\\User\\Desktop\\1Year\\Term2\\SuperEngi\\1PrepareFinalTest\\test_Image1\\test_predictions.csv' \n",
    "df = pd.read_csv(csv_path)\n",
    "\n",
    "df['id'] = df['id'].apply(lambda x: os.path.splitext(x)[0])\n",
    "\n",
    "df.to_csv(csv_path, index=False)\n"
   ]
  }
 ],
 "metadata": {
  "kernelspec": {
   "display_name": "Python 3",
   "language": "python",
   "name": "python3"
  },
  "language_info": {
   "codemirror_mode": {
    "name": "ipython",
    "version": 3
   },
   "file_extension": ".py",
   "mimetype": "text/x-python",
   "name": "python",
   "nbconvert_exporter": "python",
   "pygments_lexer": "ipython3",
   "version": "undefined.undefined.undefined"
  }
 },
 "nbformat": 4,
 "nbformat_minor": 5
}
